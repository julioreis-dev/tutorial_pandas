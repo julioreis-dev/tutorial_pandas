{
  "nbformat": 4,
  "nbformat_minor": 0,
  "metadata": {
    "kernelspec": {
      "display_name": "Python 3",
      "language": "python",
      "name": "python3"
    },
    "language_info": {
      "codemirror_mode": {
        "name": "ipython",
        "version": 3
      },
      "file_extension": ".py",
      "mimetype": "text/x-python",
      "name": "python",
      "nbconvert_exporter": "python",
      "pygments_lexer": "ipython3",
      "version": "3.7.3"
    },
    "colab": {
      "name": "Google Trends and Data Visualisation (start).ipynb",
      "provenance": [],
      "include_colab_link": true
    }
  },
  "cells": [
    {
      "cell_type": "markdown",
      "metadata": {
        "id": "view-in-github",
        "colab_type": "text"
      },
      "source": [
        "<a href=\"https://colab.research.google.com/github/julioreis-dev/tutorial_pandas/blob/main/Google_Trends_and_Data_Visualisation_(start).ipynb\" target=\"_parent\"><img src=\"https://colab.research.google.com/assets/colab-badge.svg\" alt=\"Open In Colab\"/></a>"
      ]
    },
    {
      "cell_type": "markdown",
      "metadata": {
        "id": "fWAuyZe0PmNh"
      },
      "source": [
        "# Introduction"
      ]
    },
    {
      "cell_type": "markdown",
      "metadata": {
        "id": "dyv9tt9wPmNm"
      },
      "source": [
        "Google Trends gives us an estimate of search volume. Let's explore if search popularity relates to other kinds of data. Perhaps there are patterns in Google's search volume and the price of Bitcoin or a hot stock like Tesla. Perhaps search volume for the term \"Unemployment Benefits\" can tell us something about the actual unemployment rate? \n",
        "\n",
        "Data Sources: <br>\n",
        "<ul>\n",
        "<li> <a href=\"https://fred.stlouisfed.org/series/UNRATE/\">Unemployment Rate from FRED</a></li>\n",
        "<li> <a href=\"https://trends.google.com/trends/explore\">Google Trends</a> </li>  \n",
        "<li> <a href=\"https://finance.yahoo.com/quote/TSLA/history?p=TSLA\">Yahoo Finance for Tesla Stock Price</a> </li>    \n",
        "<li> <a href=\"https://finance.yahoo.com/quote/BTC-USD/history?p=BTC-USD\">Yahoo Finance for Bitcoin Stock Price</a> </li>\n",
        "</ul>"
      ]
    },
    {
      "cell_type": "markdown",
      "metadata": {
        "id": "S3rA7fehPmNo"
      },
      "source": [
        "# Import Statements"
      ]
    },
    {
      "cell_type": "code",
      "metadata": {
        "id": "VMXhxNgUPmNp"
      },
      "source": [
        "import pandas as pd\n",
        "import matplotlib.pyplot as plt"
      ],
      "execution_count": 1,
      "outputs": []
    },
    {
      "cell_type": "markdown",
      "metadata": {
        "id": "x7uu3tzhPmNp"
      },
      "source": [
        "# Read the Data\n",
        "\n",
        "Download and add the .csv files to the same folder as your notebook."
      ]
    },
    {
      "cell_type": "code",
      "metadata": {
        "id": "5Dyt6-UQPmNq"
      },
      "source": [
        "df_tesla = pd.read_csv('TESLA Search Trend vs Price.csv')\n",
        "\n",
        "df_btc_search = pd.read_csv('Bitcoin Search Trend.csv')\n",
        "df_btc_price = pd.read_csv('Daily Bitcoin Price.csv')\n",
        "\n",
        "df_unemployment = pd.read_csv('UE Benefits Search vs UE Rate 2004-19.csv')"
      ],
      "execution_count": 2,
      "outputs": []
    },
    {
      "cell_type": "markdown",
      "metadata": {
        "id": "NVFox4bqPmNr"
      },
      "source": [
        "# Data Exploration"
      ]
    },
    {
      "cell_type": "markdown",
      "metadata": {
        "id": "Zf-No63ZPmNr"
      },
      "source": [
        "### Tesla"
      ]
    },
    {
      "cell_type": "markdown",
      "metadata": {
        "id": "-seZq4voPmNr"
      },
      "source": [
        "**Challenge**: <br>\n",
        "<ul>\n",
        "<li>What are the shapes of the dataframes? </li>\n",
        "<li>How many rows and columns? </li>\n",
        "<li>What are the column names? </li>\n",
        "<li>Complete the f-string to show the largest/smallest number in the search data column</li> \n",
        "<li>Try the <code>.describe()</code> function to see some useful descriptive statistics</li>\n",
        "<li>What is the periodicity of the time series data (daily, weekly, monthly)? </li>\n",
        "<li>What does a value of 100 in the Google Trend search popularity actually mean?</li>\n",
        "</ul>"
      ]
    },
    {
      "cell_type": "code",
      "metadata": {
        "colab": {
          "base_uri": "https://localhost:8080/"
        },
        "id": "yJZbypC0PmNs",
        "outputId": "acdd9136-baa7-4abe-d998-a21e9fee47bd"
      },
      "source": [
        "df_tesla.shape"
      ],
      "execution_count": 3,
      "outputs": [
        {
          "output_type": "execute_result",
          "data": {
            "text/plain": [
              "(124, 3)"
            ]
          },
          "metadata": {
            "tags": []
          },
          "execution_count": 3
        }
      ]
    },
    {
      "cell_type": "code",
      "metadata": {
        "colab": {
          "base_uri": "https://localhost:8080/",
          "height": 206
        },
        "id": "SSAOA7ugQvPn",
        "outputId": "2f15d8ca-8ee8-4265-a3f9-444a1dd61cae"
      },
      "source": [
        "df_tesla.head()"
      ],
      "execution_count": 4,
      "outputs": [
        {
          "output_type": "execute_result",
          "data": {
            "text/html": [
              "<div>\n",
              "<style scoped>\n",
              "    .dataframe tbody tr th:only-of-type {\n",
              "        vertical-align: middle;\n",
              "    }\n",
              "\n",
              "    .dataframe tbody tr th {\n",
              "        vertical-align: top;\n",
              "    }\n",
              "\n",
              "    .dataframe thead th {\n",
              "        text-align: right;\n",
              "    }\n",
              "</style>\n",
              "<table border=\"1\" class=\"dataframe\">\n",
              "  <thead>\n",
              "    <tr style=\"text-align: right;\">\n",
              "      <th></th>\n",
              "      <th>MONTH</th>\n",
              "      <th>TSLA_WEB_SEARCH</th>\n",
              "      <th>TSLA_USD_CLOSE</th>\n",
              "    </tr>\n",
              "  </thead>\n",
              "  <tbody>\n",
              "    <tr>\n",
              "      <th>0</th>\n",
              "      <td>2010-06-01</td>\n",
              "      <td>3</td>\n",
              "      <td>4.766</td>\n",
              "    </tr>\n",
              "    <tr>\n",
              "      <th>1</th>\n",
              "      <td>2010-07-01</td>\n",
              "      <td>3</td>\n",
              "      <td>3.988</td>\n",
              "    </tr>\n",
              "    <tr>\n",
              "      <th>2</th>\n",
              "      <td>2010-08-01</td>\n",
              "      <td>2</td>\n",
              "      <td>3.896</td>\n",
              "    </tr>\n",
              "    <tr>\n",
              "      <th>3</th>\n",
              "      <td>2010-09-01</td>\n",
              "      <td>2</td>\n",
              "      <td>4.082</td>\n",
              "    </tr>\n",
              "    <tr>\n",
              "      <th>4</th>\n",
              "      <td>2010-10-01</td>\n",
              "      <td>2</td>\n",
              "      <td>4.368</td>\n",
              "    </tr>\n",
              "  </tbody>\n",
              "</table>\n",
              "</div>"
            ],
            "text/plain": [
              "        MONTH  TSLA_WEB_SEARCH  TSLA_USD_CLOSE\n",
              "0  2010-06-01                3           4.766\n",
              "1  2010-07-01                3           3.988\n",
              "2  2010-08-01                2           3.896\n",
              "3  2010-09-01                2           4.082\n",
              "4  2010-10-01                2           4.368"
            ]
          },
          "metadata": {
            "tags": []
          },
          "execution_count": 4
        }
      ]
    },
    {
      "cell_type": "code",
      "metadata": {
        "id": "BhDa85N2QvgG"
      },
      "source": [
        "largest = df_tesla['TSLA_WEB_SEARCH'].max()"
      ],
      "execution_count": 7,
      "outputs": []
    },
    {
      "cell_type": "code",
      "metadata": {
        "id": "1Lb-K1aAQvju"
      },
      "source": [
        "smallest = df_tesla['TSLA_WEB_SEARCH'].min()"
      ],
      "execution_count": 8,
      "outputs": []
    },
    {
      "cell_type": "code",
      "metadata": {
        "colab": {
          "base_uri": "https://localhost:8080/"
        },
        "id": "AsoF3Nj0PmNs",
        "outputId": "16e664e5-5642-4762-fe5d-5c6f143464f3"
      },
      "source": [
        "print(f'Largest value for Tesla in Web Search: {largest}')\n",
        "print(f'Smallest value for Tesla in Web Search: {smallest}')"
      ],
      "execution_count": 11,
      "outputs": [
        {
          "output_type": "stream",
          "text": [
            "Largest value for Tesla in Web Search: 31\n",
            "Smallest value for Tesla in Web Search: 2\n"
          ],
          "name": "stdout"
        }
      ]
    },
    {
      "cell_type": "code",
      "metadata": {
        "colab": {
          "base_uri": "https://localhost:8080/",
          "height": 300
        },
        "id": "PN0X0dgbSM0g",
        "outputId": "ccb55f85-8f5d-4d62-cd0a-2657f7c1af11"
      },
      "source": [
        "df_tesla.describe()"
      ],
      "execution_count": 12,
      "outputs": [
        {
          "output_type": "execute_result",
          "data": {
            "text/html": [
              "<div>\n",
              "<style scoped>\n",
              "    .dataframe tbody tr th:only-of-type {\n",
              "        vertical-align: middle;\n",
              "    }\n",
              "\n",
              "    .dataframe tbody tr th {\n",
              "        vertical-align: top;\n",
              "    }\n",
              "\n",
              "    .dataframe thead th {\n",
              "        text-align: right;\n",
              "    }\n",
              "</style>\n",
              "<table border=\"1\" class=\"dataframe\">\n",
              "  <thead>\n",
              "    <tr style=\"text-align: right;\">\n",
              "      <th></th>\n",
              "      <th>TSLA_WEB_SEARCH</th>\n",
              "      <th>TSLA_USD_CLOSE</th>\n",
              "    </tr>\n",
              "  </thead>\n",
              "  <tbody>\n",
              "    <tr>\n",
              "      <th>count</th>\n",
              "      <td>124.000000</td>\n",
              "      <td>124.000000</td>\n",
              "    </tr>\n",
              "    <tr>\n",
              "      <th>mean</th>\n",
              "      <td>8.725806</td>\n",
              "      <td>50.962145</td>\n",
              "    </tr>\n",
              "    <tr>\n",
              "      <th>std</th>\n",
              "      <td>5.870332</td>\n",
              "      <td>65.908389</td>\n",
              "    </tr>\n",
              "    <tr>\n",
              "      <th>min</th>\n",
              "      <td>2.000000</td>\n",
              "      <td>3.896000</td>\n",
              "    </tr>\n",
              "    <tr>\n",
              "      <th>25%</th>\n",
              "      <td>3.750000</td>\n",
              "      <td>7.352500</td>\n",
              "    </tr>\n",
              "    <tr>\n",
              "      <th>50%</th>\n",
              "      <td>8.000000</td>\n",
              "      <td>44.653000</td>\n",
              "    </tr>\n",
              "    <tr>\n",
              "      <th>75%</th>\n",
              "      <td>12.000000</td>\n",
              "      <td>58.991999</td>\n",
              "    </tr>\n",
              "    <tr>\n",
              "      <th>max</th>\n",
              "      <td>31.000000</td>\n",
              "      <td>498.320007</td>\n",
              "    </tr>\n",
              "  </tbody>\n",
              "</table>\n",
              "</div>"
            ],
            "text/plain": [
              "       TSLA_WEB_SEARCH  TSLA_USD_CLOSE\n",
              "count       124.000000      124.000000\n",
              "mean          8.725806       50.962145\n",
              "std           5.870332       65.908389\n",
              "min           2.000000        3.896000\n",
              "25%           3.750000        7.352500\n",
              "50%           8.000000       44.653000\n",
              "75%          12.000000       58.991999\n",
              "max          31.000000      498.320007"
            ]
          },
          "metadata": {
            "tags": []
          },
          "execution_count": 12
        }
      ]
    },
    {
      "cell_type": "markdown",
      "metadata": {
        "id": "fcEUf7sWPmNv"
      },
      "source": [
        "### Unemployment Data"
      ]
    },
    {
      "cell_type": "code",
      "metadata": {
        "colab": {
          "base_uri": "https://localhost:8080/",
          "height": 225
        },
        "id": "y9wdF1kqPmNv",
        "outputId": "50d6c143-7e96-463c-e9a0-c4a03ab894ab"
      },
      "source": [
        "print(df_unemployment.shape)\n",
        "df_unemployment.head()"
      ],
      "execution_count": 14,
      "outputs": [
        {
          "output_type": "stream",
          "text": [
            "(181, 3)\n"
          ],
          "name": "stdout"
        },
        {
          "output_type": "execute_result",
          "data": {
            "text/html": [
              "<div>\n",
              "<style scoped>\n",
              "    .dataframe tbody tr th:only-of-type {\n",
              "        vertical-align: middle;\n",
              "    }\n",
              "\n",
              "    .dataframe tbody tr th {\n",
              "        vertical-align: top;\n",
              "    }\n",
              "\n",
              "    .dataframe thead th {\n",
              "        text-align: right;\n",
              "    }\n",
              "</style>\n",
              "<table border=\"1\" class=\"dataframe\">\n",
              "  <thead>\n",
              "    <tr style=\"text-align: right;\">\n",
              "      <th></th>\n",
              "      <th>MONTH</th>\n",
              "      <th>UE_BENEFITS_WEB_SEARCH</th>\n",
              "      <th>UNRATE</th>\n",
              "    </tr>\n",
              "  </thead>\n",
              "  <tbody>\n",
              "    <tr>\n",
              "      <th>0</th>\n",
              "      <td>2004-01</td>\n",
              "      <td>34</td>\n",
              "      <td>5.7</td>\n",
              "    </tr>\n",
              "    <tr>\n",
              "      <th>1</th>\n",
              "      <td>2004-02</td>\n",
              "      <td>33</td>\n",
              "      <td>5.6</td>\n",
              "    </tr>\n",
              "    <tr>\n",
              "      <th>2</th>\n",
              "      <td>2004-03</td>\n",
              "      <td>25</td>\n",
              "      <td>5.8</td>\n",
              "    </tr>\n",
              "    <tr>\n",
              "      <th>3</th>\n",
              "      <td>2004-04</td>\n",
              "      <td>29</td>\n",
              "      <td>5.6</td>\n",
              "    </tr>\n",
              "    <tr>\n",
              "      <th>4</th>\n",
              "      <td>2004-05</td>\n",
              "      <td>23</td>\n",
              "      <td>5.6</td>\n",
              "    </tr>\n",
              "  </tbody>\n",
              "</table>\n",
              "</div>"
            ],
            "text/plain": [
              "     MONTH  UE_BENEFITS_WEB_SEARCH  UNRATE\n",
              "0  2004-01                      34     5.7\n",
              "1  2004-02                      33     5.6\n",
              "2  2004-03                      25     5.8\n",
              "3  2004-04                      29     5.6\n",
              "4  2004-05                      23     5.6"
            ]
          },
          "metadata": {
            "tags": []
          },
          "execution_count": 14
        }
      ]
    },
    {
      "cell_type": "code",
      "metadata": {
        "colab": {
          "base_uri": "https://localhost:8080/"
        },
        "id": "3BE9ctMBPmNw",
        "outputId": "31441c36-6d58-4fd7-c8a0-f52d7f952391"
      },
      "source": [
        "unmployment_largest = df_unemployment['UE_BENEFITS_WEB_SEARCH'].max()\n",
        "print('Largest value for \"Unemployemnt Benefits\" '\n",
        "      f'in Web Search: {unmployment_largest}')"
      ],
      "execution_count": 15,
      "outputs": [
        {
          "output_type": "stream",
          "text": [
            "Largest value for \"Unemployemnt Benefits\" in Web Search: 100\n"
          ],
          "name": "stdout"
        }
      ]
    },
    {
      "cell_type": "markdown",
      "metadata": {
        "id": "BnqQNjD8PmNw"
      },
      "source": [
        "### Bitcoin"
      ]
    },
    {
      "cell_type": "code",
      "metadata": {
        "colab": {
          "base_uri": "https://localhost:8080/",
          "height": 225
        },
        "id": "CSkEPm7QPmNw",
        "outputId": "589939b5-08ca-40d5-9589-986397602480"
      },
      "source": [
        "print(df_btc_price.shape)\n",
        "df_btc_price.head()"
      ],
      "execution_count": 17,
      "outputs": [
        {
          "output_type": "stream",
          "text": [
            "(2204, 3)\n"
          ],
          "name": "stdout"
        },
        {
          "output_type": "execute_result",
          "data": {
            "text/html": [
              "<div>\n",
              "<style scoped>\n",
              "    .dataframe tbody tr th:only-of-type {\n",
              "        vertical-align: middle;\n",
              "    }\n",
              "\n",
              "    .dataframe tbody tr th {\n",
              "        vertical-align: top;\n",
              "    }\n",
              "\n",
              "    .dataframe thead th {\n",
              "        text-align: right;\n",
              "    }\n",
              "</style>\n",
              "<table border=\"1\" class=\"dataframe\">\n",
              "  <thead>\n",
              "    <tr style=\"text-align: right;\">\n",
              "      <th></th>\n",
              "      <th>DATE</th>\n",
              "      <th>CLOSE</th>\n",
              "      <th>VOLUME</th>\n",
              "    </tr>\n",
              "  </thead>\n",
              "  <tbody>\n",
              "    <tr>\n",
              "      <th>0</th>\n",
              "      <td>2014-09-17</td>\n",
              "      <td>457.334015</td>\n",
              "      <td>21056800.0</td>\n",
              "    </tr>\n",
              "    <tr>\n",
              "      <th>1</th>\n",
              "      <td>2014-09-18</td>\n",
              "      <td>424.440002</td>\n",
              "      <td>34483200.0</td>\n",
              "    </tr>\n",
              "    <tr>\n",
              "      <th>2</th>\n",
              "      <td>2014-09-19</td>\n",
              "      <td>394.795990</td>\n",
              "      <td>37919700.0</td>\n",
              "    </tr>\n",
              "    <tr>\n",
              "      <th>3</th>\n",
              "      <td>2014-09-20</td>\n",
              "      <td>408.903992</td>\n",
              "      <td>36863600.0</td>\n",
              "    </tr>\n",
              "    <tr>\n",
              "      <th>4</th>\n",
              "      <td>2014-09-21</td>\n",
              "      <td>398.821014</td>\n",
              "      <td>26580100.0</td>\n",
              "    </tr>\n",
              "  </tbody>\n",
              "</table>\n",
              "</div>"
            ],
            "text/plain": [
              "         DATE       CLOSE      VOLUME\n",
              "0  2014-09-17  457.334015  21056800.0\n",
              "1  2014-09-18  424.440002  34483200.0\n",
              "2  2014-09-19  394.795990  37919700.0\n",
              "3  2014-09-20  408.903992  36863600.0\n",
              "4  2014-09-21  398.821014  26580100.0"
            ]
          },
          "metadata": {
            "tags": []
          },
          "execution_count": 17
        }
      ]
    },
    {
      "cell_type": "code",
      "metadata": {
        "colab": {
          "base_uri": "https://localhost:8080/",
          "height": 225
        },
        "id": "PF0jNnOkPmNx",
        "outputId": "d93fcf35-abcf-487e-b1b3-649f8d4e7bbd"
      },
      "source": [
        "print(df_btc_search.shape)\n",
        "df_btc_search.head()"
      ],
      "execution_count": 25,
      "outputs": [
        {
          "output_type": "stream",
          "text": [
            "(73, 2)\n"
          ],
          "name": "stdout"
        },
        {
          "output_type": "execute_result",
          "data": {
            "text/html": [
              "<div>\n",
              "<style scoped>\n",
              "    .dataframe tbody tr th:only-of-type {\n",
              "        vertical-align: middle;\n",
              "    }\n",
              "\n",
              "    .dataframe tbody tr th {\n",
              "        vertical-align: top;\n",
              "    }\n",
              "\n",
              "    .dataframe thead th {\n",
              "        text-align: right;\n",
              "    }\n",
              "</style>\n",
              "<table border=\"1\" class=\"dataframe\">\n",
              "  <thead>\n",
              "    <tr style=\"text-align: right;\">\n",
              "      <th></th>\n",
              "      <th>MONTH</th>\n",
              "      <th>BTC_NEWS_SEARCH</th>\n",
              "    </tr>\n",
              "  </thead>\n",
              "  <tbody>\n",
              "    <tr>\n",
              "      <th>0</th>\n",
              "      <td>2014-09</td>\n",
              "      <td>5</td>\n",
              "    </tr>\n",
              "    <tr>\n",
              "      <th>1</th>\n",
              "      <td>2014-10</td>\n",
              "      <td>4</td>\n",
              "    </tr>\n",
              "    <tr>\n",
              "      <th>2</th>\n",
              "      <td>2014-11</td>\n",
              "      <td>4</td>\n",
              "    </tr>\n",
              "    <tr>\n",
              "      <th>3</th>\n",
              "      <td>2014-12</td>\n",
              "      <td>4</td>\n",
              "    </tr>\n",
              "    <tr>\n",
              "      <th>4</th>\n",
              "      <td>2015-01</td>\n",
              "      <td>5</td>\n",
              "    </tr>\n",
              "  </tbody>\n",
              "</table>\n",
              "</div>"
            ],
            "text/plain": [
              "     MONTH  BTC_NEWS_SEARCH\n",
              "0  2014-09                5\n",
              "1  2014-10                4\n",
              "2  2014-11                4\n",
              "3  2014-12                4\n",
              "4  2015-01                5"
            ]
          },
          "metadata": {
            "tags": []
          },
          "execution_count": 25
        }
      ]
    },
    {
      "cell_type": "code",
      "metadata": {
        "colab": {
          "base_uri": "https://localhost:8080/"
        },
        "id": "_llxb_GOPmNx",
        "outputId": "27716e53-9734-49ca-f883-a0fbb817b6be"
      },
      "source": [
        "btc_largest = df_btc_search['BTC_NEWS_SEARCH'].max()\n",
        "print(f'largest BTC News Search: {btc_largest}')"
      ],
      "execution_count": 19,
      "outputs": [
        {
          "output_type": "stream",
          "text": [
            "largest BTC News Search: 100\n"
          ],
          "name": "stdout"
        }
      ]
    },
    {
      "cell_type": "code",
      "metadata": {
        "colab": {
          "base_uri": "https://localhost:8080/",
          "height": 300
        },
        "id": "2YAVoiu2U4P0",
        "outputId": "3e02590d-383e-4def-8ce7-09ec501526e2"
      },
      "source": [
        "df_btc_search.describe()"
      ],
      "execution_count": 20,
      "outputs": [
        {
          "output_type": "execute_result",
          "data": {
            "text/html": [
              "<div>\n",
              "<style scoped>\n",
              "    .dataframe tbody tr th:only-of-type {\n",
              "        vertical-align: middle;\n",
              "    }\n",
              "\n",
              "    .dataframe tbody tr th {\n",
              "        vertical-align: top;\n",
              "    }\n",
              "\n",
              "    .dataframe thead th {\n",
              "        text-align: right;\n",
              "    }\n",
              "</style>\n",
              "<table border=\"1\" class=\"dataframe\">\n",
              "  <thead>\n",
              "    <tr style=\"text-align: right;\">\n",
              "      <th></th>\n",
              "      <th>BTC_NEWS_SEARCH</th>\n",
              "    </tr>\n",
              "  </thead>\n",
              "  <tbody>\n",
              "    <tr>\n",
              "      <th>count</th>\n",
              "      <td>73.000000</td>\n",
              "    </tr>\n",
              "    <tr>\n",
              "      <th>mean</th>\n",
              "      <td>15.013699</td>\n",
              "    </tr>\n",
              "    <tr>\n",
              "      <th>std</th>\n",
              "      <td>15.146959</td>\n",
              "    </tr>\n",
              "    <tr>\n",
              "      <th>min</th>\n",
              "      <td>3.000000</td>\n",
              "    </tr>\n",
              "    <tr>\n",
              "      <th>25%</th>\n",
              "      <td>5.000000</td>\n",
              "    </tr>\n",
              "    <tr>\n",
              "      <th>50%</th>\n",
              "      <td>14.000000</td>\n",
              "    </tr>\n",
              "    <tr>\n",
              "      <th>75%</th>\n",
              "      <td>18.000000</td>\n",
              "    </tr>\n",
              "    <tr>\n",
              "      <th>max</th>\n",
              "      <td>100.000000</td>\n",
              "    </tr>\n",
              "  </tbody>\n",
              "</table>\n",
              "</div>"
            ],
            "text/plain": [
              "       BTC_NEWS_SEARCH\n",
              "count        73.000000\n",
              "mean         15.013699\n",
              "std          15.146959\n",
              "min           3.000000\n",
              "25%           5.000000\n",
              "50%          14.000000\n",
              "75%          18.000000\n",
              "max         100.000000"
            ]
          },
          "metadata": {
            "tags": []
          },
          "execution_count": 20
        }
      ]
    },
    {
      "cell_type": "code",
      "metadata": {
        "colab": {
          "base_uri": "https://localhost:8080/",
          "height": 269
        },
        "id": "We0LfW0FVsep",
        "outputId": "e1705594-3dc5-4a6f-86eb-49b1bf59f053"
      },
      "source": [
        "df_btc_search[df_btc_search.BTC_NEWS_SEARCH == 3]"
      ],
      "execution_count": 24,
      "outputs": [
        {
          "output_type": "execute_result",
          "data": {
            "text/html": [
              "<div>\n",
              "<style scoped>\n",
              "    .dataframe tbody tr th:only-of-type {\n",
              "        vertical-align: middle;\n",
              "    }\n",
              "\n",
              "    .dataframe tbody tr th {\n",
              "        vertical-align: top;\n",
              "    }\n",
              "\n",
              "    .dataframe thead th {\n",
              "        text-align: right;\n",
              "    }\n",
              "</style>\n",
              "<table border=\"1\" class=\"dataframe\">\n",
              "  <thead>\n",
              "    <tr style=\"text-align: right;\">\n",
              "      <th></th>\n",
              "      <th>MONTH</th>\n",
              "      <th>BTC_NEWS_SEARCH</th>\n",
              "    </tr>\n",
              "  </thead>\n",
              "  <tbody>\n",
              "    <tr>\n",
              "      <th>7</th>\n",
              "      <td>2015-04</td>\n",
              "      <td>3</td>\n",
              "    </tr>\n",
              "    <tr>\n",
              "      <th>8</th>\n",
              "      <td>2015-05</td>\n",
              "      <td>3</td>\n",
              "    </tr>\n",
              "    <tr>\n",
              "      <th>9</th>\n",
              "      <td>2015-06</td>\n",
              "      <td>3</td>\n",
              "    </tr>\n",
              "    <tr>\n",
              "      <th>11</th>\n",
              "      <td>2015-08</td>\n",
              "      <td>3</td>\n",
              "    </tr>\n",
              "    <tr>\n",
              "      <th>12</th>\n",
              "      <td>2015-09</td>\n",
              "      <td>3</td>\n",
              "    </tr>\n",
              "    <tr>\n",
              "      <th>13</th>\n",
              "      <td>2015-10</td>\n",
              "      <td>3</td>\n",
              "    </tr>\n",
              "    <tr>\n",
              "      <th>19</th>\n",
              "      <td>2016-04</td>\n",
              "      <td>3</td>\n",
              "    </tr>\n",
              "  </tbody>\n",
              "</table>\n",
              "</div>"
            ],
            "text/plain": [
              "      MONTH  BTC_NEWS_SEARCH\n",
              "7   2015-04                3\n",
              "8   2015-05                3\n",
              "9   2015-06                3\n",
              "11  2015-08                3\n",
              "12  2015-09                3\n",
              "13  2015-10                3\n",
              "19  2016-04                3"
            ]
          },
          "metadata": {
            "tags": []
          },
          "execution_count": 24
        }
      ]
    },
    {
      "cell_type": "markdown",
      "metadata": {
        "id": "YIT3_0AiPmNy"
      },
      "source": [
        "# Data Cleaning"
      ]
    },
    {
      "cell_type": "markdown",
      "metadata": {
        "id": "c-GnYWbPPmNy"
      },
      "source": [
        "### Check for Missing Values"
      ]
    },
    {
      "cell_type": "markdown",
      "metadata": {
        "id": "HuF0vL_rPmNy"
      },
      "source": [
        "**Challenge**: Are there any missing values in any of the dataframes? If so, which row/rows have missing values? How many missing values are there?"
      ]
    },
    {
      "cell_type": "code",
      "metadata": {
        "id": "3cKYg6EKPmNz",
        "outputId": "b43f75e2-67b9-48a1-a5f3-5d5d3244e069"
      },
      "source": [
        "print(f'Missing values for Tesla?: ')\n",
        "print(f'Missing values for U/E?: ')\n",
        "print(f'Missing values for BTC Search?: ')"
      ],
      "execution_count": null,
      "outputs": [
        {
          "output_type": "stream",
          "text": [
            "Missing values for Tesla?: \n",
            "Missing values for U/E?: \n",
            "Missing values for BTC Search?: \n"
          ],
          "name": "stdout"
        }
      ]
    },
    {
      "cell_type": "code",
      "metadata": {
        "id": "xfGYiwmvPmNz",
        "outputId": "725cf4f4-9990-4725-c00e-4d9d3266ef9e"
      },
      "source": [
        "print(f'Missing values for BTC price?: ')"
      ],
      "execution_count": null,
      "outputs": [
        {
          "output_type": "stream",
          "text": [
            "Missing values for BTC price?: \n"
          ],
          "name": "stdout"
        }
      ]
    },
    {
      "cell_type": "code",
      "metadata": {
        "id": "uoy6EOYAPmNz",
        "outputId": "ac147a49-ee50-4e64-e4d2-241061760ac8"
      },
      "source": [
        "print(f'Number of missing values: ')"
      ],
      "execution_count": null,
      "outputs": [
        {
          "output_type": "stream",
          "text": [
            "Number of missing values: \n"
          ],
          "name": "stdout"
        }
      ]
    },
    {
      "cell_type": "markdown",
      "metadata": {
        "id": "nNqgn5gmPmN0"
      },
      "source": [
        "**Challenge**: Remove any missing values that you found. "
      ]
    },
    {
      "cell_type": "code",
      "metadata": {
        "id": "_XdZ8DbIPmN0"
      },
      "source": [
        ""
      ],
      "execution_count": null,
      "outputs": []
    },
    {
      "cell_type": "markdown",
      "metadata": {
        "id": "Q_fBiDPZPmN0"
      },
      "source": [
        "### Convert Strings to DateTime Objects"
      ]
    },
    {
      "cell_type": "markdown",
      "metadata": {
        "id": "8rxOPr1cPmN0"
      },
      "source": [
        "**Challenge**: Check the data type of the entries in the DataFrame MONTH or DATE columns. Convert any strings in to Datetime objects. Do this for all 4 DataFrames. Double check if your type conversion was successful."
      ]
    },
    {
      "cell_type": "code",
      "metadata": {
        "id": "9OAIigK1PmN0"
      },
      "source": [
        ""
      ],
      "execution_count": null,
      "outputs": []
    },
    {
      "cell_type": "code",
      "metadata": {
        "id": "0tzT1BFrPmN1"
      },
      "source": [
        ""
      ],
      "execution_count": null,
      "outputs": []
    },
    {
      "cell_type": "code",
      "metadata": {
        "id": "126k0oHaPmN1"
      },
      "source": [
        ""
      ],
      "execution_count": null,
      "outputs": []
    },
    {
      "cell_type": "markdown",
      "metadata": {
        "id": "SkKTqbcmPmN2"
      },
      "source": [
        "### Converting from Daily to Monthly Data\n",
        "\n",
        "[Pandas .resample() documentation](https://pandas.pydata.org/pandas-docs/stable/reference/api/pandas.DataFrame.resample.html) <br>"
      ]
    },
    {
      "cell_type": "code",
      "metadata": {
        "id": "3xqJr-ZnPmN2"
      },
      "source": [
        ""
      ],
      "execution_count": null,
      "outputs": []
    },
    {
      "cell_type": "code",
      "metadata": {
        "id": "jWClziv3PmN2"
      },
      "source": [
        ""
      ],
      "execution_count": null,
      "outputs": []
    },
    {
      "cell_type": "markdown",
      "metadata": {
        "id": "getObfr8PmN2"
      },
      "source": [
        "# Data Visualisation"
      ]
    },
    {
      "cell_type": "markdown",
      "metadata": {
        "id": "cOVh_EFBPmN2"
      },
      "source": [
        "### Notebook Formatting & Style Helpers"
      ]
    },
    {
      "cell_type": "code",
      "metadata": {
        "id": "DMRq-2BQPmN2"
      },
      "source": [
        "# Create locators for ticks on the time axis"
      ],
      "execution_count": null,
      "outputs": []
    },
    {
      "cell_type": "code",
      "metadata": {
        "id": "sN0qGdRsPmN3"
      },
      "source": [
        "# Register date converters to avoid warning messages"
      ],
      "execution_count": null,
      "outputs": []
    },
    {
      "cell_type": "markdown",
      "metadata": {
        "id": "lQPOLBAVPmN3"
      },
      "source": [
        "### Tesla Stock Price v.s. Search Volume"
      ]
    },
    {
      "cell_type": "markdown",
      "metadata": {
        "id": "IwyfGT8sPmN3"
      },
      "source": [
        "**Challenge:** Plot the Tesla stock price against the Tesla search volume using a line chart and two different axes. Label one axis 'TSLA Stock Price' and the other 'Search Trend'. "
      ]
    },
    {
      "cell_type": "code",
      "metadata": {
        "id": "usLq2QkOPmN3"
      },
      "source": [
        ""
      ],
      "execution_count": null,
      "outputs": []
    },
    {
      "cell_type": "markdown",
      "metadata": {
        "id": "8Prg-mWdPmN4"
      },
      "source": [
        "**Challenge**: Add colours to style the chart. This will help differentiate the two lines and the axis labels. Try using one of the blue [colour names](https://matplotlib.org/3.1.1/gallery/color/named_colors.html) for the search volume and a HEX code for a red colour for the stock price. \n",
        "<br>\n",
        "<br>\n",
        "Hint: you can colour both the [axis labels](https://matplotlib.org/3.3.2/api/text_api.html#matplotlib.text.Text) and the [lines](https://matplotlib.org/3.2.1/api/_as_gen/matplotlib.lines.Line2D.html#matplotlib.lines.Line2D) on the chart using keyword arguments (kwargs).  "
      ]
    },
    {
      "cell_type": "code",
      "metadata": {
        "id": "MglU1gFPPmN4"
      },
      "source": [
        ""
      ],
      "execution_count": null,
      "outputs": []
    },
    {
      "cell_type": "markdown",
      "metadata": {
        "id": "1GE3z94FPmN4"
      },
      "source": [
        "**Challenge**: Make the chart larger and easier to read. \n",
        "1. Increase the figure size (e.g., to 14 by 8). \n",
        "2. Increase the font sizes for the labels and the ticks on the x-axis to 14. \n",
        "3. Rotate the text on the x-axis by 45 degrees. \n",
        "4. Make the lines on the chart thicker. \n",
        "5. Add a title that reads 'Tesla Web Search vs Price'\n",
        "6. Keep the chart looking sharp by changing the dots-per-inch or [DPI value](https://matplotlib.org/3.1.1/api/_as_gen/matplotlib.pyplot.figure.html). \n",
        "7. Set minimum and maximum values for the y and x axis. Hint: check out methods like [set_xlim()](https://matplotlib.org/3.1.1/api/_as_gen/matplotlib.axes.Axes.set_xlim.html). \n",
        "8. Finally use [plt.show()](https://matplotlib.org/3.2.1/api/_as_gen/matplotlib.pyplot.show.html) to display the chart below the cell instead of relying on the automatic notebook output."
      ]
    },
    {
      "cell_type": "code",
      "metadata": {
        "id": "6QvUhsO6PmN5"
      },
      "source": [
        ""
      ],
      "execution_count": null,
      "outputs": []
    },
    {
      "cell_type": "markdown",
      "metadata": {
        "id": "J8LF-NHcPmN5"
      },
      "source": [
        "How to add tick formatting for dates on the x-axis. "
      ]
    },
    {
      "cell_type": "code",
      "metadata": {
        "id": "uKo5fwmNPmN5"
      },
      "source": [
        ""
      ],
      "execution_count": null,
      "outputs": []
    },
    {
      "cell_type": "markdown",
      "metadata": {
        "id": "Q__YoXbSPmN5"
      },
      "source": [
        "### Bitcoin (BTC) Price v.s. Search Volume"
      ]
    },
    {
      "cell_type": "markdown",
      "metadata": {
        "id": "HO_u0z0XPmN5"
      },
      "source": [
        "**Challenge**: Create the same chart for the Bitcoin Prices vs. Search volumes. <br>\n",
        "1. Modify the chart title to read 'Bitcoin News Search vs Resampled Price' <br>\n",
        "2. Change the y-axis label to 'BTC Price' <br>\n",
        "3. Change the y- and x-axis limits to improve the appearance <br>\n",
        "4. Investigate the [linestyles](https://matplotlib.org/3.2.1/api/_as_gen/matplotlib.pyplot.plot.html ) to make the BTC price a dashed line <br>\n",
        "5. Investigate the [marker types](https://matplotlib.org/3.2.1/api/markers_api.html) to make the search datapoints little circles <br>\n",
        "6. Were big increases in searches for Bitcoin accompanied by big increases in the price?"
      ]
    },
    {
      "cell_type": "code",
      "metadata": {
        "id": "olUCjzS1PmN6"
      },
      "source": [
        ""
      ],
      "execution_count": null,
      "outputs": []
    },
    {
      "cell_type": "code",
      "metadata": {
        "id": "It1koXIMPmN6"
      },
      "source": [
        ""
      ],
      "execution_count": null,
      "outputs": []
    },
    {
      "cell_type": "markdown",
      "metadata": {
        "id": "h453MCfsPmN6"
      },
      "source": [
        "### Unemployement Benefits Search vs. Actual Unemployment in the U.S."
      ]
    },
    {
      "cell_type": "markdown",
      "metadata": {
        "id": "aoe4fCGJPmN6"
      },
      "source": [
        "**Challenge** Plot the search for \"unemployment benefits\" against the unemployment rate. \n",
        "1. Change the title to: Monthly Search of \"Unemployment Benefits\" in the U.S. vs the U/E Rate <br>\n",
        "2. Change the y-axis label to: FRED U/E Rate <br>\n",
        "3. Change the axis limits <br>\n",
        "4. Add a grey [grid](https://matplotlib.org/3.2.1/api/_as_gen/matplotlib.pyplot.grid.html) to the chart to better see the years and the U/E rate values. Use dashes for the line style<br> \n",
        "5. Can you discern any seasonality in the searches? Is there a pattern? "
      ]
    },
    {
      "cell_type": "code",
      "metadata": {
        "id": "ybXmoPZ4PmN7"
      },
      "source": [
        ""
      ],
      "execution_count": null,
      "outputs": []
    },
    {
      "cell_type": "markdown",
      "metadata": {
        "id": "9JJyi8W6PmN7"
      },
      "source": [
        "**Challenge**: Calculate the 3-month or 6-month rolling average for the web searches. Plot the 6-month rolling average search data against the actual unemployment. What do you see in the chart? Which line moves first?\n"
      ]
    },
    {
      "cell_type": "code",
      "metadata": {
        "id": "NAxrCcePPmN7"
      },
      "source": [
        ""
      ],
      "execution_count": null,
      "outputs": []
    },
    {
      "cell_type": "markdown",
      "metadata": {
        "id": "WDKcQNp1PmN7"
      },
      "source": [
        "### Including 2020 in Unemployment Charts"
      ]
    },
    {
      "cell_type": "markdown",
      "metadata": {
        "id": "ueFbMppGPmN8"
      },
      "source": [
        "**Challenge**: Read the data in the 'UE Benefits Search vs UE Rate 2004-20.csv' into a DataFrame. Convert the MONTH column to Pandas Datetime objects and then plot the chart. What do you see?"
      ]
    },
    {
      "cell_type": "code",
      "metadata": {
        "id": "nQqDDBtaPmN8"
      },
      "source": [
        ""
      ],
      "execution_count": null,
      "outputs": []
    },
    {
      "cell_type": "code",
      "metadata": {
        "id": "W2ZCjPNIPmN8"
      },
      "source": [
        ""
      ],
      "execution_count": null,
      "outputs": []
    },
    {
      "cell_type": "code",
      "metadata": {
        "id": "lzYJUCkaPmN8"
      },
      "source": [
        ""
      ],
      "execution_count": null,
      "outputs": []
    }
  ]
}