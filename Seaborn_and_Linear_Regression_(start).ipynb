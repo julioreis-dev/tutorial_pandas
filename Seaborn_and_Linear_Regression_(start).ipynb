{
  "nbformat": 4,
  "nbformat_minor": 0,
  "metadata": {
    "colab": {
      "name": "Seaborn_and_Linear_Regression_(start).ipynb",
      "provenance": [],
      "include_colab_link": true
    },
    "kernelspec": {
      "name": "python3",
      "display_name": "Python 3"
    }
  },
  "cells": [
    {
      "cell_type": "markdown",
      "metadata": {
        "id": "view-in-github",
        "colab_type": "text"
      },
      "source": [
        "<a href=\"https://colab.research.google.com/github/julioreis-dev/tutorial_pandas/blob/main/Seaborn_and_Linear_Regression_(start).ipynb\" target=\"_parent\"><img src=\"https://colab.research.google.com/assets/colab-badge.svg\" alt=\"Open In Colab\"/></a>"
      ]
    },
    {
      "cell_type": "markdown",
      "metadata": {
        "id": "gltiGJhvrzaL"
      },
      "source": [
        "# Introduction\n",
        "\n",
        "Do higher film budgets lead to more box office revenue? Let's find out if there's a relationship using the movie budgets and financial performance data that I've scraped from [the-numbers.com](https://www.the-numbers.com/movie/budgets) on **May 1st, 2018**. \n",
        "\n",
        "<img src=https://i.imgur.com/kq7hrEh.png>"
      ]
    },
    {
      "cell_type": "markdown",
      "metadata": {
        "id": "zkLrvlKvtdih"
      },
      "source": [
        "# Import Statements"
      ]
    },
    {
      "cell_type": "code",
      "metadata": {
        "id": "NpDk_q_Urroj"
      },
      "source": [
        "import pandas as pd\n",
        "import matplotlib.pyplot as plt\n"
      ],
      "execution_count": 1,
      "outputs": []
    },
    {
      "cell_type": "markdown",
      "metadata": {
        "id": "x5B-UDvXtnC6"
      },
      "source": [
        "# Notebook Presentation"
      ]
    },
    {
      "cell_type": "code",
      "metadata": {
        "id": "nM_otvWztjpT"
      },
      "source": [
        "pd.options.display.float_format = '{:,.2f}'.format\n",
        "\n",
        "from pandas.plotting import register_matplotlib_converters\n",
        "register_matplotlib_converters()"
      ],
      "execution_count": 2,
      "outputs": []
    },
    {
      "cell_type": "markdown",
      "metadata": {
        "id": "v-fnwNYJtthe"
      },
      "source": [
        "# Read the Data"
      ]
    },
    {
      "cell_type": "code",
      "metadata": {
        "id": "xhwvQQWitrf4"
      },
      "source": [
        "data = pd.read_csv('cost_revenue_dirty.csv')"
      ],
      "execution_count": 3,
      "outputs": []
    },
    {
      "cell_type": "markdown",
      "metadata": {
        "id": "tbg8_J5SuHhs"
      },
      "source": [
        "# Explore and Clean the Data"
      ]
    },
    {
      "cell_type": "markdown",
      "metadata": {
        "id": "xAtdcURCuL0Z"
      },
      "source": [
        "**Challenge**: Answer these questions about the dataset:\n",
        "1. How many rows and columns does the dataset contain?\n",
        "2. Are there any NaN values present?\n",
        "3. Are there any duplicate rows?\n",
        "4. What are the data types of the columns?"
      ]
    },
    {
      "cell_type": "code",
      "metadata": {
        "id": "PV3KLBSVTMDN",
        "colab": {
          "base_uri": "https://localhost:8080/"
        },
        "outputId": "914cb586-b313-4105-ea35-1b97e0101c41"
      },
      "source": [
        "data.shape"
      ],
      "execution_count": 4,
      "outputs": [
        {
          "output_type": "execute_result",
          "data": {
            "text/plain": [
              "(5391, 6)"
            ]
          },
          "metadata": {
            "tags": []
          },
          "execution_count": 4
        }
      ]
    },
    {
      "cell_type": "code",
      "metadata": {
        "colab": {
          "base_uri": "https://localhost:8080/",
          "height": 206
        },
        "id": "LW_8JrOuR7lt",
        "outputId": "9c212e23-c280-4674-b9e4-4195d155aacf"
      },
      "source": [
        "data.head()"
      ],
      "execution_count": 5,
      "outputs": [
        {
          "output_type": "execute_result",
          "data": {
            "text/html": [
              "<div>\n",
              "<style scoped>\n",
              "    .dataframe tbody tr th:only-of-type {\n",
              "        vertical-align: middle;\n",
              "    }\n",
              "\n",
              "    .dataframe tbody tr th {\n",
              "        vertical-align: top;\n",
              "    }\n",
              "\n",
              "    .dataframe thead th {\n",
              "        text-align: right;\n",
              "    }\n",
              "</style>\n",
              "<table border=\"1\" class=\"dataframe\">\n",
              "  <thead>\n",
              "    <tr style=\"text-align: right;\">\n",
              "      <th></th>\n",
              "      <th>Rank</th>\n",
              "      <th>Release_Date</th>\n",
              "      <th>Movie_Title</th>\n",
              "      <th>USD_Production_Budget</th>\n",
              "      <th>USD_Worldwide_Gross</th>\n",
              "      <th>USD_Domestic_Gross</th>\n",
              "    </tr>\n",
              "  </thead>\n",
              "  <tbody>\n",
              "    <tr>\n",
              "      <th>0</th>\n",
              "      <td>5293</td>\n",
              "      <td>8/2/1915</td>\n",
              "      <td>The Birth of a Nation</td>\n",
              "      <td>$110,000</td>\n",
              "      <td>$11,000,000</td>\n",
              "      <td>$10,000,000</td>\n",
              "    </tr>\n",
              "    <tr>\n",
              "      <th>1</th>\n",
              "      <td>5140</td>\n",
              "      <td>5/9/1916</td>\n",
              "      <td>Intolerance</td>\n",
              "      <td>$385,907</td>\n",
              "      <td>$0</td>\n",
              "      <td>$0</td>\n",
              "    </tr>\n",
              "    <tr>\n",
              "      <th>2</th>\n",
              "      <td>5230</td>\n",
              "      <td>12/24/1916</td>\n",
              "      <td>20,000 Leagues Under the Sea</td>\n",
              "      <td>$200,000</td>\n",
              "      <td>$8,000,000</td>\n",
              "      <td>$8,000,000</td>\n",
              "    </tr>\n",
              "    <tr>\n",
              "      <th>3</th>\n",
              "      <td>5299</td>\n",
              "      <td>9/17/1920</td>\n",
              "      <td>Over the Hill to the Poorhouse</td>\n",
              "      <td>$100,000</td>\n",
              "      <td>$3,000,000</td>\n",
              "      <td>$3,000,000</td>\n",
              "    </tr>\n",
              "    <tr>\n",
              "      <th>4</th>\n",
              "      <td>5222</td>\n",
              "      <td>1/1/1925</td>\n",
              "      <td>The Big Parade</td>\n",
              "      <td>$245,000</td>\n",
              "      <td>$22,000,000</td>\n",
              "      <td>$11,000,000</td>\n",
              "    </tr>\n",
              "  </tbody>\n",
              "</table>\n",
              "</div>"
            ],
            "text/plain": [
              "   Rank Release_Date  ... USD_Worldwide_Gross USD_Domestic_Gross\n",
              "0  5293     8/2/1915  ...         $11,000,000        $10,000,000\n",
              "1  5140     5/9/1916  ...                  $0                 $0\n",
              "2  5230   12/24/1916  ...          $8,000,000         $8,000,000\n",
              "3  5299    9/17/1920  ...          $3,000,000         $3,000,000\n",
              "4  5222     1/1/1925  ...         $22,000,000        $11,000,000\n",
              "\n",
              "[5 rows x 6 columns]"
            ]
          },
          "metadata": {
            "tags": []
          },
          "execution_count": 5
        }
      ]
    },
    {
      "cell_type": "code",
      "metadata": {
        "colab": {
          "base_uri": "https://localhost:8080/",
          "height": 206
        },
        "id": "qLjC87DnR7xJ",
        "outputId": "fb64d1d5-c1ec-48d3-9c2a-f8be84e15226"
      },
      "source": [
        "data.tail()"
      ],
      "execution_count": 6,
      "outputs": [
        {
          "output_type": "execute_result",
          "data": {
            "text/html": [
              "<div>\n",
              "<style scoped>\n",
              "    .dataframe tbody tr th:only-of-type {\n",
              "        vertical-align: middle;\n",
              "    }\n",
              "\n",
              "    .dataframe tbody tr th {\n",
              "        vertical-align: top;\n",
              "    }\n",
              "\n",
              "    .dataframe thead th {\n",
              "        text-align: right;\n",
              "    }\n",
              "</style>\n",
              "<table border=\"1\" class=\"dataframe\">\n",
              "  <thead>\n",
              "    <tr style=\"text-align: right;\">\n",
              "      <th></th>\n",
              "      <th>Rank</th>\n",
              "      <th>Release_Date</th>\n",
              "      <th>Movie_Title</th>\n",
              "      <th>USD_Production_Budget</th>\n",
              "      <th>USD_Worldwide_Gross</th>\n",
              "      <th>USD_Domestic_Gross</th>\n",
              "    </tr>\n",
              "  </thead>\n",
              "  <tbody>\n",
              "    <tr>\n",
              "      <th>5386</th>\n",
              "      <td>2950</td>\n",
              "      <td>10/8/2018</td>\n",
              "      <td>Meg</td>\n",
              "      <td>$15,000,000</td>\n",
              "      <td>$0</td>\n",
              "      <td>$0</td>\n",
              "    </tr>\n",
              "    <tr>\n",
              "      <th>5387</th>\n",
              "      <td>126</td>\n",
              "      <td>12/18/2018</td>\n",
              "      <td>Aquaman</td>\n",
              "      <td>$160,000,000</td>\n",
              "      <td>$0</td>\n",
              "      <td>$0</td>\n",
              "    </tr>\n",
              "    <tr>\n",
              "      <th>5388</th>\n",
              "      <td>96</td>\n",
              "      <td>12/31/2020</td>\n",
              "      <td>Singularity</td>\n",
              "      <td>$175,000,000</td>\n",
              "      <td>$0</td>\n",
              "      <td>$0</td>\n",
              "    </tr>\n",
              "    <tr>\n",
              "      <th>5389</th>\n",
              "      <td>1119</td>\n",
              "      <td>12/31/2020</td>\n",
              "      <td>Hannibal the Conqueror</td>\n",
              "      <td>$50,000,000</td>\n",
              "      <td>$0</td>\n",
              "      <td>$0</td>\n",
              "    </tr>\n",
              "    <tr>\n",
              "      <th>5390</th>\n",
              "      <td>2517</td>\n",
              "      <td>12/31/2020</td>\n",
              "      <td>Story of Bonnie and Clyde, The</td>\n",
              "      <td>$20,000,000</td>\n",
              "      <td>$0</td>\n",
              "      <td>$0</td>\n",
              "    </tr>\n",
              "  </tbody>\n",
              "</table>\n",
              "</div>"
            ],
            "text/plain": [
              "      Rank Release_Date  ... USD_Worldwide_Gross USD_Domestic_Gross\n",
              "5386  2950    10/8/2018  ...                  $0                 $0\n",
              "5387   126   12/18/2018  ...                  $0                 $0\n",
              "5388    96   12/31/2020  ...                  $0                 $0\n",
              "5389  1119   12/31/2020  ...                  $0                 $0\n",
              "5390  2517   12/31/2020  ...                  $0                 $0\n",
              "\n",
              "[5 rows x 6 columns]"
            ]
          },
          "metadata": {
            "tags": []
          },
          "execution_count": 6
        }
      ]
    },
    {
      "cell_type": "code",
      "metadata": {
        "colab": {
          "base_uri": "https://localhost:8080/"
        },
        "id": "Vn7YLMj8Pv_U",
        "outputId": "676d82b6-777b-413e-99e6-197505b82c23"
      },
      "source": [
        "data.isna().values.any()"
      ],
      "execution_count": 7,
      "outputs": [
        {
          "output_type": "execute_result",
          "data": {
            "text/plain": [
              "False"
            ]
          },
          "metadata": {
            "tags": []
          },
          "execution_count": 7
        }
      ]
    },
    {
      "cell_type": "code",
      "metadata": {
        "colab": {
          "base_uri": "https://localhost:8080/"
        },
        "id": "Gfddu0XzRrLg",
        "outputId": "e82db0bd-d8a2-4920-8b6b-da52ef40c112"
      },
      "source": [
        "data.info()"
      ],
      "execution_count": 8,
      "outputs": [
        {
          "output_type": "stream",
          "text": [
            "<class 'pandas.core.frame.DataFrame'>\n",
            "RangeIndex: 5391 entries, 0 to 5390\n",
            "Data columns (total 6 columns):\n",
            " #   Column                 Non-Null Count  Dtype \n",
            "---  ------                 --------------  ----- \n",
            " 0   Rank                   5391 non-null   int64 \n",
            " 1   Release_Date           5391 non-null   object\n",
            " 2   Movie_Title            5391 non-null   object\n",
            " 3   USD_Production_Budget  5391 non-null   object\n",
            " 4   USD_Worldwide_Gross    5391 non-null   object\n",
            " 5   USD_Domestic_Gross     5391 non-null   object\n",
            "dtypes: int64(1), object(5)\n",
            "memory usage: 252.8+ KB\n"
          ],
          "name": "stdout"
        }
      ]
    },
    {
      "cell_type": "code",
      "metadata": {
        "colab": {
          "base_uri": "https://localhost:8080/",
          "height": 81
        },
        "id": "oPyhI_dyRvcc",
        "outputId": "6eab0560-9249-4a27-a225-d474eb8885e1"
      },
      "source": [
        "data.sample()"
      ],
      "execution_count": 10,
      "outputs": [
        {
          "output_type": "execute_result",
          "data": {
            "text/html": [
              "<div>\n",
              "<style scoped>\n",
              "    .dataframe tbody tr th:only-of-type {\n",
              "        vertical-align: middle;\n",
              "    }\n",
              "\n",
              "    .dataframe tbody tr th {\n",
              "        vertical-align: top;\n",
              "    }\n",
              "\n",
              "    .dataframe thead th {\n",
              "        text-align: right;\n",
              "    }\n",
              "</style>\n",
              "<table border=\"1\" class=\"dataframe\">\n",
              "  <thead>\n",
              "    <tr style=\"text-align: right;\">\n",
              "      <th></th>\n",
              "      <th>Rank</th>\n",
              "      <th>Release_Date</th>\n",
              "      <th>Movie_Title</th>\n",
              "      <th>USD_Production_Budget</th>\n",
              "      <th>USD_Worldwide_Gross</th>\n",
              "      <th>USD_Domestic_Gross</th>\n",
              "    </tr>\n",
              "  </thead>\n",
              "  <tbody>\n",
              "    <tr>\n",
              "      <th>2524</th>\n",
              "      <td>1954</td>\n",
              "      <td>10/6/2005</td>\n",
              "      <td>The Honeymooners</td>\n",
              "      <td>$27,000,000</td>\n",
              "      <td>$13,174,426</td>\n",
              "      <td>$12,834,849</td>\n",
              "    </tr>\n",
              "  </tbody>\n",
              "</table>\n",
              "</div>"
            ],
            "text/plain": [
              "      Rank Release_Date  ... USD_Worldwide_Gross USD_Domestic_Gross\n",
              "2524  1954    10/6/2005  ...         $13,174,426        $12,834,849\n",
              "\n",
              "[1 rows x 6 columns]"
            ]
          },
          "metadata": {
            "tags": []
          },
          "execution_count": 10
        }
      ]
    },
    {
      "cell_type": "code",
      "metadata": {
        "colab": {
          "base_uri": "https://localhost:8080/"
        },
        "id": "6HugSIZhQ8_Q",
        "outputId": "31dc4c25-3f9e-4f55-cac8-e177c0532298"
      },
      "source": [
        "data.duplicated().values.any()"
      ],
      "execution_count": 11,
      "outputs": [
        {
          "output_type": "execute_result",
          "data": {
            "text/plain": [
              "False"
            ]
          },
          "metadata": {
            "tags": []
          },
          "execution_count": 11
        }
      ]
    },
    {
      "cell_type": "markdown",
      "metadata": {
        "id": "v8spadDNvpVG"
      },
      "source": [
        "### Data Type Conversions"
      ]
    },
    {
      "cell_type": "markdown",
      "metadata": {
        "id": "9F8KFST4ulrd"
      },
      "source": [
        "**Challenge**: Convert the `USD_Production_Budget`, `USD_Worldwide_Gross`, and `USD_Domestic_Gross` columns to a numeric format by removing `$` signs and `,`. \n",
        "<br>\n",
        "<br>\n",
        "Note that *domestic* in this context refers to the United States."
      ]
    },
    {
      "cell_type": "code",
      "metadata": {
        "id": "BmdCbLf-TPXk",
        "colab": {
          "base_uri": "https://localhost:8080/"
        },
        "outputId": "adb21383-d3bc-4d88-a30c-e1c5f8f41fe1"
      },
      "source": [
        "data.columns"
      ],
      "execution_count": 12,
      "outputs": [
        {
          "output_type": "execute_result",
          "data": {
            "text/plain": [
              "Index(['Rank', 'Release_Date', 'Movie_Title', 'USD_Production_Budget',\n",
              "       'USD_Worldwide_Gross', 'USD_Domestic_Gross'],\n",
              "      dtype='object')"
            ]
          },
          "metadata": {
            "tags": []
          },
          "execution_count": 12
        }
      ]
    },
    {
      "cell_type": "code",
      "metadata": {
        "id": "ETPihyIXTmnu"
      },
      "source": [
        "data.USD_Production_Budget = data.USD_Production_Budget.str.replace('$', '')\n",
        "data.USD_Production_Budget = data.USD_Production_Budget.str.replace(',', '')\n",
        "data.USD_Production_Budget = pd.to_numeric(data.USD_Production_Budget)"
      ],
      "execution_count": 13,
      "outputs": []
    },
    {
      "cell_type": "code",
      "metadata": {
        "id": "9vIZbIU7UTs7"
      },
      "source": [
        "data.USD_Worldwide_Gross = data.USD_Worldwide_Gross.str.replace('$', '')\n",
        "data.USD_Worldwide_Gross = data.USD_Worldwide_Gross.str.replace(',', '')\n",
        "data.USD_Worldwide_Gross = pd.to_numeric(data.USD_Worldwide_Gross)"
      ],
      "execution_count": 14,
      "outputs": []
    },
    {
      "cell_type": "code",
      "metadata": {
        "id": "555q9bwsXNJg"
      },
      "source": [
        "data.USD_Domestic_Gross = data.USD_Domestic_Gross.str.replace('$','')\n",
        "data.USD_Domestic_Gross = data.USD_Domestic_Gross.str.replace(',', '')\n",
        "data.USD_Domestic_Gross = pd.to_numeric(data.USD_Domestic_Gross)"
      ],
      "execution_count": 15,
      "outputs": []
    },
    {
      "cell_type": "code",
      "metadata": {
        "colab": {
          "base_uri": "https://localhost:8080/"
        },
        "id": "PbuoXIpBT-RL",
        "outputId": "f1fb7f9f-9eea-4552-def6-b123d7ec0fc3"
      },
      "source": [
        "data.info()"
      ],
      "execution_count": 16,
      "outputs": [
        {
          "output_type": "stream",
          "text": [
            "<class 'pandas.core.frame.DataFrame'>\n",
            "RangeIndex: 5391 entries, 0 to 5390\n",
            "Data columns (total 6 columns):\n",
            " #   Column                 Non-Null Count  Dtype \n",
            "---  ------                 --------------  ----- \n",
            " 0   Rank                   5391 non-null   int64 \n",
            " 1   Release_Date           5391 non-null   object\n",
            " 2   Movie_Title            5391 non-null   object\n",
            " 3   USD_Production_Budget  5391 non-null   int64 \n",
            " 4   USD_Worldwide_Gross    5391 non-null   int64 \n",
            " 5   USD_Domestic_Gross     5391 non-null   int64 \n",
            "dtypes: int64(4), object(2)\n",
            "memory usage: 252.8+ KB\n"
          ],
          "name": "stdout"
        }
      ]
    },
    {
      "cell_type": "markdown",
      "metadata": {
        "id": "cA01iJHkvWhl"
      },
      "source": [
        "**Challenge**: Convert the `Release_Date` column to a Pandas Datetime type. "
      ]
    },
    {
      "cell_type": "code",
      "metadata": {
        "id": "Pq1WfvRnTRU6"
      },
      "source": [
        "data.Release_Date = pd.to_datetime(data.Release_Date)"
      ],
      "execution_count": 17,
      "outputs": []
    },
    {
      "cell_type": "code",
      "metadata": {
        "colab": {
          "base_uri": "https://localhost:8080/"
        },
        "id": "wgiZA-TPYUSm",
        "outputId": "2a05b8a1-bc0a-4b36-d1c0-82c7f6e290e0"
      },
      "source": [
        "type(data.Release_Date[0])"
      ],
      "execution_count": 18,
      "outputs": [
        {
          "output_type": "execute_result",
          "data": {
            "text/plain": [
              "pandas._libs.tslibs.timestamps.Timestamp"
            ]
          },
          "metadata": {
            "tags": []
          },
          "execution_count": 18
        }
      ]
    },
    {
      "cell_type": "code",
      "metadata": {
        "colab": {
          "base_uri": "https://localhost:8080/"
        },
        "id": "6LkPyFdfYlgw",
        "outputId": "2052758f-f951-45ab-9193-1b4db9973148"
      },
      "source": [
        "data.Release_Date.head()"
      ],
      "execution_count": 19,
      "outputs": [
        {
          "output_type": "execute_result",
          "data": {
            "text/plain": [
              "0   1915-08-02\n",
              "1   1916-05-09\n",
              "2   1916-12-24\n",
              "3   1920-09-17\n",
              "4   1925-01-01\n",
              "Name: Release_Date, dtype: datetime64[ns]"
            ]
          },
          "metadata": {
            "tags": []
          },
          "execution_count": 19
        }
      ]
    },
    {
      "cell_type": "code",
      "metadata": {
        "colab": {
          "base_uri": "https://localhost:8080/"
        },
        "id": "28yhXALLY7oV",
        "outputId": "ac1a8f75-04ff-44f9-fefe-98bf266fe046"
      },
      "source": [
        "data.info()"
      ],
      "execution_count": 20,
      "outputs": [
        {
          "output_type": "stream",
          "text": [
            "<class 'pandas.core.frame.DataFrame'>\n",
            "RangeIndex: 5391 entries, 0 to 5390\n",
            "Data columns (total 6 columns):\n",
            " #   Column                 Non-Null Count  Dtype         \n",
            "---  ------                 --------------  -----         \n",
            " 0   Rank                   5391 non-null   int64         \n",
            " 1   Release_Date           5391 non-null   datetime64[ns]\n",
            " 2   Movie_Title            5391 non-null   object        \n",
            " 3   USD_Production_Budget  5391 non-null   int64         \n",
            " 4   USD_Worldwide_Gross    5391 non-null   int64         \n",
            " 5   USD_Domestic_Gross     5391 non-null   int64         \n",
            "dtypes: datetime64[ns](1), int64(4), object(1)\n",
            "memory usage: 252.8+ KB\n"
          ],
          "name": "stdout"
        }
      ]
    },
    {
      "cell_type": "code",
      "metadata": {
        "colab": {
          "base_uri": "https://localhost:8080/",
          "height": 206
        },
        "id": "3VhwbaIoZMga",
        "outputId": "b6b28a7c-851e-4a0a-fb27-30e8abfe4d05"
      },
      "source": [
        "data.head()"
      ],
      "execution_count": 21,
      "outputs": [
        {
          "output_type": "execute_result",
          "data": {
            "text/html": [
              "<div>\n",
              "<style scoped>\n",
              "    .dataframe tbody tr th:only-of-type {\n",
              "        vertical-align: middle;\n",
              "    }\n",
              "\n",
              "    .dataframe tbody tr th {\n",
              "        vertical-align: top;\n",
              "    }\n",
              "\n",
              "    .dataframe thead th {\n",
              "        text-align: right;\n",
              "    }\n",
              "</style>\n",
              "<table border=\"1\" class=\"dataframe\">\n",
              "  <thead>\n",
              "    <tr style=\"text-align: right;\">\n",
              "      <th></th>\n",
              "      <th>Rank</th>\n",
              "      <th>Release_Date</th>\n",
              "      <th>Movie_Title</th>\n",
              "      <th>USD_Production_Budget</th>\n",
              "      <th>USD_Worldwide_Gross</th>\n",
              "      <th>USD_Domestic_Gross</th>\n",
              "    </tr>\n",
              "  </thead>\n",
              "  <tbody>\n",
              "    <tr>\n",
              "      <th>0</th>\n",
              "      <td>5293</td>\n",
              "      <td>1915-08-02</td>\n",
              "      <td>The Birth of a Nation</td>\n",
              "      <td>110000</td>\n",
              "      <td>11000000</td>\n",
              "      <td>10000000</td>\n",
              "    </tr>\n",
              "    <tr>\n",
              "      <th>1</th>\n",
              "      <td>5140</td>\n",
              "      <td>1916-05-09</td>\n",
              "      <td>Intolerance</td>\n",
              "      <td>385907</td>\n",
              "      <td>0</td>\n",
              "      <td>0</td>\n",
              "    </tr>\n",
              "    <tr>\n",
              "      <th>2</th>\n",
              "      <td>5230</td>\n",
              "      <td>1916-12-24</td>\n",
              "      <td>20,000 Leagues Under the Sea</td>\n",
              "      <td>200000</td>\n",
              "      <td>8000000</td>\n",
              "      <td>8000000</td>\n",
              "    </tr>\n",
              "    <tr>\n",
              "      <th>3</th>\n",
              "      <td>5299</td>\n",
              "      <td>1920-09-17</td>\n",
              "      <td>Over the Hill to the Poorhouse</td>\n",
              "      <td>100000</td>\n",
              "      <td>3000000</td>\n",
              "      <td>3000000</td>\n",
              "    </tr>\n",
              "    <tr>\n",
              "      <th>4</th>\n",
              "      <td>5222</td>\n",
              "      <td>1925-01-01</td>\n",
              "      <td>The Big Parade</td>\n",
              "      <td>245000</td>\n",
              "      <td>22000000</td>\n",
              "      <td>11000000</td>\n",
              "    </tr>\n",
              "  </tbody>\n",
              "</table>\n",
              "</div>"
            ],
            "text/plain": [
              "   Rank Release_Date  ... USD_Worldwide_Gross  USD_Domestic_Gross\n",
              "0  5293   1915-08-02  ...            11000000            10000000\n",
              "1  5140   1916-05-09  ...                   0                   0\n",
              "2  5230   1916-12-24  ...             8000000             8000000\n",
              "3  5299   1920-09-17  ...             3000000             3000000\n",
              "4  5222   1925-01-01  ...            22000000            11000000\n",
              "\n",
              "[5 rows x 6 columns]"
            ]
          },
          "metadata": {
            "tags": []
          },
          "execution_count": 21
        }
      ]
    },
    {
      "cell_type": "markdown",
      "metadata": {
        "id": "NkwmJO3tvt5i"
      },
      "source": [
        "### Descriptive Statistics"
      ]
    },
    {
      "cell_type": "markdown",
      "metadata": {
        "id": "bnb54thrvx5r"
      },
      "source": [
        "**Challenge**: \n",
        "\n",
        "1. What is the average production budget of the films in the data set?\n",
        "2. What is the average worldwide gross revenue of films?\n",
        "3. What were the minimums for worldwide and domestic revenue?\n",
        "4. Are the bottom 25% of films actually profitable or do they lose money?\n",
        "5. What are the highest production budget and highest worldwide gross revenue of any film?\n",
        "6. How much revenue did the lowest and highest budget films make?"
      ]
    },
    {
      "cell_type": "code",
      "metadata": {
        "colab": {
          "base_uri": "https://localhost:8080/"
        },
        "id": "Y1YsFQ3La2kk",
        "outputId": "c8b6e6c8-b7b1-4b4a-f747-c629f82e5b4c"
      },
      "source": [
        "data.USD_Production_Budget.describe()"
      ],
      "execution_count": 22,
      "outputs": [
        {
          "output_type": "execute_result",
          "data": {
            "text/plain": [
              "count         5,391.00\n",
              "mean     31,113,737.58\n",
              "std      40,523,796.88\n",
              "min           1,100.00\n",
              "25%       5,000,000.00\n",
              "50%      17,000,000.00\n",
              "75%      40,000,000.00\n",
              "max     425,000,000.00\n",
              "Name: USD_Production_Budget, dtype: float64"
            ]
          },
          "metadata": {
            "tags": []
          },
          "execution_count": 22
        }
      ]
    },
    {
      "cell_type": "code",
      "metadata": {
        "id": "8G5_FATFTTtb",
        "colab": {
          "base_uri": "https://localhost:8080/"
        },
        "outputId": "d4b534ed-0aef-4415-efbc-5d908379bc6e"
      },
      "source": [
        "data.USD_Production_Budget.mean()"
      ],
      "execution_count": 23,
      "outputs": [
        {
          "output_type": "execute_result",
          "data": {
            "text/plain": [
              "31113737.57837136"
            ]
          },
          "metadata": {
            "tags": []
          },
          "execution_count": 23
        }
      ]
    },
    {
      "cell_type": "code",
      "metadata": {
        "colab": {
          "base_uri": "https://localhost:8080/"
        },
        "id": "ds85hoYNtRk-",
        "outputId": "1c378498-85ea-4cbb-945d-9f3294353d5f"
      },
      "source": [
        "data.USD_Worldwide_Gross.describe()"
      ],
      "execution_count": 24,
      "outputs": [
        {
          "output_type": "execute_result",
          "data": {
            "text/plain": [
              "count           5,391.00\n",
              "mean       88,855,421.96\n",
              "std       168,457,757.00\n",
              "min                 0.00\n",
              "25%         3,865,206.00\n",
              "50%        27,450,453.00\n",
              "75%        96,454,455.00\n",
              "max     2,783,918,982.00\n",
              "Name: USD_Worldwide_Gross, dtype: float64"
            ]
          },
          "metadata": {
            "tags": []
          },
          "execution_count": 24
        }
      ]
    },
    {
      "cell_type": "code",
      "metadata": {
        "colab": {
          "base_uri": "https://localhost:8080/"
        },
        "id": "EDv6OgLitG4h",
        "outputId": "1af384de-84bd-4244-b876-3e9aee3b3a81"
      },
      "source": [
        "data.USD_Worldwide_Gross.mean()"
      ],
      "execution_count": 25,
      "outputs": [
        {
          "output_type": "execute_result",
          "data": {
            "text/plain": [
              "88855421.96271564"
            ]
          },
          "metadata": {
            "tags": []
          },
          "execution_count": 25
        }
      ]
    },
    {
      "cell_type": "code",
      "metadata": {
        "colab": {
          "base_uri": "https://localhost:8080/"
        },
        "id": "7RZJhCahthd_",
        "outputId": "36d2b508-5016-4817-abbe-46b78e5ae776"
      },
      "source": [
        "data.USD_Worldwide_Gross.min()"
      ],
      "execution_count": 26,
      "outputs": [
        {
          "output_type": "execute_result",
          "data": {
            "text/plain": [
              "0"
            ]
          },
          "metadata": {
            "tags": []
          },
          "execution_count": 26
        }
      ]
    },
    {
      "cell_type": "code",
      "metadata": {
        "colab": {
          "base_uri": "https://localhost:8080/"
        },
        "id": "7XGgeL4StoQq",
        "outputId": "d3e58845-f201-4503-b84f-73fd187d7d35"
      },
      "source": [
        "data.USD_Domestic_Gross.min()"
      ],
      "execution_count": 27,
      "outputs": [
        {
          "output_type": "execute_result",
          "data": {
            "text/plain": [
              "0"
            ]
          },
          "metadata": {
            "tags": []
          },
          "execution_count": 27
        }
      ]
    },
    {
      "cell_type": "code",
      "metadata": {
        "colab": {
          "base_uri": "https://localhost:8080/",
          "height": 300
        },
        "id": "xdfAkSifuFQq",
        "outputId": "e434371a-a3f9-4d6e-b99e-81ac67b73856"
      },
      "source": [
        "data.describe()"
      ],
      "execution_count": 28,
      "outputs": [
        {
          "output_type": "execute_result",
          "data": {
            "text/html": [
              "<div>\n",
              "<style scoped>\n",
              "    .dataframe tbody tr th:only-of-type {\n",
              "        vertical-align: middle;\n",
              "    }\n",
              "\n",
              "    .dataframe tbody tr th {\n",
              "        vertical-align: top;\n",
              "    }\n",
              "\n",
              "    .dataframe thead th {\n",
              "        text-align: right;\n",
              "    }\n",
              "</style>\n",
              "<table border=\"1\" class=\"dataframe\">\n",
              "  <thead>\n",
              "    <tr style=\"text-align: right;\">\n",
              "      <th></th>\n",
              "      <th>Rank</th>\n",
              "      <th>USD_Production_Budget</th>\n",
              "      <th>USD_Worldwide_Gross</th>\n",
              "      <th>USD_Domestic_Gross</th>\n",
              "    </tr>\n",
              "  </thead>\n",
              "  <tbody>\n",
              "    <tr>\n",
              "      <th>count</th>\n",
              "      <td>5,391.00</td>\n",
              "      <td>5,391.00</td>\n",
              "      <td>5,391.00</td>\n",
              "      <td>5,391.00</td>\n",
              "    </tr>\n",
              "    <tr>\n",
              "      <th>mean</th>\n",
              "      <td>2,696.00</td>\n",
              "      <td>31,113,737.58</td>\n",
              "      <td>88,855,421.96</td>\n",
              "      <td>41,235,519.44</td>\n",
              "    </tr>\n",
              "    <tr>\n",
              "      <th>std</th>\n",
              "      <td>1,556.39</td>\n",
              "      <td>40,523,796.88</td>\n",
              "      <td>168,457,757.00</td>\n",
              "      <td>66,029,346.27</td>\n",
              "    </tr>\n",
              "    <tr>\n",
              "      <th>min</th>\n",
              "      <td>1.00</td>\n",
              "      <td>1,100.00</td>\n",
              "      <td>0.00</td>\n",
              "      <td>0.00</td>\n",
              "    </tr>\n",
              "    <tr>\n",
              "      <th>25%</th>\n",
              "      <td>1,348.50</td>\n",
              "      <td>5,000,000.00</td>\n",
              "      <td>3,865,206.00</td>\n",
              "      <td>1,330,901.50</td>\n",
              "    </tr>\n",
              "    <tr>\n",
              "      <th>50%</th>\n",
              "      <td>2,696.00</td>\n",
              "      <td>17,000,000.00</td>\n",
              "      <td>27,450,453.00</td>\n",
              "      <td>17,192,205.00</td>\n",
              "    </tr>\n",
              "    <tr>\n",
              "      <th>75%</th>\n",
              "      <td>4,043.50</td>\n",
              "      <td>40,000,000.00</td>\n",
              "      <td>96,454,455.00</td>\n",
              "      <td>52,343,687.00</td>\n",
              "    </tr>\n",
              "    <tr>\n",
              "      <th>max</th>\n",
              "      <td>5,391.00</td>\n",
              "      <td>425,000,000.00</td>\n",
              "      <td>2,783,918,982.00</td>\n",
              "      <td>936,662,225.00</td>\n",
              "    </tr>\n",
              "  </tbody>\n",
              "</table>\n",
              "</div>"
            ],
            "text/plain": [
              "          Rank  USD_Production_Budget  USD_Worldwide_Gross  USD_Domestic_Gross\n",
              "count 5,391.00               5,391.00             5,391.00            5,391.00\n",
              "mean  2,696.00          31,113,737.58        88,855,421.96       41,235,519.44\n",
              "std   1,556.39          40,523,796.88       168,457,757.00       66,029,346.27\n",
              "min       1.00               1,100.00                 0.00                0.00\n",
              "25%   1,348.50           5,000,000.00         3,865,206.00        1,330,901.50\n",
              "50%   2,696.00          17,000,000.00        27,450,453.00       17,192,205.00\n",
              "75%   4,043.50          40,000,000.00        96,454,455.00       52,343,687.00\n",
              "max   5,391.00         425,000,000.00     2,783,918,982.00      936,662,225.00"
            ]
          },
          "metadata": {
            "tags": []
          },
          "execution_count": 28
        }
      ]
    },
    {
      "cell_type": "code",
      "metadata": {
        "colab": {
          "base_uri": "https://localhost:8080/",
          "height": 81
        },
        "id": "oIafH3hav-fa",
        "outputId": "89e412d1-66b2-434e-848e-21b3dd4ea444"
      },
      "source": [
        "data[data.USD_Production_Budget == 1100.00]"
      ],
      "execution_count": 29,
      "outputs": [
        {
          "output_type": "execute_result",
          "data": {
            "text/html": [
              "<div>\n",
              "<style scoped>\n",
              "    .dataframe tbody tr th:only-of-type {\n",
              "        vertical-align: middle;\n",
              "    }\n",
              "\n",
              "    .dataframe tbody tr th {\n",
              "        vertical-align: top;\n",
              "    }\n",
              "\n",
              "    .dataframe thead th {\n",
              "        text-align: right;\n",
              "    }\n",
              "</style>\n",
              "<table border=\"1\" class=\"dataframe\">\n",
              "  <thead>\n",
              "    <tr style=\"text-align: right;\">\n",
              "      <th></th>\n",
              "      <th>Rank</th>\n",
              "      <th>Release_Date</th>\n",
              "      <th>Movie_Title</th>\n",
              "      <th>USD_Production_Budget</th>\n",
              "      <th>USD_Worldwide_Gross</th>\n",
              "      <th>USD_Domestic_Gross</th>\n",
              "    </tr>\n",
              "  </thead>\n",
              "  <tbody>\n",
              "    <tr>\n",
              "      <th>2427</th>\n",
              "      <td>5391</td>\n",
              "      <td>2005-05-08</td>\n",
              "      <td>My Date With Drew</td>\n",
              "      <td>1100</td>\n",
              "      <td>181041</td>\n",
              "      <td>181041</td>\n",
              "    </tr>\n",
              "  </tbody>\n",
              "</table>\n",
              "</div>"
            ],
            "text/plain": [
              "      Rank Release_Date  ... USD_Worldwide_Gross  USD_Domestic_Gross\n",
              "2427  5391   2005-05-08  ...              181041              181041\n",
              "\n",
              "[1 rows x 6 columns]"
            ]
          },
          "metadata": {
            "tags": []
          },
          "execution_count": 29
        }
      ]
    },
    {
      "cell_type": "code",
      "metadata": {
        "colab": {
          "base_uri": "https://localhost:8080/",
          "height": 81
        },
        "id": "wqXjH1BSu0LM",
        "outputId": "5d022516-0734-4075-cc0f-abd29eef623a"
      },
      "source": [
        "data[data.USD_Production_Budget == 425000000.00]"
      ],
      "execution_count": 30,
      "outputs": [
        {
          "output_type": "execute_result",
          "data": {
            "text/html": [
              "<div>\n",
              "<style scoped>\n",
              "    .dataframe tbody tr th:only-of-type {\n",
              "        vertical-align: middle;\n",
              "    }\n",
              "\n",
              "    .dataframe tbody tr th {\n",
              "        vertical-align: top;\n",
              "    }\n",
              "\n",
              "    .dataframe thead th {\n",
              "        text-align: right;\n",
              "    }\n",
              "</style>\n",
              "<table border=\"1\" class=\"dataframe\">\n",
              "  <thead>\n",
              "    <tr style=\"text-align: right;\">\n",
              "      <th></th>\n",
              "      <th>Rank</th>\n",
              "      <th>Release_Date</th>\n",
              "      <th>Movie_Title</th>\n",
              "      <th>USD_Production_Budget</th>\n",
              "      <th>USD_Worldwide_Gross</th>\n",
              "      <th>USD_Domestic_Gross</th>\n",
              "    </tr>\n",
              "  </thead>\n",
              "  <tbody>\n",
              "    <tr>\n",
              "      <th>3529</th>\n",
              "      <td>1</td>\n",
              "      <td>2009-12-18</td>\n",
              "      <td>Avatar</td>\n",
              "      <td>425000000</td>\n",
              "      <td>2783918982</td>\n",
              "      <td>760507625</td>\n",
              "    </tr>\n",
              "  </tbody>\n",
              "</table>\n",
              "</div>"
            ],
            "text/plain": [
              "      Rank Release_Date  ... USD_Worldwide_Gross  USD_Domestic_Gross\n",
              "3529     1   2009-12-18  ...          2783918982           760507625\n",
              "\n",
              "[1 rows x 6 columns]"
            ]
          },
          "metadata": {
            "tags": []
          },
          "execution_count": 30
        }
      ]
    },
    {
      "cell_type": "markdown",
      "metadata": {
        "id": "Cj-ug32JyEhp"
      },
      "source": [
        "# Investigating the Zero Revenue Films"
      ]
    },
    {
      "cell_type": "markdown",
      "metadata": {
        "id": "U9hm-pb4xTjY"
      },
      "source": [
        "**Challenge** How many films grossed $0 domestically (i.e., in the United States)? What were the highest budget films that grossed nothing?"
      ]
    },
    {
      "cell_type": "code",
      "metadata": {
        "id": "MXuRYdy0TWkt",
        "colab": {
          "base_uri": "https://localhost:8080/",
          "height": 300
        },
        "outputId": "732f9736-e773-49d3-86c2-de1b6112499f"
      },
      "source": [
        "data.describe()"
      ],
      "execution_count": 31,
      "outputs": [
        {
          "output_type": "execute_result",
          "data": {
            "text/html": [
              "<div>\n",
              "<style scoped>\n",
              "    .dataframe tbody tr th:only-of-type {\n",
              "        vertical-align: middle;\n",
              "    }\n",
              "\n",
              "    .dataframe tbody tr th {\n",
              "        vertical-align: top;\n",
              "    }\n",
              "\n",
              "    .dataframe thead th {\n",
              "        text-align: right;\n",
              "    }\n",
              "</style>\n",
              "<table border=\"1\" class=\"dataframe\">\n",
              "  <thead>\n",
              "    <tr style=\"text-align: right;\">\n",
              "      <th></th>\n",
              "      <th>Rank</th>\n",
              "      <th>USD_Production_Budget</th>\n",
              "      <th>USD_Worldwide_Gross</th>\n",
              "      <th>USD_Domestic_Gross</th>\n",
              "    </tr>\n",
              "  </thead>\n",
              "  <tbody>\n",
              "    <tr>\n",
              "      <th>count</th>\n",
              "      <td>5,391.00</td>\n",
              "      <td>5,391.00</td>\n",
              "      <td>5,391.00</td>\n",
              "      <td>5,391.00</td>\n",
              "    </tr>\n",
              "    <tr>\n",
              "      <th>mean</th>\n",
              "      <td>2,696.00</td>\n",
              "      <td>31,113,737.58</td>\n",
              "      <td>88,855,421.96</td>\n",
              "      <td>41,235,519.44</td>\n",
              "    </tr>\n",
              "    <tr>\n",
              "      <th>std</th>\n",
              "      <td>1,556.39</td>\n",
              "      <td>40,523,796.88</td>\n",
              "      <td>168,457,757.00</td>\n",
              "      <td>66,029,346.27</td>\n",
              "    </tr>\n",
              "    <tr>\n",
              "      <th>min</th>\n",
              "      <td>1.00</td>\n",
              "      <td>1,100.00</td>\n",
              "      <td>0.00</td>\n",
              "      <td>0.00</td>\n",
              "    </tr>\n",
              "    <tr>\n",
              "      <th>25%</th>\n",
              "      <td>1,348.50</td>\n",
              "      <td>5,000,000.00</td>\n",
              "      <td>3,865,206.00</td>\n",
              "      <td>1,330,901.50</td>\n",
              "    </tr>\n",
              "    <tr>\n",
              "      <th>50%</th>\n",
              "      <td>2,696.00</td>\n",
              "      <td>17,000,000.00</td>\n",
              "      <td>27,450,453.00</td>\n",
              "      <td>17,192,205.00</td>\n",
              "    </tr>\n",
              "    <tr>\n",
              "      <th>75%</th>\n",
              "      <td>4,043.50</td>\n",
              "      <td>40,000,000.00</td>\n",
              "      <td>96,454,455.00</td>\n",
              "      <td>52,343,687.00</td>\n",
              "    </tr>\n",
              "    <tr>\n",
              "      <th>max</th>\n",
              "      <td>5,391.00</td>\n",
              "      <td>425,000,000.00</td>\n",
              "      <td>2,783,918,982.00</td>\n",
              "      <td>936,662,225.00</td>\n",
              "    </tr>\n",
              "  </tbody>\n",
              "</table>\n",
              "</div>"
            ],
            "text/plain": [
              "          Rank  USD_Production_Budget  USD_Worldwide_Gross  USD_Domestic_Gross\n",
              "count 5,391.00               5,391.00             5,391.00            5,391.00\n",
              "mean  2,696.00          31,113,737.58        88,855,421.96       41,235,519.44\n",
              "std   1,556.39          40,523,796.88       168,457,757.00       66,029,346.27\n",
              "min       1.00               1,100.00                 0.00                0.00\n",
              "25%   1,348.50           5,000,000.00         3,865,206.00        1,330,901.50\n",
              "50%   2,696.00          17,000,000.00        27,450,453.00       17,192,205.00\n",
              "75%   4,043.50          40,000,000.00        96,454,455.00       52,343,687.00\n",
              "max   5,391.00         425,000,000.00     2,783,918,982.00      936,662,225.00"
            ]
          },
          "metadata": {
            "tags": []
          },
          "execution_count": 31
        }
      ]
    },
    {
      "cell_type": "code",
      "metadata": {
        "id": "-_AecwmsxbFp"
      },
      "source": [
        "zero_domestic = data[data.USD_Domestic_Gross == 0]"
      ],
      "execution_count": 32,
      "outputs": []
    },
    {
      "cell_type": "code",
      "metadata": {
        "colab": {
          "base_uri": "https://localhost:8080/"
        },
        "id": "_Xbx96D1xzal",
        "outputId": "43c20927-de08-4349-ddb1-d4a80584fd1e"
      },
      "source": [
        "zero_domestic.shape"
      ],
      "execution_count": 33,
      "outputs": [
        {
          "output_type": "execute_result",
          "data": {
            "text/plain": [
              "(512, 6)"
            ]
          },
          "metadata": {
            "tags": []
          },
          "execution_count": 33
        }
      ]
    },
    {
      "cell_type": "code",
      "metadata": {
        "colab": {
          "base_uri": "https://localhost:8080/"
        },
        "id": "Hyp4PNzuypev",
        "outputId": "3a5df78d-1b6b-4a60-95a0-0db74df92b2b"
      },
      "source": [
        "zero_domestic.shape[0]"
      ],
      "execution_count": 34,
      "outputs": [
        {
          "output_type": "execute_result",
          "data": {
            "text/plain": [
              "512"
            ]
          },
          "metadata": {
            "tags": []
          },
          "execution_count": 34
        }
      ]
    },
    {
      "cell_type": "code",
      "metadata": {
        "colab": {
          "base_uri": "https://localhost:8080/"
        },
        "id": "8b5uNwttyAG4",
        "outputId": "d473e0bd-62a4-4a58-fc05-b883738126d7"
      },
      "source": [
        "len(zero_domestic)"
      ],
      "execution_count": 35,
      "outputs": [
        {
          "output_type": "execute_result",
          "data": {
            "text/plain": [
              "512"
            ]
          },
          "metadata": {
            "tags": []
          },
          "execution_count": 35
        }
      ]
    },
    {
      "cell_type": "code",
      "metadata": {
        "colab": {
          "base_uri": "https://localhost:8080/",
          "height": 424
        },
        "id": "W-bt8cTuxzgJ",
        "outputId": "db97809c-4d75-4b36-9068-cd9f07b06136"
      },
      "source": [
        "zero_domestic.sort_values('USD_Production_Budget', ascending=False)"
      ],
      "execution_count": 36,
      "outputs": [
        {
          "output_type": "execute_result",
          "data": {
            "text/html": [
              "<div>\n",
              "<style scoped>\n",
              "    .dataframe tbody tr th:only-of-type {\n",
              "        vertical-align: middle;\n",
              "    }\n",
              "\n",
              "    .dataframe tbody tr th {\n",
              "        vertical-align: top;\n",
              "    }\n",
              "\n",
              "    .dataframe thead th {\n",
              "        text-align: right;\n",
              "    }\n",
              "</style>\n",
              "<table border=\"1\" class=\"dataframe\">\n",
              "  <thead>\n",
              "    <tr style=\"text-align: right;\">\n",
              "      <th></th>\n",
              "      <th>Rank</th>\n",
              "      <th>Release_Date</th>\n",
              "      <th>Movie_Title</th>\n",
              "      <th>USD_Production_Budget</th>\n",
              "      <th>USD_Worldwide_Gross</th>\n",
              "      <th>USD_Domestic_Gross</th>\n",
              "    </tr>\n",
              "  </thead>\n",
              "  <tbody>\n",
              "    <tr>\n",
              "      <th>5388</th>\n",
              "      <td>96</td>\n",
              "      <td>2020-12-31</td>\n",
              "      <td>Singularity</td>\n",
              "      <td>175000000</td>\n",
              "      <td>0</td>\n",
              "      <td>0</td>\n",
              "    </tr>\n",
              "    <tr>\n",
              "      <th>5387</th>\n",
              "      <td>126</td>\n",
              "      <td>2018-12-18</td>\n",
              "      <td>Aquaman</td>\n",
              "      <td>160000000</td>\n",
              "      <td>0</td>\n",
              "      <td>0</td>\n",
              "    </tr>\n",
              "    <tr>\n",
              "      <th>5384</th>\n",
              "      <td>321</td>\n",
              "      <td>2018-09-03</td>\n",
              "      <td>A Wrinkle in Time</td>\n",
              "      <td>103000000</td>\n",
              "      <td>0</td>\n",
              "      <td>0</td>\n",
              "    </tr>\n",
              "    <tr>\n",
              "      <th>5385</th>\n",
              "      <td>366</td>\n",
              "      <td>2018-10-08</td>\n",
              "      <td>Amusement Park</td>\n",
              "      <td>100000000</td>\n",
              "      <td>0</td>\n",
              "      <td>0</td>\n",
              "    </tr>\n",
              "    <tr>\n",
              "      <th>5090</th>\n",
              "      <td>556</td>\n",
              "      <td>2015-12-31</td>\n",
              "      <td>Don Gato, el inicio de la pandilla</td>\n",
              "      <td>80000000</td>\n",
              "      <td>4547660</td>\n",
              "      <td>0</td>\n",
              "    </tr>\n",
              "    <tr>\n",
              "      <th>...</th>\n",
              "      <td>...</td>\n",
              "      <td>...</td>\n",
              "      <td>...</td>\n",
              "      <td>...</td>\n",
              "      <td>...</td>\n",
              "      <td>...</td>\n",
              "    </tr>\n",
              "    <tr>\n",
              "      <th>4787</th>\n",
              "      <td>5371</td>\n",
              "      <td>2014-12-31</td>\n",
              "      <td>Stories of Our Lives</td>\n",
              "      <td>15000</td>\n",
              "      <td>0</td>\n",
              "      <td>0</td>\n",
              "    </tr>\n",
              "    <tr>\n",
              "      <th>3056</th>\n",
              "      <td>5374</td>\n",
              "      <td>2007-12-31</td>\n",
              "      <td>Tin Can Man</td>\n",
              "      <td>12000</td>\n",
              "      <td>0</td>\n",
              "      <td>0</td>\n",
              "    </tr>\n",
              "    <tr>\n",
              "      <th>4907</th>\n",
              "      <td>5381</td>\n",
              "      <td>2015-05-19</td>\n",
              "      <td>Family Motocross</td>\n",
              "      <td>10000</td>\n",
              "      <td>0</td>\n",
              "      <td>0</td>\n",
              "    </tr>\n",
              "    <tr>\n",
              "      <th>5006</th>\n",
              "      <td>5389</td>\n",
              "      <td>2015-09-29</td>\n",
              "      <td>Signed Sealed Delivered</td>\n",
              "      <td>5000</td>\n",
              "      <td>0</td>\n",
              "      <td>0</td>\n",
              "    </tr>\n",
              "    <tr>\n",
              "      <th>5007</th>\n",
              "      <td>5390</td>\n",
              "      <td>2015-09-29</td>\n",
              "      <td>A Plague So Pleasant</td>\n",
              "      <td>1400</td>\n",
              "      <td>0</td>\n",
              "      <td>0</td>\n",
              "    </tr>\n",
              "  </tbody>\n",
              "</table>\n",
              "<p>512 rows × 6 columns</p>\n",
              "</div>"
            ],
            "text/plain": [
              "      Rank Release_Date  ... USD_Worldwide_Gross  USD_Domestic_Gross\n",
              "5388    96   2020-12-31  ...                   0                   0\n",
              "5387   126   2018-12-18  ...                   0                   0\n",
              "5384   321   2018-09-03  ...                   0                   0\n",
              "5385   366   2018-10-08  ...                   0                   0\n",
              "5090   556   2015-12-31  ...             4547660                   0\n",
              "...    ...          ...  ...                 ...                 ...\n",
              "4787  5371   2014-12-31  ...                   0                   0\n",
              "3056  5374   2007-12-31  ...                   0                   0\n",
              "4907  5381   2015-05-19  ...                   0                   0\n",
              "5006  5389   2015-09-29  ...                   0                   0\n",
              "5007  5390   2015-09-29  ...                   0                   0\n",
              "\n",
              "[512 rows x 6 columns]"
            ]
          },
          "metadata": {
            "tags": []
          },
          "execution_count": 36
        }
      ]
    },
    {
      "cell_type": "markdown",
      "metadata": {
        "id": "mY8SAwI0x73b"
      },
      "source": [
        "**Challenge**: How many films grossed $0 worldwide? What are the highest budget films that had no revenue internationally?"
      ]
    },
    {
      "cell_type": "code",
      "metadata": {
        "id": "VpfocexxTXym"
      },
      "source": [
        "zero_worldwide = data[data.USD_Worldwide_Gross == 0]"
      ],
      "execution_count": 37,
      "outputs": []
    },
    {
      "cell_type": "code",
      "metadata": {
        "colab": {
          "base_uri": "https://localhost:8080/",
          "height": 206
        },
        "id": "ILw5N9Koy73z",
        "outputId": "7aadedc5-550e-4b27-9455-165e4e552d46"
      },
      "source": [
        "zero_worldwide.head()"
      ],
      "execution_count": 38,
      "outputs": [
        {
          "output_type": "execute_result",
          "data": {
            "text/html": [
              "<div>\n",
              "<style scoped>\n",
              "    .dataframe tbody tr th:only-of-type {\n",
              "        vertical-align: middle;\n",
              "    }\n",
              "\n",
              "    .dataframe tbody tr th {\n",
              "        vertical-align: top;\n",
              "    }\n",
              "\n",
              "    .dataframe thead th {\n",
              "        text-align: right;\n",
              "    }\n",
              "</style>\n",
              "<table border=\"1\" class=\"dataframe\">\n",
              "  <thead>\n",
              "    <tr style=\"text-align: right;\">\n",
              "      <th></th>\n",
              "      <th>Rank</th>\n",
              "      <th>Release_Date</th>\n",
              "      <th>Movie_Title</th>\n",
              "      <th>USD_Production_Budget</th>\n",
              "      <th>USD_Worldwide_Gross</th>\n",
              "      <th>USD_Domestic_Gross</th>\n",
              "    </tr>\n",
              "  </thead>\n",
              "  <tbody>\n",
              "    <tr>\n",
              "      <th>1</th>\n",
              "      <td>5140</td>\n",
              "      <td>1916-05-09</td>\n",
              "      <td>Intolerance</td>\n",
              "      <td>385907</td>\n",
              "      <td>0</td>\n",
              "      <td>0</td>\n",
              "    </tr>\n",
              "    <tr>\n",
              "      <th>6</th>\n",
              "      <td>4630</td>\n",
              "      <td>1927-12-08</td>\n",
              "      <td>Wings</td>\n",
              "      <td>2000000</td>\n",
              "      <td>0</td>\n",
              "      <td>0</td>\n",
              "    </tr>\n",
              "    <tr>\n",
              "      <th>8</th>\n",
              "      <td>4240</td>\n",
              "      <td>1930-01-01</td>\n",
              "      <td>Hell's Angels</td>\n",
              "      <td>4000000</td>\n",
              "      <td>0</td>\n",
              "      <td>0</td>\n",
              "    </tr>\n",
              "    <tr>\n",
              "      <th>17</th>\n",
              "      <td>4814</td>\n",
              "      <td>1936-10-20</td>\n",
              "      <td>Charge of the Light Brigade, The</td>\n",
              "      <td>1200000</td>\n",
              "      <td>0</td>\n",
              "      <td>0</td>\n",
              "    </tr>\n",
              "    <tr>\n",
              "      <th>27</th>\n",
              "      <td>4789</td>\n",
              "      <td>1941-10-28</td>\n",
              "      <td>How Green Was My Valley</td>\n",
              "      <td>1250000</td>\n",
              "      <td>0</td>\n",
              "      <td>0</td>\n",
              "    </tr>\n",
              "  </tbody>\n",
              "</table>\n",
              "</div>"
            ],
            "text/plain": [
              "    Rank Release_Date  ... USD_Worldwide_Gross  USD_Domestic_Gross\n",
              "1   5140   1916-05-09  ...                   0                   0\n",
              "6   4630   1927-12-08  ...                   0                   0\n",
              "8   4240   1930-01-01  ...                   0                   0\n",
              "17  4814   1936-10-20  ...                   0                   0\n",
              "27  4789   1941-10-28  ...                   0                   0\n",
              "\n",
              "[5 rows x 6 columns]"
            ]
          },
          "metadata": {
            "tags": []
          },
          "execution_count": 38
        }
      ]
    },
    {
      "cell_type": "code",
      "metadata": {
        "colab": {
          "base_uri": "https://localhost:8080/"
        },
        "id": "XpTRf4e2y6lh",
        "outputId": "43816d56-74f4-4b00-f0d7-7226ea42bfb0"
      },
      "source": [
        "zero_worldwide.shape[0]"
      ],
      "execution_count": 39,
      "outputs": [
        {
          "output_type": "execute_result",
          "data": {
            "text/plain": [
              "357"
            ]
          },
          "metadata": {
            "tags": []
          },
          "execution_count": 39
        }
      ]
    },
    {
      "cell_type": "code",
      "metadata": {
        "colab": {
          "base_uri": "https://localhost:8080/",
          "height": 424
        },
        "id": "vIcqwbXwy6o_",
        "outputId": "0d2b60b9-ee65-499f-ea5c-17f4f3881a52"
      },
      "source": [
        "zero_worldwide.sort_values('USD_Production_Budget', ascending=False)"
      ],
      "execution_count": 40,
      "outputs": [
        {
          "output_type": "execute_result",
          "data": {
            "text/html": [
              "<div>\n",
              "<style scoped>\n",
              "    .dataframe tbody tr th:only-of-type {\n",
              "        vertical-align: middle;\n",
              "    }\n",
              "\n",
              "    .dataframe tbody tr th {\n",
              "        vertical-align: top;\n",
              "    }\n",
              "\n",
              "    .dataframe thead th {\n",
              "        text-align: right;\n",
              "    }\n",
              "</style>\n",
              "<table border=\"1\" class=\"dataframe\">\n",
              "  <thead>\n",
              "    <tr style=\"text-align: right;\">\n",
              "      <th></th>\n",
              "      <th>Rank</th>\n",
              "      <th>Release_Date</th>\n",
              "      <th>Movie_Title</th>\n",
              "      <th>USD_Production_Budget</th>\n",
              "      <th>USD_Worldwide_Gross</th>\n",
              "      <th>USD_Domestic_Gross</th>\n",
              "    </tr>\n",
              "  </thead>\n",
              "  <tbody>\n",
              "    <tr>\n",
              "      <th>5388</th>\n",
              "      <td>96</td>\n",
              "      <td>2020-12-31</td>\n",
              "      <td>Singularity</td>\n",
              "      <td>175000000</td>\n",
              "      <td>0</td>\n",
              "      <td>0</td>\n",
              "    </tr>\n",
              "    <tr>\n",
              "      <th>5387</th>\n",
              "      <td>126</td>\n",
              "      <td>2018-12-18</td>\n",
              "      <td>Aquaman</td>\n",
              "      <td>160000000</td>\n",
              "      <td>0</td>\n",
              "      <td>0</td>\n",
              "    </tr>\n",
              "    <tr>\n",
              "      <th>5384</th>\n",
              "      <td>321</td>\n",
              "      <td>2018-09-03</td>\n",
              "      <td>A Wrinkle in Time</td>\n",
              "      <td>103000000</td>\n",
              "      <td>0</td>\n",
              "      <td>0</td>\n",
              "    </tr>\n",
              "    <tr>\n",
              "      <th>5385</th>\n",
              "      <td>366</td>\n",
              "      <td>2018-10-08</td>\n",
              "      <td>Amusement Park</td>\n",
              "      <td>100000000</td>\n",
              "      <td>0</td>\n",
              "      <td>0</td>\n",
              "    </tr>\n",
              "    <tr>\n",
              "      <th>5058</th>\n",
              "      <td>880</td>\n",
              "      <td>2015-11-12</td>\n",
              "      <td>The Ridiculous 6</td>\n",
              "      <td>60000000</td>\n",
              "      <td>0</td>\n",
              "      <td>0</td>\n",
              "    </tr>\n",
              "    <tr>\n",
              "      <th>...</th>\n",
              "      <td>...</td>\n",
              "      <td>...</td>\n",
              "      <td>...</td>\n",
              "      <td>...</td>\n",
              "      <td>...</td>\n",
              "      <td>...</td>\n",
              "    </tr>\n",
              "    <tr>\n",
              "      <th>4787</th>\n",
              "      <td>5371</td>\n",
              "      <td>2014-12-31</td>\n",
              "      <td>Stories of Our Lives</td>\n",
              "      <td>15000</td>\n",
              "      <td>0</td>\n",
              "      <td>0</td>\n",
              "    </tr>\n",
              "    <tr>\n",
              "      <th>3056</th>\n",
              "      <td>5374</td>\n",
              "      <td>2007-12-31</td>\n",
              "      <td>Tin Can Man</td>\n",
              "      <td>12000</td>\n",
              "      <td>0</td>\n",
              "      <td>0</td>\n",
              "    </tr>\n",
              "    <tr>\n",
              "      <th>4907</th>\n",
              "      <td>5381</td>\n",
              "      <td>2015-05-19</td>\n",
              "      <td>Family Motocross</td>\n",
              "      <td>10000</td>\n",
              "      <td>0</td>\n",
              "      <td>0</td>\n",
              "    </tr>\n",
              "    <tr>\n",
              "      <th>5006</th>\n",
              "      <td>5389</td>\n",
              "      <td>2015-09-29</td>\n",
              "      <td>Signed Sealed Delivered</td>\n",
              "      <td>5000</td>\n",
              "      <td>0</td>\n",
              "      <td>0</td>\n",
              "    </tr>\n",
              "    <tr>\n",
              "      <th>5007</th>\n",
              "      <td>5390</td>\n",
              "      <td>2015-09-29</td>\n",
              "      <td>A Plague So Pleasant</td>\n",
              "      <td>1400</td>\n",
              "      <td>0</td>\n",
              "      <td>0</td>\n",
              "    </tr>\n",
              "  </tbody>\n",
              "</table>\n",
              "<p>357 rows × 6 columns</p>\n",
              "</div>"
            ],
            "text/plain": [
              "      Rank Release_Date  ... USD_Worldwide_Gross  USD_Domestic_Gross\n",
              "5388    96   2020-12-31  ...                   0                   0\n",
              "5387   126   2018-12-18  ...                   0                   0\n",
              "5384   321   2018-09-03  ...                   0                   0\n",
              "5385   366   2018-10-08  ...                   0                   0\n",
              "5058   880   2015-11-12  ...                   0                   0\n",
              "...    ...          ...  ...                 ...                 ...\n",
              "4787  5371   2014-12-31  ...                   0                   0\n",
              "3056  5374   2007-12-31  ...                   0                   0\n",
              "4907  5381   2015-05-19  ...                   0                   0\n",
              "5006  5389   2015-09-29  ...                   0                   0\n",
              "5007  5390   2015-09-29  ...                   0                   0\n",
              "\n",
              "[357 rows x 6 columns]"
            ]
          },
          "metadata": {
            "tags": []
          },
          "execution_count": 40
        }
      ]
    },
    {
      "cell_type": "code",
      "metadata": {
        "colab": {
          "base_uri": "https://localhost:8080/",
          "height": 300
        },
        "id": "RV0wItKPz-es",
        "outputId": "f567a1e2-f6f6-40d1-f5de-4f62ff17cdfd"
      },
      "source": [
        "zero_worldwide.describe()"
      ],
      "execution_count": 41,
      "outputs": [
        {
          "output_type": "execute_result",
          "data": {
            "text/html": [
              "<div>\n",
              "<style scoped>\n",
              "    .dataframe tbody tr th:only-of-type {\n",
              "        vertical-align: middle;\n",
              "    }\n",
              "\n",
              "    .dataframe tbody tr th {\n",
              "        vertical-align: top;\n",
              "    }\n",
              "\n",
              "    .dataframe thead th {\n",
              "        text-align: right;\n",
              "    }\n",
              "</style>\n",
              "<table border=\"1\" class=\"dataframe\">\n",
              "  <thead>\n",
              "    <tr style=\"text-align: right;\">\n",
              "      <th></th>\n",
              "      <th>Rank</th>\n",
              "      <th>USD_Production_Budget</th>\n",
              "      <th>USD_Worldwide_Gross</th>\n",
              "      <th>USD_Domestic_Gross</th>\n",
              "    </tr>\n",
              "  </thead>\n",
              "  <tbody>\n",
              "    <tr>\n",
              "      <th>count</th>\n",
              "      <td>357.00</td>\n",
              "      <td>357.00</td>\n",
              "      <td>357.00</td>\n",
              "      <td>357.00</td>\n",
              "    </tr>\n",
              "    <tr>\n",
              "      <th>mean</th>\n",
              "      <td>4,444.68</td>\n",
              "      <td>5,815,404.99</td>\n",
              "      <td>0.00</td>\n",
              "      <td>0.00</td>\n",
              "    </tr>\n",
              "    <tr>\n",
              "      <th>std</th>\n",
              "      <td>995.70</td>\n",
              "      <td>16,262,169.21</td>\n",
              "      <td>0.00</td>\n",
              "      <td>0.00</td>\n",
              "    </tr>\n",
              "    <tr>\n",
              "      <th>min</th>\n",
              "      <td>96.00</td>\n",
              "      <td>1,400.00</td>\n",
              "      <td>0.00</td>\n",
              "      <td>0.00</td>\n",
              "    </tr>\n",
              "    <tr>\n",
              "      <th>25%</th>\n",
              "      <td>4,148.00</td>\n",
              "      <td>500,000.00</td>\n",
              "      <td>0.00</td>\n",
              "      <td>0.00</td>\n",
              "    </tr>\n",
              "    <tr>\n",
              "      <th>50%</th>\n",
              "      <td>4,751.00</td>\n",
              "      <td>1,500,000.00</td>\n",
              "      <td>0.00</td>\n",
              "      <td>0.00</td>\n",
              "    </tr>\n",
              "    <tr>\n",
              "      <th>75%</th>\n",
              "      <td>5,108.00</td>\n",
              "      <td>4,400,000.00</td>\n",
              "      <td>0.00</td>\n",
              "      <td>0.00</td>\n",
              "    </tr>\n",
              "    <tr>\n",
              "      <th>max</th>\n",
              "      <td>5,390.00</td>\n",
              "      <td>175,000,000.00</td>\n",
              "      <td>0.00</td>\n",
              "      <td>0.00</td>\n",
              "    </tr>\n",
              "  </tbody>\n",
              "</table>\n",
              "</div>"
            ],
            "text/plain": [
              "          Rank  USD_Production_Budget  USD_Worldwide_Gross  USD_Domestic_Gross\n",
              "count   357.00                 357.00               357.00              357.00\n",
              "mean  4,444.68           5,815,404.99                 0.00                0.00\n",
              "std     995.70          16,262,169.21                 0.00                0.00\n",
              "min      96.00               1,400.00                 0.00                0.00\n",
              "25%   4,148.00             500,000.00                 0.00                0.00\n",
              "50%   4,751.00           1,500,000.00                 0.00                0.00\n",
              "75%   5,108.00           4,400,000.00                 0.00                0.00\n",
              "max   5,390.00         175,000,000.00                 0.00                0.00"
            ]
          },
          "metadata": {
            "tags": []
          },
          "execution_count": 41
        }
      ]
    },
    {
      "cell_type": "markdown",
      "metadata": {
        "id": "eXUDzWpeyV2f"
      },
      "source": [
        "### Filtering on Multiple Conditions"
      ]
    },
    {
      "cell_type": "code",
      "metadata": {
        "id": "dLd3eeD9TZZ9",
        "colab": {
          "base_uri": "https://localhost:8080/",
          "height": 206
        },
        "outputId": "95185f53-503c-428e-ca40-5017dd270945"
      },
      "source": [
        "international_release = data.loc[(data.USD_Domestic_Gross == 0) & (data.USD_Worldwide_Gross !=0)]\n",
        "international_release.head()"
      ],
      "execution_count": 42,
      "outputs": [
        {
          "output_type": "execute_result",
          "data": {
            "text/html": [
              "<div>\n",
              "<style scoped>\n",
              "    .dataframe tbody tr th:only-of-type {\n",
              "        vertical-align: middle;\n",
              "    }\n",
              "\n",
              "    .dataframe tbody tr th {\n",
              "        vertical-align: top;\n",
              "    }\n",
              "\n",
              "    .dataframe thead th {\n",
              "        text-align: right;\n",
              "    }\n",
              "</style>\n",
              "<table border=\"1\" class=\"dataframe\">\n",
              "  <thead>\n",
              "    <tr style=\"text-align: right;\">\n",
              "      <th></th>\n",
              "      <th>Rank</th>\n",
              "      <th>Release_Date</th>\n",
              "      <th>Movie_Title</th>\n",
              "      <th>USD_Production_Budget</th>\n",
              "      <th>USD_Worldwide_Gross</th>\n",
              "      <th>USD_Domestic_Gross</th>\n",
              "    </tr>\n",
              "  </thead>\n",
              "  <tbody>\n",
              "    <tr>\n",
              "      <th>71</th>\n",
              "      <td>4310</td>\n",
              "      <td>1956-02-16</td>\n",
              "      <td>Carousel</td>\n",
              "      <td>3380000</td>\n",
              "      <td>3220</td>\n",
              "      <td>0</td>\n",
              "    </tr>\n",
              "    <tr>\n",
              "      <th>1579</th>\n",
              "      <td>5087</td>\n",
              "      <td>2001-02-11</td>\n",
              "      <td>Everything Put Together</td>\n",
              "      <td>500000</td>\n",
              "      <td>7890</td>\n",
              "      <td>0</td>\n",
              "    </tr>\n",
              "    <tr>\n",
              "      <th>1744</th>\n",
              "      <td>3695</td>\n",
              "      <td>2001-12-31</td>\n",
              "      <td>The Hole</td>\n",
              "      <td>7500000</td>\n",
              "      <td>10834406</td>\n",
              "      <td>0</td>\n",
              "    </tr>\n",
              "    <tr>\n",
              "      <th>2155</th>\n",
              "      <td>4236</td>\n",
              "      <td>2003-12-31</td>\n",
              "      <td>Nothing</td>\n",
              "      <td>4000000</td>\n",
              "      <td>63180</td>\n",
              "      <td>0</td>\n",
              "    </tr>\n",
              "    <tr>\n",
              "      <th>2203</th>\n",
              "      <td>2513</td>\n",
              "      <td>2004-03-31</td>\n",
              "      <td>The Touch</td>\n",
              "      <td>20000000</td>\n",
              "      <td>5918742</td>\n",
              "      <td>0</td>\n",
              "    </tr>\n",
              "  </tbody>\n",
              "</table>\n",
              "</div>"
            ],
            "text/plain": [
              "      Rank Release_Date  ... USD_Worldwide_Gross  USD_Domestic_Gross\n",
              "71    4310   1956-02-16  ...                3220                   0\n",
              "1579  5087   2001-02-11  ...                7890                   0\n",
              "1744  3695   2001-12-31  ...            10834406                   0\n",
              "2155  4236   2003-12-31  ...               63180                   0\n",
              "2203  2513   2004-03-31  ...             5918742                   0\n",
              "\n",
              "[5 rows x 6 columns]"
            ]
          },
          "metadata": {
            "tags": []
          },
          "execution_count": 42
        }
      ]
    },
    {
      "cell_type": "code",
      "metadata": {
        "id": "GukR1Kez6A_O"
      },
      "source": [
        ""
      ],
      "execution_count": null,
      "outputs": []
    },
    {
      "cell_type": "markdown",
      "metadata": {
        "id": "YruPjqLVPuiB"
      },
      "source": [
        "**Challenge**: Use the [`.query()` function](https://pandas.pydata.org/pandas-docs/stable/reference/api/pandas.DataFrame.query.html) to accomplish the same thing. Create a subset for international releases that had some worldwide gross revenue, but made zero revenue in the United States. \n",
        "\n",
        "Hint: This time you'll have to use the `and` keyword."
      ]
    },
    {
      "cell_type": "code",
      "metadata": {
        "id": "Xvu-jTCwTavg",
        "colab": {
          "base_uri": "https://localhost:8080/",
          "height": 206
        },
        "outputId": "4ae95f5d-475c-4356-aec4-94c416ae8b75"
      },
      "source": [
        "international_release2 = data.query('USD_Domestic_Gross == 0 & USD_Worldwide_Gross !=0')\n",
        "international_release2.head()"
      ],
      "execution_count": 46,
      "outputs": [
        {
          "output_type": "execute_result",
          "data": {
            "text/html": [
              "<div>\n",
              "<style scoped>\n",
              "    .dataframe tbody tr th:only-of-type {\n",
              "        vertical-align: middle;\n",
              "    }\n",
              "\n",
              "    .dataframe tbody tr th {\n",
              "        vertical-align: top;\n",
              "    }\n",
              "\n",
              "    .dataframe thead th {\n",
              "        text-align: right;\n",
              "    }\n",
              "</style>\n",
              "<table border=\"1\" class=\"dataframe\">\n",
              "  <thead>\n",
              "    <tr style=\"text-align: right;\">\n",
              "      <th></th>\n",
              "      <th>Rank</th>\n",
              "      <th>Release_Date</th>\n",
              "      <th>Movie_Title</th>\n",
              "      <th>USD_Production_Budget</th>\n",
              "      <th>USD_Worldwide_Gross</th>\n",
              "      <th>USD_Domestic_Gross</th>\n",
              "    </tr>\n",
              "  </thead>\n",
              "  <tbody>\n",
              "    <tr>\n",
              "      <th>71</th>\n",
              "      <td>4310</td>\n",
              "      <td>1956-02-16</td>\n",
              "      <td>Carousel</td>\n",
              "      <td>3380000</td>\n",
              "      <td>3220</td>\n",
              "      <td>0</td>\n",
              "    </tr>\n",
              "    <tr>\n",
              "      <th>1579</th>\n",
              "      <td>5087</td>\n",
              "      <td>2001-02-11</td>\n",
              "      <td>Everything Put Together</td>\n",
              "      <td>500000</td>\n",
              "      <td>7890</td>\n",
              "      <td>0</td>\n",
              "    </tr>\n",
              "    <tr>\n",
              "      <th>1744</th>\n",
              "      <td>3695</td>\n",
              "      <td>2001-12-31</td>\n",
              "      <td>The Hole</td>\n",
              "      <td>7500000</td>\n",
              "      <td>10834406</td>\n",
              "      <td>0</td>\n",
              "    </tr>\n",
              "    <tr>\n",
              "      <th>2155</th>\n",
              "      <td>4236</td>\n",
              "      <td>2003-12-31</td>\n",
              "      <td>Nothing</td>\n",
              "      <td>4000000</td>\n",
              "      <td>63180</td>\n",
              "      <td>0</td>\n",
              "    </tr>\n",
              "    <tr>\n",
              "      <th>2203</th>\n",
              "      <td>2513</td>\n",
              "      <td>2004-03-31</td>\n",
              "      <td>The Touch</td>\n",
              "      <td>20000000</td>\n",
              "      <td>5918742</td>\n",
              "      <td>0</td>\n",
              "    </tr>\n",
              "  </tbody>\n",
              "</table>\n",
              "</div>"
            ],
            "text/plain": [
              "      Rank Release_Date  ... USD_Worldwide_Gross  USD_Domestic_Gross\n",
              "71    4310   1956-02-16  ...                3220                   0\n",
              "1579  5087   2001-02-11  ...                7890                   0\n",
              "1744  3695   2001-12-31  ...            10834406                   0\n",
              "2155  4236   2003-12-31  ...               63180                   0\n",
              "2203  2513   2004-03-31  ...             5918742                   0\n",
              "\n",
              "[5 rows x 6 columns]"
            ]
          },
          "metadata": {
            "tags": []
          },
          "execution_count": 46
        }
      ]
    },
    {
      "cell_type": "code",
      "metadata": {
        "colab": {
          "base_uri": "https://localhost:8080/"
        },
        "id": "cRY3VZYi7tcm",
        "outputId": "d87169b5-0972-4f06-f739-d35734c16347"
      },
      "source": [
        "international_release2.shape[0]"
      ],
      "execution_count": 48,
      "outputs": [
        {
          "output_type": "execute_result",
          "data": {
            "text/plain": [
              "155"
            ]
          },
          "metadata": {
            "tags": []
          },
          "execution_count": 48
        }
      ]
    },
    {
      "cell_type": "code",
      "metadata": {
        "colab": {
          "base_uri": "https://localhost:8080/"
        },
        "id": "tRYSbkkO703D",
        "outputId": "3cfa7da9-1936-42df-b54b-b8ba8dd16287"
      },
      "source": [
        "print(len(international_release2))"
      ],
      "execution_count": 49,
      "outputs": [
        {
          "output_type": "stream",
          "text": [
            "155\n"
          ],
          "name": "stdout"
        }
      ]
    },
    {
      "cell_type": "markdown",
      "metadata": {
        "id": "EM-FTE4OZhfr"
      },
      "source": [
        "### Unreleased Films\n",
        "\n",
        "**Challenge**:\n",
        "* Identify which films were not released yet as of the time of data collection (May 1st, 2018).\n",
        "* How many films are included in the dataset that have not yet had a chance to be screened in the box office? \n",
        "* Create another DataFrame called data_clean that does not include these films. "
      ]
    },
    {
      "cell_type": "code",
      "metadata": {
        "id": "PIukYVY9Zpxu"
      },
      "source": [
        "# Date of Data Collection\n",
        "scrape_date = pd.Timestamp('2018-5-1')"
      ],
      "execution_count": 52,
      "outputs": []
    },
    {
      "cell_type": "code",
      "metadata": {
        "id": "OAI0VsM3Tc6v",
        "colab": {
          "base_uri": "https://localhost:8080/",
          "height": 269
        },
        "outputId": "a94e70dc-c87a-4bff-ced4-0bd6331ded07"
      },
      "source": [
        "future_releases = data[data.Release_Date >= scrape_date]\n",
        "future_releases"
      ],
      "execution_count": 57,
      "outputs": [
        {
          "output_type": "execute_result",
          "data": {
            "text/html": [
              "<div>\n",
              "<style scoped>\n",
              "    .dataframe tbody tr th:only-of-type {\n",
              "        vertical-align: middle;\n",
              "    }\n",
              "\n",
              "    .dataframe tbody tr th {\n",
              "        vertical-align: top;\n",
              "    }\n",
              "\n",
              "    .dataframe thead th {\n",
              "        text-align: right;\n",
              "    }\n",
              "</style>\n",
              "<table border=\"1\" class=\"dataframe\">\n",
              "  <thead>\n",
              "    <tr style=\"text-align: right;\">\n",
              "      <th></th>\n",
              "      <th>Rank</th>\n",
              "      <th>Release_Date</th>\n",
              "      <th>Movie_Title</th>\n",
              "      <th>USD_Production_Budget</th>\n",
              "      <th>USD_Worldwide_Gross</th>\n",
              "      <th>USD_Domestic_Gross</th>\n",
              "    </tr>\n",
              "  </thead>\n",
              "  <tbody>\n",
              "    <tr>\n",
              "      <th>5384</th>\n",
              "      <td>321</td>\n",
              "      <td>2018-09-03</td>\n",
              "      <td>A Wrinkle in Time</td>\n",
              "      <td>103000000</td>\n",
              "      <td>0</td>\n",
              "      <td>0</td>\n",
              "    </tr>\n",
              "    <tr>\n",
              "      <th>5385</th>\n",
              "      <td>366</td>\n",
              "      <td>2018-10-08</td>\n",
              "      <td>Amusement Park</td>\n",
              "      <td>100000000</td>\n",
              "      <td>0</td>\n",
              "      <td>0</td>\n",
              "    </tr>\n",
              "    <tr>\n",
              "      <th>5386</th>\n",
              "      <td>2950</td>\n",
              "      <td>2018-10-08</td>\n",
              "      <td>Meg</td>\n",
              "      <td>15000000</td>\n",
              "      <td>0</td>\n",
              "      <td>0</td>\n",
              "    </tr>\n",
              "    <tr>\n",
              "      <th>5387</th>\n",
              "      <td>126</td>\n",
              "      <td>2018-12-18</td>\n",
              "      <td>Aquaman</td>\n",
              "      <td>160000000</td>\n",
              "      <td>0</td>\n",
              "      <td>0</td>\n",
              "    </tr>\n",
              "    <tr>\n",
              "      <th>5388</th>\n",
              "      <td>96</td>\n",
              "      <td>2020-12-31</td>\n",
              "      <td>Singularity</td>\n",
              "      <td>175000000</td>\n",
              "      <td>0</td>\n",
              "      <td>0</td>\n",
              "    </tr>\n",
              "    <tr>\n",
              "      <th>5389</th>\n",
              "      <td>1119</td>\n",
              "      <td>2020-12-31</td>\n",
              "      <td>Hannibal the Conqueror</td>\n",
              "      <td>50000000</td>\n",
              "      <td>0</td>\n",
              "      <td>0</td>\n",
              "    </tr>\n",
              "    <tr>\n",
              "      <th>5390</th>\n",
              "      <td>2517</td>\n",
              "      <td>2020-12-31</td>\n",
              "      <td>Story of Bonnie and Clyde, The</td>\n",
              "      <td>20000000</td>\n",
              "      <td>0</td>\n",
              "      <td>0</td>\n",
              "    </tr>\n",
              "  </tbody>\n",
              "</table>\n",
              "</div>"
            ],
            "text/plain": [
              "      Rank Release_Date  ... USD_Worldwide_Gross  USD_Domestic_Gross\n",
              "5384   321   2018-09-03  ...                   0                   0\n",
              "5385   366   2018-10-08  ...                   0                   0\n",
              "5386  2950   2018-10-08  ...                   0                   0\n",
              "5387   126   2018-12-18  ...                   0                   0\n",
              "5388    96   2020-12-31  ...                   0                   0\n",
              "5389  1119   2020-12-31  ...                   0                   0\n",
              "5390  2517   2020-12-31  ...                   0                   0\n",
              "\n",
              "[7 rows x 6 columns]"
            ]
          },
          "metadata": {
            "tags": []
          },
          "execution_count": 57
        }
      ]
    },
    {
      "cell_type": "code",
      "metadata": {
        "colab": {
          "base_uri": "https://localhost:8080/"
        },
        "id": "uEQ0cCtq9ZWw",
        "outputId": "6d553e20-04cd-402c-da1b-efd6bdc7f118"
      },
      "source": [
        "print(f'The number of not released Films movies: {future_releases.shape[0]}')"
      ],
      "execution_count": 59,
      "outputs": [
        {
          "output_type": "stream",
          "text": [
            "The number of not released Films movies: 7\n"
          ],
          "name": "stdout"
        }
      ]
    },
    {
      "cell_type": "markdown",
      "metadata": {
        "id": "khrJcXlGZWZO"
      },
      "source": [
        "### Films that Lost Money\n",
        "\n",
        "**Challenge**: \n",
        "What is the percentage of films where the production costs exceeded the worldwide gross revenue? "
      ]
    },
    {
      "cell_type": "code",
      "metadata": {
        "id": "7uW_U9StTgvZ"
      },
      "source": [
        ""
      ],
      "execution_count": null,
      "outputs": []
    },
    {
      "cell_type": "markdown",
      "metadata": {
        "id": "cfJUL3WwyiDy"
      },
      "source": [
        "# Seaborn for Data Viz: Bubble Charts"
      ]
    },
    {
      "cell_type": "code",
      "metadata": {
        "id": "YXa3bp1uTiSS"
      },
      "source": [
        ""
      ],
      "execution_count": null,
      "outputs": []
    },
    {
      "cell_type": "markdown",
      "metadata": {
        "id": "e7NIOiL2y3en"
      },
      "source": [
        "### Plotting Movie Releases over Time\n",
        "\n",
        "**Challenge**: Try to create the following Bubble Chart:\n",
        "\n",
        "<img src=https://i.imgur.com/8fUn9T6.png>\n",
        "\n"
      ]
    },
    {
      "cell_type": "code",
      "metadata": {
        "id": "OT0D-i3HTmsB"
      },
      "source": [
        ""
      ],
      "execution_count": null,
      "outputs": []
    },
    {
      "cell_type": "markdown",
      "metadata": {
        "id": "r_2hFz9py84b"
      },
      "source": [
        "# Converting Years to Decades Trick\n",
        "\n",
        "**Challenge**: Create a column in `data_clean` that has the decade of the release. \n",
        "\n",
        "<img src=https://i.imgur.com/0VEfagw.png width=650> \n",
        "\n",
        "Here's how: \n",
        "1. Create a [`DatetimeIndex` object](https://pandas.pydata.org/pandas-docs/stable/reference/api/pandas.DatetimeIndex.html) from the Release_Date column. \n",
        "2. Grab all the years from the `DatetimeIndex` object using the `.year` property.\n",
        "<img src=https://i.imgur.com/5m06Ach.png width=650>\n",
        "3. Use floor division `//` to convert the year data to the decades of the films.\n",
        "4. Add the decades as a `Decade` column to the `data_clean` DataFrame."
      ]
    },
    {
      "cell_type": "code",
      "metadata": {
        "id": "lak08IPMTn-j"
      },
      "source": [
        ""
      ],
      "execution_count": null,
      "outputs": []
    },
    {
      "cell_type": "markdown",
      "metadata": {
        "id": "q-X7NK_9zIz9"
      },
      "source": [
        "### Separate the \"old\" (before 1969) and \"New\" (1970s onwards) Films\n",
        "\n",
        "**Challenge**: Create two new DataFrames: `old_films` and `new_films`\n",
        "* `old_films` should include all the films before 1969 (up to and including 1969)\n",
        "* `new_films` should include all the films from 1970 onwards\n",
        "* How many films were released prior to 1970?\n",
        "* What was the most expensive film made prior to 1970?"
      ]
    },
    {
      "cell_type": "code",
      "metadata": {
        "id": "qe93nMcBTqQz"
      },
      "source": [
        ""
      ],
      "execution_count": null,
      "outputs": []
    },
    {
      "cell_type": "markdown",
      "metadata": {
        "id": "msXABzF3zW7e"
      },
      "source": [
        "# Seaborn Regression Plots"
      ]
    },
    {
      "cell_type": "code",
      "metadata": {
        "id": "2ajPcWMJTsom"
      },
      "source": [
        ""
      ],
      "execution_count": null,
      "outputs": []
    },
    {
      "cell_type": "markdown",
      "metadata": {
        "id": "6k4MeLmxWFwX"
      },
      "source": [
        "**Challenge**: Use Seaborn's `.regplot()` to show the scatter plot and linear regression line against the `new_films`. \n",
        "<br>\n",
        "<br>\n",
        "Style the chart\n",
        "\n",
        "* Put the chart on a `'darkgrid'`.\n",
        "* Set limits on the axes so that they don't show negative values.\n",
        "* Label the axes on the plot \"Revenue in \\$ billions\" and \"Budget in \\$ millions\".\n",
        "* Provide HEX colour codes for the plot and the regression line. Make the dots dark blue (#2f4b7c) and the line orange (#ff7c43).\n",
        "\n",
        "Interpret the chart\n",
        "\n",
        "* Do our data points for the new films align better or worse with the linear regression than for our older films?\n",
        "* Roughly how much would a film with a budget of $150 million make according to the regression line?"
      ]
    },
    {
      "cell_type": "code",
      "metadata": {
        "id": "6cOVsxqvTui2"
      },
      "source": [
        ""
      ],
      "execution_count": null,
      "outputs": []
    },
    {
      "cell_type": "markdown",
      "metadata": {
        "id": "Q1SUPPMAzlVK"
      },
      "source": [
        "# Run Your Own Regression with scikit-learn\n",
        "\n",
        "$$ REV \\hat ENUE = \\theta _0 + \\theta _1 BUDGET$$"
      ]
    },
    {
      "cell_type": "code",
      "metadata": {
        "id": "QmX-wMMLTwBW"
      },
      "source": [
        ""
      ],
      "execution_count": null,
      "outputs": []
    },
    {
      "cell_type": "markdown",
      "metadata": {
        "id": "o23E9iT1RHQ1"
      },
      "source": [
        "**Challenge**: Run a linear regression for the `old_films`. Calculate the intercept, slope and r-squared. How much of the variance in movie revenue does the linear model explain in this case?"
      ]
    },
    {
      "cell_type": "code",
      "metadata": {
        "id": "Sd43DJNDT0yQ"
      },
      "source": [
        ""
      ],
      "execution_count": null,
      "outputs": []
    },
    {
      "cell_type": "code",
      "metadata": {
        "id": "ygKsLBx5Rs7t"
      },
      "source": [
        ""
      ],
      "execution_count": null,
      "outputs": []
    },
    {
      "cell_type": "markdown",
      "metadata": {
        "id": "hoD3PeG75p78"
      },
      "source": [
        "# Use Your Model to Make a Prediction\n",
        "\n",
        "We just estimated the slope and intercept! Remember that our Linear Model has the following form:\n",
        "\n",
        "$$ REV \\hat ENUE = \\theta _0 + \\theta _1 BUDGET$$\n",
        "\n",
        "**Challenge**:  How much global revenue does our model estimate for a film with a budget of $350 million? "
      ]
    },
    {
      "cell_type": "code",
      "metadata": {
        "id": "fX4I4h5i5rgF"
      },
      "source": [
        ""
      ],
      "execution_count": null,
      "outputs": []
    },
    {
      "cell_type": "code",
      "metadata": {
        "id": "fB2Yp8ln5qfO"
      },
      "source": [
        ""
      ],
      "execution_count": null,
      "outputs": []
    }
  ]
}