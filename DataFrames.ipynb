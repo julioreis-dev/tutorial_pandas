{
  "nbformat": 4,
  "nbformat_minor": 0,
  "metadata": {
    "colab": {
      "name": "DataFrames.ipynb",
      "provenance": [],
      "authorship_tag": "ABX9TyM5W49XEIwctHZMozAqo4Dg",
      "include_colab_link": true
    },
    "kernelspec": {
      "name": "python3",
      "display_name": "Python 3"
    }
  },
  "cells": [
    {
      "cell_type": "markdown",
      "metadata": {
        "id": "view-in-github",
        "colab_type": "text"
      },
      "source": [
        "<a href=\"https://colab.research.google.com/github/julioreis-dev/tutorial_pandas/blob/main/DataFrames.ipynb\" target=\"_parent\"><img src=\"https://colab.research.google.com/assets/colab-badge.svg\" alt=\"Open In Colab\"/></a>"
      ]
    },
    {
      "cell_type": "code",
      "metadata": {
        "id": "voMqspNgcfUF"
      },
      "source": [
        "import pandas as pd\r\n",
        "import numpy as np"
      ],
      "execution_count": 2,
      "outputs": []
    },
    {
      "cell_type": "code",
      "metadata": {
        "colab": {
          "base_uri": "https://localhost:8080/",
          "height": 424
        },
        "id": "2p3CnMUncqQz",
        "outputId": "e62fda1c-edc2-4e45-9ea7-e1c459a1f559"
      },
      "source": [
        "data = pd.date_range('20180101', periods=6, freq='D')\r\n",
        "df = pd.DataFrame(np.random.randn(600,5))\r\n",
        "df"
      ],
      "execution_count": 9,
      "outputs": [
        {
          "output_type": "execute_result",
          "data": {
            "text/html": [
              "<div>\n",
              "<style scoped>\n",
              "    .dataframe tbody tr th:only-of-type {\n",
              "        vertical-align: middle;\n",
              "    }\n",
              "\n",
              "    .dataframe tbody tr th {\n",
              "        vertical-align: top;\n",
              "    }\n",
              "\n",
              "    .dataframe thead th {\n",
              "        text-align: right;\n",
              "    }\n",
              "</style>\n",
              "<table border=\"1\" class=\"dataframe\">\n",
              "  <thead>\n",
              "    <tr style=\"text-align: right;\">\n",
              "      <th></th>\n",
              "      <th>0</th>\n",
              "      <th>1</th>\n",
              "      <th>2</th>\n",
              "      <th>3</th>\n",
              "      <th>4</th>\n",
              "    </tr>\n",
              "  </thead>\n",
              "  <tbody>\n",
              "    <tr>\n",
              "      <th>0</th>\n",
              "      <td>-0.301144</td>\n",
              "      <td>0.072429</td>\n",
              "      <td>1.398274</td>\n",
              "      <td>-1.151313</td>\n",
              "      <td>-1.130548</td>\n",
              "    </tr>\n",
              "    <tr>\n",
              "      <th>1</th>\n",
              "      <td>-0.794108</td>\n",
              "      <td>0.572213</td>\n",
              "      <td>0.331350</td>\n",
              "      <td>-1.884751</td>\n",
              "      <td>0.513555</td>\n",
              "    </tr>\n",
              "    <tr>\n",
              "      <th>2</th>\n",
              "      <td>0.242159</td>\n",
              "      <td>0.188368</td>\n",
              "      <td>0.726662</td>\n",
              "      <td>-1.519655</td>\n",
              "      <td>-0.595118</td>\n",
              "    </tr>\n",
              "    <tr>\n",
              "      <th>3</th>\n",
              "      <td>1.937744</td>\n",
              "      <td>-0.095927</td>\n",
              "      <td>1.034859</td>\n",
              "      <td>1.079855</td>\n",
              "      <td>-1.672617</td>\n",
              "    </tr>\n",
              "    <tr>\n",
              "      <th>4</th>\n",
              "      <td>-1.038304</td>\n",
              "      <td>1.429063</td>\n",
              "      <td>0.235268</td>\n",
              "      <td>-0.088310</td>\n",
              "      <td>-0.339059</td>\n",
              "    </tr>\n",
              "    <tr>\n",
              "      <th>...</th>\n",
              "      <td>...</td>\n",
              "      <td>...</td>\n",
              "      <td>...</td>\n",
              "      <td>...</td>\n",
              "      <td>...</td>\n",
              "    </tr>\n",
              "    <tr>\n",
              "      <th>595</th>\n",
              "      <td>-1.404182</td>\n",
              "      <td>-1.090645</td>\n",
              "      <td>0.185231</td>\n",
              "      <td>-0.279549</td>\n",
              "      <td>-0.220733</td>\n",
              "    </tr>\n",
              "    <tr>\n",
              "      <th>596</th>\n",
              "      <td>-0.215028</td>\n",
              "      <td>0.787201</td>\n",
              "      <td>0.102495</td>\n",
              "      <td>1.290833</td>\n",
              "      <td>-0.759630</td>\n",
              "    </tr>\n",
              "    <tr>\n",
              "      <th>597</th>\n",
              "      <td>0.400893</td>\n",
              "      <td>1.808039</td>\n",
              "      <td>0.130071</td>\n",
              "      <td>0.513949</td>\n",
              "      <td>0.107266</td>\n",
              "    </tr>\n",
              "    <tr>\n",
              "      <th>598</th>\n",
              "      <td>0.502690</td>\n",
              "      <td>-0.191257</td>\n",
              "      <td>-0.355879</td>\n",
              "      <td>2.028395</td>\n",
              "      <td>-0.240420</td>\n",
              "    </tr>\n",
              "    <tr>\n",
              "      <th>599</th>\n",
              "      <td>0.280843</td>\n",
              "      <td>0.556698</td>\n",
              "      <td>0.211204</td>\n",
              "      <td>-0.154944</td>\n",
              "      <td>1.402109</td>\n",
              "    </tr>\n",
              "  </tbody>\n",
              "</table>\n",
              "<p>600 rows × 5 columns</p>\n",
              "</div>"
            ],
            "text/plain": [
              "            0         1         2         3         4\n",
              "0   -0.301144  0.072429  1.398274 -1.151313 -1.130548\n",
              "1   -0.794108  0.572213  0.331350 -1.884751  0.513555\n",
              "2    0.242159  0.188368  0.726662 -1.519655 -0.595118\n",
              "3    1.937744 -0.095927  1.034859  1.079855 -1.672617\n",
              "4   -1.038304  1.429063  0.235268 -0.088310 -0.339059\n",
              "..        ...       ...       ...       ...       ...\n",
              "595 -1.404182 -1.090645  0.185231 -0.279549 -0.220733\n",
              "596 -0.215028  0.787201  0.102495  1.290833 -0.759630\n",
              "597  0.400893  1.808039  0.130071  0.513949  0.107266\n",
              "598  0.502690 -0.191257 -0.355879  2.028395 -0.240420\n",
              "599  0.280843  0.556698  0.211204 -0.154944  1.402109\n",
              "\n",
              "[600 rows x 5 columns]"
            ]
          },
          "metadata": {
            "tags": []
          },
          "execution_count": 9
        }
      ]
    },
    {
      "cell_type": "code",
      "metadata": {
        "colab": {
          "base_uri": "https://localhost:8080/"
        },
        "id": "0eyDN8Syc9oU",
        "outputId": "f3aad700-ee29-4ce5-97f9-3ce9114e14cf"
      },
      "source": [
        "datas1 = pd.Series([7, 4.2, 6, 9, 10])\r\n",
        "datas1"
      ],
      "execution_count": 8,
      "outputs": [
        {
          "output_type": "execute_result",
          "data": {
            "text/plain": [
              "0     7.0\n",
              "1     4.2\n",
              "2     6.0\n",
              "3     9.0\n",
              "4    10.0\n",
              "dtype: float64"
            ]
          },
          "metadata": {
            "tags": []
          },
          "execution_count": 8
        }
      ]
    },
    {
      "cell_type": "code",
      "metadata": {
        "id": "1-qZmiXbh_f2"
      },
      "source": [
        "names = ['Julio', 'Carla', 'Manu', 'João', 'Bento', 'Arthur']"
      ],
      "execution_count": 16,
      "outputs": []
    },
    {
      "cell_type": "code",
      "metadata": {
        "colab": {
          "base_uri": "https://localhost:8080/"
        },
        "id": "UDaO_gvshnnY",
        "outputId": "b3a5e970-694d-4d29-bebd-f29946dc169b"
      },
      "source": [
        "data = pd.date_range('20180101', periods=6, freq='D')\r\n",
        "data"
      ],
      "execution_count": 14,
      "outputs": [
        {
          "output_type": "execute_result",
          "data": {
            "text/plain": [
              "DatetimeIndex(['2018-01-01', '2018-01-02', '2018-01-03', '2018-01-04',\n",
              "               '2018-01-05', '2018-01-06'],\n",
              "              dtype='datetime64[ns]', freq='D')"
            ]
          },
          "metadata": {
            "tags": []
          },
          "execution_count": 14
        }
      ]
    },
    {
      "cell_type": "code",
      "metadata": {
        "colab": {
          "base_uri": "https://localhost:8080/",
          "height": 238
        },
        "id": "sscymi4fhrXp",
        "outputId": "cfb1b36f-c670-4f47-8262-530f34f3d0a2"
      },
      "source": [
        "df1 = pd.DataFrame(np.random.randn(6,4), index=names, columns=list('ABCD'))\r\n",
        "df1"
      ],
      "execution_count": 17,
      "outputs": [
        {
          "output_type": "execute_result",
          "data": {
            "text/html": [
              "<div>\n",
              "<style scoped>\n",
              "    .dataframe tbody tr th:only-of-type {\n",
              "        vertical-align: middle;\n",
              "    }\n",
              "\n",
              "    .dataframe tbody tr th {\n",
              "        vertical-align: top;\n",
              "    }\n",
              "\n",
              "    .dataframe thead th {\n",
              "        text-align: right;\n",
              "    }\n",
              "</style>\n",
              "<table border=\"1\" class=\"dataframe\">\n",
              "  <thead>\n",
              "    <tr style=\"text-align: right;\">\n",
              "      <th></th>\n",
              "      <th>A</th>\n",
              "      <th>B</th>\n",
              "      <th>C</th>\n",
              "      <th>D</th>\n",
              "    </tr>\n",
              "  </thead>\n",
              "  <tbody>\n",
              "    <tr>\n",
              "      <th>Julio</th>\n",
              "      <td>2.408640</td>\n",
              "      <td>-1.346523</td>\n",
              "      <td>0.067814</td>\n",
              "      <td>-0.383138</td>\n",
              "    </tr>\n",
              "    <tr>\n",
              "      <th>Carla</th>\n",
              "      <td>-0.850864</td>\n",
              "      <td>1.105442</td>\n",
              "      <td>-0.005962</td>\n",
              "      <td>0.200948</td>\n",
              "    </tr>\n",
              "    <tr>\n",
              "      <th>Manu</th>\n",
              "      <td>-1.441336</td>\n",
              "      <td>-0.023065</td>\n",
              "      <td>-1.865710</td>\n",
              "      <td>1.389805</td>\n",
              "    </tr>\n",
              "    <tr>\n",
              "      <th>João</th>\n",
              "      <td>1.093526</td>\n",
              "      <td>-1.204003</td>\n",
              "      <td>-2.262611</td>\n",
              "      <td>0.661299</td>\n",
              "    </tr>\n",
              "    <tr>\n",
              "      <th>Bento</th>\n",
              "      <td>1.240250</td>\n",
              "      <td>1.254440</td>\n",
              "      <td>1.934953</td>\n",
              "      <td>-0.404901</td>\n",
              "    </tr>\n",
              "    <tr>\n",
              "      <th>Arthur</th>\n",
              "      <td>-0.294038</td>\n",
              "      <td>0.030678</td>\n",
              "      <td>-0.686365</td>\n",
              "      <td>0.144799</td>\n",
              "    </tr>\n",
              "  </tbody>\n",
              "</table>\n",
              "</div>"
            ],
            "text/plain": [
              "               A         B         C         D\n",
              "Julio   2.408640 -1.346523  0.067814 -0.383138\n",
              "Carla  -0.850864  1.105442 -0.005962  0.200948\n",
              "Manu   -1.441336 -0.023065 -1.865710  1.389805\n",
              "João    1.093526 -1.204003 -2.262611  0.661299\n",
              "Bento   1.240250  1.254440  1.934953 -0.404901\n",
              "Arthur -0.294038  0.030678 -0.686365  0.144799"
            ]
          },
          "metadata": {
            "tags": []
          },
          "execution_count": 17
        }
      ]
    }
  ]
}