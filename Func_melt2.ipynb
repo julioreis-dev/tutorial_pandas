{
  "nbformat": 4,
  "nbformat_minor": 0,
  "metadata": {
    "colab": {
      "name": "Func_melt2.ipynb",
      "provenance": [],
      "authorship_tag": "ABX9TyOaf6rtNuaBLYGctFaxUA70",
      "include_colab_link": true
    },
    "kernelspec": {
      "name": "python3",
      "display_name": "Python 3"
    }
  },
  "cells": [
    {
      "cell_type": "markdown",
      "metadata": {
        "id": "view-in-github",
        "colab_type": "text"
      },
      "source": [
        "<a href=\"https://colab.research.google.com/github/julioreis-dev/tutorial_pandas/blob/main/Func_melt2.ipynb\" target=\"_parent\"><img src=\"https://colab.research.google.com/assets/colab-badge.svg\" alt=\"Open In Colab\"/></a>"
      ]
    },
    {
      "cell_type": "code",
      "metadata": {
        "id": "dCaLuDlsEJCj"
      },
      "source": [
        "import pandas as pd\r\n",
        "\r\n",
        "dados = {'localização': ['cidadeA','CidadeB'],\r\n",
        "                 'temperatura': ['prevista', 'atual'],\r\n",
        "                  'set-2019': [20,21],\r\n",
        "                        'out-2019': [22,24],\r\n",
        "                       'nov-2019': [27,26]}\r\n",
        "\r\n"
      ],
      "execution_count": 14,
      "outputs": []
    },
    {
      "cell_type": "code",
      "metadata": {
        "colab": {
          "base_uri": "https://localhost:8080/"
        },
        "id": "9ez137t-Fh1e",
        "outputId": "660a94e6-36f9-427a-85c9-56c1a64dbd10"
      },
      "source": [
        "print(dados)"
      ],
      "execution_count": 15,
      "outputs": [
        {
          "output_type": "stream",
          "text": [
            "{'localização': ['cidadeA', 'CidadeB'], 'temperatura': ['prevista', 'atual'], 'set-2019': [20, 21], 'out-2019': [22, 24], 'nov-2019': [27, 26]}\n"
          ],
          "name": "stdout"
        }
      ]
    },
    {
      "cell_type": "code",
      "metadata": {
        "id": "GRbOhlX9FpwK",
        "colab": {
          "base_uri": "https://localhost:8080/",
          "height": 112
        },
        "outputId": "89d453f8-47b1-4f3c-e247-352e3ddcf36e"
      },
      "source": [
        "df = pd.DataFrame(dados, columns=['localização', 'temperatura', 'set-2019', 'out-2019', 'nov-2019'])\r\n",
        "df"
      ],
      "execution_count": 30,
      "outputs": [
        {
          "output_type": "execute_result",
          "data": {
            "text/html": [
              "<div>\n",
              "<style scoped>\n",
              "    .dataframe tbody tr th:only-of-type {\n",
              "        vertical-align: middle;\n",
              "    }\n",
              "\n",
              "    .dataframe tbody tr th {\n",
              "        vertical-align: top;\n",
              "    }\n",
              "\n",
              "    .dataframe thead th {\n",
              "        text-align: right;\n",
              "    }\n",
              "</style>\n",
              "<table border=\"1\" class=\"dataframe\">\n",
              "  <thead>\n",
              "    <tr style=\"text-align: right;\">\n",
              "      <th></th>\n",
              "      <th>localização</th>\n",
              "      <th>temperatura</th>\n",
              "      <th>set-2019</th>\n",
              "      <th>out-2019</th>\n",
              "      <th>nov-2019</th>\n",
              "    </tr>\n",
              "  </thead>\n",
              "  <tbody>\n",
              "    <tr>\n",
              "      <th>0</th>\n",
              "      <td>cidadeA</td>\n",
              "      <td>prevista</td>\n",
              "      <td>20</td>\n",
              "      <td>22</td>\n",
              "      <td>27</td>\n",
              "    </tr>\n",
              "    <tr>\n",
              "      <th>1</th>\n",
              "      <td>CidadeB</td>\n",
              "      <td>atual</td>\n",
              "      <td>21</td>\n",
              "      <td>24</td>\n",
              "      <td>26</td>\n",
              "    </tr>\n",
              "  </tbody>\n",
              "</table>\n",
              "</div>"
            ],
            "text/plain": [
              "  localização temperatura  set-2019  out-2019  nov-2019\n",
              "0     cidadeA    prevista        20        22        27\n",
              "1     CidadeB       atual        21        24        26"
            ]
          },
          "metadata": {
            "tags": []
          },
          "execution_count": 30
        }
      ]
    },
    {
      "cell_type": "code",
      "metadata": {
        "colab": {
          "base_uri": "https://localhost:8080/",
          "height": 238
        },
        "id": "O97OSyglIgYC",
        "outputId": "4d611616-1892-48ed-9e7a-5986dc648358"
      },
      "source": [
        "df2 = pd.melt(df, id_vars=['localização', 'temperatura',], var_name='Mês', value_name='Valor')\r\n",
        "df2"
      ],
      "execution_count": 31,
      "outputs": [
        {
          "output_type": "execute_result",
          "data": {
            "text/html": [
              "<div>\n",
              "<style scoped>\n",
              "    .dataframe tbody tr th:only-of-type {\n",
              "        vertical-align: middle;\n",
              "    }\n",
              "\n",
              "    .dataframe tbody tr th {\n",
              "        vertical-align: top;\n",
              "    }\n",
              "\n",
              "    .dataframe thead th {\n",
              "        text-align: right;\n",
              "    }\n",
              "</style>\n",
              "<table border=\"1\" class=\"dataframe\">\n",
              "  <thead>\n",
              "    <tr style=\"text-align: right;\">\n",
              "      <th></th>\n",
              "      <th>localização</th>\n",
              "      <th>temperatura</th>\n",
              "      <th>Mês</th>\n",
              "      <th>Valor</th>\n",
              "    </tr>\n",
              "  </thead>\n",
              "  <tbody>\n",
              "    <tr>\n",
              "      <th>0</th>\n",
              "      <td>cidadeA</td>\n",
              "      <td>prevista</td>\n",
              "      <td>set-2019</td>\n",
              "      <td>20</td>\n",
              "    </tr>\n",
              "    <tr>\n",
              "      <th>1</th>\n",
              "      <td>CidadeB</td>\n",
              "      <td>atual</td>\n",
              "      <td>set-2019</td>\n",
              "      <td>21</td>\n",
              "    </tr>\n",
              "    <tr>\n",
              "      <th>2</th>\n",
              "      <td>cidadeA</td>\n",
              "      <td>prevista</td>\n",
              "      <td>out-2019</td>\n",
              "      <td>22</td>\n",
              "    </tr>\n",
              "    <tr>\n",
              "      <th>3</th>\n",
              "      <td>CidadeB</td>\n",
              "      <td>atual</td>\n",
              "      <td>out-2019</td>\n",
              "      <td>24</td>\n",
              "    </tr>\n",
              "    <tr>\n",
              "      <th>4</th>\n",
              "      <td>cidadeA</td>\n",
              "      <td>prevista</td>\n",
              "      <td>nov-2019</td>\n",
              "      <td>27</td>\n",
              "    </tr>\n",
              "    <tr>\n",
              "      <th>5</th>\n",
              "      <td>CidadeB</td>\n",
              "      <td>atual</td>\n",
              "      <td>nov-2019</td>\n",
              "      <td>26</td>\n",
              "    </tr>\n",
              "  </tbody>\n",
              "</table>\n",
              "</div>"
            ],
            "text/plain": [
              "  localização temperatura       Mês  Valor\n",
              "0     cidadeA    prevista  set-2019     20\n",
              "1     CidadeB       atual  set-2019     21\n",
              "2     cidadeA    prevista  out-2019     22\n",
              "3     CidadeB       atual  out-2019     24\n",
              "4     cidadeA    prevista  nov-2019     27\n",
              "5     CidadeB       atual  nov-2019     26"
            ]
          },
          "metadata": {
            "tags": []
          },
          "execution_count": 31
        }
      ]
    },
    {
      "cell_type": "code",
      "metadata": {
        "colab": {
          "base_uri": "https://localhost:8080/",
          "height": 112
        },
        "id": "Bwh8UM3ArmKJ",
        "outputId": "9e657db3-88a1-4850-b260-d475957ed9a8"
      },
      "source": [
        "df1=pd.DataFrame(dados)\r\n",
        "df1"
      ],
      "execution_count": 32,
      "outputs": [
        {
          "output_type": "execute_result",
          "data": {
            "text/html": [
              "<div>\n",
              "<style scoped>\n",
              "    .dataframe tbody tr th:only-of-type {\n",
              "        vertical-align: middle;\n",
              "    }\n",
              "\n",
              "    .dataframe tbody tr th {\n",
              "        vertical-align: top;\n",
              "    }\n",
              "\n",
              "    .dataframe thead th {\n",
              "        text-align: right;\n",
              "    }\n",
              "</style>\n",
              "<table border=\"1\" class=\"dataframe\">\n",
              "  <thead>\n",
              "    <tr style=\"text-align: right;\">\n",
              "      <th></th>\n",
              "      <th>localização</th>\n",
              "      <th>temperatura</th>\n",
              "      <th>set-2019</th>\n",
              "      <th>out-2019</th>\n",
              "      <th>nov-2019</th>\n",
              "    </tr>\n",
              "  </thead>\n",
              "  <tbody>\n",
              "    <tr>\n",
              "      <th>0</th>\n",
              "      <td>cidadeA</td>\n",
              "      <td>prevista</td>\n",
              "      <td>20</td>\n",
              "      <td>22</td>\n",
              "      <td>27</td>\n",
              "    </tr>\n",
              "    <tr>\n",
              "      <th>1</th>\n",
              "      <td>CidadeB</td>\n",
              "      <td>atual</td>\n",
              "      <td>21</td>\n",
              "      <td>24</td>\n",
              "      <td>26</td>\n",
              "    </tr>\n",
              "  </tbody>\n",
              "</table>\n",
              "</div>"
            ],
            "text/plain": [
              "  localização temperatura  set-2019  out-2019  nov-2019\n",
              "0     cidadeA    prevista        20        22        27\n",
              "1     CidadeB       atual        21        24        26"
            ]
          },
          "metadata": {
            "tags": []
          },
          "execution_count": 32
        }
      ]
    }
  ]
}