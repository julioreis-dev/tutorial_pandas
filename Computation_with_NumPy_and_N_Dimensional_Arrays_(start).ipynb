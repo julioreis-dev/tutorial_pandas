{
  "nbformat": 4,
  "nbformat_minor": 0,
  "metadata": {
    "colab": {
      "name": "Computation_with_NumPy_and_N_Dimensional_Arrays_(start).ipynb",
      "provenance": [],
      "include_colab_link": true
    },
    "kernelspec": {
      "name": "python3",
      "display_name": "Python 3"
    }
  },
  "cells": [
    {
      "cell_type": "markdown",
      "metadata": {
        "id": "view-in-github",
        "colab_type": "text"
      },
      "source": [
        "<a href=\"https://colab.research.google.com/github/julioreis-dev/tutorial_pandas/blob/main/Computation_with_NumPy_and_N_Dimensional_Arrays_(start).ipynb\" target=\"_parent\"><img src=\"https://colab.research.google.com/assets/colab-badge.svg\" alt=\"Open In Colab\"/></a>"
      ]
    },
    {
      "cell_type": "markdown",
      "metadata": {
        "id": "t72p7Wvp8fKU"
      },
      "source": [
        "# Introduction\n",
        "\n",
        "In this notebook we'll learn how to use NumPy to work with numerical data. \n",
        "\n",
        "<img src=\"https://i.imgur.com/dZ1XE9o.png\" width=400>"
      ]
    },
    {
      "cell_type": "markdown",
      "metadata": {
        "id": "3j24xcmN8s1a"
      },
      "source": [
        "# Import Statements"
      ]
    },
    {
      "cell_type": "code",
      "metadata": {
        "id": "b9YJCGC_8mhB"
      },
      "source": [
        "import numpy as np\n",
        "import matplotlib.pyplot as plt\n",
        "from scipy import misc # contains an image of a racoon!\n",
        "from PIL import Image # for reading image files\n",
        "from numpy.random import random"
      ],
      "execution_count": 1,
      "outputs": []
    },
    {
      "cell_type": "markdown",
      "metadata": {
        "id": "8vsW1z6o9RWD"
      },
      "source": [
        "# Understanding NumPy's ndarray\n",
        "\n",
        "NumPy's most amazing feature is the **powerful** ndarray.\n",
        "\n",
        "<img src=\"https://i.imgur.com/1IUqnxX.png\" width=200>"
      ]
    },
    {
      "cell_type": "markdown",
      "metadata": {
        "id": "d5g_jUKBAILK"
      },
      "source": [
        "#### 1-Dimensional Arrays (Vectors)"
      ]
    },
    {
      "cell_type": "code",
      "metadata": {
        "id": "ITaA6vmejMNF",
        "colab": {
          "base_uri": "https://localhost:8080/"
        },
        "outputId": "c9df5c66-549e-4bab-dc5d-bc3496ae5258"
      },
      "source": [
        "my_array = np.array([1.1, 9.2, 8.1, 4.7])\n",
        "my_array.shape"
      ],
      "execution_count": 3,
      "outputs": [
        {
          "output_type": "execute_result",
          "data": {
            "text/plain": [
              "(4,)"
            ]
          },
          "metadata": {
            "tags": []
          },
          "execution_count": 3
        }
      ]
    },
    {
      "cell_type": "code",
      "metadata": {
        "colab": {
          "base_uri": "https://localhost:8080/"
        },
        "id": "aiBXdZzzmxe4",
        "outputId": "127941f2-dc4d-4715-ee6b-22e907b3fb04"
      },
      "source": [
        "my_array[2]"
      ],
      "execution_count": 4,
      "outputs": [
        {
          "output_type": "execute_result",
          "data": {
            "text/plain": [
              "8.1"
            ]
          },
          "metadata": {
            "tags": []
          },
          "execution_count": 4
        }
      ]
    },
    {
      "cell_type": "code",
      "metadata": {
        "id": "Tq5KrExnjNn0",
        "colab": {
          "base_uri": "https://localhost:8080/"
        },
        "outputId": "bfe6d4a1-b6f1-48e4-b12a-b0326f64a34b"
      },
      "source": [
        "my_array.ndim"
      ],
      "execution_count": 5,
      "outputs": [
        {
          "output_type": "execute_result",
          "data": {
            "text/plain": [
              "1"
            ]
          },
          "metadata": {
            "tags": []
          },
          "execution_count": 5
        }
      ]
    },
    {
      "cell_type": "markdown",
      "metadata": {
        "id": "nZ8D4yr8ALzn"
      },
      "source": [
        "#### 2-Dimensional Arrays (Matrices)"
      ]
    },
    {
      "cell_type": "code",
      "metadata": {
        "id": "97iTilPTAGpm"
      },
      "source": [
        "array_2d = np.array([[1, 2, 3, 9], \n",
        "                     [5, 6, 7, 8]])"
      ],
      "execution_count": 6,
      "outputs": []
    },
    {
      "cell_type": "code",
      "metadata": {
        "id": "885B89_IjFWr",
        "colab": {
          "base_uri": "https://localhost:8080/"
        },
        "outputId": "864f10de-7984-4445-9de1-755b86e8b3bc"
      },
      "source": [
        "print(f'array_2d has {array_2d.ndim} dimensions')\n",
        "print(f'Its shape is {array_2d.shape}')\n",
        "print(f'Its has {array_2d.shape[0]} rows and {array_2d.shape[1]} columns')\n",
        "print(array_2d)"
      ],
      "execution_count": 7,
      "outputs": [
        {
          "output_type": "stream",
          "text": [
            "array_2d has 2 dimensions\n",
            "Its shape is (2, 4)\n",
            "Its has 2 rows and 4 columns\n",
            "[[1 2 3 9]\n",
            " [5 6 7 8]]\n"
          ],
          "name": "stdout"
        }
      ]
    },
    {
      "cell_type": "code",
      "metadata": {
        "colab": {
          "base_uri": "https://localhost:8080/"
        },
        "id": "R3WEyOdPoRdw",
        "outputId": "6bfefcc4-64ee-4e4d-e3e0-a4b0b7b0235c"
      },
      "source": [
        "array_2d[1,2]"
      ],
      "execution_count": 8,
      "outputs": [
        {
          "output_type": "execute_result",
          "data": {
            "text/plain": [
              "7"
            ]
          },
          "metadata": {
            "tags": []
          },
          "execution_count": 8
        }
      ]
    },
    {
      "cell_type": "code",
      "metadata": {
        "colab": {
          "base_uri": "https://localhost:8080/"
        },
        "id": "NFj3Rn2Tok2_",
        "outputId": "8e951dd4-628f-4ca6-b519-a6b0d096bc19"
      },
      "source": [
        "array_2d[0, :]"
      ],
      "execution_count": 9,
      "outputs": [
        {
          "output_type": "execute_result",
          "data": {
            "text/plain": [
              "array([1, 2, 3, 9])"
            ]
          },
          "metadata": {
            "tags": []
          },
          "execution_count": 9
        }
      ]
    },
    {
      "cell_type": "markdown",
      "metadata": {
        "id": "IxEF8DdRBHn5"
      },
      "source": [
        "#### N-Dimensional Arrays (Tensors)\n",
        "\n",
        "**Challenge**: \n",
        "* How many dimensions does the array below have? \n",
        "* What is its shape (i.e., how many elements are along each axis)?\n",
        "* Try to access the value `18` in the last line of code.\n",
        "* Try to retrieve a 1 dimensional vector with the values `[97, 0, 27, 18]`\n",
        "* Try to retrieve a (3,2) matrix with the values `[[ 0,  4], [ 7,  5], [ 5, 97]]`\n",
        "\n",
        "*Hint*: You can use the `:` operator just as with Python Lists."
      ]
    },
    {
      "cell_type": "code",
      "metadata": {
        "id": "2ROMzYaxAgXC"
      },
      "source": [
        "mystery_array = np.array([[[0, 1, 2, 3],\n",
        "                           [4, 5, 6, 7]],\n",
        "                        \n",
        "                         [[7, 86, 6, 98],\n",
        "                          [5, 1, 0, 4]],\n",
        "                          \n",
        "                          [[5, 36, 32, 48],\n",
        "                           [97, 0, 27, 18]]])\n",
        "\n",
        "# Note all the square brackets!"
      ],
      "execution_count": 10,
      "outputs": []
    },
    {
      "cell_type": "code",
      "metadata": {
        "id": "s3-I3tYSjC1R",
        "colab": {
          "base_uri": "https://localhost:8080/"
        },
        "outputId": "b4b196a1-797d-44b7-c3de-eb84fb9bcb4b"
      },
      "source": [
        "mystery_array.shape"
      ],
      "execution_count": 11,
      "outputs": [
        {
          "output_type": "execute_result",
          "data": {
            "text/plain": [
              "(3, 2, 4)"
            ]
          },
          "metadata": {
            "tags": []
          },
          "execution_count": 11
        }
      ]
    },
    {
      "cell_type": "code",
      "metadata": {
        "id": "AvUs5gRPjDIT",
        "colab": {
          "base_uri": "https://localhost:8080/"
        },
        "outputId": "858df547-656e-4e99-a7b2-bd50ec8ac021"
      },
      "source": [
        "mystery_array[2, 1, 3]"
      ],
      "execution_count": 12,
      "outputs": [
        {
          "output_type": "execute_result",
          "data": {
            "text/plain": [
              "18"
            ]
          },
          "metadata": {
            "tags": []
          },
          "execution_count": 12
        }
      ]
    },
    {
      "cell_type": "code",
      "metadata": {
        "id": "G3Ek8nDTjCvn",
        "colab": {
          "base_uri": "https://localhost:8080/"
        },
        "outputId": "0344e078-17c5-45b2-a12e-3439d9b44480"
      },
      "source": [
        "mystery_array[2, 1, :]"
      ],
      "execution_count": 13,
      "outputs": [
        {
          "output_type": "execute_result",
          "data": {
            "text/plain": [
              "array([97,  0, 27, 18])"
            ]
          },
          "metadata": {
            "tags": []
          },
          "execution_count": 13
        }
      ]
    },
    {
      "cell_type": "code",
      "metadata": {
        "id": "1SeRB6MejAbc",
        "colab": {
          "base_uri": "https://localhost:8080/"
        },
        "outputId": "2f81d5c8-bbed-4423-8452-f9468404f9ed"
      },
      "source": [
        "mystery_array[ :, :, 0]"
      ],
      "execution_count": 14,
      "outputs": [
        {
          "output_type": "execute_result",
          "data": {
            "text/plain": [
              "array([[ 0,  4],\n",
              "       [ 7,  5],\n",
              "       [ 5, 97]])"
            ]
          },
          "metadata": {
            "tags": []
          },
          "execution_count": 14
        }
      ]
    },
    {
      "cell_type": "markdown",
      "metadata": {
        "id": "xTclC9QMWaL3"
      },
      "source": [
        "# NumPy Mini-Challenges"
      ]
    },
    {
      "cell_type": "markdown",
      "metadata": {
        "id": "D5jAqudtWeTN"
      },
      "source": [
        "#### **Challenge 1**: Use [`.arange()`](https://numpy.org/devdocs/reference/generated/numpy.arange.html)to createa a vector `a` with values ranging from 10 to 29. You should get this:\n",
        "\n",
        "`print(a)`\n",
        "\n",
        "`[10 11 12 13 14 15 16 17 18 19 20 21 22 23 24 25 26 27 28 29]`"
      ]
    },
    {
      "cell_type": "code",
      "metadata": {
        "id": "1bxtrVjJi83g",
        "colab": {
          "base_uri": "https://localhost:8080/"
        },
        "outputId": "d796ecb8-815e-457b-e537-5d2b24c65ddf"
      },
      "source": [
        "a = np.arange(10, 30)\n",
        "a"
      ],
      "execution_count": 15,
      "outputs": [
        {
          "output_type": "execute_result",
          "data": {
            "text/plain": [
              "array([10, 11, 12, 13, 14, 15, 16, 17, 18, 19, 20, 21, 22, 23, 24, 25, 26,\n",
              "       27, 28, 29])"
            ]
          },
          "metadata": {
            "tags": []
          },
          "execution_count": 15
        }
      ]
    },
    {
      "cell_type": "markdown",
      "metadata": {
        "id": "duI_CwC5XmF_"
      },
      "source": [
        "#### **Challenge 2**: Use Python slicing techniques on `a` to:\n",
        "* Create an array containing only the last 3 values of `a`\n",
        "* Create a subset with only the 4th, 5th, and 6th values\n",
        "* Create a subset of `a` containing all the values except for the first 12 (i.e., `[22, 23, 24, 25, 26, 27, 28, 29]`)\n",
        "* Create a subset that only contains the even numbers (i.e, every second number)"
      ]
    },
    {
      "cell_type": "code",
      "metadata": {
        "id": "oR2l2HMGi6mS",
        "colab": {
          "base_uri": "https://localhost:8080/"
        },
        "outputId": "bca0f347-fc56-40f9-dc4e-770c0d5d6a2b"
      },
      "source": [
        "b = a[-3:]\n",
        "b"
      ],
      "execution_count": 16,
      "outputs": [
        {
          "output_type": "execute_result",
          "data": {
            "text/plain": [
              "array([27, 28, 29])"
            ]
          },
          "metadata": {
            "tags": []
          },
          "execution_count": 16
        }
      ]
    },
    {
      "cell_type": "code",
      "metadata": {
        "colab": {
          "base_uri": "https://localhost:8080/"
        },
        "id": "5_3lGKMCs5IN",
        "outputId": "278ad07f-e988-44ef-bf61-f916667d6517"
      },
      "source": [
        "c = a[3:6]\n",
        "c"
      ],
      "execution_count": 17,
      "outputs": [
        {
          "output_type": "execute_result",
          "data": {
            "text/plain": [
              "array([13, 14, 15])"
            ]
          },
          "metadata": {
            "tags": []
          },
          "execution_count": 17
        }
      ]
    },
    {
      "cell_type": "code",
      "metadata": {
        "colab": {
          "base_uri": "https://localhost:8080/"
        },
        "id": "_djNrXQJtSKQ",
        "outputId": "2b8dd201-e683-4852-f3c3-ce73cc20a37b"
      },
      "source": [
        "e = a[12:]\n",
        "e"
      ],
      "execution_count": 18,
      "outputs": [
        {
          "output_type": "execute_result",
          "data": {
            "text/plain": [
              "array([22, 23, 24, 25, 26, 27, 28, 29])"
            ]
          },
          "metadata": {
            "tags": []
          },
          "execution_count": 18
        }
      ]
    },
    {
      "cell_type": "markdown",
      "metadata": {
        "id": "G7UMQZjiYBjS"
      },
      "source": [
        "#### **Challenge 3**:Reverse the order of the values in `a`, so that the first element comes last:\n",
        "\n",
        "`[29, 28, 27, 26, 25, 24, 23, 22, 21, 20, 19, 18, 17, 16, 15, 14, 13,\n",
        "       12, 11, 10]`\n",
        "\n",
        "\n",
        "If you need a hint, you can check out this part of the [NumPy beginner's guide](\n",
        "https://numpy.org/devdocs/user/absolute_beginners.html#how-to-reverse-an-array)"
      ]
    },
    {
      "cell_type": "code",
      "metadata": {
        "id": "nGmDLPK6i4Nk",
        "colab": {
          "base_uri": "https://localhost:8080/"
        },
        "outputId": "382e8ccf-b431-481d-a64f-525dfe5b20ce"
      },
      "source": [
        "reversed_arr = np.flip(a)\n",
        "reversed_arr"
      ],
      "execution_count": 19,
      "outputs": [
        {
          "output_type": "execute_result",
          "data": {
            "text/plain": [
              "array([29, 28, 27, 26, 25, 24, 23, 22, 21, 20, 19, 18, 17, 16, 15, 14, 13,\n",
              "       12, 11, 10])"
            ]
          },
          "metadata": {
            "tags": []
          },
          "execution_count": 19
        }
      ]
    },
    {
      "cell_type": "markdown",
      "metadata": {
        "id": "WBJJbWjKfULr"
      },
      "source": [
        "#### **Challenge 4**: Print out all the indices of the non-zero elements in this array: [6,0,9,0,0,5,0]"
      ]
    },
    {
      "cell_type": "code",
      "metadata": {
        "id": "0J0gmKqsi25-",
        "colab": {
          "base_uri": "https://localhost:8080/"
        },
        "outputId": "bffc030c-aded-4ce6-8157-b2d402889e82"
      },
      "source": [
        "w= np.array([6,0,9,0,0,5,0])\n",
        "nw_indices = np.nonzero(w)\n",
        "nw_indices"
      ],
      "execution_count": 20,
      "outputs": [
        {
          "output_type": "execute_result",
          "data": {
            "text/plain": [
              "(array([0, 2, 5]),)"
            ]
          },
          "metadata": {
            "tags": []
          },
          "execution_count": 20
        }
      ]
    },
    {
      "cell_type": "markdown",
      "metadata": {
        "id": "LxorfXnOffUw"
      },
      "source": [
        "#### **Challenge 5**: Use NumPy to generate a 3x3x3 array with random numbers\n",
        "\n",
        "Hint: Use the [`.random()` function](https://numpy.org/doc/stable/reference/random/index.html?highlight=random#module-numpy.random)"
      ]
    },
    {
      "cell_type": "code",
      "metadata": {
        "id": "2gIg5UsYi1CC",
        "colab": {
          "base_uri": "https://localhost:8080/"
        },
        "outputId": "5324efcf-bc32-4a7c-845b-e9a8335112da"
      },
      "source": [
        "z=random((3, 3, 3))\n",
        "z"
      ],
      "execution_count": 21,
      "outputs": [
        {
          "output_type": "execute_result",
          "data": {
            "text/plain": [
              "array([[[0.46376518, 0.42336641, 0.06975246],\n",
              "        [0.45560405, 0.52334725, 0.46018947],\n",
              "        [0.45764584, 0.71638015, 0.98946464]],\n",
              "\n",
              "       [[0.86555563, 0.14357963, 0.74053558],\n",
              "        [0.23963116, 0.77762234, 0.74078627],\n",
              "        [0.08362612, 0.78321964, 0.42944132]],\n",
              "\n",
              "       [[0.26626833, 0.87838498, 0.01816254],\n",
              "        [0.59215287, 0.90586526, 0.2498289 ],\n",
              "        [0.93938207, 0.49343468, 0.79180066]]])"
            ]
          },
          "metadata": {
            "tags": []
          },
          "execution_count": 21
        }
      ]
    },
    {
      "cell_type": "code",
      "metadata": {
        "colab": {
          "base_uri": "https://localhost:8080/"
        },
        "id": "XV_ADPr9sNFp",
        "outputId": "1e136320-dfcd-4443-f14f-d622b990a862"
      },
      "source": [
        "z.shape"
      ],
      "execution_count": 22,
      "outputs": [
        {
          "output_type": "execute_result",
          "data": {
            "text/plain": [
              "(3, 3, 3)"
            ]
          },
          "metadata": {
            "tags": []
          },
          "execution_count": 22
        }
      ]
    },
    {
      "cell_type": "markdown",
      "metadata": {
        "id": "ps1d14z7ovv1"
      },
      "source": [
        "#### **Challenge 6**: Use [`.linspace()`](https://numpy.org/doc/stable/reference/generated/numpy.linspace.html) to create a vector `x` of size 9 with values spaced out evenly between 0 to 100 (both included)."
      ]
    },
    {
      "cell_type": "code",
      "metadata": {
        "id": "SB2lUDTBizzk",
        "colab": {
          "base_uri": "https://localhost:8080/"
        },
        "outputId": "13c39fe0-952c-4e08-a0a9-7405fc73560c"
      },
      "source": [
        "x = np.linspace(0, 100, num=9)\n",
        "x.shape"
      ],
      "execution_count": 23,
      "outputs": [
        {
          "output_type": "execute_result",
          "data": {
            "text/plain": [
              "(9,)"
            ]
          },
          "metadata": {
            "tags": []
          },
          "execution_count": 23
        }
      ]
    },
    {
      "cell_type": "markdown",
      "metadata": {
        "id": "GCSPVde3f0kE"
      },
      "source": [
        "#### **Challenge 7**: Use [`.linspace()`](https://numpy.org/doc/stable/reference/generated/numpy.linspace.html) to create another vector `y` of size 9 with values between -3 to 3 (both included). Then plot `x` and `y` on a line chart using Matplotlib."
      ]
    },
    {
      "cell_type": "code",
      "metadata": {
        "id": "cIu8HlJFiyF9",
        "colab": {
          "base_uri": "https://localhost:8080/",
          "height": 0
        },
        "outputId": "af0425cd-e326-4c77-f770-63fb82e28049"
      },
      "source": [
        "y = np.linspace(start=-3, stop=3, num=9)\n",
        "plt.plot(x,y)\n",
        "plt.show()"
      ],
      "execution_count": 24,
      "outputs": [
        {
          "output_type": "display_data",
          "data": {
            "image/png": "[encoded data removed]",
            "text/plain": [
              "<Figure size 432x288 with 1 Axes>"
            ]
          },
          "metadata": {
            "tags": [],
            "needs_background": "light"
          }
        }
      ]
    },
    {
      "cell_type": "markdown",
      "metadata": {
        "id": "Wt5aIGQLlz5i"
      },
      "source": [
        "#### **Challenge 8**: Use NumPy to generate an array called `noise` with shape 128x128x3 that has random values. Then use Matplotlib's [`.imshow()`](https://matplotlib.org/3.1.1/api/_as_gen/matplotlib.pyplot.imshow.html) to display the array as an image. "
      ]
    },
    {
      "cell_type": "code",
      "metadata": {
        "id": "_LSYx_fliwrw",
        "colab": {
          "base_uri": "https://localhost:8080/",
          "height": 0
        },
        "outputId": "759ba2f1-7b1f-4d0c-9486-7692d0a64590"
      },
      "source": [
        "    noise = np.random.random((128,128,3))\n",
        "    print(noise.shape)\n",
        "    plt.imshow(noise)"
      ],
      "execution_count": 25,
      "outputs": [
        {
          "output_type": "stream",
          "text": [
            "(128, 128, 3)\n"
          ],
          "name": "stdout"
        },
        {
          "output_type": "execute_result",
          "data": {
            "text/plain": [
              "<matplotlib.image.AxesImage at 0x7fde68a01d50>"
            ]
          },
          "metadata": {
            "tags": []
          },
          "execution_count": 25
        },
        {
          "output_type": "display_data",
          "data": {
            "image/png": "[encoded data removed]",
            "text/plain": [
              "<Figure size 432x288 with 1 Axes>"
            ]
          },
          "metadata": {
            "tags": [],
            "needs_background": "light"
          }
        }
      ]
    },
    {
      "cell_type": "markdown",
      "metadata": {
        "id": "-O2acBSNX4o8"
      },
      "source": [
        "# Linear Algebra with Vectors"
      ]
    },
    {
      "cell_type": "code",
      "metadata": {
        "id": "GbSwkEwHX9lb"
      },
      "source": [
        "v1 = np.array([4, 5, 2, 7])\n",
        "v2 = np.array([2, 1, 3, 3])"
      ],
      "execution_count": 26,
      "outputs": []
    },
    {
      "cell_type": "code",
      "metadata": {
        "id": "vPa5kK-6fz1v"
      },
      "source": [
        "# Python Lists vs ndarrays\n",
        "list1 = [4, 5, 2, 7]\n",
        "list2 = [2, 1, 3, 3]"
      ],
      "execution_count": 27,
      "outputs": []
    },
    {
      "cell_type": "code",
      "metadata": {
        "id": "DfPCOJqBiugK",
        "colab": {
          "base_uri": "https://localhost:8080/"
        },
        "outputId": "51d885be-ef07-4cb2-8786-9ccbc47e83e0"
      },
      "source": [
        "v1+v2"
      ],
      "execution_count": 28,
      "outputs": [
        {
          "output_type": "execute_result",
          "data": {
            "text/plain": [
              "array([ 6,  6,  5, 10])"
            ]
          },
          "metadata": {
            "tags": []
          },
          "execution_count": 28
        }
      ]
    },
    {
      "cell_type": "code",
      "metadata": {
        "id": "-X9zv49hT5UE",
        "colab": {
          "base_uri": "https://localhost:8080/"
        },
        "outputId": "8baccf28-5243-4961-81c6-99eff3799b3a"
      },
      "source": [
        "v1*v2"
      ],
      "execution_count": 29,
      "outputs": [
        {
          "output_type": "execute_result",
          "data": {
            "text/plain": [
              "array([ 8,  5,  6, 21])"
            ]
          },
          "metadata": {
            "tags": []
          },
          "execution_count": 29
        }
      ]
    },
    {
      "cell_type": "code",
      "metadata": {
        "id": "AYNctOyniucr"
      },
      "source": [
        "    list1 = [4, 5, 2, 7]\n",
        "    list2 = [2, 1, 3, 3]"
      ],
      "execution_count": 30,
      "outputs": []
    },
    {
      "cell_type": "code",
      "metadata": {
        "colab": {
          "base_uri": "https://localhost:8080/"
        },
        "id": "QEohvwxNTvWd",
        "outputId": "a8fcce95-fb69-4839-e13c-e2bee85d0c4d"
      },
      "source": [
        "list1+list2"
      ],
      "execution_count": 31,
      "outputs": [
        {
          "output_type": "execute_result",
          "data": {
            "text/plain": [
              "[4, 5, 2, 7, 2, 1, 3, 3]"
            ]
          },
          "metadata": {
            "tags": []
          },
          "execution_count": 31
        }
      ]
    },
    {
      "cell_type": "markdown",
      "metadata": {
        "id": "5lOo-ucJUhGx"
      },
      "source": [
        "# Broadcasting and Scalars\n"
      ]
    },
    {
      "cell_type": "code",
      "metadata": {
        "id": "E_ooq80ziprz"
      },
      "source": [
        "array_2d = np.array([[1, 2, 3, 4],\n",
        "                     [5, 6, 7, 8]])"
      ],
      "execution_count": 32,
      "outputs": []
    },
    {
      "cell_type": "code",
      "metadata": {
        "id": "gya2xlxxipoi",
        "colab": {
          "base_uri": "https://localhost:8080/"
        },
        "outputId": "a994924b-f3ea-4e44-f070-bb185ceb9bb8"
      },
      "source": [
        "array_2d+10"
      ],
      "execution_count": 33,
      "outputs": [
        {
          "output_type": "execute_result",
          "data": {
            "text/plain": [
              "array([[11, 12, 13, 14],\n",
              "       [15, 16, 17, 18]])"
            ]
          },
          "metadata": {
            "tags": []
          },
          "execution_count": 33
        }
      ]
    },
    {
      "cell_type": "code",
      "metadata": {
        "id": "Lhmedp3Qil5I",
        "colab": {
          "base_uri": "https://localhost:8080/"
        },
        "outputId": "b7f9a6f9-8376-4f07-8dd3-39f74cab6ffb"
      },
      "source": [
        "array_2d*5"
      ],
      "execution_count": 34,
      "outputs": [
        {
          "output_type": "execute_result",
          "data": {
            "text/plain": [
              "array([[ 5, 10, 15, 20],\n",
              "       [25, 30, 35, 40]])"
            ]
          },
          "metadata": {
            "tags": []
          },
          "execution_count": 34
        }
      ]
    },
    {
      "cell_type": "markdown",
      "metadata": {
        "id": "hVQLR4KamAFi"
      },
      "source": [
        "# Matrix Multiplication with @ and .matmul()\n",
        "\n",
        "<img src=https://i.imgur.com/LCdhmi8.png width=350>"
      ]
    },
    {
      "cell_type": "code",
      "metadata": {
        "id": "8oeSWT7fk7u5",
        "colab": {
          "base_uri": "https://localhost:8080/"
        },
        "outputId": "14f031f6-2285-41f7-a4c5-bf52ffb63357"
      },
      "source": [
        "a1 = np.array([[1, 3],\n",
        "               [0, 1],\n",
        "               [6, 2],\n",
        "               [9, 7]])\n",
        "\n",
        "b1 = np.array([[4, 1, 3],\n",
        "               [5, 8, 5]])\n",
        "\n",
        "print(f'{a1.shape}: a has {a1.shape[0]} rows and {a1.shape[1]} columns.')\n",
        "print(f'{b1.shape}: b has {b1.shape[0]} rows and {b1.shape[1]} columns.')\n",
        "print('Dimensions of result: (4x2)*(2x3)=(4x3)')"
      ],
      "execution_count": 35,
      "outputs": [
        {
          "output_type": "stream",
          "text": [
            "(4, 2): a has 4 rows and 2 columns.\n",
            "(2, 3): b has 2 rows and 3 columns.\n",
            "Dimensions of result: (4x2)*(2x3)=(4x3)\n"
          ],
          "name": "stdout"
        }
      ]
    },
    {
      "cell_type": "markdown",
      "metadata": {
        "id": "LP2b396-n9wS"
      },
      "source": [
        "**Challenge**: Let's multiply `a1` with `b1`. Looking at the wikipedia example above, work out the values for c12 and c33 on paper. Then use the [`.matmul()`](https://numpy.org/doc/stable/reference/generated/numpy.matmul.html) function or the `@` operator to check your work. "
      ]
    },
    {
      "cell_type": "code",
      "metadata": {
        "id": "a68V7SFpieg2",
        "colab": {
          "base_uri": "https://localhost:8080/"
        },
        "outputId": "ffd70e4b-f7c2-41d1-9dca-ce6fd073917f"
      },
      "source": [
        "c=np.matmul(a1, b1)\n",
        "print(f'{c.shape}')\n",
        "c"
      ],
      "execution_count": 37,
      "outputs": [
        {
          "output_type": "stream",
          "text": [
            "(4, 3)\n"
          ],
          "name": "stdout"
        },
        {
          "output_type": "execute_result",
          "data": {
            "text/plain": [
              "array([[19, 25, 18],\n",
              "       [ 5,  8,  5],\n",
              "       [34, 22, 28],\n",
              "       [71, 65, 62]])"
            ]
          },
          "metadata": {
            "tags": []
          },
          "execution_count": 37
        }
      ]
    },
    {
      "cell_type": "code",
      "metadata": {
        "id": "JvORXjfJiebH",
        "colab": {
          "base_uri": "https://localhost:8080/"
        },
        "outputId": "f98af26c-6371-4555-975d-dddbb959acc9"
      },
      "source": [
        "a1 @ b1"
      ],
      "execution_count": 38,
      "outputs": [
        {
          "output_type": "execute_result",
          "data": {
            "text/plain": [
              "array([[19, 25, 18],\n",
              "       [ 5,  8,  5],\n",
              "       [34, 22, 28],\n",
              "       [71, 65, 62]])"
            ]
          },
          "metadata": {
            "tags": []
          },
          "execution_count": 38
        }
      ]
    },
    {
      "cell_type": "markdown",
      "metadata": {
        "id": "n8uiDqlb2pTO"
      },
      "source": [
        "# Manipulating Images as ndarrays\n"
      ]
    },
    {
      "cell_type": "code",
      "metadata": {
        "id": "P1TS4QSqicaB"
      },
      "source": [
        ""
      ],
      "execution_count": null,
      "outputs": []
    },
    {
      "cell_type": "code",
      "metadata": {
        "id": "K-jub5UDicVw"
      },
      "source": [
        ""
      ],
      "execution_count": null,
      "outputs": []
    },
    {
      "cell_type": "markdown",
      "metadata": {
        "id": "zCyCD3ia4J8A"
      },
      "source": [
        "**Challenge**: What is the data type of `img`? Also, what is the shape of `img` and how many dimensions does it have? What is the resolution of the image?"
      ]
    },
    {
      "cell_type": "code",
      "metadata": {
        "id": "ElXYL8OZiZIu"
      },
      "source": [
        ""
      ],
      "execution_count": null,
      "outputs": []
    },
    {
      "cell_type": "code",
      "metadata": {
        "id": "xD7fwq2ViZWC"
      },
      "source": [
        ""
      ],
      "execution_count": null,
      "outputs": []
    },
    {
      "cell_type": "code",
      "metadata": {
        "id": "RvaHBCj8iZBp"
      },
      "source": [
        ""
      ],
      "execution_count": null,
      "outputs": []
    },
    {
      "cell_type": "markdown",
      "metadata": {
        "id": "niXLlWOQ4Z8K"
      },
      "source": [
        "**Challenge**: Convert the image to black and white. The values in our `img` range from 0 to 255. \n",
        "* Divide all the values by 255 to convert them to sRGB, where all the values are between 0 and 1. \n",
        "* Next, multiply the sRGB array by the `grey_vals` to convert the image to grey scale. \n",
        "* Finally use Matplotlib's [`.imshow()`](https://matplotlib.org/3.1.1/api/_as_gen/matplotlib.pyplot.imshow.html) together with the colormap parameter set to gray `cmap=gray` to look at the results. "
      ]
    },
    {
      "cell_type": "code",
      "metadata": {
        "id": "bkrNo4jI6e95"
      },
      "source": [
        "grey_vals = np.array([0.2126, 0.7152, 0.0722])"
      ],
      "execution_count": null,
      "outputs": []
    },
    {
      "cell_type": "code",
      "metadata": {
        "id": "xxsdG1eAiV_X"
      },
      "source": [
        ""
      ],
      "execution_count": null,
      "outputs": []
    },
    {
      "cell_type": "code",
      "metadata": {
        "id": "zaRdnvu3iVpt"
      },
      "source": [
        ""
      ],
      "execution_count": null,
      "outputs": []
    },
    {
      "cell_type": "markdown",
      "metadata": {
        "id": "Gc32f7V77Myv"
      },
      "source": [
        "**Challenge**: Can you manipulate the images by doing some operations on the underlying ndarrays? See if you can change the values in the ndarray so that:\n",
        "\n",
        "1) You flip the grayscale image upside down\n",
        "\n",
        "<img src=https://i.imgur.com/r36CigD.png>\n",
        "\n",
        "2) Rotate the colour image\n",
        "\n",
        "<img src=https://i.imgur.com/IiNylco.png>\n",
        "\n",
        "3) Invert (i.e., solarize) the colour image. To do this you need to converting all the pixels to their \"opposite\" value, so black (0) becomes white (255).\n",
        "\n",
        "<img src=https://i.imgur.com/cfFbuex.png>"
      ]
    },
    {
      "cell_type": "markdown",
      "metadata": {
        "id": "O3B8TLSEXZtD"
      },
      "source": [
        "#### Challenge Solutions"
      ]
    },
    {
      "cell_type": "code",
      "metadata": {
        "id": "vW0Aug3MiRgH"
      },
      "source": [
        ""
      ],
      "execution_count": null,
      "outputs": []
    },
    {
      "cell_type": "code",
      "metadata": {
        "id": "_caHTOZ3jcRA"
      },
      "source": [
        ""
      ],
      "execution_count": null,
      "outputs": []
    },
    {
      "cell_type": "markdown",
      "metadata": {
        "id": "4ymZ21DKbK9Q"
      },
      "source": [
        "# Use your Own Image!"
      ]
    },
    {
      "cell_type": "code",
      "metadata": {
        "id": "CXZMwrxuV1q0"
      },
      "source": [
        "file_name = 'yummy_macarons.jpg'"
      ],
      "execution_count": null,
      "outputs": []
    },
    {
      "cell_type": "code",
      "metadata": {
        "id": "kHkGg_T8jbdD"
      },
      "source": [
        ""
      ],
      "execution_count": null,
      "outputs": []
    },
    {
      "cell_type": "markdown",
      "metadata": {
        "id": "hqoigjThfYJM"
      },
      "source": [
        "#### Use PIL to open "
      ]
    },
    {
      "cell_type": "code",
      "metadata": {
        "id": "_1rCJzYQebOn"
      },
      "source": [
        ""
      ],
      "execution_count": null,
      "outputs": []
    },
    {
      "cell_type": "code",
      "metadata": {
        "id": "30i9Xlu_jb0i"
      },
      "source": [
        ""
      ],
      "execution_count": null,
      "outputs": []
    }
  ]
}