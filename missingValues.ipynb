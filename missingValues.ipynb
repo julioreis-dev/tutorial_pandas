{
  "nbformat": 4,
  "nbformat_minor": 0,
  "metadata": {
    "colab": {
      "name": "missingValues.ipynb",
      "provenance": [],
      "authorship_tag": "ABX9TyMlONyTvWssNBbSWD3gFgB8",
      "include_colab_link": true
    },
    "kernelspec": {
      "name": "python3",
      "display_name": "Python 3"
    },
    "language_info": {
      "name": "python"
    }
  },
  "cells": [
    {
      "cell_type": "markdown",
      "metadata": {
        "id": "view-in-github",
        "colab_type": "text"
      },
      "source": [
        "<a href=\"https://colab.research.google.com/github/julioreis-dev/tutorial_pandas/blob/main/missingValues.ipynb\" target=\"_parent\"><img src=\"https://colab.research.google.com/assets/colab-badge.svg\" alt=\"Open In Colab\"/></a>"
      ]
    },
    {
      "cell_type": "code",
      "metadata": {
        "id": "fpv6pIsJrnil"
      },
      "source": [
        "import pandas as pd\n",
        "import numpy as np"
      ],
      "execution_count": 1,
      "outputs": []
    },
    {
      "cell_type": "code",
      "metadata": {
        "id": "egddMkqwryb0"
      },
      "source": [
        "datas = pd.date_range(start='20190101', periods=600, freq='D')"
      ],
      "execution_count": 2,
      "outputs": []
    },
    {
      "cell_type": "code",
      "metadata": {
        "id": "9846Z4VdsK6K"
      },
      "source": [
        "df = pd.DataFrame(np.random.randn(600,5), index=datas, columns=['A', 'B', 'C', 'D', 'E'])"
      ],
      "execution_count": 6,
      "outputs": []
    },
    {
      "cell_type": "code",
      "metadata": {
        "colab": {
          "base_uri": "https://localhost:8080/",
          "height": 206
        },
        "id": "W0a1h4K6tAAw",
        "outputId": "838a650b-dd0a-4fb0-98d1-d485083fdf7b"
      },
      "source": [
        "df.head()"
      ],
      "execution_count": 7,
      "outputs": [
        {
          "output_type": "execute_result",
          "data": {
            "text/html": [
              "<div>\n",
              "<style scoped>\n",
              "    .dataframe tbody tr th:only-of-type {\n",
              "        vertical-align: middle;\n",
              "    }\n",
              "\n",
              "    .dataframe tbody tr th {\n",
              "        vertical-align: top;\n",
              "    }\n",
              "\n",
              "    .dataframe thead th {\n",
              "        text-align: right;\n",
              "    }\n",
              "</style>\n",
              "<table border=\"1\" class=\"dataframe\">\n",
              "  <thead>\n",
              "    <tr style=\"text-align: right;\">\n",
              "      <th></th>\n",
              "      <th>A</th>\n",
              "      <th>B</th>\n",
              "      <th>C</th>\n",
              "      <th>D</th>\n",
              "      <th>E</th>\n",
              "    </tr>\n",
              "  </thead>\n",
              "  <tbody>\n",
              "    <tr>\n",
              "      <th>2019-01-01</th>\n",
              "      <td>0.443165</td>\n",
              "      <td>0.584544</td>\n",
              "      <td>0.588418</td>\n",
              "      <td>0.653699</td>\n",
              "      <td>-1.892572</td>\n",
              "    </tr>\n",
              "    <tr>\n",
              "      <th>2019-01-02</th>\n",
              "      <td>1.207344</td>\n",
              "      <td>0.966969</td>\n",
              "      <td>-1.486634</td>\n",
              "      <td>0.000946</td>\n",
              "      <td>0.637570</td>\n",
              "    </tr>\n",
              "    <tr>\n",
              "      <th>2019-01-03</th>\n",
              "      <td>0.378678</td>\n",
              "      <td>1.524972</td>\n",
              "      <td>-0.095403</td>\n",
              "      <td>1.061709</td>\n",
              "      <td>1.053982</td>\n",
              "    </tr>\n",
              "    <tr>\n",
              "      <th>2019-01-04</th>\n",
              "      <td>-0.453298</td>\n",
              "      <td>0.370638</td>\n",
              "      <td>0.007065</td>\n",
              "      <td>-0.860936</td>\n",
              "      <td>-0.945624</td>\n",
              "    </tr>\n",
              "    <tr>\n",
              "      <th>2019-01-05</th>\n",
              "      <td>1.181019</td>\n",
              "      <td>0.121031</td>\n",
              "      <td>1.233345</td>\n",
              "      <td>1.053594</td>\n",
              "      <td>2.649793</td>\n",
              "    </tr>\n",
              "  </tbody>\n",
              "</table>\n",
              "</div>"
            ],
            "text/plain": [
              "                   A         B         C         D         E\n",
              "2019-01-01  0.443165  0.584544  0.588418  0.653699 -1.892572\n",
              "2019-01-02  1.207344  0.966969 -1.486634  0.000946  0.637570\n",
              "2019-01-03  0.378678  1.524972 -0.095403  1.061709  1.053982\n",
              "2019-01-04 -0.453298  0.370638  0.007065 -0.860936 -0.945624\n",
              "2019-01-05  1.181019  0.121031  1.233345  1.053594  2.649793"
            ]
          },
          "metadata": {
            "tags": []
          },
          "execution_count": 7
        }
      ]
    },
    {
      "cell_type": "code",
      "metadata": {
        "colab": {
          "base_uri": "https://localhost:8080/"
        },
        "id": "zRGiI3ebu5pB",
        "outputId": "a803fe26-8d7e-48c7-951f-1ac997735f59"
      },
      "source": [
        "df.shape"
      ],
      "execution_count": 18,
      "outputs": [
        {
          "output_type": "execute_result",
          "data": {
            "text/plain": [
              "(600, 6)"
            ]
          },
          "metadata": {
            "tags": []
          },
          "execution_count": 18
        }
      ]
    },
    {
      "cell_type": "code",
      "metadata": {
        "id": "QE99yAxLtC3y"
      },
      "source": [
        "df['F'] = df[df['A']>0]"
      ],
      "execution_count": 12,
      "outputs": []
    },
    {
      "cell_type": "code",
      "metadata": {
        "colab": {
          "base_uri": "https://localhost:8080/"
        },
        "id": "vm9ERu-SvGIj",
        "outputId": "0da8480d-eee3-4b2f-f439-dfe8de2a50ca"
      },
      "source": [
        "df.isna().values.any()"
      ],
      "execution_count": 19,
      "outputs": [
        {
          "output_type": "execute_result",
          "data": {
            "text/plain": [
              "True"
            ]
          },
          "metadata": {
            "tags": []
          },
          "execution_count": 19
        }
      ]
    },
    {
      "cell_type": "code",
      "metadata": {
        "colab": {
          "base_uri": "https://localhost:8080/"
        },
        "id": "zbXWczi9tC7D",
        "outputId": "bda4a12a-2fdc-4bed-8c7a-98c3d933828d"
      },
      "source": [
        "df.isna().values.sum()"
      ],
      "execution_count": 16,
      "outputs": [
        {
          "output_type": "execute_result",
          "data": {
            "text/plain": [
              "317"
            ]
          },
          "metadata": {
            "tags": []
          },
          "execution_count": 16
        }
      ]
    },
    {
      "cell_type": "code",
      "metadata": {
        "id": "uRzVMtUstC-B"
      },
      "source": [
        "df1 = df.copy()"
      ],
      "execution_count": 20,
      "outputs": []
    },
    {
      "cell_type": "code",
      "metadata": {
        "colab": {
          "base_uri": "https://localhost:8080/",
          "height": 300
        },
        "id": "oZq8Ii4uvjo_",
        "outputId": "535a0dfc-ec47-422a-daa6-99d2a4e6ef6c"
      },
      "source": [
        "df1.describe()"
      ],
      "execution_count": 23,
      "outputs": [
        {
          "output_type": "execute_result",
          "data": {
            "text/html": [
              "<div>\n",
              "<style scoped>\n",
              "    .dataframe tbody tr th:only-of-type {\n",
              "        vertical-align: middle;\n",
              "    }\n",
              "\n",
              "    .dataframe tbody tr th {\n",
              "        vertical-align: top;\n",
              "    }\n",
              "\n",
              "    .dataframe thead th {\n",
              "        text-align: right;\n",
              "    }\n",
              "</style>\n",
              "<table border=\"1\" class=\"dataframe\">\n",
              "  <thead>\n",
              "    <tr style=\"text-align: right;\">\n",
              "      <th></th>\n",
              "      <th>A</th>\n",
              "      <th>B</th>\n",
              "      <th>C</th>\n",
              "      <th>D</th>\n",
              "      <th>E</th>\n",
              "      <th>F</th>\n",
              "    </tr>\n",
              "  </thead>\n",
              "  <tbody>\n",
              "    <tr>\n",
              "      <th>count</th>\n",
              "      <td>600.000000</td>\n",
              "      <td>600.000000</td>\n",
              "      <td>600.000000</td>\n",
              "      <td>600.000000</td>\n",
              "      <td>600.000000</td>\n",
              "      <td>283.000000</td>\n",
              "    </tr>\n",
              "    <tr>\n",
              "      <th>mean</th>\n",
              "      <td>-0.082778</td>\n",
              "      <td>-0.018289</td>\n",
              "      <td>0.034414</td>\n",
              "      <td>-0.048761</td>\n",
              "      <td>0.045082</td>\n",
              "      <td>0.775670</td>\n",
              "    </tr>\n",
              "    <tr>\n",
              "      <th>std</th>\n",
              "      <td>1.010447</td>\n",
              "      <td>0.983074</td>\n",
              "      <td>0.960552</td>\n",
              "      <td>1.005999</td>\n",
              "      <td>1.016518</td>\n",
              "      <td>0.548766</td>\n",
              "    </tr>\n",
              "    <tr>\n",
              "      <th>min</th>\n",
              "      <td>-3.485696</td>\n",
              "      <td>-3.122742</td>\n",
              "      <td>-2.818142</td>\n",
              "      <td>-3.007157</td>\n",
              "      <td>-3.035887</td>\n",
              "      <td>0.007560</td>\n",
              "    </tr>\n",
              "    <tr>\n",
              "      <th>25%</th>\n",
              "      <td>-0.738789</td>\n",
              "      <td>-0.638722</td>\n",
              "      <td>-0.600418</td>\n",
              "      <td>-0.703468</td>\n",
              "      <td>-0.674047</td>\n",
              "      <td>0.336917</td>\n",
              "    </tr>\n",
              "    <tr>\n",
              "      <th>50%</th>\n",
              "      <td>-0.097517</td>\n",
              "      <td>0.025624</td>\n",
              "      <td>0.014467</td>\n",
              "      <td>-0.072516</td>\n",
              "      <td>0.127042</td>\n",
              "      <td>0.694236</td>\n",
              "    </tr>\n",
              "    <tr>\n",
              "      <th>75%</th>\n",
              "      <td>0.642529</td>\n",
              "      <td>0.628375</td>\n",
              "      <td>0.695319</td>\n",
              "      <td>0.653753</td>\n",
              "      <td>0.705928</td>\n",
              "      <td>1.143332</td>\n",
              "    </tr>\n",
              "    <tr>\n",
              "      <th>max</th>\n",
              "      <td>3.024288</td>\n",
              "      <td>2.978364</td>\n",
              "      <td>2.744976</td>\n",
              "      <td>3.273860</td>\n",
              "      <td>2.989437</td>\n",
              "      <td>3.024288</td>\n",
              "    </tr>\n",
              "  </tbody>\n",
              "</table>\n",
              "</div>"
            ],
            "text/plain": [
              "                A           B           C           D           E           F\n",
              "count  600.000000  600.000000  600.000000  600.000000  600.000000  283.000000\n",
              "mean    -0.082778   -0.018289    0.034414   -0.048761    0.045082    0.775670\n",
              "std      1.010447    0.983074    0.960552    1.005999    1.016518    0.548766\n",
              "min     -3.485696   -3.122742   -2.818142   -3.007157   -3.035887    0.007560\n",
              "25%     -0.738789   -0.638722   -0.600418   -0.703468   -0.674047    0.336917\n",
              "50%     -0.097517    0.025624    0.014467   -0.072516    0.127042    0.694236\n",
              "75%      0.642529    0.628375    0.695319    0.653753    0.705928    1.143332\n",
              "max      3.024288    2.978364    2.744976    3.273860    2.989437    3.024288"
            ]
          },
          "metadata": {
            "tags": []
          },
          "execution_count": 23
        }
      ]
    },
    {
      "cell_type": "code",
      "metadata": {
        "colab": {
          "base_uri": "https://localhost:8080/"
        },
        "id": "1LG3UEQuwiME",
        "outputId": "fc44256a-acd0-4f0b-c71a-c455e7ec84c6"
      },
      "source": [
        "media = np.mean(df.A)\n",
        "media"
      ],
      "execution_count": 34,
      "outputs": [
        {
          "output_type": "execute_result",
          "data": {
            "text/plain": [
              "-0.08277785445642033"
            ]
          },
          "metadata": {
            "tags": []
          },
          "execution_count": 34
        }
      ]
    },
    {
      "cell_type": "code",
      "metadata": {
        "id": "ES-3OCtetDBE"
      },
      "source": [
        "df1.F.fillna(media, inplace=True)"
      ],
      "execution_count": 39,
      "outputs": []
    },
    {
      "cell_type": "code",
      "metadata": {
        "colab": {
          "base_uri": "https://localhost:8080/",
          "height": 206
        },
        "id": "s70OF0jEtDIV",
        "outputId": "1605cf09-17f2-4178-8204-2f3b0bfd5749"
      },
      "source": [
        "df1.head()"
      ],
      "execution_count": 40,
      "outputs": [
        {
          "output_type": "execute_result",
          "data": {
            "text/html": [
              "<div>\n",
              "<style scoped>\n",
              "    .dataframe tbody tr th:only-of-type {\n",
              "        vertical-align: middle;\n",
              "    }\n",
              "\n",
              "    .dataframe tbody tr th {\n",
              "        vertical-align: top;\n",
              "    }\n",
              "\n",
              "    .dataframe thead th {\n",
              "        text-align: right;\n",
              "    }\n",
              "</style>\n",
              "<table border=\"1\" class=\"dataframe\">\n",
              "  <thead>\n",
              "    <tr style=\"text-align: right;\">\n",
              "      <th></th>\n",
              "      <th>A</th>\n",
              "      <th>B</th>\n",
              "      <th>C</th>\n",
              "      <th>D</th>\n",
              "      <th>E</th>\n",
              "      <th>F</th>\n",
              "    </tr>\n",
              "  </thead>\n",
              "  <tbody>\n",
              "    <tr>\n",
              "      <th>2019-01-01</th>\n",
              "      <td>0.443165</td>\n",
              "      <td>0.584544</td>\n",
              "      <td>0.588418</td>\n",
              "      <td>0.653699</td>\n",
              "      <td>-1.892572</td>\n",
              "      <td>0.443165</td>\n",
              "    </tr>\n",
              "    <tr>\n",
              "      <th>2019-01-02</th>\n",
              "      <td>1.207344</td>\n",
              "      <td>0.966969</td>\n",
              "      <td>-1.486634</td>\n",
              "      <td>0.000946</td>\n",
              "      <td>0.637570</td>\n",
              "      <td>1.207344</td>\n",
              "    </tr>\n",
              "    <tr>\n",
              "      <th>2019-01-03</th>\n",
              "      <td>0.378678</td>\n",
              "      <td>1.524972</td>\n",
              "      <td>-0.095403</td>\n",
              "      <td>1.061709</td>\n",
              "      <td>1.053982</td>\n",
              "      <td>0.378678</td>\n",
              "    </tr>\n",
              "    <tr>\n",
              "      <th>2019-01-04</th>\n",
              "      <td>-0.453298</td>\n",
              "      <td>0.370638</td>\n",
              "      <td>0.007065</td>\n",
              "      <td>-0.860936</td>\n",
              "      <td>-0.945624</td>\n",
              "      <td>-0.082778</td>\n",
              "    </tr>\n",
              "    <tr>\n",
              "      <th>2019-01-05</th>\n",
              "      <td>1.181019</td>\n",
              "      <td>0.121031</td>\n",
              "      <td>1.233345</td>\n",
              "      <td>1.053594</td>\n",
              "      <td>2.649793</td>\n",
              "      <td>1.181019</td>\n",
              "    </tr>\n",
              "  </tbody>\n",
              "</table>\n",
              "</div>"
            ],
            "text/plain": [
              "                   A         B         C         D         E         F\n",
              "2019-01-01  0.443165  0.584544  0.588418  0.653699 -1.892572  0.443165\n",
              "2019-01-02  1.207344  0.966969 -1.486634  0.000946  0.637570  1.207344\n",
              "2019-01-03  0.378678  1.524972 -0.095403  1.061709  1.053982  0.378678\n",
              "2019-01-04 -0.453298  0.370638  0.007065 -0.860936 -0.945624 -0.082778\n",
              "2019-01-05  1.181019  0.121031  1.233345  1.053594  2.649793  1.181019"
            ]
          },
          "metadata": {
            "tags": []
          },
          "execution_count": 40
        }
      ]
    },
    {
      "cell_type": "code",
      "metadata": {
        "id": "FZQUNQoGxfsh"
      },
      "source": [
        "df2=df.copy()"
      ],
      "execution_count": 43,
      "outputs": []
    },
    {
      "cell_type": "code",
      "metadata": {
        "colab": {
          "base_uri": "https://localhost:8080/"
        },
        "id": "E2-cknV2x9b0",
        "outputId": "38cba841-7740-41ba-e33f-ce5fa570af39"
      },
      "source": [
        "media2 = df.A.mean()\n",
        "media2"
      ],
      "execution_count": 45,
      "outputs": [
        {
          "output_type": "execute_result",
          "data": {
            "text/plain": [
              "-0.08277785445642033"
            ]
          },
          "metadata": {
            "tags": []
          },
          "execution_count": 45
        }
      ]
    },
    {
      "cell_type": "code",
      "metadata": {
        "id": "lvAj2J5cx9gw"
      },
      "source": [
        "df2.F.fillna(media2, inplace=True)"
      ],
      "execution_count": 46,
      "outputs": []
    },
    {
      "cell_type": "code",
      "metadata": {
        "colab": {
          "base_uri": "https://localhost:8080/",
          "height": 206
        },
        "id": "8Sw-67qix9j6",
        "outputId": "4126bbf2-b652-4ba2-dbbd-1ecf911549cf"
      },
      "source": [
        "df2.head()"
      ],
      "execution_count": 47,
      "outputs": [
        {
          "output_type": "execute_result",
          "data": {
            "text/html": [
              "<div>\n",
              "<style scoped>\n",
              "    .dataframe tbody tr th:only-of-type {\n",
              "        vertical-align: middle;\n",
              "    }\n",
              "\n",
              "    .dataframe tbody tr th {\n",
              "        vertical-align: top;\n",
              "    }\n",
              "\n",
              "    .dataframe thead th {\n",
              "        text-align: right;\n",
              "    }\n",
              "</style>\n",
              "<table border=\"1\" class=\"dataframe\">\n",
              "  <thead>\n",
              "    <tr style=\"text-align: right;\">\n",
              "      <th></th>\n",
              "      <th>A</th>\n",
              "      <th>B</th>\n",
              "      <th>C</th>\n",
              "      <th>D</th>\n",
              "      <th>E</th>\n",
              "      <th>F</th>\n",
              "    </tr>\n",
              "  </thead>\n",
              "  <tbody>\n",
              "    <tr>\n",
              "      <th>2019-01-01</th>\n",
              "      <td>0.443165</td>\n",
              "      <td>0.584544</td>\n",
              "      <td>0.588418</td>\n",
              "      <td>0.653699</td>\n",
              "      <td>-1.892572</td>\n",
              "      <td>0.443165</td>\n",
              "    </tr>\n",
              "    <tr>\n",
              "      <th>2019-01-02</th>\n",
              "      <td>1.207344</td>\n",
              "      <td>0.966969</td>\n",
              "      <td>-1.486634</td>\n",
              "      <td>0.000946</td>\n",
              "      <td>0.637570</td>\n",
              "      <td>1.207344</td>\n",
              "    </tr>\n",
              "    <tr>\n",
              "      <th>2019-01-03</th>\n",
              "      <td>0.378678</td>\n",
              "      <td>1.524972</td>\n",
              "      <td>-0.095403</td>\n",
              "      <td>1.061709</td>\n",
              "      <td>1.053982</td>\n",
              "      <td>0.378678</td>\n",
              "    </tr>\n",
              "    <tr>\n",
              "      <th>2019-01-04</th>\n",
              "      <td>-0.453298</td>\n",
              "      <td>0.370638</td>\n",
              "      <td>0.007065</td>\n",
              "      <td>-0.860936</td>\n",
              "      <td>-0.945624</td>\n",
              "      <td>-0.082778</td>\n",
              "    </tr>\n",
              "    <tr>\n",
              "      <th>2019-01-05</th>\n",
              "      <td>1.181019</td>\n",
              "      <td>0.121031</td>\n",
              "      <td>1.233345</td>\n",
              "      <td>1.053594</td>\n",
              "      <td>2.649793</td>\n",
              "      <td>1.181019</td>\n",
              "    </tr>\n",
              "  </tbody>\n",
              "</table>\n",
              "</div>"
            ],
            "text/plain": [
              "                   A         B         C         D         E         F\n",
              "2019-01-01  0.443165  0.584544  0.588418  0.653699 -1.892572  0.443165\n",
              "2019-01-02  1.207344  0.966969 -1.486634  0.000946  0.637570  1.207344\n",
              "2019-01-03  0.378678  1.524972 -0.095403  1.061709  1.053982  0.378678\n",
              "2019-01-04 -0.453298  0.370638  0.007065 -0.860936 -0.945624 -0.082778\n",
              "2019-01-05  1.181019  0.121031  1.233345  1.053594  2.649793  1.181019"
            ]
          },
          "metadata": {
            "tags": []
          },
          "execution_count": 47
        }
      ]
    },
    {
      "cell_type": "code",
      "metadata": {
        "colab": {
          "base_uri": "https://localhost:8080/",
          "height": 206
        },
        "id": "0Ys9BsNexf_o",
        "outputId": "f320b28f-9ce1-4288-bdcf-4a2a61c896c0"
      },
      "source": [
        "df2.head()"
      ],
      "execution_count": 44,
      "outputs": [
        {
          "output_type": "execute_result",
          "data": {
            "text/html": [
              "<div>\n",
              "<style scoped>\n",
              "    .dataframe tbody tr th:only-of-type {\n",
              "        vertical-align: middle;\n",
              "    }\n",
              "\n",
              "    .dataframe tbody tr th {\n",
              "        vertical-align: top;\n",
              "    }\n",
              "\n",
              "    .dataframe thead th {\n",
              "        text-align: right;\n",
              "    }\n",
              "</style>\n",
              "<table border=\"1\" class=\"dataframe\">\n",
              "  <thead>\n",
              "    <tr style=\"text-align: right;\">\n",
              "      <th></th>\n",
              "      <th>A</th>\n",
              "      <th>B</th>\n",
              "      <th>C</th>\n",
              "      <th>D</th>\n",
              "      <th>E</th>\n",
              "      <th>F</th>\n",
              "    </tr>\n",
              "  </thead>\n",
              "  <tbody>\n",
              "    <tr>\n",
              "      <th>2019-01-01</th>\n",
              "      <td>0.443165</td>\n",
              "      <td>0.584544</td>\n",
              "      <td>0.588418</td>\n",
              "      <td>0.653699</td>\n",
              "      <td>-1.892572</td>\n",
              "      <td>0.443165</td>\n",
              "    </tr>\n",
              "    <tr>\n",
              "      <th>2019-01-02</th>\n",
              "      <td>1.207344</td>\n",
              "      <td>0.966969</td>\n",
              "      <td>-1.486634</td>\n",
              "      <td>0.000946</td>\n",
              "      <td>0.637570</td>\n",
              "      <td>1.207344</td>\n",
              "    </tr>\n",
              "    <tr>\n",
              "      <th>2019-01-03</th>\n",
              "      <td>0.378678</td>\n",
              "      <td>1.524972</td>\n",
              "      <td>-0.095403</td>\n",
              "      <td>1.061709</td>\n",
              "      <td>1.053982</td>\n",
              "      <td>0.378678</td>\n",
              "    </tr>\n",
              "    <tr>\n",
              "      <th>2019-01-04</th>\n",
              "      <td>-0.453298</td>\n",
              "      <td>0.370638</td>\n",
              "      <td>0.007065</td>\n",
              "      <td>-0.860936</td>\n",
              "      <td>-0.945624</td>\n",
              "      <td>NaN</td>\n",
              "    </tr>\n",
              "    <tr>\n",
              "      <th>2019-01-05</th>\n",
              "      <td>1.181019</td>\n",
              "      <td>0.121031</td>\n",
              "      <td>1.233345</td>\n",
              "      <td>1.053594</td>\n",
              "      <td>2.649793</td>\n",
              "      <td>1.181019</td>\n",
              "    </tr>\n",
              "  </tbody>\n",
              "</table>\n",
              "</div>"
            ],
            "text/plain": [
              "                   A         B         C         D         E         F\n",
              "2019-01-01  0.443165  0.584544  0.588418  0.653699 -1.892572  0.443165\n",
              "2019-01-02  1.207344  0.966969 -1.486634  0.000946  0.637570  1.207344\n",
              "2019-01-03  0.378678  1.524972 -0.095403  1.061709  1.053982  0.378678\n",
              "2019-01-04 -0.453298  0.370638  0.007065 -0.860936 -0.945624       NaN\n",
              "2019-01-05  1.181019  0.121031  1.233345  1.053594  2.649793  1.181019"
            ]
          },
          "metadata": {
            "tags": []
          },
          "execution_count": 44
        }
      ]
    }
  ]
}