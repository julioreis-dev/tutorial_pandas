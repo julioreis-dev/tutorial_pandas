{
  "nbformat": 4,
  "nbformat_minor": 0,
  "metadata": {
    "colab": {
      "name": "regressao_linear.ipynb",
      "provenance": [],
      "mount_file_id": "1ANHBFajTqwl5XO35S6oy7QwXCEBQvydN",
      "authorship_tag": "ABX9TyMBOJykkK5d9Nq+d+oa90jD",
      "include_colab_link": true
    },
    "kernelspec": {
      "name": "python3",
      "display_name": "Python 3"
    },
    "language_info": {
      "name": "python"
    }
  },
  "cells": [
    {
      "cell_type": "markdown",
      "metadata": {
        "id": "view-in-github",
        "colab_type": "text"
      },
      "source": [
        "<a href=\"https://colab.research.google.com/github/julioreis-dev/tutorial_pandas/blob/main/regressao_linear.ipynb\" target=\"_parent\"><img src=\"https://colab.research.google.com/assets/colab-badge.svg\" alt=\"Open In Colab\"/></a>"
      ]
    },
    {
      "cell_type": "code",
      "metadata": {
        "id": "xHGCc0DZz2lf"
      },
      "source": [
        "import pandas as pd\n",
        "import numpy as np\n",
        "from sklearn.linear_model import LinearRegression"
      ],
      "execution_count": null,
      "outputs": []
    },
    {
      "cell_type": "code",
      "metadata": {
        "colab": {
          "base_uri": "https://localhost:8080/"
        },
        "id": "jAQ020Ys0SIG",
        "outputId": "5323c384-639c-4195-9689-5241a2f14bd5"
      },
      "source": [
        "x = np.array([5, 15, 25, 35, 45, 55]).reshape((-1,1))\n",
        "x"
      ],
      "execution_count": null,
      "outputs": [
        {
          "output_type": "execute_result",
          "data": {
            "text/plain": [
              "array([[ 5],\n",
              "       [15],\n",
              "       [25],\n",
              "       [35],\n",
              "       [45],\n",
              "       [55]])"
            ]
          },
          "metadata": {
            "tags": []
          },
          "execution_count": 2
        }
      ]
    },
    {
      "cell_type": "code",
      "metadata": {
        "colab": {
          "base_uri": "https://localhost:8080/"
        },
        "id": "WQWNP4Qh0hwF",
        "outputId": "aba908f9-2485-4d60-c94e-dcd24cbc0bb3"
      },
      "source": [
        "y = np.array([5, 20, 14, 32, 22, 38]).reshape((-1,1))\n",
        "y"
      ],
      "execution_count": null,
      "outputs": [
        {
          "output_type": "execute_result",
          "data": {
            "text/plain": [
              "array([[ 5],\n",
              "       [20],\n",
              "       [14],\n",
              "       [32],\n",
              "       [22],\n",
              "       [38]])"
            ]
          },
          "metadata": {
            "tags": []
          },
          "execution_count": 3
        }
      ]
    },
    {
      "cell_type": "code",
      "metadata": {
        "colab": {
          "base_uri": "https://localhost:8080/"
        },
        "id": "mXOmcj1C1Ab9",
        "outputId": "a8af1170-55b3-4e12-dc8e-54b89ff41d1a"
      },
      "source": [
        "model = LinearRegression()\n",
        "model.fit(x, y)"
      ],
      "execution_count": null,
      "outputs": [
        {
          "output_type": "execute_result",
          "data": {
            "text/plain": [
              "LinearRegression(copy_X=True, fit_intercept=True, n_jobs=None, normalize=False)"
            ]
          },
          "metadata": {
            "tags": []
          },
          "execution_count": 4
        }
      ]
    },
    {
      "cell_type": "code",
      "metadata": {
        "colab": {
          "base_uri": "https://localhost:8080/"
        },
        "id": "iFniyYbI1AfB",
        "outputId": "d21fac2a-20f9-4412-a939-734df716d0ac"
      },
      "source": [
        "# 4. Avalia o modelo\n",
        "print('coeficiente de determinação:', model.score(x, y))\n",
        "\n",
        "# Intercept\n",
        "print('intercept:', model.intercept_)\n",
        "\n",
        "# Slope\n",
        "print('slope:', model.coef_)\n",
        "\n"
      ],
      "execution_count": null,
      "outputs": [
        {
          "output_type": "stream",
          "text": [
            "coeficiente de determinação: 0.7158756137479542\n",
            "intercept: [5.63333333]\n",
            "slope: [[0.54]]\n"
          ],
          "name": "stdout"
        }
      ]
    },
    {
      "cell_type": "markdown",
      "metadata": {
        "id": "Z_H9RbV91eaX"
      },
      "source": [
        "# **Criação de um novo conjunto de dados**"
      ]
    },
    {
      "cell_type": "code",
      "metadata": {
        "colab": {
          "base_uri": "https://localhost:8080/"
        },
        "id": "i1vM00pO1Ahq",
        "outputId": "34216ab7-c6d2-4580-f6b0-6c9766c4f466"
      },
      "source": [
        "novo_x = np.arange(5).reshape((-1, 1))\n",
        "novo_x"
      ],
      "execution_count": null,
      "outputs": [
        {
          "output_type": "execute_result",
          "data": {
            "text/plain": [
              "array([[0],\n",
              "       [1],\n",
              "       [2],\n",
              "       [3],\n",
              "       [4]])"
            ]
          },
          "metadata": {
            "tags": []
          },
          "execution_count": 6
        }
      ]
    },
    {
      "cell_type": "code",
      "metadata": {
        "colab": {
          "base_uri": "https://localhost:8080/"
        },
        "id": "CXKC983Z1Aky",
        "outputId": "12ba495e-cc2f-48a3-a593-2794238f6ede"
      },
      "source": [
        "previsão_y = model.predict(novo_x)\n",
        "previsão_y"
      ],
      "execution_count": null,
      "outputs": [
        {
          "output_type": "execute_result",
          "data": {
            "text/plain": [
              "array([[5.63333333],\n",
              "       [6.17333333],\n",
              "       [6.71333333],\n",
              "       [7.25333333],\n",
              "       [7.79333333]])"
            ]
          },
          "metadata": {
            "tags": []
          },
          "execution_count": 7
        }
      ]
    },
    {
      "cell_type": "code",
      "metadata": {
        "colab": {
          "base_uri": "https://localhost:8080/"
        },
        "id": "5S-NflG11Anr",
        "outputId": "e0c8a95b-140b-4991-f5f9-d43c648debb9"
      },
      "source": [
        "horas_estudo = np.array([1, 5, 7, 8, 10, 11, 14, 15, 15, 19]).reshape((-1, 1))\n",
        "horas_estudo"
      ],
      "execution_count": null,
      "outputs": [
        {
          "output_type": "execute_result",
          "data": {
            "text/plain": [
              "array([[ 1],\n",
              "       [ 5],\n",
              "       [ 7],\n",
              "       [ 8],\n",
              "       [10],\n",
              "       [11],\n",
              "       [14],\n",
              "       [15],\n",
              "       [15],\n",
              "       [19]])"
            ]
          },
          "metadata": {
            "tags": []
          },
          "execution_count": 8
        }
      ]
    },
    {
      "cell_type": "code",
      "metadata": {
        "colab": {
          "base_uri": "https://localhost:8080/"
        },
        "id": "2BpQVyxJ1AqU",
        "outputId": "d32860d6-fffa-4857-cf86-1979505c8777"
      },
      "source": [
        "nota = np.array([53, 74, 59, 43, 56, 84, 96, 69, 84, 83]).reshape((-1, 1))\n",
        "nota"
      ],
      "execution_count": null,
      "outputs": [
        {
          "output_type": "execute_result",
          "data": {
            "text/plain": [
              "array([[53],\n",
              "       [74],\n",
              "       [59],\n",
              "       [43],\n",
              "       [56],\n",
              "       [84],\n",
              "       [96],\n",
              "       [69],\n",
              "       [84],\n",
              "       [83]])"
            ]
          },
          "metadata": {
            "tags": []
          },
          "execution_count": 9
        }
      ]
    },
    {
      "cell_type": "code",
      "metadata": {
        "colab": {
          "base_uri": "https://localhost:8080/"
        },
        "id": "zaPmwwZW33tP",
        "outputId": "07cdac6c-e4bd-43a2-c76c-d6268f62001c"
      },
      "source": [
        "modelo = LinearRegression()\n",
        "modelo.fit(horas_estudo, nota)"
      ],
      "execution_count": null,
      "outputs": [
        {
          "output_type": "execute_result",
          "data": {
            "text/plain": [
              "LinearRegression(copy_X=True, fit_intercept=True, n_jobs=None, normalize=False)"
            ]
          },
          "metadata": {
            "tags": []
          },
          "execution_count": 10
        }
      ]
    },
    {
      "cell_type": "code",
      "metadata": {
        "colab": {
          "base_uri": "https://localhost:8080/"
        },
        "id": "riwlLoBt3358",
        "outputId": "a2453624-3648-424a-9c0a-a84c009d05e3"
      },
      "source": [
        "# 4. Avalia o modelo\n",
        "print('coeficiente de determinação:', modelo.score(x, y))\n",
        "\n",
        "# Intercept\n",
        "print('intercept:', modelo.intercept_[0])\n",
        "\n",
        "# Slope\n",
        "print('slope:', modelo.coef_[0][0])"
      ],
      "execution_count": null,
      "outputs": [
        {
          "output_type": "stream",
          "text": [
            "coeficiente de determinação: -67.33840049588197\n",
            "intercept: 49.477126654064264\n",
            "slope: 1.9640831758034025\n"
          ],
          "name": "stdout"
        }
      ]
    }
  ]
}