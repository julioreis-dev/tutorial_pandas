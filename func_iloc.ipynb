{
  "nbformat": 4,
  "nbformat_minor": 0,
  "metadata": {
    "colab": {
      "name": "func_iloc.ipynb",
      "provenance": [],
      "authorship_tag": "ABX9TyPlJrqoEGeMLGZd2EaC6gOL",
      "include_colab_link": true
    },
    "kernelspec": {
      "name": "python3",
      "display_name": "Python 3"
    }
  },
  "cells": [
    {
      "cell_type": "markdown",
      "metadata": {
        "id": "view-in-github",
        "colab_type": "text"
      },
      "source": [
        "<a href=\"https://colab.research.google.com/github/julioreis-dev/tutorial_pandas/blob/main/func_iloc.ipynb\" target=\"_parent\"><img src=\"https://colab.research.google.com/assets/colab-badge.svg\" alt=\"Open In Colab\"/></a>"
      ]
    },
    {
      "cell_type": "code",
      "metadata": {
        "id": "9f6YHxRU1SvB"
      },
      "source": [
        "import pandas as pd\r\n",
        "import numpy as np"
      ],
      "execution_count": 1,
      "outputs": []
    },
    {
      "cell_type": "code",
      "metadata": {
        "colab": {
          "base_uri": "https://localhost:8080/",
          "height": 424
        },
        "id": "7ZKJJjwV1kVW",
        "outputId": "d8fafcbf-d0e1-407e-89cb-3a729089e85e"
      },
      "source": [
        "datas = pd.date_range('20180101', periods=600, freq='D')\r\n",
        "df = pd.DataFrame(np.random.randn(600,5), index=datas, columns=list('ABCDE'))\r\n",
        "df"
      ],
      "execution_count": 3,
      "outputs": [
        {
          "output_type": "execute_result",
          "data": {
            "text/html": [
              "<div>\n",
              "<style scoped>\n",
              "    .dataframe tbody tr th:only-of-type {\n",
              "        vertical-align: middle;\n",
              "    }\n",
              "\n",
              "    .dataframe tbody tr th {\n",
              "        vertical-align: top;\n",
              "    }\n",
              "\n",
              "    .dataframe thead th {\n",
              "        text-align: right;\n",
              "    }\n",
              "</style>\n",
              "<table border=\"1\" class=\"dataframe\">\n",
              "  <thead>\n",
              "    <tr style=\"text-align: right;\">\n",
              "      <th></th>\n",
              "      <th>A</th>\n",
              "      <th>B</th>\n",
              "      <th>C</th>\n",
              "      <th>D</th>\n",
              "      <th>E</th>\n",
              "    </tr>\n",
              "  </thead>\n",
              "  <tbody>\n",
              "    <tr>\n",
              "      <th>2018-01-01</th>\n",
              "      <td>-1.008712</td>\n",
              "      <td>2.712248</td>\n",
              "      <td>-0.155546</td>\n",
              "      <td>0.190349</td>\n",
              "      <td>-1.195285</td>\n",
              "    </tr>\n",
              "    <tr>\n",
              "      <th>2018-01-02</th>\n",
              "      <td>-0.409441</td>\n",
              "      <td>0.020195</td>\n",
              "      <td>0.401158</td>\n",
              "      <td>0.008779</td>\n",
              "      <td>-0.176525</td>\n",
              "    </tr>\n",
              "    <tr>\n",
              "      <th>2018-01-03</th>\n",
              "      <td>0.614444</td>\n",
              "      <td>0.731338</td>\n",
              "      <td>-0.619291</td>\n",
              "      <td>-1.057770</td>\n",
              "      <td>-0.072171</td>\n",
              "    </tr>\n",
              "    <tr>\n",
              "      <th>2018-01-04</th>\n",
              "      <td>0.794457</td>\n",
              "      <td>0.762614</td>\n",
              "      <td>0.405896</td>\n",
              "      <td>1.461203</td>\n",
              "      <td>0.554455</td>\n",
              "    </tr>\n",
              "    <tr>\n",
              "      <th>2018-01-05</th>\n",
              "      <td>-1.380681</td>\n",
              "      <td>1.351521</td>\n",
              "      <td>-0.935734</td>\n",
              "      <td>-0.205969</td>\n",
              "      <td>-1.227858</td>\n",
              "    </tr>\n",
              "    <tr>\n",
              "      <th>...</th>\n",
              "      <td>...</td>\n",
              "      <td>...</td>\n",
              "      <td>...</td>\n",
              "      <td>...</td>\n",
              "      <td>...</td>\n",
              "    </tr>\n",
              "    <tr>\n",
              "      <th>2019-08-19</th>\n",
              "      <td>1.487844</td>\n",
              "      <td>0.474862</td>\n",
              "      <td>0.016052</td>\n",
              "      <td>-0.816880</td>\n",
              "      <td>-0.170203</td>\n",
              "    </tr>\n",
              "    <tr>\n",
              "      <th>2019-08-20</th>\n",
              "      <td>0.181342</td>\n",
              "      <td>-1.941114</td>\n",
              "      <td>-1.931334</td>\n",
              "      <td>-3.030901</td>\n",
              "      <td>0.037689</td>\n",
              "    </tr>\n",
              "    <tr>\n",
              "      <th>2019-08-21</th>\n",
              "      <td>-0.180116</td>\n",
              "      <td>-0.424518</td>\n",
              "      <td>-0.113910</td>\n",
              "      <td>0.259051</td>\n",
              "      <td>-1.436326</td>\n",
              "    </tr>\n",
              "    <tr>\n",
              "      <th>2019-08-22</th>\n",
              "      <td>-0.401440</td>\n",
              "      <td>1.985563</td>\n",
              "      <td>-0.886794</td>\n",
              "      <td>-0.968988</td>\n",
              "      <td>-0.185511</td>\n",
              "    </tr>\n",
              "    <tr>\n",
              "      <th>2019-08-23</th>\n",
              "      <td>-2.072705</td>\n",
              "      <td>-0.305620</td>\n",
              "      <td>0.121083</td>\n",
              "      <td>0.678180</td>\n",
              "      <td>1.795872</td>\n",
              "    </tr>\n",
              "  </tbody>\n",
              "</table>\n",
              "<p>600 rows × 5 columns</p>\n",
              "</div>"
            ],
            "text/plain": [
              "                   A         B         C         D         E\n",
              "2018-01-01 -1.008712  2.712248 -0.155546  0.190349 -1.195285\n",
              "2018-01-02 -0.409441  0.020195  0.401158  0.008779 -0.176525\n",
              "2018-01-03  0.614444  0.731338 -0.619291 -1.057770 -0.072171\n",
              "2018-01-04  0.794457  0.762614  0.405896  1.461203  0.554455\n",
              "2018-01-05 -1.380681  1.351521 -0.935734 -0.205969 -1.227858\n",
              "...              ...       ...       ...       ...       ...\n",
              "2019-08-19  1.487844  0.474862  0.016052 -0.816880 -0.170203\n",
              "2019-08-20  0.181342 -1.941114 -1.931334 -3.030901  0.037689\n",
              "2019-08-21 -0.180116 -0.424518 -0.113910  0.259051 -1.436326\n",
              "2019-08-22 -0.401440  1.985563 -0.886794 -0.968988 -0.185511\n",
              "2019-08-23 -2.072705 -0.305620  0.121083  0.678180  1.795872\n",
              "\n",
              "[600 rows x 5 columns]"
            ]
          },
          "metadata": {
            "tags": []
          },
          "execution_count": 3
        }
      ]
    },
    {
      "cell_type": "code",
      "metadata": {
        "colab": {
          "base_uri": "https://localhost:8080/"
        },
        "id": "zq-BSRQ22YY8",
        "outputId": "192e655a-98db-46c5-d30c-99e65cafd18f"
      },
      "source": [
        "df.iloc[300]"
      ],
      "execution_count": 5,
      "outputs": [
        {
          "output_type": "execute_result",
          "data": {
            "text/plain": [
              "A   -0.378982\n",
              "B   -0.711396\n",
              "C    1.128355\n",
              "D   -1.535934\n",
              "E    0.324715\n",
              "Name: 2018-10-28 00:00:00, dtype: float64"
            ]
          },
          "metadata": {
            "tags": []
          },
          "execution_count": 5
        }
      ]
    },
    {
      "cell_type": "code",
      "metadata": {
        "colab": {
          "base_uri": "https://localhost:8080/",
          "height": 112
        },
        "id": "2fbHKoVB2Yg-",
        "outputId": "f3ecabd6-bf2a-4ef1-b797-6b2b13aa0ee1"
      },
      "source": [
        "df.iloc[2:4, :]"
      ],
      "execution_count": 13,
      "outputs": [
        {
          "output_type": "execute_result",
          "data": {
            "text/html": [
              "<div>\n",
              "<style scoped>\n",
              "    .dataframe tbody tr th:only-of-type {\n",
              "        vertical-align: middle;\n",
              "    }\n",
              "\n",
              "    .dataframe tbody tr th {\n",
              "        vertical-align: top;\n",
              "    }\n",
              "\n",
              "    .dataframe thead th {\n",
              "        text-align: right;\n",
              "    }\n",
              "</style>\n",
              "<table border=\"1\" class=\"dataframe\">\n",
              "  <thead>\n",
              "    <tr style=\"text-align: right;\">\n",
              "      <th></th>\n",
              "      <th>A</th>\n",
              "      <th>B</th>\n",
              "      <th>C</th>\n",
              "      <th>D</th>\n",
              "      <th>E</th>\n",
              "    </tr>\n",
              "  </thead>\n",
              "  <tbody>\n",
              "    <tr>\n",
              "      <th>2018-01-03</th>\n",
              "      <td>0.614444</td>\n",
              "      <td>0.731338</td>\n",
              "      <td>-0.619291</td>\n",
              "      <td>-1.057770</td>\n",
              "      <td>-0.072171</td>\n",
              "    </tr>\n",
              "    <tr>\n",
              "      <th>2018-01-04</th>\n",
              "      <td>0.794457</td>\n",
              "      <td>0.762614</td>\n",
              "      <td>0.405896</td>\n",
              "      <td>1.461203</td>\n",
              "      <td>0.554455</td>\n",
              "    </tr>\n",
              "  </tbody>\n",
              "</table>\n",
              "</div>"
            ],
            "text/plain": [
              "                   A         B         C         D         E\n",
              "2018-01-03  0.614444  0.731338 -0.619291 -1.057770 -0.072171\n",
              "2018-01-04  0.794457  0.762614  0.405896  1.461203  0.554455"
            ]
          },
          "metadata": {
            "tags": []
          },
          "execution_count": 13
        }
      ]
    },
    {
      "cell_type": "code",
      "metadata": {
        "colab": {
          "base_uri": "https://localhost:8080/",
          "height": 143
        },
        "id": "p09dpwkk2YlN",
        "outputId": "3c1bea10-98d6-4071-dc91-e17f8f5e883b"
      },
      "source": [
        "df.iloc[[0,1,3],[0,3]]"
      ],
      "execution_count": 18,
      "outputs": [
        {
          "output_type": "execute_result",
          "data": {
            "text/html": [
              "<div>\n",
              "<style scoped>\n",
              "    .dataframe tbody tr th:only-of-type {\n",
              "        vertical-align: middle;\n",
              "    }\n",
              "\n",
              "    .dataframe tbody tr th {\n",
              "        vertical-align: top;\n",
              "    }\n",
              "\n",
              "    .dataframe thead th {\n",
              "        text-align: right;\n",
              "    }\n",
              "</style>\n",
              "<table border=\"1\" class=\"dataframe\">\n",
              "  <thead>\n",
              "    <tr style=\"text-align: right;\">\n",
              "      <th></th>\n",
              "      <th>A</th>\n",
              "      <th>D</th>\n",
              "    </tr>\n",
              "  </thead>\n",
              "  <tbody>\n",
              "    <tr>\n",
              "      <th>2018-01-01</th>\n",
              "      <td>-1.008712</td>\n",
              "      <td>0.190349</td>\n",
              "    </tr>\n",
              "    <tr>\n",
              "      <th>2018-01-02</th>\n",
              "      <td>-0.409441</td>\n",
              "      <td>0.008779</td>\n",
              "    </tr>\n",
              "    <tr>\n",
              "      <th>2018-01-04</th>\n",
              "      <td>0.794457</td>\n",
              "      <td>1.461203</td>\n",
              "    </tr>\n",
              "  </tbody>\n",
              "</table>\n",
              "</div>"
            ],
            "text/plain": [
              "                   A         D\n",
              "2018-01-01 -1.008712  0.190349\n",
              "2018-01-02 -0.409441  0.008779\n",
              "2018-01-04  0.794457  1.461203"
            ]
          },
          "metadata": {
            "tags": []
          },
          "execution_count": 18
        }
      ]
    },
    {
      "cell_type": "code",
      "metadata": {
        "colab": {
          "base_uri": "https://localhost:8080/",
          "height": 112
        },
        "id": "pFLRrERq2Ypk",
        "outputId": "c6db025e-6f48-4443-909e-8ead9a80685a"
      },
      "source": [
        "df.iloc[1:3, 0:3]"
      ],
      "execution_count": 19,
      "outputs": [
        {
          "output_type": "execute_result",
          "data": {
            "text/html": [
              "<div>\n",
              "<style scoped>\n",
              "    .dataframe tbody tr th:only-of-type {\n",
              "        vertical-align: middle;\n",
              "    }\n",
              "\n",
              "    .dataframe tbody tr th {\n",
              "        vertical-align: top;\n",
              "    }\n",
              "\n",
              "    .dataframe thead th {\n",
              "        text-align: right;\n",
              "    }\n",
              "</style>\n",
              "<table border=\"1\" class=\"dataframe\">\n",
              "  <thead>\n",
              "    <tr style=\"text-align: right;\">\n",
              "      <th></th>\n",
              "      <th>A</th>\n",
              "      <th>B</th>\n",
              "      <th>C</th>\n",
              "    </tr>\n",
              "  </thead>\n",
              "  <tbody>\n",
              "    <tr>\n",
              "      <th>2018-01-02</th>\n",
              "      <td>-0.409441</td>\n",
              "      <td>0.020195</td>\n",
              "      <td>0.401158</td>\n",
              "    </tr>\n",
              "    <tr>\n",
              "      <th>2018-01-03</th>\n",
              "      <td>0.614444</td>\n",
              "      <td>0.731338</td>\n",
              "      <td>-0.619291</td>\n",
              "    </tr>\n",
              "  </tbody>\n",
              "</table>\n",
              "</div>"
            ],
            "text/plain": [
              "                   A         B         C\n",
              "2018-01-02 -0.409441  0.020195  0.401158\n",
              "2018-01-03  0.614444  0.731338 -0.619291"
            ]
          },
          "metadata": {
            "tags": []
          },
          "execution_count": 19
        }
      ]
    }
  ]
}