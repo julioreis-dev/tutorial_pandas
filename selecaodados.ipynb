{
  "nbformat": 4,
  "nbformat_minor": 0,
  "metadata": {
    "colab": {
      "name": "selecaodados.ipynb",
      "provenance": [],
      "authorship_tag": "ABX9TyNZ2ZjMBVv4WcPfntv9ECfN",
      "include_colab_link": true
    },
    "kernelspec": {
      "name": "python3",
      "display_name": "Python 3"
    }
  },
  "cells": [
    {
      "cell_type": "markdown",
      "metadata": {
        "id": "view-in-github",
        "colab_type": "text"
      },
      "source": [
        "<a href=\"https://colab.research.google.com/github/julioreis-dev/tutorial_pandas/blob/main/selecaodados.ipynb\" target=\"_parent\"><img src=\"https://colab.research.google.com/assets/colab-badge.svg\" alt=\"Open In Colab\"/></a>"
      ]
    },
    {
      "cell_type": "code",
      "metadata": {
        "id": "_FXmXpo_4DYx"
      },
      "source": [
        "import pandas as pd\r\n",
        "import numpy as np"
      ],
      "execution_count": 3,
      "outputs": []
    },
    {
      "cell_type": "code",
      "metadata": {
        "colab": {
          "base_uri": "https://localhost:8080/",
          "height": 424
        },
        "id": "pUhyX8vz4G5P",
        "outputId": "96d945f6-911f-446e-8672-4616fea29bbc"
      },
      "source": [
        "datas = pd.date_range('20180101', periods=600, freq='D')\r\n",
        "df = pd.DataFrame(np.random.randn(600,5), index=datas, columns=list('ABCDE'))\r\n",
        "df"
      ],
      "execution_count": 4,
      "outputs": [
        {
          "output_type": "execute_result",
          "data": {
            "text/html": [
              "<div>\n",
              "<style scoped>\n",
              "    .dataframe tbody tr th:only-of-type {\n",
              "        vertical-align: middle;\n",
              "    }\n",
              "\n",
              "    .dataframe tbody tr th {\n",
              "        vertical-align: top;\n",
              "    }\n",
              "\n",
              "    .dataframe thead th {\n",
              "        text-align: right;\n",
              "    }\n",
              "</style>\n",
              "<table border=\"1\" class=\"dataframe\">\n",
              "  <thead>\n",
              "    <tr style=\"text-align: right;\">\n",
              "      <th></th>\n",
              "      <th>A</th>\n",
              "      <th>B</th>\n",
              "      <th>C</th>\n",
              "      <th>D</th>\n",
              "      <th>E</th>\n",
              "    </tr>\n",
              "  </thead>\n",
              "  <tbody>\n",
              "    <tr>\n",
              "      <th>2018-01-01</th>\n",
              "      <td>0.458124</td>\n",
              "      <td>0.361048</td>\n",
              "      <td>0.386060</td>\n",
              "      <td>0.822860</td>\n",
              "      <td>-0.389255</td>\n",
              "    </tr>\n",
              "    <tr>\n",
              "      <th>2018-01-02</th>\n",
              "      <td>1.278400</td>\n",
              "      <td>1.126669</td>\n",
              "      <td>1.013607</td>\n",
              "      <td>0.248934</td>\n",
              "      <td>0.861098</td>\n",
              "    </tr>\n",
              "    <tr>\n",
              "      <th>2018-01-03</th>\n",
              "      <td>-1.005659</td>\n",
              "      <td>0.700388</td>\n",
              "      <td>-0.763603</td>\n",
              "      <td>0.489520</td>\n",
              "      <td>-1.175480</td>\n",
              "    </tr>\n",
              "    <tr>\n",
              "      <th>2018-01-04</th>\n",
              "      <td>-0.652949</td>\n",
              "      <td>1.510817</td>\n",
              "      <td>1.129974</td>\n",
              "      <td>0.774839</td>\n",
              "      <td>-0.852035</td>\n",
              "    </tr>\n",
              "    <tr>\n",
              "      <th>2018-01-05</th>\n",
              "      <td>-0.866456</td>\n",
              "      <td>-1.000208</td>\n",
              "      <td>-0.469687</td>\n",
              "      <td>0.929202</td>\n",
              "      <td>1.102482</td>\n",
              "    </tr>\n",
              "    <tr>\n",
              "      <th>...</th>\n",
              "      <td>...</td>\n",
              "      <td>...</td>\n",
              "      <td>...</td>\n",
              "      <td>...</td>\n",
              "      <td>...</td>\n",
              "    </tr>\n",
              "    <tr>\n",
              "      <th>2019-08-19</th>\n",
              "      <td>1.685950</td>\n",
              "      <td>-0.110865</td>\n",
              "      <td>-0.469234</td>\n",
              "      <td>0.601667</td>\n",
              "      <td>-0.061678</td>\n",
              "    </tr>\n",
              "    <tr>\n",
              "      <th>2019-08-20</th>\n",
              "      <td>-0.364027</td>\n",
              "      <td>-1.326998</td>\n",
              "      <td>-0.258041</td>\n",
              "      <td>0.988451</td>\n",
              "      <td>-0.942026</td>\n",
              "    </tr>\n",
              "    <tr>\n",
              "      <th>2019-08-21</th>\n",
              "      <td>0.952091</td>\n",
              "      <td>-0.436621</td>\n",
              "      <td>-0.402050</td>\n",
              "      <td>0.861342</td>\n",
              "      <td>0.619983</td>\n",
              "    </tr>\n",
              "    <tr>\n",
              "      <th>2019-08-22</th>\n",
              "      <td>1.056717</td>\n",
              "      <td>0.515100</td>\n",
              "      <td>-2.015348</td>\n",
              "      <td>0.021585</td>\n",
              "      <td>-1.228765</td>\n",
              "    </tr>\n",
              "    <tr>\n",
              "      <th>2019-08-23</th>\n",
              "      <td>-2.147331</td>\n",
              "      <td>-1.152916</td>\n",
              "      <td>1.613323</td>\n",
              "      <td>-0.664244</td>\n",
              "      <td>-0.684208</td>\n",
              "    </tr>\n",
              "  </tbody>\n",
              "</table>\n",
              "<p>600 rows × 5 columns</p>\n",
              "</div>"
            ],
            "text/plain": [
              "                   A         B         C         D         E\n",
              "2018-01-01  0.458124  0.361048  0.386060  0.822860 -0.389255\n",
              "2018-01-02  1.278400  1.126669  1.013607  0.248934  0.861098\n",
              "2018-01-03 -1.005659  0.700388 -0.763603  0.489520 -1.175480\n",
              "2018-01-04 -0.652949  1.510817  1.129974  0.774839 -0.852035\n",
              "2018-01-05 -0.866456 -1.000208 -0.469687  0.929202  1.102482\n",
              "...              ...       ...       ...       ...       ...\n",
              "2019-08-19  1.685950 -0.110865 -0.469234  0.601667 -0.061678\n",
              "2019-08-20 -0.364027 -1.326998 -0.258041  0.988451 -0.942026\n",
              "2019-08-21  0.952091 -0.436621 -0.402050  0.861342  0.619983\n",
              "2019-08-22  1.056717  0.515100 -2.015348  0.021585 -1.228765\n",
              "2019-08-23 -2.147331 -1.152916  1.613323 -0.664244 -0.684208\n",
              "\n",
              "[600 rows x 5 columns]"
            ]
          },
          "metadata": {
            "tags": []
          },
          "execution_count": 4
        }
      ]
    },
    {
      "cell_type": "code",
      "metadata": {
        "colab": {
          "base_uri": "https://localhost:8080/",
          "height": 143
        },
        "id": "pdramcBQ4HEF",
        "outputId": "5b1d652d-4d2e-4576-f3b2-a319fc6d507f"
      },
      "source": [
        "df.head(3)"
      ],
      "execution_count": 5,
      "outputs": [
        {
          "output_type": "execute_result",
          "data": {
            "text/html": [
              "<div>\n",
              "<style scoped>\n",
              "    .dataframe tbody tr th:only-of-type {\n",
              "        vertical-align: middle;\n",
              "    }\n",
              "\n",
              "    .dataframe tbody tr th {\n",
              "        vertical-align: top;\n",
              "    }\n",
              "\n",
              "    .dataframe thead th {\n",
              "        text-align: right;\n",
              "    }\n",
              "</style>\n",
              "<table border=\"1\" class=\"dataframe\">\n",
              "  <thead>\n",
              "    <tr style=\"text-align: right;\">\n",
              "      <th></th>\n",
              "      <th>A</th>\n",
              "      <th>B</th>\n",
              "      <th>C</th>\n",
              "      <th>D</th>\n",
              "      <th>E</th>\n",
              "    </tr>\n",
              "  </thead>\n",
              "  <tbody>\n",
              "    <tr>\n",
              "      <th>2018-01-01</th>\n",
              "      <td>0.458124</td>\n",
              "      <td>0.361048</td>\n",
              "      <td>0.386060</td>\n",
              "      <td>0.822860</td>\n",
              "      <td>-0.389255</td>\n",
              "    </tr>\n",
              "    <tr>\n",
              "      <th>2018-01-02</th>\n",
              "      <td>1.278400</td>\n",
              "      <td>1.126669</td>\n",
              "      <td>1.013607</td>\n",
              "      <td>0.248934</td>\n",
              "      <td>0.861098</td>\n",
              "    </tr>\n",
              "    <tr>\n",
              "      <th>2018-01-03</th>\n",
              "      <td>-1.005659</td>\n",
              "      <td>0.700388</td>\n",
              "      <td>-0.763603</td>\n",
              "      <td>0.489520</td>\n",
              "      <td>-1.175480</td>\n",
              "    </tr>\n",
              "  </tbody>\n",
              "</table>\n",
              "</div>"
            ],
            "text/plain": [
              "                   A         B         C         D         E\n",
              "2018-01-01  0.458124  0.361048  0.386060  0.822860 -0.389255\n",
              "2018-01-02  1.278400  1.126669  1.013607  0.248934  0.861098\n",
              "2018-01-03 -1.005659  0.700388 -0.763603  0.489520 -1.175480"
            ]
          },
          "metadata": {
            "tags": []
          },
          "execution_count": 5
        }
      ]
    },
    {
      "cell_type": "code",
      "metadata": {
        "colab": {
          "base_uri": "https://localhost:8080/"
        },
        "id": "4_PcI5Km4HHg",
        "outputId": "0fbecb96-f6d8-45e5-aaa0-61b21f416c7c"
      },
      "source": [
        "df.A"
      ],
      "execution_count": 6,
      "outputs": [
        {
          "output_type": "execute_result",
          "data": {
            "text/plain": [
              "2018-01-01    0.458124\n",
              "2018-01-02    1.278400\n",
              "2018-01-03   -1.005659\n",
              "2018-01-04   -0.652949\n",
              "2018-01-05   -0.866456\n",
              "                ...   \n",
              "2019-08-19    1.685950\n",
              "2019-08-20   -0.364027\n",
              "2019-08-21    0.952091\n",
              "2019-08-22    1.056717\n",
              "2019-08-23   -2.147331\n",
              "Freq: D, Name: A, Length: 600, dtype: float64"
            ]
          },
          "metadata": {
            "tags": []
          },
          "execution_count": 6
        }
      ]
    },
    {
      "cell_type": "code",
      "metadata": {
        "colab": {
          "base_uri": "https://localhost:8080/"
        },
        "id": "QGCgY9DE4HK-",
        "outputId": "54844cce-81d4-49cb-e810-025c44e41e18"
      },
      "source": [
        "df['A']"
      ],
      "execution_count": 7,
      "outputs": [
        {
          "output_type": "execute_result",
          "data": {
            "text/plain": [
              "2018-01-01    0.458124\n",
              "2018-01-02    1.278400\n",
              "2018-01-03   -1.005659\n",
              "2018-01-04   -0.652949\n",
              "2018-01-05   -0.866456\n",
              "                ...   \n",
              "2019-08-19    1.685950\n",
              "2019-08-20   -0.364027\n",
              "2019-08-21    0.952091\n",
              "2019-08-22    1.056717\n",
              "2019-08-23   -2.147331\n",
              "Freq: D, Name: A, Length: 600, dtype: float64"
            ]
          },
          "metadata": {
            "tags": []
          },
          "execution_count": 7
        }
      ]
    },
    {
      "cell_type": "code",
      "metadata": {
        "colab": {
          "base_uri": "https://localhost:8080/",
          "height": 424
        },
        "id": "vwYuTS565Ldw",
        "outputId": "c09bb9a4-f8d8-47ca-bc56-4987246cd9de"
      },
      "source": [
        "df[df.A > 0]"
      ],
      "execution_count": 8,
      "outputs": [
        {
          "output_type": "execute_result",
          "data": {
            "text/html": [
              "<div>\n",
              "<style scoped>\n",
              "    .dataframe tbody tr th:only-of-type {\n",
              "        vertical-align: middle;\n",
              "    }\n",
              "\n",
              "    .dataframe tbody tr th {\n",
              "        vertical-align: top;\n",
              "    }\n",
              "\n",
              "    .dataframe thead th {\n",
              "        text-align: right;\n",
              "    }\n",
              "</style>\n",
              "<table border=\"1\" class=\"dataframe\">\n",
              "  <thead>\n",
              "    <tr style=\"text-align: right;\">\n",
              "      <th></th>\n",
              "      <th>A</th>\n",
              "      <th>B</th>\n",
              "      <th>C</th>\n",
              "      <th>D</th>\n",
              "      <th>E</th>\n",
              "    </tr>\n",
              "  </thead>\n",
              "  <tbody>\n",
              "    <tr>\n",
              "      <th>2018-01-01</th>\n",
              "      <td>0.458124</td>\n",
              "      <td>0.361048</td>\n",
              "      <td>0.386060</td>\n",
              "      <td>0.822860</td>\n",
              "      <td>-0.389255</td>\n",
              "    </tr>\n",
              "    <tr>\n",
              "      <th>2018-01-02</th>\n",
              "      <td>1.278400</td>\n",
              "      <td>1.126669</td>\n",
              "      <td>1.013607</td>\n",
              "      <td>0.248934</td>\n",
              "      <td>0.861098</td>\n",
              "    </tr>\n",
              "    <tr>\n",
              "      <th>2018-01-07</th>\n",
              "      <td>1.135040</td>\n",
              "      <td>1.278587</td>\n",
              "      <td>0.420068</td>\n",
              "      <td>-0.027265</td>\n",
              "      <td>0.937843</td>\n",
              "    </tr>\n",
              "    <tr>\n",
              "      <th>2018-01-10</th>\n",
              "      <td>1.706402</td>\n",
              "      <td>0.176086</td>\n",
              "      <td>-1.284193</td>\n",
              "      <td>1.104700</td>\n",
              "      <td>0.618488</td>\n",
              "    </tr>\n",
              "    <tr>\n",
              "      <th>2018-01-16</th>\n",
              "      <td>1.248448</td>\n",
              "      <td>0.249784</td>\n",
              "      <td>1.557056</td>\n",
              "      <td>-2.376137</td>\n",
              "      <td>-1.323134</td>\n",
              "    </tr>\n",
              "    <tr>\n",
              "      <th>...</th>\n",
              "      <td>...</td>\n",
              "      <td>...</td>\n",
              "      <td>...</td>\n",
              "      <td>...</td>\n",
              "      <td>...</td>\n",
              "    </tr>\n",
              "    <tr>\n",
              "      <th>2019-08-17</th>\n",
              "      <td>0.131663</td>\n",
              "      <td>-0.476446</td>\n",
              "      <td>-0.298875</td>\n",
              "      <td>1.786343</td>\n",
              "      <td>0.019506</td>\n",
              "    </tr>\n",
              "    <tr>\n",
              "      <th>2019-08-18</th>\n",
              "      <td>0.463030</td>\n",
              "      <td>-0.607038</td>\n",
              "      <td>0.941854</td>\n",
              "      <td>0.480105</td>\n",
              "      <td>1.040657</td>\n",
              "    </tr>\n",
              "    <tr>\n",
              "      <th>2019-08-19</th>\n",
              "      <td>1.685950</td>\n",
              "      <td>-0.110865</td>\n",
              "      <td>-0.469234</td>\n",
              "      <td>0.601667</td>\n",
              "      <td>-0.061678</td>\n",
              "    </tr>\n",
              "    <tr>\n",
              "      <th>2019-08-21</th>\n",
              "      <td>0.952091</td>\n",
              "      <td>-0.436621</td>\n",
              "      <td>-0.402050</td>\n",
              "      <td>0.861342</td>\n",
              "      <td>0.619983</td>\n",
              "    </tr>\n",
              "    <tr>\n",
              "      <th>2019-08-22</th>\n",
              "      <td>1.056717</td>\n",
              "      <td>0.515100</td>\n",
              "      <td>-2.015348</td>\n",
              "      <td>0.021585</td>\n",
              "      <td>-1.228765</td>\n",
              "    </tr>\n",
              "  </tbody>\n",
              "</table>\n",
              "<p>303 rows × 5 columns</p>\n",
              "</div>"
            ],
            "text/plain": [
              "                   A         B         C         D         E\n",
              "2018-01-01  0.458124  0.361048  0.386060  0.822860 -0.389255\n",
              "2018-01-02  1.278400  1.126669  1.013607  0.248934  0.861098\n",
              "2018-01-07  1.135040  1.278587  0.420068 -0.027265  0.937843\n",
              "2018-01-10  1.706402  0.176086 -1.284193  1.104700  0.618488\n",
              "2018-01-16  1.248448  0.249784  1.557056 -2.376137 -1.323134\n",
              "...              ...       ...       ...       ...       ...\n",
              "2019-08-17  0.131663 -0.476446 -0.298875  1.786343  0.019506\n",
              "2019-08-18  0.463030 -0.607038  0.941854  0.480105  1.040657\n",
              "2019-08-19  1.685950 -0.110865 -0.469234  0.601667 -0.061678\n",
              "2019-08-21  0.952091 -0.436621 -0.402050  0.861342  0.619983\n",
              "2019-08-22  1.056717  0.515100 -2.015348  0.021585 -1.228765\n",
              "\n",
              "[303 rows x 5 columns]"
            ]
          },
          "metadata": {
            "tags": []
          },
          "execution_count": 8
        }
      ]
    },
    {
      "cell_type": "code",
      "metadata": {
        "colab": {
          "base_uri": "https://localhost:8080/",
          "height": 424
        },
        "id": "KRYGuBjQ5Lva",
        "outputId": "bbe5cf50-49f1-4d8f-d0a5-84bb7b16dc59"
      },
      "source": [
        "df[df>0]"
      ],
      "execution_count": 11,
      "outputs": [
        {
          "output_type": "execute_result",
          "data": {
            "text/html": [
              "<div>\n",
              "<style scoped>\n",
              "    .dataframe tbody tr th:only-of-type {\n",
              "        vertical-align: middle;\n",
              "    }\n",
              "\n",
              "    .dataframe tbody tr th {\n",
              "        vertical-align: top;\n",
              "    }\n",
              "\n",
              "    .dataframe thead th {\n",
              "        text-align: right;\n",
              "    }\n",
              "</style>\n",
              "<table border=\"1\" class=\"dataframe\">\n",
              "  <thead>\n",
              "    <tr style=\"text-align: right;\">\n",
              "      <th></th>\n",
              "      <th>A</th>\n",
              "      <th>B</th>\n",
              "      <th>C</th>\n",
              "      <th>D</th>\n",
              "      <th>E</th>\n",
              "    </tr>\n",
              "  </thead>\n",
              "  <tbody>\n",
              "    <tr>\n",
              "      <th>2018-01-01</th>\n",
              "      <td>0.458124</td>\n",
              "      <td>0.361048</td>\n",
              "      <td>0.386060</td>\n",
              "      <td>0.822860</td>\n",
              "      <td>NaN</td>\n",
              "    </tr>\n",
              "    <tr>\n",
              "      <th>2018-01-02</th>\n",
              "      <td>1.278400</td>\n",
              "      <td>1.126669</td>\n",
              "      <td>1.013607</td>\n",
              "      <td>0.248934</td>\n",
              "      <td>0.861098</td>\n",
              "    </tr>\n",
              "    <tr>\n",
              "      <th>2018-01-03</th>\n",
              "      <td>NaN</td>\n",
              "      <td>0.700388</td>\n",
              "      <td>NaN</td>\n",
              "      <td>0.489520</td>\n",
              "      <td>NaN</td>\n",
              "    </tr>\n",
              "    <tr>\n",
              "      <th>2018-01-04</th>\n",
              "      <td>NaN</td>\n",
              "      <td>1.510817</td>\n",
              "      <td>1.129974</td>\n",
              "      <td>0.774839</td>\n",
              "      <td>NaN</td>\n",
              "    </tr>\n",
              "    <tr>\n",
              "      <th>2018-01-05</th>\n",
              "      <td>NaN</td>\n",
              "      <td>NaN</td>\n",
              "      <td>NaN</td>\n",
              "      <td>0.929202</td>\n",
              "      <td>1.102482</td>\n",
              "    </tr>\n",
              "    <tr>\n",
              "      <th>...</th>\n",
              "      <td>...</td>\n",
              "      <td>...</td>\n",
              "      <td>...</td>\n",
              "      <td>...</td>\n",
              "      <td>...</td>\n",
              "    </tr>\n",
              "    <tr>\n",
              "      <th>2019-08-19</th>\n",
              "      <td>1.685950</td>\n",
              "      <td>NaN</td>\n",
              "      <td>NaN</td>\n",
              "      <td>0.601667</td>\n",
              "      <td>NaN</td>\n",
              "    </tr>\n",
              "    <tr>\n",
              "      <th>2019-08-20</th>\n",
              "      <td>NaN</td>\n",
              "      <td>NaN</td>\n",
              "      <td>NaN</td>\n",
              "      <td>0.988451</td>\n",
              "      <td>NaN</td>\n",
              "    </tr>\n",
              "    <tr>\n",
              "      <th>2019-08-21</th>\n",
              "      <td>0.952091</td>\n",
              "      <td>NaN</td>\n",
              "      <td>NaN</td>\n",
              "      <td>0.861342</td>\n",
              "      <td>0.619983</td>\n",
              "    </tr>\n",
              "    <tr>\n",
              "      <th>2019-08-22</th>\n",
              "      <td>1.056717</td>\n",
              "      <td>0.515100</td>\n",
              "      <td>NaN</td>\n",
              "      <td>0.021585</td>\n",
              "      <td>NaN</td>\n",
              "    </tr>\n",
              "    <tr>\n",
              "      <th>2019-08-23</th>\n",
              "      <td>NaN</td>\n",
              "      <td>NaN</td>\n",
              "      <td>1.613323</td>\n",
              "      <td>NaN</td>\n",
              "      <td>NaN</td>\n",
              "    </tr>\n",
              "  </tbody>\n",
              "</table>\n",
              "<p>600 rows × 5 columns</p>\n",
              "</div>"
            ],
            "text/plain": [
              "                   A         B         C         D         E\n",
              "2018-01-01  0.458124  0.361048  0.386060  0.822860       NaN\n",
              "2018-01-02  1.278400  1.126669  1.013607  0.248934  0.861098\n",
              "2018-01-03       NaN  0.700388       NaN  0.489520       NaN\n",
              "2018-01-04       NaN  1.510817  1.129974  0.774839       NaN\n",
              "2018-01-05       NaN       NaN       NaN  0.929202  1.102482\n",
              "...              ...       ...       ...       ...       ...\n",
              "2019-08-19  1.685950       NaN       NaN  0.601667       NaN\n",
              "2019-08-20       NaN       NaN       NaN  0.988451       NaN\n",
              "2019-08-21  0.952091       NaN       NaN  0.861342  0.619983\n",
              "2019-08-22  1.056717  0.515100       NaN  0.021585       NaN\n",
              "2019-08-23       NaN       NaN  1.613323       NaN       NaN\n",
              "\n",
              "[600 rows x 5 columns]"
            ]
          },
          "metadata": {
            "tags": []
          },
          "execution_count": 11
        }
      ]
    }
  ]
}