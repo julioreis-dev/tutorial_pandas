{
  "nbformat": 4,
  "nbformat_minor": 0,
  "metadata": {
    "colab": {
      "name": "regressao_linear.ipynb",
      "provenance": [],
      "mount_file_id": "1ANHBFajTqwl5XO35S6oy7QwXCEBQvydN",
      "authorship_tag": "ABX9TyOEG1QG6DGJERRn24Wvjomb",
      "include_colab_link": true
    },
    "kernelspec": {
      "name": "python3",
      "display_name": "Python 3"
    },
    "language_info": {
      "name": "python"
    }
  },
  "cells": [
    {
      "cell_type": "markdown",
      "metadata": {
        "id": "view-in-github",
        "colab_type": "text"
      },
      "source": [
        "<a href=\"https://colab.research.google.com/github/julioreis-dev/tutorial_pandas/blob/main/regressao_linear.ipynb\" target=\"_parent\"><img src=\"https://colab.research.google.com/assets/colab-badge.svg\" alt=\"Open In Colab\"/></a>"
      ]
    },
    {
      "cell_type": "code",
      "metadata": {
        "id": "xHGCc0DZz2lf"
      },
      "source": [
        "import pandas as pd\n",
        "import numpy as np\n",
        "from sklearn.linear_model import LinearRegression"
      ],
      "execution_count": 10,
      "outputs": []
    },
    {
      "cell_type": "code",
      "metadata": {
        "colab": {
          "base_uri": "https://localhost:8080/"
        },
        "id": "jAQ020Ys0SIG",
        "outputId": "55bc393d-a0f7-454e-b74a-b6743d95130b"
      },
      "source": [
        "x = np.array([5, 15, 25, 35, 45, 55]).reshape((-1,1))\n",
        "x"
      ],
      "execution_count": 11,
      "outputs": [
        {
          "output_type": "execute_result",
          "data": {
            "text/plain": [
              "array([[ 5],\n",
              "       [15],\n",
              "       [25],\n",
              "       [35],\n",
              "       [45],\n",
              "       [55]])"
            ]
          },
          "metadata": {
            "tags": []
          },
          "execution_count": 11
        }
      ]
    },
    {
      "cell_type": "code",
      "metadata": {
        "colab": {
          "base_uri": "https://localhost:8080/"
        },
        "id": "WQWNP4Qh0hwF",
        "outputId": "c488ce73-7e5d-41c0-b095-bff5376099c7"
      },
      "source": [
        "y = np.array([5, 20, 14, 32, 22, 38]).reshape((-1,1))\n",
        "y"
      ],
      "execution_count": 12,
      "outputs": [
        {
          "output_type": "execute_result",
          "data": {
            "text/plain": [
              "array([[ 5],\n",
              "       [20],\n",
              "       [14],\n",
              "       [32],\n",
              "       [22],\n",
              "       [38]])"
            ]
          },
          "metadata": {
            "tags": []
          },
          "execution_count": 12
        }
      ]
    },
    {
      "cell_type": "code",
      "metadata": {
        "colab": {
          "base_uri": "https://localhost:8080/"
        },
        "id": "mXOmcj1C1Ab9",
        "outputId": "fcf20a7d-e738-4ebc-d1ee-c4a93b26217c"
      },
      "source": [
        "model = LinearRegression()\n",
        "model.fit(x, y)"
      ],
      "execution_count": 13,
      "outputs": [
        {
          "output_type": "execute_result",
          "data": {
            "text/plain": [
              "LinearRegression(copy_X=True, fit_intercept=True, n_jobs=None, normalize=False)"
            ]
          },
          "metadata": {
            "tags": []
          },
          "execution_count": 13
        }
      ]
    },
    {
      "cell_type": "code",
      "metadata": {
        "colab": {
          "base_uri": "https://localhost:8080/"
        },
        "id": "iFniyYbI1AfB",
        "outputId": "f1e9c66d-2921-4acc-cee1-13ae28c69970"
      },
      "source": [
        "# 4. Avalia o modelo\n",
        "print('coeficiente de determinação:', model.score(x, y))\n",
        "\n",
        "# Intercept\n",
        "print('intercept:', model.intercept_)\n",
        "\n",
        "# Slope\n",
        "print('slope:', model.coef_)\n",
        "\n"
      ],
      "execution_count": 14,
      "outputs": [
        {
          "output_type": "stream",
          "text": [
            "coeficiente de determinação: 0.7158756137479542\n",
            "intercept: [5.63333333]\n",
            "slope: [[0.54]]\n"
          ],
          "name": "stdout"
        }
      ]
    },
    {
      "cell_type": "markdown",
      "metadata": {
        "id": "Z_H9RbV91eaX"
      },
      "source": [
        "# **Criação de um novo conjunto de dados**"
      ]
    },
    {
      "cell_type": "code",
      "metadata": {
        "colab": {
          "base_uri": "https://localhost:8080/"
        },
        "id": "i1vM00pO1Ahq",
        "outputId": "9312a334-a9f5-4cc9-d242-3be874bca01c"
      },
      "source": [
        "novo_x = np.arange(5).reshape((-1, 1))\n",
        "novo_x"
      ],
      "execution_count": 15,
      "outputs": [
        {
          "output_type": "execute_result",
          "data": {
            "text/plain": [
              "array([[0],\n",
              "       [1],\n",
              "       [2],\n",
              "       [3],\n",
              "       [4]])"
            ]
          },
          "metadata": {
            "tags": []
          },
          "execution_count": 15
        }
      ]
    },
    {
      "cell_type": "code",
      "metadata": {
        "colab": {
          "base_uri": "https://localhost:8080/"
        },
        "id": "CXKC983Z1Aky",
        "outputId": "4c0d8c0d-43a6-403e-982f-3fdd64c7d2c4"
      },
      "source": [
        "previsão_y = model.predict(novo_x)\n",
        "previsão_y"
      ],
      "execution_count": 16,
      "outputs": [
        {
          "output_type": "execute_result",
          "data": {
            "text/plain": [
              "array([[5.63333333],\n",
              "       [6.17333333],\n",
              "       [6.71333333],\n",
              "       [7.25333333],\n",
              "       [7.79333333]])"
            ]
          },
          "metadata": {
            "tags": []
          },
          "execution_count": 16
        }
      ]
    },
    {
      "cell_type": "code",
      "metadata": {
        "id": "L_RkqYi-2C0J"
      },
      "source": [
        ""
      ],
      "execution_count": 16,
      "outputs": []
    },
    {
      "cell_type": "code",
      "metadata": {
        "colab": {
          "base_uri": "https://localhost:8080/"
        },
        "id": "5S-NflG11Anr",
        "outputId": "b800eed3-0c39-44bb-8219-a5664af66689"
      },
      "source": [
        "horas_estudo = np.array([1, 5, 7, 8, 10, 11, 14, 15, 15, 19]).reshape((-1, 1))\n",
        "horas_estudo"
      ],
      "execution_count": 17,
      "outputs": [
        {
          "output_type": "execute_result",
          "data": {
            "text/plain": [
              "array([[ 1],\n",
              "       [ 5],\n",
              "       [ 7],\n",
              "       [ 8],\n",
              "       [10],\n",
              "       [11],\n",
              "       [14],\n",
              "       [15],\n",
              "       [15],\n",
              "       [19]])"
            ]
          },
          "metadata": {
            "tags": []
          },
          "execution_count": 17
        }
      ]
    },
    {
      "cell_type": "code",
      "metadata": {
        "colab": {
          "base_uri": "https://localhost:8080/"
        },
        "id": "2BpQVyxJ1AqU",
        "outputId": "4ab75dc2-e69d-461b-df5f-72074847b56d"
      },
      "source": [
        "nota = np.array([53, 74, 59, 43, 56, 84, 96, 69, 84, 83]).reshape((-1, 1))\n",
        "nota"
      ],
      "execution_count": 18,
      "outputs": [
        {
          "output_type": "execute_result",
          "data": {
            "text/plain": [
              "array([[53],\n",
              "       [74],\n",
              "       [59],\n",
              "       [43],\n",
              "       [56],\n",
              "       [84],\n",
              "       [96],\n",
              "       [69],\n",
              "       [84],\n",
              "       [83]])"
            ]
          },
          "metadata": {
            "tags": []
          },
          "execution_count": 18
        }
      ]
    },
    {
      "cell_type": "code",
      "metadata": {
        "colab": {
          "base_uri": "https://localhost:8080/"
        },
        "id": "zaPmwwZW33tP",
        "outputId": "2b964a0e-c364-416f-fac3-40eda1473c74"
      },
      "source": [
        "modelo = LinearRegression()\n",
        "modelo.fit(horas_estudo, nota)"
      ],
      "execution_count": 19,
      "outputs": [
        {
          "output_type": "execute_result",
          "data": {
            "text/plain": [
              "LinearRegression(copy_X=True, fit_intercept=True, n_jobs=None, normalize=False)"
            ]
          },
          "metadata": {
            "tags": []
          },
          "execution_count": 19
        }
      ]
    },
    {
      "cell_type": "code",
      "metadata": {
        "colab": {
          "base_uri": "https://localhost:8080/"
        },
        "id": "riwlLoBt3358",
        "outputId": "75658e18-c902-4c9a-8031-2d88a05c4bec"
      },
      "source": [
        "# 4. Avalia o modelo\n",
        "print('coeficiente de determinação:', modelo.score(x, y))\n",
        "\n",
        "# Intercept\n",
        "print('intercept:', modelo.intercept_)\n",
        "\n",
        "# Slope\n",
        "print('slope:', modelo.coef_)"
      ],
      "execution_count": 20,
      "outputs": [
        {
          "output_type": "stream",
          "text": [
            "coeficiente de determinação: -67.33840049588197\n",
            "intercept: [49.47712665]\n",
            "slope: [[1.96408318]]\n"
          ],
          "name": "stdout"
        }
      ]
    },
    {
      "cell_type": "code",
      "metadata": {
        "id": "1YyyqCm3yBSh"
      },
      "source": [
        ""
      ],
      "execution_count": null,
      "outputs": []
    },
    {
      "cell_type": "code",
      "metadata": {
        "id": "YZ3EH258yBak"
      },
      "source": [
        ""
      ],
      "execution_count": null,
      "outputs": []
    },
    {
      "cell_type": "code",
      "metadata": {
        "id": "i1jC7SHHyBdw"
      },
      "source": [
        ""
      ],
      "execution_count": null,
      "outputs": []
    },
    {
      "cell_type": "code",
      "metadata": {
        "id": "mC6FfvvwyBi9"
      },
      "source": [
        ""
      ],
      "execution_count": null,
      "outputs": []
    },
    {
      "cell_type": "code",
      "metadata": {
        "id": "3-Dp9kfYyBl1"
      },
      "source": [
        ""
      ],
      "execution_count": null,
      "outputs": []
    },
    {
      "cell_type": "code",
      "metadata": {
        "id": "X8nTBn4x339o"
      },
      "source": [
        "projeto1_url = '/content/drive/MyDrive/staging/boston.csv'"
      ],
      "execution_count": 23,
      "outputs": []
    },
    {
      "cell_type": "code",
      "metadata": {
        "id": "N7e-0V-N34A-"
      },
      "source": [
        "projeto1 = pd.read_csv(projeto1_url)"
      ],
      "execution_count": 24,
      "outputs": []
    },
    {
      "cell_type": "code",
      "metadata": {
        "colab": {
          "base_uri": "https://localhost:8080/"
        },
        "id": "RjepMj3gwc9Z",
        "outputId": "480cc219-d29b-437c-ceb0-518a31c08ef1"
      },
      "source": [
        "projeto1.shape[0]"
      ],
      "execution_count": 31,
      "outputs": [
        {
          "output_type": "execute_result",
          "data": {
            "text/plain": [
              "506"
            ]
          },
          "metadata": {
            "tags": []
          },
          "execution_count": 31
        }
      ]
    },
    {
      "cell_type": "code",
      "metadata": {
        "id": "yCd_9Xk634E4",
        "colab": {
          "base_uri": "https://localhost:8080/",
          "height": 206
        },
        "outputId": "b47aeed8-6318-4314-8ee3-7bbbe5b5ce2a"
      },
      "source": [
        "projeto1.head()"
      ],
      "execution_count": 25,
      "outputs": [
        {
          "output_type": "execute_result",
          "data": {
            "text/html": [
              "<div>\n",
              "<style scoped>\n",
              "    .dataframe tbody tr th:only-of-type {\n",
              "        vertical-align: middle;\n",
              "    }\n",
              "\n",
              "    .dataframe tbody tr th {\n",
              "        vertical-align: top;\n",
              "    }\n",
              "\n",
              "    .dataframe thead th {\n",
              "        text-align: right;\n",
              "    }\n",
              "</style>\n",
              "<table border=\"1\" class=\"dataframe\">\n",
              "  <thead>\n",
              "    <tr style=\"text-align: right;\">\n",
              "      <th></th>\n",
              "      <th>Unnamed: 0</th>\n",
              "      <th>CRIM</th>\n",
              "      <th>ZN</th>\n",
              "      <th>INDUS</th>\n",
              "      <th>CHAS</th>\n",
              "      <th>NOX</th>\n",
              "      <th>RM</th>\n",
              "      <th>AGE</th>\n",
              "      <th>DIS</th>\n",
              "      <th>RAD</th>\n",
              "      <th>TAX</th>\n",
              "      <th>PTRATIO</th>\n",
              "      <th>B</th>\n",
              "      <th>LSTAT</th>\n",
              "      <th>PRICE</th>\n",
              "    </tr>\n",
              "  </thead>\n",
              "  <tbody>\n",
              "    <tr>\n",
              "      <th>0</th>\n",
              "      <td>0</td>\n",
              "      <td>0.00632</td>\n",
              "      <td>18.0</td>\n",
              "      <td>2.31</td>\n",
              "      <td>0.0</td>\n",
              "      <td>0.538</td>\n",
              "      <td>6.575</td>\n",
              "      <td>65.2</td>\n",
              "      <td>4.0900</td>\n",
              "      <td>1.0</td>\n",
              "      <td>296.0</td>\n",
              "      <td>15.3</td>\n",
              "      <td>396.90</td>\n",
              "      <td>4.98</td>\n",
              "      <td>24.0</td>\n",
              "    </tr>\n",
              "    <tr>\n",
              "      <th>1</th>\n",
              "      <td>1</td>\n",
              "      <td>0.02731</td>\n",
              "      <td>0.0</td>\n",
              "      <td>7.07</td>\n",
              "      <td>0.0</td>\n",
              "      <td>0.469</td>\n",
              "      <td>6.421</td>\n",
              "      <td>78.9</td>\n",
              "      <td>4.9671</td>\n",
              "      <td>2.0</td>\n",
              "      <td>242.0</td>\n",
              "      <td>17.8</td>\n",
              "      <td>396.90</td>\n",
              "      <td>9.14</td>\n",
              "      <td>21.6</td>\n",
              "    </tr>\n",
              "    <tr>\n",
              "      <th>2</th>\n",
              "      <td>2</td>\n",
              "      <td>0.02729</td>\n",
              "      <td>0.0</td>\n",
              "      <td>7.07</td>\n",
              "      <td>0.0</td>\n",
              "      <td>0.469</td>\n",
              "      <td>7.185</td>\n",
              "      <td>61.1</td>\n",
              "      <td>4.9671</td>\n",
              "      <td>2.0</td>\n",
              "      <td>242.0</td>\n",
              "      <td>17.8</td>\n",
              "      <td>392.83</td>\n",
              "      <td>4.03</td>\n",
              "      <td>34.7</td>\n",
              "    </tr>\n",
              "    <tr>\n",
              "      <th>3</th>\n",
              "      <td>3</td>\n",
              "      <td>0.03237</td>\n",
              "      <td>0.0</td>\n",
              "      <td>2.18</td>\n",
              "      <td>0.0</td>\n",
              "      <td>0.458</td>\n",
              "      <td>6.998</td>\n",
              "      <td>45.8</td>\n",
              "      <td>6.0622</td>\n",
              "      <td>3.0</td>\n",
              "      <td>222.0</td>\n",
              "      <td>18.7</td>\n",
              "      <td>394.63</td>\n",
              "      <td>2.94</td>\n",
              "      <td>33.4</td>\n",
              "    </tr>\n",
              "    <tr>\n",
              "      <th>4</th>\n",
              "      <td>4</td>\n",
              "      <td>0.06905</td>\n",
              "      <td>0.0</td>\n",
              "      <td>2.18</td>\n",
              "      <td>0.0</td>\n",
              "      <td>0.458</td>\n",
              "      <td>7.147</td>\n",
              "      <td>54.2</td>\n",
              "      <td>6.0622</td>\n",
              "      <td>3.0</td>\n",
              "      <td>222.0</td>\n",
              "      <td>18.7</td>\n",
              "      <td>396.90</td>\n",
              "      <td>5.33</td>\n",
              "      <td>36.2</td>\n",
              "    </tr>\n",
              "  </tbody>\n",
              "</table>\n",
              "</div>"
            ],
            "text/plain": [
              "   Unnamed: 0     CRIM    ZN  INDUS  CHAS  ...    TAX  PTRATIO       B  LSTAT  PRICE\n",
              "0           0  0.00632  18.0   2.31   0.0  ...  296.0     15.3  396.90   4.98   24.0\n",
              "1           1  0.02731   0.0   7.07   0.0  ...  242.0     17.8  396.90   9.14   21.6\n",
              "2           2  0.02729   0.0   7.07   0.0  ...  242.0     17.8  392.83   4.03   34.7\n",
              "3           3  0.03237   0.0   2.18   0.0  ...  222.0     18.7  394.63   2.94   33.4\n",
              "4           4  0.06905   0.0   2.18   0.0  ...  222.0     18.7  396.90   5.33   36.2\n",
              "\n",
              "[5 rows x 15 columns]"
            ]
          },
          "metadata": {
            "tags": []
          },
          "execution_count": 25
        }
      ]
    },
    {
      "cell_type": "code",
      "metadata": {
        "id": "C2wTeuGQ34VR"
      },
      "source": [
        "df_part = pd.read_csv(projeto1_url, nrows=100)"
      ],
      "execution_count": 32,
      "outputs": []
    },
    {
      "cell_type": "code",
      "metadata": {
        "colab": {
          "base_uri": "https://localhost:8080/"
        },
        "id": "1h5s6_zix0X8",
        "outputId": "7a15af03-a743-4b21-ecc6-921481c13708"
      },
      "source": [
        "df_part.shape"
      ],
      "execution_count": 33,
      "outputs": [
        {
          "output_type": "execute_result",
          "data": {
            "text/plain": [
              "(100, 15)"
            ]
          },
          "metadata": {
            "tags": []
          },
          "execution_count": 33
        }
      ]
    },
    {
      "cell_type": "code",
      "metadata": {
        "colab": {
          "base_uri": "https://localhost:8080/",
          "height": 206
        },
        "id": "sykvf17Ox3mh",
        "outputId": "49d34c38-eeff-435a-d0df-c73f73df7c3c"
      },
      "source": [
        "df_part.head()"
      ],
      "execution_count": 34,
      "outputs": [
        {
          "output_type": "execute_result",
          "data": {
            "text/html": [
              "<div>\n",
              "<style scoped>\n",
              "    .dataframe tbody tr th:only-of-type {\n",
              "        vertical-align: middle;\n",
              "    }\n",
              "\n",
              "    .dataframe tbody tr th {\n",
              "        vertical-align: top;\n",
              "    }\n",
              "\n",
              "    .dataframe thead th {\n",
              "        text-align: right;\n",
              "    }\n",
              "</style>\n",
              "<table border=\"1\" class=\"dataframe\">\n",
              "  <thead>\n",
              "    <tr style=\"text-align: right;\">\n",
              "      <th></th>\n",
              "      <th>Unnamed: 0</th>\n",
              "      <th>CRIM</th>\n",
              "      <th>ZN</th>\n",
              "      <th>INDUS</th>\n",
              "      <th>CHAS</th>\n",
              "      <th>NOX</th>\n",
              "      <th>RM</th>\n",
              "      <th>AGE</th>\n",
              "      <th>DIS</th>\n",
              "      <th>RAD</th>\n",
              "      <th>TAX</th>\n",
              "      <th>PTRATIO</th>\n",
              "      <th>B</th>\n",
              "      <th>LSTAT</th>\n",
              "      <th>PRICE</th>\n",
              "    </tr>\n",
              "  </thead>\n",
              "  <tbody>\n",
              "    <tr>\n",
              "      <th>0</th>\n",
              "      <td>0</td>\n",
              "      <td>0.00632</td>\n",
              "      <td>18.0</td>\n",
              "      <td>2.31</td>\n",
              "      <td>0.0</td>\n",
              "      <td>0.538</td>\n",
              "      <td>6.575</td>\n",
              "      <td>65.2</td>\n",
              "      <td>4.0900</td>\n",
              "      <td>1.0</td>\n",
              "      <td>296.0</td>\n",
              "      <td>15.3</td>\n",
              "      <td>396.90</td>\n",
              "      <td>4.98</td>\n",
              "      <td>24.0</td>\n",
              "    </tr>\n",
              "    <tr>\n",
              "      <th>1</th>\n",
              "      <td>1</td>\n",
              "      <td>0.02731</td>\n",
              "      <td>0.0</td>\n",
              "      <td>7.07</td>\n",
              "      <td>0.0</td>\n",
              "      <td>0.469</td>\n",
              "      <td>6.421</td>\n",
              "      <td>78.9</td>\n",
              "      <td>4.9671</td>\n",
              "      <td>2.0</td>\n",
              "      <td>242.0</td>\n",
              "      <td>17.8</td>\n",
              "      <td>396.90</td>\n",
              "      <td>9.14</td>\n",
              "      <td>21.6</td>\n",
              "    </tr>\n",
              "    <tr>\n",
              "      <th>2</th>\n",
              "      <td>2</td>\n",
              "      <td>0.02729</td>\n",
              "      <td>0.0</td>\n",
              "      <td>7.07</td>\n",
              "      <td>0.0</td>\n",
              "      <td>0.469</td>\n",
              "      <td>7.185</td>\n",
              "      <td>61.1</td>\n",
              "      <td>4.9671</td>\n",
              "      <td>2.0</td>\n",
              "      <td>242.0</td>\n",
              "      <td>17.8</td>\n",
              "      <td>392.83</td>\n",
              "      <td>4.03</td>\n",
              "      <td>34.7</td>\n",
              "    </tr>\n",
              "    <tr>\n",
              "      <th>3</th>\n",
              "      <td>3</td>\n",
              "      <td>0.03237</td>\n",
              "      <td>0.0</td>\n",
              "      <td>2.18</td>\n",
              "      <td>0.0</td>\n",
              "      <td>0.458</td>\n",
              "      <td>6.998</td>\n",
              "      <td>45.8</td>\n",
              "      <td>6.0622</td>\n",
              "      <td>3.0</td>\n",
              "      <td>222.0</td>\n",
              "      <td>18.7</td>\n",
              "      <td>394.63</td>\n",
              "      <td>2.94</td>\n",
              "      <td>33.4</td>\n",
              "    </tr>\n",
              "    <tr>\n",
              "      <th>4</th>\n",
              "      <td>4</td>\n",
              "      <td>0.06905</td>\n",
              "      <td>0.0</td>\n",
              "      <td>2.18</td>\n",
              "      <td>0.0</td>\n",
              "      <td>0.458</td>\n",
              "      <td>7.147</td>\n",
              "      <td>54.2</td>\n",
              "      <td>6.0622</td>\n",
              "      <td>3.0</td>\n",
              "      <td>222.0</td>\n",
              "      <td>18.7</td>\n",
              "      <td>396.90</td>\n",
              "      <td>5.33</td>\n",
              "      <td>36.2</td>\n",
              "    </tr>\n",
              "  </tbody>\n",
              "</table>\n",
              "</div>"
            ],
            "text/plain": [
              "   Unnamed: 0     CRIM    ZN  INDUS  CHAS  ...    TAX  PTRATIO       B  LSTAT  PRICE\n",
              "0           0  0.00632  18.0   2.31   0.0  ...  296.0     15.3  396.90   4.98   24.0\n",
              "1           1  0.02731   0.0   7.07   0.0  ...  242.0     17.8  396.90   9.14   21.6\n",
              "2           2  0.02729   0.0   7.07   0.0  ...  242.0     17.8  392.83   4.03   34.7\n",
              "3           3  0.03237   0.0   2.18   0.0  ...  222.0     18.7  394.63   2.94   33.4\n",
              "4           4  0.06905   0.0   2.18   0.0  ...  222.0     18.7  396.90   5.33   36.2\n",
              "\n",
              "[5 rows x 15 columns]"
            ]
          },
          "metadata": {
            "tags": []
          },
          "execution_count": 34
        }
      ]
    },
    {
      "cell_type": "code",
      "metadata": {
        "id": "iMGcYRbjyOt9"
      },
      "source": [
        "df_part2 = projeto1.head(100)"
      ],
      "execution_count": 35,
      "outputs": []
    },
    {
      "cell_type": "code",
      "metadata": {
        "colab": {
          "base_uri": "https://localhost:8080/"
        },
        "id": "tsTKYcbvyUk4",
        "outputId": "1c4b94b9-2cef-4900-e530-beda55075c3f"
      },
      "source": [
        "df_part2.shape"
      ],
      "execution_count": 36,
      "outputs": [
        {
          "output_type": "execute_result",
          "data": {
            "text/plain": [
              "(100, 15)"
            ]
          },
          "metadata": {
            "tags": []
          },
          "execution_count": 36
        }
      ]
    },
    {
      "cell_type": "code",
      "metadata": {
        "colab": {
          "base_uri": "https://localhost:8080/"
        },
        "id": "XFWOC4njysx3",
        "outputId": "98409d10-25d5-477e-a041-6f5e117c734f"
      },
      "source": [
        "projeto1.info(memory_usage='deep')"
      ],
      "execution_count": 41,
      "outputs": [
        {
          "output_type": "stream",
          "text": [
            "<class 'pandas.core.frame.DataFrame'>\n",
            "RangeIndex: 506 entries, 0 to 505\n",
            "Data columns (total 15 columns):\n",
            " #   Column      Non-Null Count  Dtype  \n",
            "---  ------      --------------  -----  \n",
            " 0   Unnamed: 0  506 non-null    int64  \n",
            " 1   CRIM        506 non-null    float64\n",
            " 2   ZN          506 non-null    float64\n",
            " 3   INDUS       506 non-null    float64\n",
            " 4   CHAS        506 non-null    float64\n",
            " 5   NOX         506 non-null    float64\n",
            " 6   RM          506 non-null    float64\n",
            " 7   AGE         506 non-null    float64\n",
            " 8   DIS         506 non-null    float64\n",
            " 9   RAD         506 non-null    float64\n",
            " 10  TAX         506 non-null    float64\n",
            " 11  PTRATIO     506 non-null    float64\n",
            " 12  B           506 non-null    float64\n",
            " 13  LSTAT       506 non-null    float64\n",
            " 14  PRICE       506 non-null    float64\n",
            "dtypes: float64(14), int64(1)\n",
            "memory usage: 59.4 KB\n"
          ],
          "name": "stdout"
        }
      ]
    },
    {
      "cell_type": "code",
      "metadata": {
        "colab": {
          "base_uri": "https://localhost:8080/"
        },
        "id": "JD74Hb4OzLcp",
        "outputId": "e9116b30-cb83-4b4e-9354-e88708c058d8"
      },
      "source": [
        "projeto1.memory_usage(deep=True)"
      ],
      "execution_count": 42,
      "outputs": [
        {
          "output_type": "execute_result",
          "data": {
            "text/plain": [
              "Index          128\n",
              "Unnamed: 0    4048\n",
              "CRIM          4048\n",
              "ZN            4048\n",
              "INDUS         4048\n",
              "CHAS          4048\n",
              "NOX           4048\n",
              "RM            4048\n",
              "AGE           4048\n",
              "DIS           4048\n",
              "RAD           4048\n",
              "TAX           4048\n",
              "PTRATIO       4048\n",
              "B             4048\n",
              "LSTAT         4048\n",
              "PRICE         4048\n",
              "dtype: int64"
            ]
          },
          "metadata": {
            "tags": []
          },
          "execution_count": 42
        }
      ]
    },
    {
      "cell_type": "code",
      "metadata": {
        "colab": {
          "base_uri": "https://localhost:8080/"
        },
        "id": "TxIMtG_Byx8E",
        "outputId": "92481848-b4a8-4e56-ac3d-f8effcbbc44b"
      },
      "source": [
        "df_part.info(memory_usage=True)"
      ],
      "execution_count": 38,
      "outputs": [
        {
          "output_type": "stream",
          "text": [
            "<class 'pandas.core.frame.DataFrame'>\n",
            "RangeIndex: 100 entries, 0 to 99\n",
            "Data columns (total 15 columns):\n",
            " #   Column      Non-Null Count  Dtype  \n",
            "---  ------      --------------  -----  \n",
            " 0   Unnamed: 0  100 non-null    int64  \n",
            " 1   CRIM        100 non-null    float64\n",
            " 2   ZN          100 non-null    float64\n",
            " 3   INDUS       100 non-null    float64\n",
            " 4   CHAS        100 non-null    float64\n",
            " 5   NOX         100 non-null    float64\n",
            " 6   RM          100 non-null    float64\n",
            " 7   AGE         100 non-null    float64\n",
            " 8   DIS         100 non-null    float64\n",
            " 9   RAD         100 non-null    float64\n",
            " 10  TAX         100 non-null    float64\n",
            " 11  PTRATIO     100 non-null    float64\n",
            " 12  B           100 non-null    float64\n",
            " 13  LSTAT       100 non-null    float64\n",
            " 14  PRICE       100 non-null    float64\n",
            "dtypes: float64(14), int64(1)\n",
            "memory usage: 11.8 KB\n"
          ],
          "name": "stdout"
        }
      ]
    },
    {
      "cell_type": "code",
      "metadata": {
        "colab": {
          "base_uri": "https://localhost:8080/"
        },
        "id": "-Eyiw3_qzkkR",
        "outputId": "15bc6cf0-1238-484e-eb86-e060ba2ffcb5"
      },
      "source": [
        "df_part.memory_usage(True)"
      ],
      "execution_count": 43,
      "outputs": [
        {
          "output_type": "execute_result",
          "data": {
            "text/plain": [
              "Index         128\n",
              "Unnamed: 0    800\n",
              "CRIM          800\n",
              "ZN            800\n",
              "INDUS         800\n",
              "CHAS          800\n",
              "NOX           800\n",
              "RM            800\n",
              "AGE           800\n",
              "DIS           800\n",
              "RAD           800\n",
              "TAX           800\n",
              "PTRATIO       800\n",
              "B             800\n",
              "LSTAT         800\n",
              "PRICE         800\n",
              "dtype: int64"
            ]
          },
          "metadata": {
            "tags": []
          },
          "execution_count": 43
        }
      ]
    },
    {
      "cell_type": "code",
      "metadata": {
        "colab": {
          "base_uri": "https://localhost:8080/"
        },
        "id": "N9zDd23cy2so",
        "outputId": "d99afc7f-8e6f-442a-ea50-68db064e98e7"
      },
      "source": [
        "df_part2.info(memory_usage=True)"
      ],
      "execution_count": 39,
      "outputs": [
        {
          "output_type": "stream",
          "text": [
            "<class 'pandas.core.frame.DataFrame'>\n",
            "RangeIndex: 100 entries, 0 to 99\n",
            "Data columns (total 15 columns):\n",
            " #   Column      Non-Null Count  Dtype  \n",
            "---  ------      --------------  -----  \n",
            " 0   Unnamed: 0  100 non-null    int64  \n",
            " 1   CRIM        100 non-null    float64\n",
            " 2   ZN          100 non-null    float64\n",
            " 3   INDUS       100 non-null    float64\n",
            " 4   CHAS        100 non-null    float64\n",
            " 5   NOX         100 non-null    float64\n",
            " 6   RM          100 non-null    float64\n",
            " 7   AGE         100 non-null    float64\n",
            " 8   DIS         100 non-null    float64\n",
            " 9   RAD         100 non-null    float64\n",
            " 10  TAX         100 non-null    float64\n",
            " 11  PTRATIO     100 non-null    float64\n",
            " 12  B           100 non-null    float64\n",
            " 13  LSTAT       100 non-null    float64\n",
            " 14  PRICE       100 non-null    float64\n",
            "dtypes: float64(14), int64(1)\n",
            "memory usage: 11.8 KB\n"
          ],
          "name": "stdout"
        }
      ]
    },
    {
      "cell_type": "code",
      "metadata": {
        "colab": {
          "base_uri": "https://localhost:8080/"
        },
        "id": "ObzLfnJFzqk7",
        "outputId": "36b09d27-f756-44e3-da46-9c41b0592755"
      },
      "source": [
        "df_part2.memory_usage(deep=True)"
      ],
      "execution_count": 44,
      "outputs": [
        {
          "output_type": "execute_result",
          "data": {
            "text/plain": [
              "Index         128\n",
              "Unnamed: 0    800\n",
              "CRIM          800\n",
              "ZN            800\n",
              "INDUS         800\n",
              "CHAS          800\n",
              "NOX           800\n",
              "RM            800\n",
              "AGE           800\n",
              "DIS           800\n",
              "RAD           800\n",
              "TAX           800\n",
              "PTRATIO       800\n",
              "B             800\n",
              "LSTAT         800\n",
              "PRICE         800\n",
              "dtype: int64"
            ]
          },
          "metadata": {
            "tags": []
          },
          "execution_count": 44
        }
      ]
    },
    {
      "cell_type": "code",
      "metadata": {
        "id": "G80pr7Fv3OLf"
      },
      "source": [
        "x = np.array([[0, 1], [5, 1], [15, 2], [25, 5], [35, 11], [45, 15], [55, 34], [60, 35]])\n",
        "y = np.array([4, 5, 20, 14, 32, 22, 38, 43])"
      ],
      "execution_count": 45,
      "outputs": []
    },
    {
      "cell_type": "code",
      "metadata": {
        "colab": {
          "base_uri": "https://localhost:8080/"
        },
        "id": "f-cqzQ-U3Si4",
        "outputId": "4f7493df-076f-4bdf-a5d7-b459399b330d"
      },
      "source": [
        "model = LinearRegression().fit(x, y)\n",
        "\n",
        "print('coefficient of determination:', model.score(x, y))\n",
        "print('intercept:', model.intercept_)\n",
        "print('slope:', model.coef_)\n",
        "\n",
        "novo_x = np.arange(10).reshape((-1, 2))\n",
        "\n",
        "previsao_y = model.predict(novo_x)\n",
        "print(f'Previsão: {previsao_y}')"
      ],
      "execution_count": 51,
      "outputs": [
        {
          "output_type": "stream",
          "text": [
            "coefficient of determination: 0.8615939258756776\n",
            "intercept: 5.52257927519819\n",
            "slope: [0.44706965 0.25502548]\n",
            "Previsão: [ 5.77760476  7.18179502  8.58598528  9.99017554 11.3943658 ]\n"
          ],
          "name": "stdout"
        }
      ]
    },
    {
      "cell_type": "code",
      "metadata": {
        "colab": {
          "base_uri": "https://localhost:8080/"
        },
        "id": "ZmZytsIK3iRp",
        "outputId": "2df58a90-aa8e-49ee-c196-ec28e9dbdf05"
      },
      "source": [
        "novo_x"
      ],
      "execution_count": 49,
      "outputs": [
        {
          "output_type": "execute_result",
          "data": {
            "text/plain": [
              "array([[0, 1],\n",
              "       [2, 3],\n",
              "       [4, 5],\n",
              "       [6, 7],\n",
              "       [8, 9]])"
            ]
          },
          "metadata": {
            "tags": []
          },
          "execution_count": 49
        }
      ]
    },
    {
      "cell_type": "code",
      "metadata": {
        "id": "5nMvvAab3iUp"
      },
      "source": [
        ""
      ],
      "execution_count": null,
      "outputs": []
    },
    {
      "cell_type": "code",
      "metadata": {
        "id": "NuXe8zHE3iXg"
      },
      "source": [
        ""
      ],
      "execution_count": null,
      "outputs": []
    },
    {
      "cell_type": "code",
      "metadata": {
        "id": "cSSj3YM73iaQ"
      },
      "source": [
        ""
      ],
      "execution_count": null,
      "outputs": []
    },
    {
      "cell_type": "code",
      "metadata": {
        "id": "3TeXpUS73idC"
      },
      "source": [
        ""
      ],
      "execution_count": null,
      "outputs": []
    },
    {
      "cell_type": "code",
      "metadata": {
        "id": "J1QCOrjB3if6"
      },
      "source": [
        ""
      ],
      "execution_count": null,
      "outputs": []
    },
    {
      "cell_type": "code",
      "metadata": {
        "id": "QYnRqTTJ3iir"
      },
      "source": [
        ""
      ],
      "execution_count": null,
      "outputs": []
    }
  ]
}