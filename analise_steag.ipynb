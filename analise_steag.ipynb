{
  "nbformat": 4,
  "nbformat_minor": 0,
  "metadata": {
    "colab": {
      "provenance": [],
      "authorship_tag": "ABX9TyP33q46qNaObKLqdETeXnpn",
      "include_colab_link": true
    },
    "kernelspec": {
      "name": "python3",
      "display_name": "Python 3"
    },
    "language_info": {
      "name": "python"
    }
  },
  "cells": [
    {
      "cell_type": "markdown",
      "metadata": {
        "id": "view-in-github",
        "colab_type": "text"
      },
      "source": [
        "<a href=\"https://colab.research.google.com/github/julioreis-dev/tutorial_pandas/blob/main/analise_steag.ipynb\" target=\"_parent\"><img src=\"https://colab.research.google.com/assets/colab-badge.svg\" alt=\"Open In Colab\"/></a>"
      ]
    },
    {
      "cell_type": "code",
      "execution_count": 1,
      "metadata": {
        "id": "Rl7o0d-kKH1D"
      },
      "outputs": [],
      "source": [
        "import pandas as pd"
      ]
    },
    {
      "cell_type": "code",
      "source": [
        "df2 = pd.read_excel('/content/EXPURGOS SDF_2022-06-29_2022-07-05_PURGE-LIST -.xlsx', sheet_name='Plan1')"
      ],
      "metadata": {
        "id": "IekIqLm_KOpY"
      },
      "execution_count": 2,
      "outputs": []
    },
    {
      "cell_type": "code",
      "source": [
        "df2.head()"
      ],
      "metadata": {
        "colab": {
          "base_uri": "https://localhost:8080/",
          "height": 461
        },
        "id": "iQqgesRNeqaY",
        "outputId": "59a7f80a-7243-492d-f2d3-2c9a0c1e8600"
      },
      "execution_count": 3,
      "outputs": [
        {
          "output_type": "execute_result",
          "data": {
            "text/plain": [
              "      date_time_start       date_time_end  \\\n",
              "0 2022-06-30 06:30:00 2022-06-30 06:45:00   \n",
              "1 2022-07-01 08:45:00 2022-07-01 09:00:00   \n",
              "2 2022-07-01 09:00:00 2022-07-01 09:15:00   \n",
              "3 2022-07-01 09:30:00 2022-07-01 09:45:00   \n",
              "4 2022-07-01 14:30:00 2022-07-01 14:45:00   \n",
              "\n",
              "                      local_field_its_inv_property   DCCURRENT    DCVOLTAGE  \\\n",
              "0  Sol do Futuro - SDF1-1-INV1 - ACTIVE POWER (kW)  161.072333  1076.684333   \n",
              "1  Sol do Futuro - SDF1-1-INV1 - ACTIVE POWER (kW)  402.552333  1016.961333   \n",
              "2  Sol do Futuro - SDF1-1-INV1 - ACTIVE POWER (kW)  182.471000  1053.783333   \n",
              "3  Sol do Futuro - SDF1-1-INV1 - ACTIVE POWER (kW)  439.951000   992.879000   \n",
              "4  Sol do Futuro - SDF1-1-INV1 - ACTIVE POWER (kW)  551.413333  1011.206667   \n",
              "\n",
              "              COMSTATUS  AVAILABILITY  irradiance_mean  its_activepower_mean  \\\n",
              "0  0 - COMMUNICATION OK         100.0       111.574667            191.198556   \n",
              "1  0 - COMMUNICATION OK         100.0       398.076000            456.823556   \n",
              "2  0 - COMMUNICATION OK         100.0       488.709889            215.663889   \n",
              "3  0 - COMMUNICATION OK         100.0       640.525444            510.717667   \n",
              "4  0 - COMMUNICATION OK         100.0       565.753889            630.528333   \n",
              "\n",
              "   ACTIVEPOWER  is_available  elementName initialDate initialTime   finalDate  \\\n",
              "0   170.091333           0.0  SDF1-1-INV1  30/06/2022       06:30  30/06/2022   \n",
              "1   406.620667           0.0  SDF1-1-INV1  01/07/2022       08:45  01/07/2022   \n",
              "2   189.679667           0.0  SDF1-1-INV1  01/07/2022       09:00  01/07/2022   \n",
              "3   431.937667           0.0  SDF1-1-INV1  01/07/2022       09:30  01/07/2022   \n",
              "4   552.882333           0.0  SDF1-1-INV1  01/07/2022       14:30  01/07/2022   \n",
              "\n",
              "  finalTime Occurence HPER Exclusions  Atlas  00:15:00  \n",
              "0     06:45       NaN             NaN    NaN       NaN  \n",
              "1     09:00       NaN             NaN    NaN       NaN  \n",
              "2     09:15       NaN             NaN    NaN       NaN  \n",
              "3     09:45       NaN             NaN    NaN       NaN  \n",
              "4     14:45       NaN             NaN    NaN       NaN  "
            ],
            "text/html": [
              "\n",
              "  <div id=\"df-c014a869-8981-428a-8899-00822d6aec22\">\n",
              "    <div class=\"colab-df-container\">\n",
              "      <div>\n",
              "<style scoped>\n",
              "    .dataframe tbody tr th:only-of-type {\n",
              "        vertical-align: middle;\n",
              "    }\n",
              "\n",
              "    .dataframe tbody tr th {\n",
              "        vertical-align: top;\n",
              "    }\n",
              "\n",
              "    .dataframe thead th {\n",
              "        text-align: right;\n",
              "    }\n",
              "</style>\n",
              "<table border=\"1\" class=\"dataframe\">\n",
              "  <thead>\n",
              "    <tr style=\"text-align: right;\">\n",
              "      <th></th>\n",
              "      <th>date_time_start</th>\n",
              "      <th>date_time_end</th>\n",
              "      <th>local_field_its_inv_property</th>\n",
              "      <th>DCCURRENT</th>\n",
              "      <th>DCVOLTAGE</th>\n",
              "      <th>COMSTATUS</th>\n",
              "      <th>AVAILABILITY</th>\n",
              "      <th>irradiance_mean</th>\n",
              "      <th>its_activepower_mean</th>\n",
              "      <th>ACTIVEPOWER</th>\n",
              "      <th>is_available</th>\n",
              "      <th>elementName</th>\n",
              "      <th>initialDate</th>\n",
              "      <th>initialTime</th>\n",
              "      <th>finalDate</th>\n",
              "      <th>finalTime</th>\n",
              "      <th>Occurence</th>\n",
              "      <th>HPER Exclusions</th>\n",
              "      <th>Atlas</th>\n",
              "      <th>00:15:00</th>\n",
              "    </tr>\n",
              "  </thead>\n",
              "  <tbody>\n",
              "    <tr>\n",
              "      <th>0</th>\n",
              "      <td>2022-06-30 06:30:00</td>\n",
              "      <td>2022-06-30 06:45:00</td>\n",
              "      <td>Sol do Futuro - SDF1-1-INV1 - ACTIVE POWER (kW)</td>\n",
              "      <td>161.072333</td>\n",
              "      <td>1076.684333</td>\n",
              "      <td>0 - COMMUNICATION OK</td>\n",
              "      <td>100.0</td>\n",
              "      <td>111.574667</td>\n",
              "      <td>191.198556</td>\n",
              "      <td>170.091333</td>\n",
              "      <td>0.0</td>\n",
              "      <td>SDF1-1-INV1</td>\n",
              "      <td>30/06/2022</td>\n",
              "      <td>06:30</td>\n",
              "      <td>30/06/2022</td>\n",
              "      <td>06:45</td>\n",
              "      <td>NaN</td>\n",
              "      <td>NaN</td>\n",
              "      <td>NaN</td>\n",
              "      <td>NaN</td>\n",
              "    </tr>\n",
              "    <tr>\n",
              "      <th>1</th>\n",
              "      <td>2022-07-01 08:45:00</td>\n",
              "      <td>2022-07-01 09:00:00</td>\n",
              "      <td>Sol do Futuro - SDF1-1-INV1 - ACTIVE POWER (kW)</td>\n",
              "      <td>402.552333</td>\n",
              "      <td>1016.961333</td>\n",
              "      <td>0 - COMMUNICATION OK</td>\n",
              "      <td>100.0</td>\n",
              "      <td>398.076000</td>\n",
              "      <td>456.823556</td>\n",
              "      <td>406.620667</td>\n",
              "      <td>0.0</td>\n",
              "      <td>SDF1-1-INV1</td>\n",
              "      <td>01/07/2022</td>\n",
              "      <td>08:45</td>\n",
              "      <td>01/07/2022</td>\n",
              "      <td>09:00</td>\n",
              "      <td>NaN</td>\n",
              "      <td>NaN</td>\n",
              "      <td>NaN</td>\n",
              "      <td>NaN</td>\n",
              "    </tr>\n",
              "    <tr>\n",
              "      <th>2</th>\n",
              "      <td>2022-07-01 09:00:00</td>\n",
              "      <td>2022-07-01 09:15:00</td>\n",
              "      <td>Sol do Futuro - SDF1-1-INV1 - ACTIVE POWER (kW)</td>\n",
              "      <td>182.471000</td>\n",
              "      <td>1053.783333</td>\n",
              "      <td>0 - COMMUNICATION OK</td>\n",
              "      <td>100.0</td>\n",
              "      <td>488.709889</td>\n",
              "      <td>215.663889</td>\n",
              "      <td>189.679667</td>\n",
              "      <td>0.0</td>\n",
              "      <td>SDF1-1-INV1</td>\n",
              "      <td>01/07/2022</td>\n",
              "      <td>09:00</td>\n",
              "      <td>01/07/2022</td>\n",
              "      <td>09:15</td>\n",
              "      <td>NaN</td>\n",
              "      <td>NaN</td>\n",
              "      <td>NaN</td>\n",
              "      <td>NaN</td>\n",
              "    </tr>\n",
              "    <tr>\n",
              "      <th>3</th>\n",
              "      <td>2022-07-01 09:30:00</td>\n",
              "      <td>2022-07-01 09:45:00</td>\n",
              "      <td>Sol do Futuro - SDF1-1-INV1 - ACTIVE POWER (kW)</td>\n",
              "      <td>439.951000</td>\n",
              "      <td>992.879000</td>\n",
              "      <td>0 - COMMUNICATION OK</td>\n",
              "      <td>100.0</td>\n",
              "      <td>640.525444</td>\n",
              "      <td>510.717667</td>\n",
              "      <td>431.937667</td>\n",
              "      <td>0.0</td>\n",
              "      <td>SDF1-1-INV1</td>\n",
              "      <td>01/07/2022</td>\n",
              "      <td>09:30</td>\n",
              "      <td>01/07/2022</td>\n",
              "      <td>09:45</td>\n",
              "      <td>NaN</td>\n",
              "      <td>NaN</td>\n",
              "      <td>NaN</td>\n",
              "      <td>NaN</td>\n",
              "    </tr>\n",
              "    <tr>\n",
              "      <th>4</th>\n",
              "      <td>2022-07-01 14:30:00</td>\n",
              "      <td>2022-07-01 14:45:00</td>\n",
              "      <td>Sol do Futuro - SDF1-1-INV1 - ACTIVE POWER (kW)</td>\n",
              "      <td>551.413333</td>\n",
              "      <td>1011.206667</td>\n",
              "      <td>0 - COMMUNICATION OK</td>\n",
              "      <td>100.0</td>\n",
              "      <td>565.753889</td>\n",
              "      <td>630.528333</td>\n",
              "      <td>552.882333</td>\n",
              "      <td>0.0</td>\n",
              "      <td>SDF1-1-INV1</td>\n",
              "      <td>01/07/2022</td>\n",
              "      <td>14:30</td>\n",
              "      <td>01/07/2022</td>\n",
              "      <td>14:45</td>\n",
              "      <td>NaN</td>\n",
              "      <td>NaN</td>\n",
              "      <td>NaN</td>\n",
              "      <td>NaN</td>\n",
              "    </tr>\n",
              "  </tbody>\n",
              "</table>\n",
              "</div>\n",
              "      <button class=\"colab-df-convert\" onclick=\"convertToInteractive('df-c014a869-8981-428a-8899-00822d6aec22')\"\n",
              "              title=\"Convert this dataframe to an interactive table.\"\n",
              "              style=\"display:none;\">\n",
              "        \n",
              "  <svg xmlns=\"http://www.w3.org/2000/svg\" height=\"24px\"viewBox=\"0 0 24 24\"\n",
              "       width=\"24px\">\n",
              "    <path d=\"M0 0h24v24H0V0z\" fill=\"none\"/>\n",
              "    <path d=\"M18.56 5.44l.94 2.06.94-2.06 2.06-.94-2.06-.94-.94-2.06-.94 2.06-2.06.94zm-11 1L8.5 8.5l.94-2.06 2.06-.94-2.06-.94L8.5 2.5l-.94 2.06-2.06.94zm10 10l.94 2.06.94-2.06 2.06-.94-2.06-.94-.94-2.06-.94 2.06-2.06.94z\"/><path d=\"M17.41 7.96l-1.37-1.37c-.4-.4-.92-.59-1.43-.59-.52 0-1.04.2-1.43.59L10.3 9.45l-7.72 7.72c-.78.78-.78 2.05 0 2.83L4 21.41c.39.39.9.59 1.41.59.51 0 1.02-.2 1.41-.59l7.78-7.78 2.81-2.81c.8-.78.8-2.07 0-2.86zM5.41 20L4 18.59l7.72-7.72 1.47 1.35L5.41 20z\"/>\n",
              "  </svg>\n",
              "      </button>\n",
              "      \n",
              "  <style>\n",
              "    .colab-df-container {\n",
              "      display:flex;\n",
              "      flex-wrap:wrap;\n",
              "      gap: 12px;\n",
              "    }\n",
              "\n",
              "    .colab-df-convert {\n",
              "      background-color: #E8F0FE;\n",
              "      border: none;\n",
              "      border-radius: 50%;\n",
              "      cursor: pointer;\n",
              "      display: none;\n",
              "      fill: #1967D2;\n",
              "      height: 32px;\n",
              "      padding: 0 0 0 0;\n",
              "      width: 32px;\n",
              "    }\n",
              "\n",
              "    .colab-df-convert:hover {\n",
              "      background-color: #E2EBFA;\n",
              "      box-shadow: 0px 1px 2px rgba(60, 64, 67, 0.3), 0px 1px 3px 1px rgba(60, 64, 67, 0.15);\n",
              "      fill: #174EA6;\n",
              "    }\n",
              "\n",
              "    [theme=dark] .colab-df-convert {\n",
              "      background-color: #3B4455;\n",
              "      fill: #D2E3FC;\n",
              "    }\n",
              "\n",
              "    [theme=dark] .colab-df-convert:hover {\n",
              "      background-color: #434B5C;\n",
              "      box-shadow: 0px 1px 3px 1px rgba(0, 0, 0, 0.15);\n",
              "      filter: drop-shadow(0px 1px 2px rgba(0, 0, 0, 0.3));\n",
              "      fill: #FFFFFF;\n",
              "    }\n",
              "  </style>\n",
              "\n",
              "      <script>\n",
              "        const buttonEl =\n",
              "          document.querySelector('#df-c014a869-8981-428a-8899-00822d6aec22 button.colab-df-convert');\n",
              "        buttonEl.style.display =\n",
              "          google.colab.kernel.accessAllowed ? 'block' : 'none';\n",
              "\n",
              "        async function convertToInteractive(key) {\n",
              "          const element = document.querySelector('#df-c014a869-8981-428a-8899-00822d6aec22');\n",
              "          const dataTable =\n",
              "            await google.colab.kernel.invokeFunction('convertToInteractive',\n",
              "                                                     [key], {});\n",
              "          if (!dataTable) return;\n",
              "\n",
              "          const docLinkHtml = 'Like what you see? Visit the ' +\n",
              "            '<a target=\"_blank\" href=https://colab.research.google.com/notebooks/data_table.ipynb>data table notebook</a>'\n",
              "            + ' to learn more about interactive tables.';\n",
              "          element.innerHTML = '';\n",
              "          dataTable['output_type'] = 'display_data';\n",
              "          await google.colab.output.renderOutput(dataTable, element);\n",
              "          const docLink = document.createElement('div');\n",
              "          docLink.innerHTML = docLinkHtml;\n",
              "          element.appendChild(docLink);\n",
              "        }\n",
              "      </script>\n",
              "    </div>\n",
              "  </div>\n",
              "  "
            ]
          },
          "metadata": {},
          "execution_count": 3
        }
      ]
    },
    {
      "cell_type": "code",
      "source": [
        "df2.shape"
      ],
      "metadata": {
        "colab": {
          "base_uri": "https://localhost:8080/"
        },
        "id": "ozYcfEvcMiSV",
        "outputId": "b559b78f-2e11-45f4-987c-ab905f2dfc8d"
      },
      "execution_count": 4,
      "outputs": [
        {
          "output_type": "execute_result",
          "data": {
            "text/plain": [
              "(2337, 20)"
            ]
          },
          "metadata": {},
          "execution_count": 4
        }
      ]
    },
    {
      "cell_type": "code",
      "source": [
        "df2.columns"
      ],
      "metadata": {
        "colab": {
          "base_uri": "https://localhost:8080/"
        },
        "id": "R8gQV8qSKOsk",
        "outputId": "b3dfa0bc-5cb4-43a9-8b76-0988b5104600"
      },
      "execution_count": 5,
      "outputs": [
        {
          "output_type": "execute_result",
          "data": {
            "text/plain": [
              "Index([             'date_time_start',                'date_time_end',\n",
              "       'local_field_its_inv_property',                    'DCCURRENT',\n",
              "                          'DCVOLTAGE',                    'COMSTATUS',\n",
              "                       'AVAILABILITY',              'irradiance_mean',\n",
              "               'its_activepower_mean',                  'ACTIVEPOWER',\n",
              "                       'is_available',                  'elementName',\n",
              "                        'initialDate',                  'initialTime',\n",
              "                          'finalDate',                    'finalTime',\n",
              "                          'Occurence',              'HPER Exclusions',\n",
              "                              'Atlas',                       00:15:00],\n",
              "      dtype='object')"
            ]
          },
          "metadata": {},
          "execution_count": 5
        }
      ]
    },
    {
      "cell_type": "code",
      "source": [
        "df2['elementName'].isna()"
      ],
      "metadata": {
        "colab": {
          "base_uri": "https://localhost:8080/"
        },
        "id": "0wsga5nbRNWx",
        "outputId": "e2dc5ab9-7d7c-49f1-e72d-2eefabb7a92e"
      },
      "execution_count": 6,
      "outputs": [
        {
          "output_type": "execute_result",
          "data": {
            "text/plain": [
              "0       False\n",
              "1       False\n",
              "2       False\n",
              "3       False\n",
              "4       False\n",
              "        ...  \n",
              "2332     True\n",
              "2333     True\n",
              "2334     True\n",
              "2335     True\n",
              "2336     True\n",
              "Name: elementName, Length: 2337, dtype: bool"
            ]
          },
          "metadata": {},
          "execution_count": 6
        }
      ]
    },
    {
      "cell_type": "code",
      "source": [
        "aux_list_names = df2['elementName'].tolist()\n",
        "len(aux_list_names)"
      ],
      "metadata": {
        "colab": {
          "base_uri": "https://localhost:8080/"
        },
        "id": "8nvo4eJPKOvs",
        "outputId": "161b5434-5b0c-4840-c720-828f33f8da13"
      },
      "execution_count": 7,
      "outputs": [
        {
          "output_type": "execute_result",
          "data": {
            "text/plain": [
              "2337"
            ]
          },
          "metadata": {},
          "execution_count": 7
        }
      ]
    },
    {
      "cell_type": "code",
      "source": [
        "list_names = []\n",
        "for element in aux_list_names:\n",
        "  if element not in list_names:\n",
        "    list_names.append(element)\n",
        "list_names.pop(-1)\n",
        "list_names"
      ],
      "metadata": {
        "id": "c_uE-IFQKOyc"
      },
      "execution_count": null,
      "outputs": []
    },
    {
      "cell_type": "code",
      "source": [
        "def create_key(word):  \n",
        "  x = word.split('-')\n",
        "  return f'{x[0]}_ITS{x[1]}.{x[2]}'\n"
      ],
      "metadata": {
        "id": "Wqfh8ZnRPGtP"
      },
      "execution_count": 9,
      "outputs": []
    },
    {
      "cell_type": "code",
      "source": [
        "dict_names = {create_key(name): [name] for name in list_names}\n",
        "dict_names"
      ],
      "metadata": {
        "id": "8rKNCRsKOtBU",
        "colab": {
          "base_uri": "https://localhost:8080/"
        },
        "outputId": "376dab45-9489-4bdf-e9b5-1da1c67c31d3"
      },
      "execution_count": 14,
      "outputs": [
        {
          "output_type": "execute_result",
          "data": {
            "text/plain": [
              "{'SDF1_ITS1.INV1': ['SDF1-1-INV1'],\n",
              " 'SDF1_ITS1.INV3': ['SDF1-1-INV3'],\n",
              " 'SDF1_ITS1.INV4': ['SDF1-1-INV4'],\n",
              " 'SDF1_ITS2.INV1': ['SDF1-2-INV1'],\n",
              " 'SDF1_ITS2.INV2': ['SDF1-2-INV2'],\n",
              " 'SDF1_ITS2.INV3': ['SDF1-2-INV3'],\n",
              " 'SDF1_ITS2.INV4': ['SDF1-2-INV4'],\n",
              " 'SDF1_ITS3.INV1': ['SDF1-3-INV1'],\n",
              " 'SDF1_ITS3.INV2': ['SDF1-3-INV2'],\n",
              " 'SDF1_ITS3.INV3': ['SDF1-3-INV3'],\n",
              " 'SDF1_ITS4.INV1': ['SDF1-4-INV1'],\n",
              " 'SDF1_ITS4.INV2': ['SDF1-4-INV2'],\n",
              " 'SDF1_ITS4.INV3': ['SDF1-4-INV3'],\n",
              " 'SDF1_ITS4.INV4': ['SDF1-4-INV4'],\n",
              " 'SDF1_ITS5.INV1': ['SDF1-5-INV1'],\n",
              " 'SDF1_ITS5.INV2': ['SDF1-5-INV2'],\n",
              " 'SDF1_ITS5.INV3': ['SDF1-5-INV3'],\n",
              " 'SDF1_ITS6.INV1': ['SDF1-6-INV1'],\n",
              " 'SDF1_ITS6.INV2': ['SDF1-6-INV2'],\n",
              " 'SDF1_ITS6.INV3': ['SDF1-6-INV3'],\n",
              " 'SDF1_ITS6.INV4': ['SDF1-6-INV4'],\n",
              " 'SDF2_ITS1.INV1': ['SDF2-1-INV1'],\n",
              " 'SDF2_ITS1.INV2': ['SDF2-1-INV2'],\n",
              " 'SDF2_ITS1.INV3': ['SDF2-1-INV3'],\n",
              " 'SDF2_ITS2.INV1': ['SDF2-2-INV1'],\n",
              " 'SDF2_ITS2.INV2': ['SDF2-2-INV2'],\n",
              " 'SDF2_ITS2.INV3': ['SDF2-2-INV3'],\n",
              " 'SDF2_ITS2.INV4': ['SDF2-2-INV4'],\n",
              " 'SDF2_ITS3.INV1': ['SDF2-3-INV1'],\n",
              " 'SDF2_ITS3.INV2': ['SDF2-3-INV2'],\n",
              " 'SDF2_ITS3.INV4': ['SDF2-3-INV4'],\n",
              " 'SDF2_ITS4.INV1': ['SDF2-4-INV1'],\n",
              " 'SDF2_ITS4.INV3': ['SDF2-4-INV3'],\n",
              " 'SDF2_ITS5.INV1': ['SDF2-5-INV1'],\n",
              " 'SDF2_ITS5.INV2': ['SDF2-5-INV2'],\n",
              " 'SDF2_ITS5.INV3': ['SDF2-5-INV3'],\n",
              " 'SDF2_ITS5.INV4': ['SDF2-5-INV4'],\n",
              " 'SDF2_ITS6.INV1': ['SDF2-6-INV1'],\n",
              " 'SDF2_ITS6.INV2': ['SDF2-6-INV2'],\n",
              " 'SDF2_ITS6.INV3': ['SDF2-6-INV3'],\n",
              " 'SDF2_ITS6.INV4': ['SDF2-6-INV4'],\n",
              " 'SDF3_ITS1.INV2': ['SDF3-1-INV2'],\n",
              " 'SDF3_ITS1.INV3': ['SDF3-1-INV3'],\n",
              " 'SDF3_ITS1.INV4': ['SDF3-1-INV4'],\n",
              " 'SDF3_ITS2.INV1': ['SDF3-2-INV1'],\n",
              " 'SDF3_ITS2.INV3': ['SDF3-2-INV3'],\n",
              " 'SDF3_ITS2.INV4': ['SDF3-2-INV4'],\n",
              " 'SDF3_ITS3.INV1': ['SDF3-3-INV1'],\n",
              " 'SDF3_ITS3.INV3': ['SDF3-3-INV3'],\n",
              " 'SDF3_ITS4.INV2': ['SDF3-4-INV2'],\n",
              " 'SDF3_ITS4.INV3': ['SDF3-4-INV3'],\n",
              " 'SDF3_ITS4.INV4': ['SDF3-4-INV4'],\n",
              " 'SDF3_ITS5.INV1': ['SDF3-5-INV1'],\n",
              " 'SDF3_ITS5.INV2': ['SDF3-5-INV2'],\n",
              " 'SDF3_ITS5.INV4': ['SDF3-5-INV4'],\n",
              " 'SDF3_ITS6.INV1': ['SDF3-6-INV1'],\n",
              " 'SDF3_ITS6.INV3': ['SDF3-6-INV3'],\n",
              " 'SDF3_ITS6.INV4': ['SDF3-6-INV4']}"
            ]
          },
          "metadata": {},
          "execution_count": 14
        }
      ]
    },
    {
      "cell_type": "code",
      "source": [
        "dict_names['SDF1_ITS1.INV4']"
      ],
      "metadata": {
        "colab": {
          "base_uri": "https://localhost:8080/"
        },
        "id": "TloIDRNLUHrh",
        "outputId": "75d7ff4f-b1c0-4060-f33a-bdb519fc54de"
      },
      "execution_count": 11,
      "outputs": [
        {
          "output_type": "execute_result",
          "data": {
            "text/plain": [
              "['SDF1-1-INV4']"
            ]
          },
          "metadata": {},
          "execution_count": 11
        }
      ]
    },
    {
      "cell_type": "code",
      "source": [
        "df_element_test = df2[df2['elementName'] == 'SDF3-6-INV4']\n",
        "df_element_test"
      ],
      "metadata": {
        "colab": {
          "base_uri": "https://localhost:8080/",
          "height": 263
        },
        "id": "qqny-mkjH-rE",
        "outputId": "6445ece7-ffbe-403d-a318-d4b478c3273b"
      },
      "execution_count": 21,
      "outputs": [
        {
          "output_type": "execute_result",
          "data": {
            "text/plain": [
              "         date_time_start       date_time_end  \\\n",
              "1087 2022-07-01 09:00:00 2022-07-01 09:15:00   \n",
              "1088 2022-07-01 09:30:00 2022-07-01 09:45:00   \n",
              "\n",
              "                         local_field_its_inv_property   DCCURRENT  \\\n",
              "1087  Sol do Futuro - SDF3-6-INV4 - ACTIVE POWER (kW)  530.358000   \n",
              "1088  Sol do Futuro - SDF3-6-INV4 - ACTIVE POWER (kW)  500.954333   \n",
              "\n",
              "        DCVOLTAGE             COMSTATUS  AVAILABILITY  irradiance_mean  \\\n",
              "1087  1007.926667  0 - COMMUNICATION OK         100.0       488.709889   \n",
              "1088   979.708000  0 - COMMUNICATION OK         100.0       640.525444   \n",
              "\n",
              "      its_activepower_mean  ACTIVEPOWER  is_available  elementName  \\\n",
              "1087            640.878111   525.846000           0.0  SDF3-6-INV4   \n",
              "1088            572.054000   482.393667           0.0  SDF3-6-INV4   \n",
              "\n",
              "     initialDate initialTime   finalDate finalTime Occurence HPER Exclusions  \\\n",
              "1087  01/07/2022       09:00  01/07/2022     09:15       NaN             NaN   \n",
              "1088  01/07/2022       09:30  01/07/2022     09:45       NaN             NaN   \n",
              "\n",
              "      Atlas  00:15:00  \n",
              "1087    NaN       NaN  \n",
              "1088    NaN       NaN  "
            ],
            "text/html": [
              "\n",
              "  <div id=\"df-741339c7-fff5-4df9-b48b-b195e08115f6\">\n",
              "    <div class=\"colab-df-container\">\n",
              "      <div>\n",
              "<style scoped>\n",
              "    .dataframe tbody tr th:only-of-type {\n",
              "        vertical-align: middle;\n",
              "    }\n",
              "\n",
              "    .dataframe tbody tr th {\n",
              "        vertical-align: top;\n",
              "    }\n",
              "\n",
              "    .dataframe thead th {\n",
              "        text-align: right;\n",
              "    }\n",
              "</style>\n",
              "<table border=\"1\" class=\"dataframe\">\n",
              "  <thead>\n",
              "    <tr style=\"text-align: right;\">\n",
              "      <th></th>\n",
              "      <th>date_time_start</th>\n",
              "      <th>date_time_end</th>\n",
              "      <th>local_field_its_inv_property</th>\n",
              "      <th>DCCURRENT</th>\n",
              "      <th>DCVOLTAGE</th>\n",
              "      <th>COMSTATUS</th>\n",
              "      <th>AVAILABILITY</th>\n",
              "      <th>irradiance_mean</th>\n",
              "      <th>its_activepower_mean</th>\n",
              "      <th>ACTIVEPOWER</th>\n",
              "      <th>is_available</th>\n",
              "      <th>elementName</th>\n",
              "      <th>initialDate</th>\n",
              "      <th>initialTime</th>\n",
              "      <th>finalDate</th>\n",
              "      <th>finalTime</th>\n",
              "      <th>Occurence</th>\n",
              "      <th>HPER Exclusions</th>\n",
              "      <th>Atlas</th>\n",
              "      <th>00:15:00</th>\n",
              "    </tr>\n",
              "  </thead>\n",
              "  <tbody>\n",
              "    <tr>\n",
              "      <th>1087</th>\n",
              "      <td>2022-07-01 09:00:00</td>\n",
              "      <td>2022-07-01 09:15:00</td>\n",
              "      <td>Sol do Futuro - SDF3-6-INV4 - ACTIVE POWER (kW)</td>\n",
              "      <td>530.358000</td>\n",
              "      <td>1007.926667</td>\n",
              "      <td>0 - COMMUNICATION OK</td>\n",
              "      <td>100.0</td>\n",
              "      <td>488.709889</td>\n",
              "      <td>640.878111</td>\n",
              "      <td>525.846000</td>\n",
              "      <td>0.0</td>\n",
              "      <td>SDF3-6-INV4</td>\n",
              "      <td>01/07/2022</td>\n",
              "      <td>09:00</td>\n",
              "      <td>01/07/2022</td>\n",
              "      <td>09:15</td>\n",
              "      <td>NaN</td>\n",
              "      <td>NaN</td>\n",
              "      <td>NaN</td>\n",
              "      <td>NaN</td>\n",
              "    </tr>\n",
              "    <tr>\n",
              "      <th>1088</th>\n",
              "      <td>2022-07-01 09:30:00</td>\n",
              "      <td>2022-07-01 09:45:00</td>\n",
              "      <td>Sol do Futuro - SDF3-6-INV4 - ACTIVE POWER (kW)</td>\n",
              "      <td>500.954333</td>\n",
              "      <td>979.708000</td>\n",
              "      <td>0 - COMMUNICATION OK</td>\n",
              "      <td>100.0</td>\n",
              "      <td>640.525444</td>\n",
              "      <td>572.054000</td>\n",
              "      <td>482.393667</td>\n",
              "      <td>0.0</td>\n",
              "      <td>SDF3-6-INV4</td>\n",
              "      <td>01/07/2022</td>\n",
              "      <td>09:30</td>\n",
              "      <td>01/07/2022</td>\n",
              "      <td>09:45</td>\n",
              "      <td>NaN</td>\n",
              "      <td>NaN</td>\n",
              "      <td>NaN</td>\n",
              "      <td>NaN</td>\n",
              "    </tr>\n",
              "  </tbody>\n",
              "</table>\n",
              "</div>\n",
              "      <button class=\"colab-df-convert\" onclick=\"convertToInteractive('df-741339c7-fff5-4df9-b48b-b195e08115f6')\"\n",
              "              title=\"Convert this dataframe to an interactive table.\"\n",
              "              style=\"display:none;\">\n",
              "        \n",
              "  <svg xmlns=\"http://www.w3.org/2000/svg\" height=\"24px\"viewBox=\"0 0 24 24\"\n",
              "       width=\"24px\">\n",
              "    <path d=\"M0 0h24v24H0V0z\" fill=\"none\"/>\n",
              "    <path d=\"M18.56 5.44l.94 2.06.94-2.06 2.06-.94-2.06-.94-.94-2.06-.94 2.06-2.06.94zm-11 1L8.5 8.5l.94-2.06 2.06-.94-2.06-.94L8.5 2.5l-.94 2.06-2.06.94zm10 10l.94 2.06.94-2.06 2.06-.94-2.06-.94-.94-2.06-.94 2.06-2.06.94z\"/><path d=\"M17.41 7.96l-1.37-1.37c-.4-.4-.92-.59-1.43-.59-.52 0-1.04.2-1.43.59L10.3 9.45l-7.72 7.72c-.78.78-.78 2.05 0 2.83L4 21.41c.39.39.9.59 1.41.59.51 0 1.02-.2 1.41-.59l7.78-7.78 2.81-2.81c.8-.78.8-2.07 0-2.86zM5.41 20L4 18.59l7.72-7.72 1.47 1.35L5.41 20z\"/>\n",
              "  </svg>\n",
              "      </button>\n",
              "      \n",
              "  <style>\n",
              "    .colab-df-container {\n",
              "      display:flex;\n",
              "      flex-wrap:wrap;\n",
              "      gap: 12px;\n",
              "    }\n",
              "\n",
              "    .colab-df-convert {\n",
              "      background-color: #E8F0FE;\n",
              "      border: none;\n",
              "      border-radius: 50%;\n",
              "      cursor: pointer;\n",
              "      display: none;\n",
              "      fill: #1967D2;\n",
              "      height: 32px;\n",
              "      padding: 0 0 0 0;\n",
              "      width: 32px;\n",
              "    }\n",
              "\n",
              "    .colab-df-convert:hover {\n",
              "      background-color: #E2EBFA;\n",
              "      box-shadow: 0px 1px 2px rgba(60, 64, 67, 0.3), 0px 1px 3px 1px rgba(60, 64, 67, 0.15);\n",
              "      fill: #174EA6;\n",
              "    }\n",
              "\n",
              "    [theme=dark] .colab-df-convert {\n",
              "      background-color: #3B4455;\n",
              "      fill: #D2E3FC;\n",
              "    }\n",
              "\n",
              "    [theme=dark] .colab-df-convert:hover {\n",
              "      background-color: #434B5C;\n",
              "      box-shadow: 0px 1px 3px 1px rgba(0, 0, 0, 0.15);\n",
              "      filter: drop-shadow(0px 1px 2px rgba(0, 0, 0, 0.3));\n",
              "      fill: #FFFFFF;\n",
              "    }\n",
              "  </style>\n",
              "\n",
              "      <script>\n",
              "        const buttonEl =\n",
              "          document.querySelector('#df-741339c7-fff5-4df9-b48b-b195e08115f6 button.colab-df-convert');\n",
              "        buttonEl.style.display =\n",
              "          google.colab.kernel.accessAllowed ? 'block' : 'none';\n",
              "\n",
              "        async function convertToInteractive(key) {\n",
              "          const element = document.querySelector('#df-741339c7-fff5-4df9-b48b-b195e08115f6');\n",
              "          const dataTable =\n",
              "            await google.colab.kernel.invokeFunction('convertToInteractive',\n",
              "                                                     [key], {});\n",
              "          if (!dataTable) return;\n",
              "\n",
              "          const docLinkHtml = 'Like what you see? Visit the ' +\n",
              "            '<a target=\"_blank\" href=https://colab.research.google.com/notebooks/data_table.ipynb>data table notebook</a>'\n",
              "            + ' to learn more about interactive tables.';\n",
              "          element.innerHTML = '';\n",
              "          dataTable['output_type'] = 'display_data';\n",
              "          await google.colab.output.renderOutput(dataTable, element);\n",
              "          const docLink = document.createElement('div');\n",
              "          docLink.innerHTML = docLinkHtml;\n",
              "          element.appendChild(docLink);\n",
              "        }\n",
              "      </script>\n",
              "    </div>\n",
              "  </div>\n",
              "  "
            ]
          },
          "metadata": {},
          "execution_count": 21
        }
      ]
    },
    {
      "cell_type": "code",
      "source": [
        "for data in dict_names.items():  \n",
        "  df_element = df2[df2['elementName'] == data[1][0]]\n",
        "  dict_names[data[0]].append(df_element['ACTIVEPOWER'].mean())"
      ],
      "metadata": {
        "id": "YrYYbOiPOs7N"
      },
      "execution_count": 22,
      "outputs": []
    },
    {
      "cell_type": "code",
      "source": [
        "dict_names"
      ],
      "metadata": {
        "id": "I46tp5PGOs35"
      },
      "execution_count": null,
      "outputs": []
    },
    {
      "cell_type": "code",
      "source": [],
      "metadata": {
        "id": "Q3WXfpPQOsse"
      },
      "execution_count": 13,
      "outputs": []
    }
  ]
}