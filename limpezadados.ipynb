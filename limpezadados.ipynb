{
  "nbformat": 4,
  "nbformat_minor": 0,
  "metadata": {
    "colab": {
      "name": "limpezadados.ipynb",
      "provenance": [],
      "authorship_tag": "ABX9TyNDt8UVAyPuCAvimxOyoB+x",
      "include_colab_link": true
    },
    "kernelspec": {
      "name": "python3",
      "display_name": "Python 3"
    }
  },
  "cells": [
    {
      "cell_type": "markdown",
      "metadata": {
        "id": "view-in-github",
        "colab_type": "text"
      },
      "source": [
        "<a href=\"https://colab.research.google.com/github/julioreis-dev/tutorial_pandas/blob/main/limpezadados.ipynb\" target=\"_parent\"><img src=\"https://colab.research.google.com/assets/colab-badge.svg\" alt=\"Open In Colab\"/></a>"
      ]
    },
    {
      "cell_type": "code",
      "metadata": {
        "id": "w2BeiqSknlXb"
      },
      "source": [
        "import pandas as pd\r\n",
        "import numpy as np"
      ],
      "execution_count": 1,
      "outputs": []
    },
    {
      "cell_type": "code",
      "metadata": {
        "colab": {
          "base_uri": "https://localhost:8080/",
          "height": 225
        },
        "id": "I2UyWdE2xzDA",
        "outputId": "1a29758b-5732-4d7a-8668-aaec8a8c197b"
      },
      "source": [
        "data = pd.date_range('20200101', periods=6, freq='D')\r\n",
        "df = pd.DataFrame(np.random.randn(6,4), index=data, columns=['VAR_A', 'VAR_B', 'VAR_C', 'VAR_D'])\r\n",
        "df"
      ],
      "execution_count": 16,
      "outputs": [
        {
          "output_type": "execute_result",
          "data": {
            "text/html": [
              "<div>\n",
              "<style scoped>\n",
              "    .dataframe tbody tr th:only-of-type {\n",
              "        vertical-align: middle;\n",
              "    }\n",
              "\n",
              "    .dataframe tbody tr th {\n",
              "        vertical-align: top;\n",
              "    }\n",
              "\n",
              "    .dataframe thead th {\n",
              "        text-align: right;\n",
              "    }\n",
              "</style>\n",
              "<table border=\"1\" class=\"dataframe\">\n",
              "  <thead>\n",
              "    <tr style=\"text-align: right;\">\n",
              "      <th></th>\n",
              "      <th>VAR_A</th>\n",
              "      <th>VAR_B</th>\n",
              "      <th>VAR_C</th>\n",
              "      <th>VAR_D</th>\n",
              "    </tr>\n",
              "  </thead>\n",
              "  <tbody>\n",
              "    <tr>\n",
              "      <th>2020-01-01</th>\n",
              "      <td>0.492792</td>\n",
              "      <td>-0.473452</td>\n",
              "      <td>-1.745965</td>\n",
              "      <td>-1.097766</td>\n",
              "    </tr>\n",
              "    <tr>\n",
              "      <th>2020-01-02</th>\n",
              "      <td>-2.234643</td>\n",
              "      <td>0.069266</td>\n",
              "      <td>0.454606</td>\n",
              "      <td>-1.436361</td>\n",
              "    </tr>\n",
              "    <tr>\n",
              "      <th>2020-01-03</th>\n",
              "      <td>0.234207</td>\n",
              "      <td>1.084610</td>\n",
              "      <td>-1.009276</td>\n",
              "      <td>0.245197</td>\n",
              "    </tr>\n",
              "    <tr>\n",
              "      <th>2020-01-04</th>\n",
              "      <td>0.788191</td>\n",
              "      <td>-0.798885</td>\n",
              "      <td>1.292278</td>\n",
              "      <td>1.893570</td>\n",
              "    </tr>\n",
              "    <tr>\n",
              "      <th>2020-01-05</th>\n",
              "      <td>-0.290288</td>\n",
              "      <td>-0.562373</td>\n",
              "      <td>-0.355887</td>\n",
              "      <td>-0.811496</td>\n",
              "    </tr>\n",
              "    <tr>\n",
              "      <th>2020-01-06</th>\n",
              "      <td>1.476046</td>\n",
              "      <td>0.715958</td>\n",
              "      <td>0.371328</td>\n",
              "      <td>0.937597</td>\n",
              "    </tr>\n",
              "  </tbody>\n",
              "</table>\n",
              "</div>"
            ],
            "text/plain": [
              "               VAR_A     VAR_B     VAR_C     VAR_D\n",
              "2020-01-01  0.492792 -0.473452 -1.745965 -1.097766\n",
              "2020-01-02 -2.234643  0.069266  0.454606 -1.436361\n",
              "2020-01-03  0.234207  1.084610 -1.009276  0.245197\n",
              "2020-01-04  0.788191 -0.798885  1.292278  1.893570\n",
              "2020-01-05 -0.290288 -0.562373 -0.355887 -0.811496\n",
              "2020-01-06  1.476046  0.715958  0.371328  0.937597"
            ]
          },
          "metadata": {
            "tags": []
          },
          "execution_count": 16
        }
      ]
    },
    {
      "cell_type": "code",
      "metadata": {
        "colab": {
          "base_uri": "https://localhost:8080/"
        },
        "id": "pCr6yyxq1e5m",
        "outputId": "4b6f9195-c42c-45d1-af97-013e37b25db0"
      },
      "source": [
        "df.shape"
      ],
      "execution_count": 17,
      "outputs": [
        {
          "output_type": "execute_result",
          "data": {
            "text/plain": [
              "(6, 4)"
            ]
          },
          "metadata": {
            "tags": []
          },
          "execution_count": 17
        }
      ]
    },
    {
      "cell_type": "code",
      "metadata": {
        "colab": {
          "base_uri": "https://localhost:8080/"
        },
        "id": "-2rESUsW1fP4",
        "outputId": "0f0e0dcc-fc62-40fd-c695-9f21d23477c1"
      },
      "source": [
        "df.dtypes"
      ],
      "execution_count": 18,
      "outputs": [
        {
          "output_type": "execute_result",
          "data": {
            "text/plain": [
              "VAR_A    float64\n",
              "VAR_B    float64\n",
              "VAR_C    float64\n",
              "VAR_D    float64\n",
              "dtype: object"
            ]
          },
          "metadata": {
            "tags": []
          },
          "execution_count": 18
        }
      ]
    },
    {
      "cell_type": "code",
      "metadata": {
        "colab": {
          "base_uri": "https://localhost:8080/",
          "height": 166
        },
        "id": "tk5QP6MyyQwS",
        "outputId": "24d94bf3-f222-4157-f110-dc75a977ee0b"
      },
      "source": [
        "df2 = pd.DataFrame({'A':1., 'B': pd.Timestamp('20130102'),'C':pd.Series(1, index=list(range(4)), dtype='float32'), \r\n",
        "                   'D': np.array([3]*4, dtype='float32'), 'E': pd.Categorical([\"teste\", \"train\", \"test\", \"train\"]), 'F': \"Python\"})\r\n",
        "df2"
      ],
      "execution_count": 15,
      "outputs": [
        {
          "output_type": "execute_result",
          "data": {
            "text/html": [
              "<div>\n",
              "<style scoped>\n",
              "    .dataframe tbody tr th:only-of-type {\n",
              "        vertical-align: middle;\n",
              "    }\n",
              "\n",
              "    .dataframe tbody tr th {\n",
              "        vertical-align: top;\n",
              "    }\n",
              "\n",
              "    .dataframe thead th {\n",
              "        text-align: right;\n",
              "    }\n",
              "</style>\n",
              "<table border=\"1\" class=\"dataframe\">\n",
              "  <thead>\n",
              "    <tr style=\"text-align: right;\">\n",
              "      <th></th>\n",
              "      <th>A</th>\n",
              "      <th>B</th>\n",
              "      <th>C</th>\n",
              "      <th>D</th>\n",
              "      <th>E</th>\n",
              "      <th>F</th>\n",
              "    </tr>\n",
              "  </thead>\n",
              "  <tbody>\n",
              "    <tr>\n",
              "      <th>0</th>\n",
              "      <td>1.0</td>\n",
              "      <td>2013-01-02</td>\n",
              "      <td>1.0</td>\n",
              "      <td>3.0</td>\n",
              "      <td>teste</td>\n",
              "      <td>Python</td>\n",
              "    </tr>\n",
              "    <tr>\n",
              "      <th>1</th>\n",
              "      <td>1.0</td>\n",
              "      <td>2013-01-02</td>\n",
              "      <td>1.0</td>\n",
              "      <td>3.0</td>\n",
              "      <td>train</td>\n",
              "      <td>Python</td>\n",
              "    </tr>\n",
              "    <tr>\n",
              "      <th>2</th>\n",
              "      <td>1.0</td>\n",
              "      <td>2013-01-02</td>\n",
              "      <td>1.0</td>\n",
              "      <td>3.0</td>\n",
              "      <td>test</td>\n",
              "      <td>Python</td>\n",
              "    </tr>\n",
              "    <tr>\n",
              "      <th>3</th>\n",
              "      <td>1.0</td>\n",
              "      <td>2013-01-02</td>\n",
              "      <td>1.0</td>\n",
              "      <td>3.0</td>\n",
              "      <td>train</td>\n",
              "      <td>Python</td>\n",
              "    </tr>\n",
              "  </tbody>\n",
              "</table>\n",
              "</div>"
            ],
            "text/plain": [
              "     A          B    C    D      E       F\n",
              "0  1.0 2013-01-02  1.0  3.0  teste  Python\n",
              "1  1.0 2013-01-02  1.0  3.0  train  Python\n",
              "2  1.0 2013-01-02  1.0  3.0   test  Python\n",
              "3  1.0 2013-01-02  1.0  3.0  train  Python"
            ]
          },
          "metadata": {
            "tags": []
          },
          "execution_count": 15
        }
      ]
    },
    {
      "cell_type": "code",
      "metadata": {
        "colab": {
          "base_uri": "https://localhost:8080/"
        },
        "id": "CWB41v_K1dxb",
        "outputId": "7c7f0941-95da-4d1d-8bd3-7bb53c2de177"
      },
      "source": [
        "df2.dtypes"
      ],
      "execution_count": 19,
      "outputs": [
        {
          "output_type": "execute_result",
          "data": {
            "text/plain": [
              "A           float64\n",
              "B    datetime64[ns]\n",
              "C           float32\n",
              "D           float32\n",
              "E          category\n",
              "F            object\n",
              "dtype: object"
            ]
          },
          "metadata": {
            "tags": []
          },
          "execution_count": 19
        }
      ]
    },
    {
      "cell_type": "code",
      "metadata": {
        "colab": {
          "base_uri": "https://localhost:8080/",
          "height": 284
        },
        "id": "XVKA3psb2Kvn",
        "outputId": "75ad1908-3d13-414a-ac39-7f0e096869e6"
      },
      "source": [
        "df2.describe()"
      ],
      "execution_count": 20,
      "outputs": [
        {
          "output_type": "execute_result",
          "data": {
            "text/html": [
              "<div>\n",
              "<style scoped>\n",
              "    .dataframe tbody tr th:only-of-type {\n",
              "        vertical-align: middle;\n",
              "    }\n",
              "\n",
              "    .dataframe tbody tr th {\n",
              "        vertical-align: top;\n",
              "    }\n",
              "\n",
              "    .dataframe thead th {\n",
              "        text-align: right;\n",
              "    }\n",
              "</style>\n",
              "<table border=\"1\" class=\"dataframe\">\n",
              "  <thead>\n",
              "    <tr style=\"text-align: right;\">\n",
              "      <th></th>\n",
              "      <th>A</th>\n",
              "      <th>C</th>\n",
              "      <th>D</th>\n",
              "    </tr>\n",
              "  </thead>\n",
              "  <tbody>\n",
              "    <tr>\n",
              "      <th>count</th>\n",
              "      <td>4.0</td>\n",
              "      <td>4.0</td>\n",
              "      <td>4.0</td>\n",
              "    </tr>\n",
              "    <tr>\n",
              "      <th>mean</th>\n",
              "      <td>1.0</td>\n",
              "      <td>1.0</td>\n",
              "      <td>3.0</td>\n",
              "    </tr>\n",
              "    <tr>\n",
              "      <th>std</th>\n",
              "      <td>0.0</td>\n",
              "      <td>0.0</td>\n",
              "      <td>0.0</td>\n",
              "    </tr>\n",
              "    <tr>\n",
              "      <th>min</th>\n",
              "      <td>1.0</td>\n",
              "      <td>1.0</td>\n",
              "      <td>3.0</td>\n",
              "    </tr>\n",
              "    <tr>\n",
              "      <th>25%</th>\n",
              "      <td>1.0</td>\n",
              "      <td>1.0</td>\n",
              "      <td>3.0</td>\n",
              "    </tr>\n",
              "    <tr>\n",
              "      <th>50%</th>\n",
              "      <td>1.0</td>\n",
              "      <td>1.0</td>\n",
              "      <td>3.0</td>\n",
              "    </tr>\n",
              "    <tr>\n",
              "      <th>75%</th>\n",
              "      <td>1.0</td>\n",
              "      <td>1.0</td>\n",
              "      <td>3.0</td>\n",
              "    </tr>\n",
              "    <tr>\n",
              "      <th>max</th>\n",
              "      <td>1.0</td>\n",
              "      <td>1.0</td>\n",
              "      <td>3.0</td>\n",
              "    </tr>\n",
              "  </tbody>\n",
              "</table>\n",
              "</div>"
            ],
            "text/plain": [
              "         A    C    D\n",
              "count  4.0  4.0  4.0\n",
              "mean   1.0  1.0  3.0\n",
              "std    0.0  0.0  0.0\n",
              "min    1.0  1.0  3.0\n",
              "25%    1.0  1.0  3.0\n",
              "50%    1.0  1.0  3.0\n",
              "75%    1.0  1.0  3.0\n",
              "max    1.0  1.0  3.0"
            ]
          },
          "metadata": {
            "tags": []
          },
          "execution_count": 20
        }
      ]
    },
    {
      "cell_type": "code",
      "metadata": {
        "colab": {
          "base_uri": "https://localhost:8080/",
          "height": 166
        },
        "id": "iwhBpuiM2zgE",
        "outputId": "0d8a79ad-6385-4087-8034-000b68f21a1e"
      },
      "source": [
        "df1 = df.reindex(index=data[0:4], columns=list(df.columns) + ['VAR_E'])\r\n",
        "df1"
      ],
      "execution_count": 32,
      "outputs": [
        {
          "output_type": "execute_result",
          "data": {
            "text/html": [
              "<div>\n",
              "<style scoped>\n",
              "    .dataframe tbody tr th:only-of-type {\n",
              "        vertical-align: middle;\n",
              "    }\n",
              "\n",
              "    .dataframe tbody tr th {\n",
              "        vertical-align: top;\n",
              "    }\n",
              "\n",
              "    .dataframe thead th {\n",
              "        text-align: right;\n",
              "    }\n",
              "</style>\n",
              "<table border=\"1\" class=\"dataframe\">\n",
              "  <thead>\n",
              "    <tr style=\"text-align: right;\">\n",
              "      <th></th>\n",
              "      <th>VAR_A</th>\n",
              "      <th>VAR_B</th>\n",
              "      <th>VAR_C</th>\n",
              "      <th>VAR_D</th>\n",
              "      <th>VAR_E</th>\n",
              "    </tr>\n",
              "  </thead>\n",
              "  <tbody>\n",
              "    <tr>\n",
              "      <th>2020-01-01</th>\n",
              "      <td>0.492792</td>\n",
              "      <td>-0.473452</td>\n",
              "      <td>-1.745965</td>\n",
              "      <td>-1.097766</td>\n",
              "      <td>NaN</td>\n",
              "    </tr>\n",
              "    <tr>\n",
              "      <th>2020-01-02</th>\n",
              "      <td>-2.234643</td>\n",
              "      <td>0.069266</td>\n",
              "      <td>0.454606</td>\n",
              "      <td>-1.436361</td>\n",
              "      <td>NaN</td>\n",
              "    </tr>\n",
              "    <tr>\n",
              "      <th>2020-01-03</th>\n",
              "      <td>0.234207</td>\n",
              "      <td>1.084610</td>\n",
              "      <td>-1.009276</td>\n",
              "      <td>0.245197</td>\n",
              "      <td>NaN</td>\n",
              "    </tr>\n",
              "    <tr>\n",
              "      <th>2020-01-04</th>\n",
              "      <td>0.788191</td>\n",
              "      <td>-0.798885</td>\n",
              "      <td>1.292278</td>\n",
              "      <td>1.893570</td>\n",
              "      <td>NaN</td>\n",
              "    </tr>\n",
              "  </tbody>\n",
              "</table>\n",
              "</div>"
            ],
            "text/plain": [
              "               VAR_A     VAR_B     VAR_C     VAR_D  VAR_E\n",
              "2020-01-01  0.492792 -0.473452 -1.745965 -1.097766    NaN\n",
              "2020-01-02 -2.234643  0.069266  0.454606 -1.436361    NaN\n",
              "2020-01-03  0.234207  1.084610 -1.009276  0.245197    NaN\n",
              "2020-01-04  0.788191 -0.798885  1.292278  1.893570    NaN"
            ]
          },
          "metadata": {
            "tags": []
          },
          "execution_count": 32
        }
      ]
    },
    {
      "cell_type": "code",
      "metadata": {
        "colab": {
          "base_uri": "https://localhost:8080/",
          "height": 166
        },
        "id": "gayUmbXt20AR",
        "outputId": "64c3bf1c-aa9e-4876-ff21-1ab986027350"
      },
      "source": [
        "df1.loc[data[0:2], 'VAR_E'] = 77\r\n",
        "df1"
      ],
      "execution_count": 33,
      "outputs": [
        {
          "output_type": "execute_result",
          "data": {
            "text/html": [
              "<div>\n",
              "<style scoped>\n",
              "    .dataframe tbody tr th:only-of-type {\n",
              "        vertical-align: middle;\n",
              "    }\n",
              "\n",
              "    .dataframe tbody tr th {\n",
              "        vertical-align: top;\n",
              "    }\n",
              "\n",
              "    .dataframe thead th {\n",
              "        text-align: right;\n",
              "    }\n",
              "</style>\n",
              "<table border=\"1\" class=\"dataframe\">\n",
              "  <thead>\n",
              "    <tr style=\"text-align: right;\">\n",
              "      <th></th>\n",
              "      <th>VAR_A</th>\n",
              "      <th>VAR_B</th>\n",
              "      <th>VAR_C</th>\n",
              "      <th>VAR_D</th>\n",
              "      <th>VAR_E</th>\n",
              "    </tr>\n",
              "  </thead>\n",
              "  <tbody>\n",
              "    <tr>\n",
              "      <th>2020-01-01</th>\n",
              "      <td>0.492792</td>\n",
              "      <td>-0.473452</td>\n",
              "      <td>-1.745965</td>\n",
              "      <td>-1.097766</td>\n",
              "      <td>77.0</td>\n",
              "    </tr>\n",
              "    <tr>\n",
              "      <th>2020-01-02</th>\n",
              "      <td>-2.234643</td>\n",
              "      <td>0.069266</td>\n",
              "      <td>0.454606</td>\n",
              "      <td>-1.436361</td>\n",
              "      <td>77.0</td>\n",
              "    </tr>\n",
              "    <tr>\n",
              "      <th>2020-01-03</th>\n",
              "      <td>0.234207</td>\n",
              "      <td>1.084610</td>\n",
              "      <td>-1.009276</td>\n",
              "      <td>0.245197</td>\n",
              "      <td>NaN</td>\n",
              "    </tr>\n",
              "    <tr>\n",
              "      <th>2020-01-04</th>\n",
              "      <td>0.788191</td>\n",
              "      <td>-0.798885</td>\n",
              "      <td>1.292278</td>\n",
              "      <td>1.893570</td>\n",
              "      <td>NaN</td>\n",
              "    </tr>\n",
              "  </tbody>\n",
              "</table>\n",
              "</div>"
            ],
            "text/plain": [
              "               VAR_A     VAR_B     VAR_C     VAR_D  VAR_E\n",
              "2020-01-01  0.492792 -0.473452 -1.745965 -1.097766   77.0\n",
              "2020-01-02 -2.234643  0.069266  0.454606 -1.436361   77.0\n",
              "2020-01-03  0.234207  1.084610 -1.009276  0.245197    NaN\n",
              "2020-01-04  0.788191 -0.798885  1.292278  1.893570    NaN"
            ]
          },
          "metadata": {
            "tags": []
          },
          "execution_count": 33
        }
      ]
    },
    {
      "cell_type": "code",
      "metadata": {
        "colab": {
          "base_uri": "https://localhost:8080/",
          "height": 284
        },
        "id": "hn-Q_NhM20OB",
        "outputId": "9bce983a-8f51-4495-d074-1efb46867f20"
      },
      "source": [
        "df1.describe()"
      ],
      "execution_count": 34,
      "outputs": [
        {
          "output_type": "execute_result",
          "data": {
            "text/html": [
              "<div>\n",
              "<style scoped>\n",
              "    .dataframe tbody tr th:only-of-type {\n",
              "        vertical-align: middle;\n",
              "    }\n",
              "\n",
              "    .dataframe tbody tr th {\n",
              "        vertical-align: top;\n",
              "    }\n",
              "\n",
              "    .dataframe thead th {\n",
              "        text-align: right;\n",
              "    }\n",
              "</style>\n",
              "<table border=\"1\" class=\"dataframe\">\n",
              "  <thead>\n",
              "    <tr style=\"text-align: right;\">\n",
              "      <th></th>\n",
              "      <th>VAR_A</th>\n",
              "      <th>VAR_B</th>\n",
              "      <th>VAR_C</th>\n",
              "      <th>VAR_D</th>\n",
              "      <th>VAR_E</th>\n",
              "    </tr>\n",
              "  </thead>\n",
              "  <tbody>\n",
              "    <tr>\n",
              "      <th>count</th>\n",
              "      <td>4.000000</td>\n",
              "      <td>4.000000</td>\n",
              "      <td>4.000000</td>\n",
              "      <td>4.000000</td>\n",
              "      <td>2.0</td>\n",
              "    </tr>\n",
              "    <tr>\n",
              "      <th>mean</th>\n",
              "      <td>-0.179863</td>\n",
              "      <td>-0.029615</td>\n",
              "      <td>-0.252089</td>\n",
              "      <td>-0.098840</td>\n",
              "      <td>77.0</td>\n",
              "    </tr>\n",
              "    <tr>\n",
              "      <th>std</th>\n",
              "      <td>1.388425</td>\n",
              "      <td>0.824629</td>\n",
              "      <td>1.377133</td>\n",
              "      <td>1.513811</td>\n",
              "      <td>0.0</td>\n",
              "    </tr>\n",
              "    <tr>\n",
              "      <th>min</th>\n",
              "      <td>-2.234643</td>\n",
              "      <td>-0.798885</td>\n",
              "      <td>-1.745965</td>\n",
              "      <td>-1.436361</td>\n",
              "      <td>77.0</td>\n",
              "    </tr>\n",
              "    <tr>\n",
              "      <th>25%</th>\n",
              "      <td>-0.383006</td>\n",
              "      <td>-0.554810</td>\n",
              "      <td>-1.193448</td>\n",
              "      <td>-1.182414</td>\n",
              "      <td>77.0</td>\n",
              "    </tr>\n",
              "    <tr>\n",
              "      <th>50%</th>\n",
              "      <td>0.363500</td>\n",
              "      <td>-0.202093</td>\n",
              "      <td>-0.277335</td>\n",
              "      <td>-0.426284</td>\n",
              "      <td>77.0</td>\n",
              "    </tr>\n",
              "    <tr>\n",
              "      <th>75%</th>\n",
              "      <td>0.566642</td>\n",
              "      <td>0.323102</td>\n",
              "      <td>0.664024</td>\n",
              "      <td>0.657291</td>\n",
              "      <td>77.0</td>\n",
              "    </tr>\n",
              "    <tr>\n",
              "      <th>max</th>\n",
              "      <td>0.788191</td>\n",
              "      <td>1.084610</td>\n",
              "      <td>1.292278</td>\n",
              "      <td>1.893570</td>\n",
              "      <td>77.0</td>\n",
              "    </tr>\n",
              "  </tbody>\n",
              "</table>\n",
              "</div>"
            ],
            "text/plain": [
              "          VAR_A     VAR_B     VAR_C     VAR_D  VAR_E\n",
              "count  4.000000  4.000000  4.000000  4.000000    2.0\n",
              "mean  -0.179863 -0.029615 -0.252089 -0.098840   77.0\n",
              "std    1.388425  0.824629  1.377133  1.513811    0.0\n",
              "min   -2.234643 -0.798885 -1.745965 -1.436361   77.0\n",
              "25%   -0.383006 -0.554810 -1.193448 -1.182414   77.0\n",
              "50%    0.363500 -0.202093 -0.277335 -0.426284   77.0\n",
              "75%    0.566642  0.323102  0.664024  0.657291   77.0\n",
              "max    0.788191  1.084610  1.292278  1.893570   77.0"
            ]
          },
          "metadata": {
            "tags": []
          },
          "execution_count": 34
        }
      ]
    },
    {
      "cell_type": "code",
      "metadata": {
        "colab": {
          "base_uri": "https://localhost:8080/"
        },
        "id": "y6-zb-yG2KzA",
        "outputId": "b6c4aba2-386d-4f11-d516-781d7574c3cd"
      },
      "source": [
        "df1.dtypes"
      ],
      "execution_count": 35,
      "outputs": [
        {
          "output_type": "execute_result",
          "data": {
            "text/plain": [
              "VAR_A    float64\n",
              "VAR_B    float64\n",
              "VAR_C    float64\n",
              "VAR_D    float64\n",
              "VAR_E    float64\n",
              "dtype: object"
            ]
          },
          "metadata": {
            "tags": []
          },
          "execution_count": 35
        }
      ]
    },
    {
      "cell_type": "code",
      "metadata": {
        "id": "DHlSdxW_2K2p"
      },
      "source": [
        ""
      ],
      "execution_count": null,
      "outputs": []
    },
    {
      "cell_type": "code",
      "metadata": {
        "id": "JagyNNf42K5u"
      },
      "source": [
        ""
      ],
      "execution_count": null,
      "outputs": []
    },
    {
      "cell_type": "code",
      "metadata": {
        "id": "abfXxIpT2K8j"
      },
      "source": [
        ""
      ],
      "execution_count": null,
      "outputs": []
    }
  ]
}