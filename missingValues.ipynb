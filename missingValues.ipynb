{
  "nbformat": 4,
  "nbformat_minor": 0,
  "metadata": {
    "colab": {
      "name": "missingValues.ipynb",
      "provenance": [],
      "authorship_tag": "ABX9TyPRfxXsg0VdYDCKTm/aPZBR",
      "include_colab_link": true
    },
    "kernelspec": {
      "name": "python3",
      "display_name": "Python 3"
    },
    "language_info": {
      "name": "python"
    }
  },
  "cells": [
    {
      "cell_type": "markdown",
      "metadata": {
        "id": "view-in-github",
        "colab_type": "text"
      },
      "source": [
        "<a href=\"https://colab.research.google.com/github/julioreis-dev/tutorial_pandas/blob/main/missingValues.ipynb\" target=\"_parent\"><img src=\"https://colab.research.google.com/assets/colab-badge.svg\" alt=\"Open In Colab\"/></a>"
      ]
    },
    {
      "cell_type": "code",
      "metadata": {
        "id": "fpv6pIsJrnil"
      },
      "source": [
        "import pandas as pd\n",
        "import numpy as np"
      ],
      "execution_count": 55,
      "outputs": []
    },
    {
      "cell_type": "code",
      "metadata": {
        "id": "egddMkqwryb0"
      },
      "source": [
        "datas = pd.date_range(start='20190101', periods=600, freq='D')"
      ],
      "execution_count": 56,
      "outputs": []
    },
    {
      "cell_type": "code",
      "metadata": {
        "id": "9846Z4VdsK6K"
      },
      "source": [
        "df = pd.DataFrame(np.random.randn(600,5), index=datas, columns=['A', 'B', 'C', 'D', 'E'])"
      ],
      "execution_count": 57,
      "outputs": []
    },
    {
      "cell_type": "code",
      "metadata": {
        "colab": {
          "base_uri": "https://localhost:8080/",
          "height": 206
        },
        "id": "W0a1h4K6tAAw",
        "outputId": "5f39ab59-49fe-465d-fa69-d7779fa10d53"
      },
      "source": [
        "df.head()"
      ],
      "execution_count": 58,
      "outputs": [
        {
          "output_type": "execute_result",
          "data": {
            "text/html": [
              "<div>\n",
              "<style scoped>\n",
              "    .dataframe tbody tr th:only-of-type {\n",
              "        vertical-align: middle;\n",
              "    }\n",
              "\n",
              "    .dataframe tbody tr th {\n",
              "        vertical-align: top;\n",
              "    }\n",
              "\n",
              "    .dataframe thead th {\n",
              "        text-align: right;\n",
              "    }\n",
              "</style>\n",
              "<table border=\"1\" class=\"dataframe\">\n",
              "  <thead>\n",
              "    <tr style=\"text-align: right;\">\n",
              "      <th></th>\n",
              "      <th>A</th>\n",
              "      <th>B</th>\n",
              "      <th>C</th>\n",
              "      <th>D</th>\n",
              "      <th>E</th>\n",
              "    </tr>\n",
              "  </thead>\n",
              "  <tbody>\n",
              "    <tr>\n",
              "      <th>2019-01-01</th>\n",
              "      <td>3.699469</td>\n",
              "      <td>1.733523</td>\n",
              "      <td>0.744100</td>\n",
              "      <td>-0.752423</td>\n",
              "      <td>-0.238319</td>\n",
              "    </tr>\n",
              "    <tr>\n",
              "      <th>2019-01-02</th>\n",
              "      <td>0.144333</td>\n",
              "      <td>-0.908433</td>\n",
              "      <td>1.279571</td>\n",
              "      <td>1.940999</td>\n",
              "      <td>-2.745272</td>\n",
              "    </tr>\n",
              "    <tr>\n",
              "      <th>2019-01-03</th>\n",
              "      <td>0.457692</td>\n",
              "      <td>-0.981189</td>\n",
              "      <td>0.394001</td>\n",
              "      <td>2.001653</td>\n",
              "      <td>-0.590068</td>\n",
              "    </tr>\n",
              "    <tr>\n",
              "      <th>2019-01-04</th>\n",
              "      <td>-0.311574</td>\n",
              "      <td>0.708045</td>\n",
              "      <td>0.750898</td>\n",
              "      <td>0.564982</td>\n",
              "      <td>-1.054550</td>\n",
              "    </tr>\n",
              "    <tr>\n",
              "      <th>2019-01-05</th>\n",
              "      <td>-0.023525</td>\n",
              "      <td>1.394485</td>\n",
              "      <td>0.627552</td>\n",
              "      <td>-0.457919</td>\n",
              "      <td>-0.976462</td>\n",
              "    </tr>\n",
              "  </tbody>\n",
              "</table>\n",
              "</div>"
            ],
            "text/plain": [
              "                   A         B         C         D         E\n",
              "2019-01-01  3.699469  1.733523  0.744100 -0.752423 -0.238319\n",
              "2019-01-02  0.144333 -0.908433  1.279571  1.940999 -2.745272\n",
              "2019-01-03  0.457692 -0.981189  0.394001  2.001653 -0.590068\n",
              "2019-01-04 -0.311574  0.708045  0.750898  0.564982 -1.054550\n",
              "2019-01-05 -0.023525  1.394485  0.627552 -0.457919 -0.976462"
            ]
          },
          "metadata": {
            "tags": []
          },
          "execution_count": 58
        }
      ]
    },
    {
      "cell_type": "code",
      "metadata": {
        "colab": {
          "base_uri": "https://localhost:8080/"
        },
        "id": "zRGiI3ebu5pB",
        "outputId": "eeb38cbf-eed5-462b-cace-1690202cfba5"
      },
      "source": [
        "df.shape"
      ],
      "execution_count": 59,
      "outputs": [
        {
          "output_type": "execute_result",
          "data": {
            "text/plain": [
              "(600, 5)"
            ]
          },
          "metadata": {
            "tags": []
          },
          "execution_count": 59
        }
      ]
    },
    {
      "cell_type": "code",
      "metadata": {
        "id": "yElhiSdx9b-B"
      },
      "source": [
        "df.drop('G', axis=1, inplace=True)"
      ],
      "execution_count": null,
      "outputs": []
    },
    {
      "cell_type": "code",
      "metadata": {
        "colab": {
          "base_uri": "https://localhost:8080/",
          "height": 206
        },
        "id": "D22SuYXAAufX",
        "outputId": "065957a6-151d-4606-b329-2bfea213ebaf"
      },
      "source": [
        "x = df[df['A']>0]\n",
        "x.head()"
      ],
      "execution_count": 60,
      "outputs": [
        {
          "output_type": "execute_result",
          "data": {
            "text/html": [
              "<div>\n",
              "<style scoped>\n",
              "    .dataframe tbody tr th:only-of-type {\n",
              "        vertical-align: middle;\n",
              "    }\n",
              "\n",
              "    .dataframe tbody tr th {\n",
              "        vertical-align: top;\n",
              "    }\n",
              "\n",
              "    .dataframe thead th {\n",
              "        text-align: right;\n",
              "    }\n",
              "</style>\n",
              "<table border=\"1\" class=\"dataframe\">\n",
              "  <thead>\n",
              "    <tr style=\"text-align: right;\">\n",
              "      <th></th>\n",
              "      <th>A</th>\n",
              "      <th>B</th>\n",
              "      <th>C</th>\n",
              "      <th>D</th>\n",
              "      <th>E</th>\n",
              "    </tr>\n",
              "  </thead>\n",
              "  <tbody>\n",
              "    <tr>\n",
              "      <th>2019-01-01</th>\n",
              "      <td>3.699469</td>\n",
              "      <td>1.733523</td>\n",
              "      <td>0.744100</td>\n",
              "      <td>-0.752423</td>\n",
              "      <td>-0.238319</td>\n",
              "    </tr>\n",
              "    <tr>\n",
              "      <th>2019-01-02</th>\n",
              "      <td>0.144333</td>\n",
              "      <td>-0.908433</td>\n",
              "      <td>1.279571</td>\n",
              "      <td>1.940999</td>\n",
              "      <td>-2.745272</td>\n",
              "    </tr>\n",
              "    <tr>\n",
              "      <th>2019-01-03</th>\n",
              "      <td>0.457692</td>\n",
              "      <td>-0.981189</td>\n",
              "      <td>0.394001</td>\n",
              "      <td>2.001653</td>\n",
              "      <td>-0.590068</td>\n",
              "    </tr>\n",
              "    <tr>\n",
              "      <th>2019-01-10</th>\n",
              "      <td>1.433272</td>\n",
              "      <td>-0.398730</td>\n",
              "      <td>0.019400</td>\n",
              "      <td>0.618219</td>\n",
              "      <td>0.097063</td>\n",
              "    </tr>\n",
              "    <tr>\n",
              "      <th>2019-01-14</th>\n",
              "      <td>0.783014</td>\n",
              "      <td>-0.404665</td>\n",
              "      <td>-0.652303</td>\n",
              "      <td>1.317917</td>\n",
              "      <td>0.676025</td>\n",
              "    </tr>\n",
              "  </tbody>\n",
              "</table>\n",
              "</div>"
            ],
            "text/plain": [
              "                   A         B         C         D         E\n",
              "2019-01-01  3.699469  1.733523  0.744100 -0.752423 -0.238319\n",
              "2019-01-02  0.144333 -0.908433  1.279571  1.940999 -2.745272\n",
              "2019-01-03  0.457692 -0.981189  0.394001  2.001653 -0.590068\n",
              "2019-01-10  1.433272 -0.398730  0.019400  0.618219  0.097063\n",
              "2019-01-14  0.783014 -0.404665 -0.652303  1.317917  0.676025"
            ]
          },
          "metadata": {
            "tags": []
          },
          "execution_count": 60
        }
      ]
    },
    {
      "cell_type": "code",
      "metadata": {
        "id": "weCa7SxJA-1z"
      },
      "source": [
        ""
      ],
      "execution_count": null,
      "outputs": []
    },
    {
      "cell_type": "code",
      "metadata": {
        "id": "gBJNWHwpA_Fs"
      },
      "source": [
        ""
      ],
      "execution_count": null,
      "outputs": []
    },
    {
      "cell_type": "code",
      "metadata": {
        "id": "PXe4WX3QA_JD"
      },
      "source": [
        ""
      ],
      "execution_count": null,
      "outputs": []
    },
    {
      "cell_type": "code",
      "metadata": {
        "id": "g2Fomtp-0cHv"
      },
      "source": [
        "df['F'] = df['A'][df['A']>0]"
      ],
      "execution_count": 34,
      "outputs": []
    },
    {
      "cell_type": "code",
      "metadata": {
        "id": "QE99yAxLtC3y"
      },
      "source": [
        "df['F'] = df.A[df['A']>0]"
      ],
      "execution_count": 61,
      "outputs": []
    },
    {
      "cell_type": "code",
      "metadata": {
        "colab": {
          "base_uri": "https://localhost:8080/",
          "height": 206
        },
        "id": "MUOC9ow09Zl2",
        "outputId": "99b5a537-f93d-4107-9200-300175d8d063"
      },
      "source": [
        "df.head()"
      ],
      "execution_count": 62,
      "outputs": [
        {
          "output_type": "execute_result",
          "data": {
            "text/html": [
              "<div>\n",
              "<style scoped>\n",
              "    .dataframe tbody tr th:only-of-type {\n",
              "        vertical-align: middle;\n",
              "    }\n",
              "\n",
              "    .dataframe tbody tr th {\n",
              "        vertical-align: top;\n",
              "    }\n",
              "\n",
              "    .dataframe thead th {\n",
              "        text-align: right;\n",
              "    }\n",
              "</style>\n",
              "<table border=\"1\" class=\"dataframe\">\n",
              "  <thead>\n",
              "    <tr style=\"text-align: right;\">\n",
              "      <th></th>\n",
              "      <th>A</th>\n",
              "      <th>B</th>\n",
              "      <th>C</th>\n",
              "      <th>D</th>\n",
              "      <th>E</th>\n",
              "      <th>F</th>\n",
              "    </tr>\n",
              "  </thead>\n",
              "  <tbody>\n",
              "    <tr>\n",
              "      <th>2019-01-01</th>\n",
              "      <td>3.699469</td>\n",
              "      <td>1.733523</td>\n",
              "      <td>0.744100</td>\n",
              "      <td>-0.752423</td>\n",
              "      <td>-0.238319</td>\n",
              "      <td>3.699469</td>\n",
              "    </tr>\n",
              "    <tr>\n",
              "      <th>2019-01-02</th>\n",
              "      <td>0.144333</td>\n",
              "      <td>-0.908433</td>\n",
              "      <td>1.279571</td>\n",
              "      <td>1.940999</td>\n",
              "      <td>-2.745272</td>\n",
              "      <td>0.144333</td>\n",
              "    </tr>\n",
              "    <tr>\n",
              "      <th>2019-01-03</th>\n",
              "      <td>0.457692</td>\n",
              "      <td>-0.981189</td>\n",
              "      <td>0.394001</td>\n",
              "      <td>2.001653</td>\n",
              "      <td>-0.590068</td>\n",
              "      <td>0.457692</td>\n",
              "    </tr>\n",
              "    <tr>\n",
              "      <th>2019-01-04</th>\n",
              "      <td>-0.311574</td>\n",
              "      <td>0.708045</td>\n",
              "      <td>0.750898</td>\n",
              "      <td>0.564982</td>\n",
              "      <td>-1.054550</td>\n",
              "      <td>NaN</td>\n",
              "    </tr>\n",
              "    <tr>\n",
              "      <th>2019-01-05</th>\n",
              "      <td>-0.023525</td>\n",
              "      <td>1.394485</td>\n",
              "      <td>0.627552</td>\n",
              "      <td>-0.457919</td>\n",
              "      <td>-0.976462</td>\n",
              "      <td>NaN</td>\n",
              "    </tr>\n",
              "  </tbody>\n",
              "</table>\n",
              "</div>"
            ],
            "text/plain": [
              "                   A         B         C         D         E         F\n",
              "2019-01-01  3.699469  1.733523  0.744100 -0.752423 -0.238319  3.699469\n",
              "2019-01-02  0.144333 -0.908433  1.279571  1.940999 -2.745272  0.144333\n",
              "2019-01-03  0.457692 -0.981189  0.394001  2.001653 -0.590068  0.457692\n",
              "2019-01-04 -0.311574  0.708045  0.750898  0.564982 -1.054550       NaN\n",
              "2019-01-05 -0.023525  1.394485  0.627552 -0.457919 -0.976462       NaN"
            ]
          },
          "metadata": {
            "tags": []
          },
          "execution_count": 62
        }
      ]
    },
    {
      "cell_type": "code",
      "metadata": {
        "colab": {
          "base_uri": "https://localhost:8080/"
        },
        "id": "vm9ERu-SvGIj",
        "outputId": "92e1f44f-d057-4c1c-f44f-9884311277bf"
      },
      "source": [
        "df.isna().values.any()"
      ],
      "execution_count": 63,
      "outputs": [
        {
          "output_type": "execute_result",
          "data": {
            "text/plain": [
              "True"
            ]
          },
          "metadata": {
            "tags": []
          },
          "execution_count": 63
        }
      ]
    },
    {
      "cell_type": "code",
      "metadata": {
        "colab": {
          "base_uri": "https://localhost:8080/"
        },
        "id": "zbXWczi9tC7D",
        "outputId": "f05fadaf-4a7e-4abc-b487-67e5e4c950de"
      },
      "source": [
        "df.F.isna().values.sum()"
      ],
      "execution_count": 64,
      "outputs": [
        {
          "output_type": "execute_result",
          "data": {
            "text/plain": [
              "324"
            ]
          },
          "metadata": {
            "tags": []
          },
          "execution_count": 64
        }
      ]
    },
    {
      "cell_type": "code",
      "metadata": {
        "id": "uRzVMtUstC-B"
      },
      "source": [
        "df1 = df.copy()"
      ],
      "execution_count": 65,
      "outputs": []
    },
    {
      "cell_type": "code",
      "metadata": {
        "colab": {
          "base_uri": "https://localhost:8080/",
          "height": 300
        },
        "id": "oZq8Ii4uvjo_",
        "outputId": "721da501-5280-4dd4-c8d8-49a66ad0768c"
      },
      "source": [
        "df1.describe()"
      ],
      "execution_count": 66,
      "outputs": [
        {
          "output_type": "execute_result",
          "data": {
            "text/html": [
              "<div>\n",
              "<style scoped>\n",
              "    .dataframe tbody tr th:only-of-type {\n",
              "        vertical-align: middle;\n",
              "    }\n",
              "\n",
              "    .dataframe tbody tr th {\n",
              "        vertical-align: top;\n",
              "    }\n",
              "\n",
              "    .dataframe thead th {\n",
              "        text-align: right;\n",
              "    }\n",
              "</style>\n",
              "<table border=\"1\" class=\"dataframe\">\n",
              "  <thead>\n",
              "    <tr style=\"text-align: right;\">\n",
              "      <th></th>\n",
              "      <th>A</th>\n",
              "      <th>B</th>\n",
              "      <th>C</th>\n",
              "      <th>D</th>\n",
              "      <th>E</th>\n",
              "      <th>F</th>\n",
              "    </tr>\n",
              "  </thead>\n",
              "  <tbody>\n",
              "    <tr>\n",
              "      <th>count</th>\n",
              "      <td>600.000000</td>\n",
              "      <td>600.000000</td>\n",
              "      <td>600.000000</td>\n",
              "      <td>600.000000</td>\n",
              "      <td>600.000000</td>\n",
              "      <td>276.000000</td>\n",
              "    </tr>\n",
              "    <tr>\n",
              "      <th>mean</th>\n",
              "      <td>-0.057241</td>\n",
              "      <td>0.004640</td>\n",
              "      <td>-0.054899</td>\n",
              "      <td>-0.000691</td>\n",
              "      <td>0.083719</td>\n",
              "      <td>0.776459</td>\n",
              "    </tr>\n",
              "    <tr>\n",
              "      <th>std</th>\n",
              "      <td>0.989323</td>\n",
              "      <td>1.005763</td>\n",
              "      <td>1.014513</td>\n",
              "      <td>0.976701</td>\n",
              "      <td>0.951461</td>\n",
              "      <td>0.636776</td>\n",
              "    </tr>\n",
              "    <tr>\n",
              "      <th>min</th>\n",
              "      <td>-3.295144</td>\n",
              "      <td>-2.820999</td>\n",
              "      <td>-2.942785</td>\n",
              "      <td>-2.610345</td>\n",
              "      <td>-2.952274</td>\n",
              "      <td>0.002738</td>\n",
              "    </tr>\n",
              "    <tr>\n",
              "      <th>25%</th>\n",
              "      <td>-0.692195</td>\n",
              "      <td>-0.633434</td>\n",
              "      <td>-0.743559</td>\n",
              "      <td>-0.701056</td>\n",
              "      <td>-0.590673</td>\n",
              "      <td>0.284157</td>\n",
              "    </tr>\n",
              "    <tr>\n",
              "      <th>50%</th>\n",
              "      <td>-0.083377</td>\n",
              "      <td>-0.050567</td>\n",
              "      <td>-0.035970</td>\n",
              "      <td>0.025519</td>\n",
              "      <td>0.108282</td>\n",
              "      <td>0.656834</td>\n",
              "    </tr>\n",
              "    <tr>\n",
              "      <th>75%</th>\n",
              "      <td>0.564444</td>\n",
              "      <td>0.701321</td>\n",
              "      <td>0.617934</td>\n",
              "      <td>0.654886</td>\n",
              "      <td>0.696778</td>\n",
              "      <td>1.072127</td>\n",
              "    </tr>\n",
              "    <tr>\n",
              "      <th>max</th>\n",
              "      <td>3.699469</td>\n",
              "      <td>3.270808</td>\n",
              "      <td>3.126770</td>\n",
              "      <td>3.702774</td>\n",
              "      <td>2.729492</td>\n",
              "      <td>3.699469</td>\n",
              "    </tr>\n",
              "  </tbody>\n",
              "</table>\n",
              "</div>"
            ],
            "text/plain": [
              "                A           B           C           D           E           F\n",
              "count  600.000000  600.000000  600.000000  600.000000  600.000000  276.000000\n",
              "mean    -0.057241    0.004640   -0.054899   -0.000691    0.083719    0.776459\n",
              "std      0.989323    1.005763    1.014513    0.976701    0.951461    0.636776\n",
              "min     -3.295144   -2.820999   -2.942785   -2.610345   -2.952274    0.002738\n",
              "25%     -0.692195   -0.633434   -0.743559   -0.701056   -0.590673    0.284157\n",
              "50%     -0.083377   -0.050567   -0.035970    0.025519    0.108282    0.656834\n",
              "75%      0.564444    0.701321    0.617934    0.654886    0.696778    1.072127\n",
              "max      3.699469    3.270808    3.126770    3.702774    2.729492    3.699469"
            ]
          },
          "metadata": {
            "tags": []
          },
          "execution_count": 66
        }
      ]
    },
    {
      "cell_type": "code",
      "metadata": {
        "colab": {
          "base_uri": "https://localhost:8080/"
        },
        "id": "1LG3UEQuwiME",
        "outputId": "38b1ff20-821d-4c55-c509-de9b205c35af"
      },
      "source": [
        "media = np.mean(df.A)\n",
        "media"
      ],
      "execution_count": 67,
      "outputs": [
        {
          "output_type": "execute_result",
          "data": {
            "text/plain": [
              "-0.05724102923933575"
            ]
          },
          "metadata": {
            "tags": []
          },
          "execution_count": 67
        }
      ]
    },
    {
      "cell_type": "code",
      "metadata": {
        "id": "ES-3OCtetDBE"
      },
      "source": [
        "df1.F.fillna(media, inplace=True)"
      ],
      "execution_count": 68,
      "outputs": []
    },
    {
      "cell_type": "code",
      "metadata": {
        "colab": {
          "base_uri": "https://localhost:8080/",
          "height": 206
        },
        "id": "s70OF0jEtDIV",
        "outputId": "de595016-3627-463b-e8ec-401bb52a182d"
      },
      "source": [
        "df1.head()"
      ],
      "execution_count": 69,
      "outputs": [
        {
          "output_type": "execute_result",
          "data": {
            "text/html": [
              "<div>\n",
              "<style scoped>\n",
              "    .dataframe tbody tr th:only-of-type {\n",
              "        vertical-align: middle;\n",
              "    }\n",
              "\n",
              "    .dataframe tbody tr th {\n",
              "        vertical-align: top;\n",
              "    }\n",
              "\n",
              "    .dataframe thead th {\n",
              "        text-align: right;\n",
              "    }\n",
              "</style>\n",
              "<table border=\"1\" class=\"dataframe\">\n",
              "  <thead>\n",
              "    <tr style=\"text-align: right;\">\n",
              "      <th></th>\n",
              "      <th>A</th>\n",
              "      <th>B</th>\n",
              "      <th>C</th>\n",
              "      <th>D</th>\n",
              "      <th>E</th>\n",
              "      <th>F</th>\n",
              "    </tr>\n",
              "  </thead>\n",
              "  <tbody>\n",
              "    <tr>\n",
              "      <th>2019-01-01</th>\n",
              "      <td>3.699469</td>\n",
              "      <td>1.733523</td>\n",
              "      <td>0.744100</td>\n",
              "      <td>-0.752423</td>\n",
              "      <td>-0.238319</td>\n",
              "      <td>3.699469</td>\n",
              "    </tr>\n",
              "    <tr>\n",
              "      <th>2019-01-02</th>\n",
              "      <td>0.144333</td>\n",
              "      <td>-0.908433</td>\n",
              "      <td>1.279571</td>\n",
              "      <td>1.940999</td>\n",
              "      <td>-2.745272</td>\n",
              "      <td>0.144333</td>\n",
              "    </tr>\n",
              "    <tr>\n",
              "      <th>2019-01-03</th>\n",
              "      <td>0.457692</td>\n",
              "      <td>-0.981189</td>\n",
              "      <td>0.394001</td>\n",
              "      <td>2.001653</td>\n",
              "      <td>-0.590068</td>\n",
              "      <td>0.457692</td>\n",
              "    </tr>\n",
              "    <tr>\n",
              "      <th>2019-01-04</th>\n",
              "      <td>-0.311574</td>\n",
              "      <td>0.708045</td>\n",
              "      <td>0.750898</td>\n",
              "      <td>0.564982</td>\n",
              "      <td>-1.054550</td>\n",
              "      <td>-0.057241</td>\n",
              "    </tr>\n",
              "    <tr>\n",
              "      <th>2019-01-05</th>\n",
              "      <td>-0.023525</td>\n",
              "      <td>1.394485</td>\n",
              "      <td>0.627552</td>\n",
              "      <td>-0.457919</td>\n",
              "      <td>-0.976462</td>\n",
              "      <td>-0.057241</td>\n",
              "    </tr>\n",
              "  </tbody>\n",
              "</table>\n",
              "</div>"
            ],
            "text/plain": [
              "                   A         B         C         D         E         F\n",
              "2019-01-01  3.699469  1.733523  0.744100 -0.752423 -0.238319  3.699469\n",
              "2019-01-02  0.144333 -0.908433  1.279571  1.940999 -2.745272  0.144333\n",
              "2019-01-03  0.457692 -0.981189  0.394001  2.001653 -0.590068  0.457692\n",
              "2019-01-04 -0.311574  0.708045  0.750898  0.564982 -1.054550 -0.057241\n",
              "2019-01-05 -0.023525  1.394485  0.627552 -0.457919 -0.976462 -0.057241"
            ]
          },
          "metadata": {
            "tags": []
          },
          "execution_count": 69
        }
      ]
    },
    {
      "cell_type": "code",
      "metadata": {
        "id": "FZQUNQoGxfsh"
      },
      "source": [
        "df2=df.copy()"
      ],
      "execution_count": 70,
      "outputs": []
    },
    {
      "cell_type": "code",
      "metadata": {
        "colab": {
          "base_uri": "https://localhost:8080/"
        },
        "id": "E2-cknV2x9b0",
        "outputId": "e78c9977-b3e0-470f-9209-8ba9071ea068"
      },
      "source": [
        "media2 = df.A.mean()\n",
        "media2"
      ],
      "execution_count": 71,
      "outputs": [
        {
          "output_type": "execute_result",
          "data": {
            "text/plain": [
              "-0.05724102923933575"
            ]
          },
          "metadata": {
            "tags": []
          },
          "execution_count": 71
        }
      ]
    },
    {
      "cell_type": "code",
      "metadata": {
        "id": "lvAj2J5cx9gw"
      },
      "source": [
        "df2.F.fillna(media2, inplace=True)"
      ],
      "execution_count": 72,
      "outputs": []
    },
    {
      "cell_type": "code",
      "metadata": {
        "colab": {
          "base_uri": "https://localhost:8080/",
          "height": 206
        },
        "id": "8Sw-67qix9j6",
        "outputId": "551728dc-d43a-4e77-acd3-dc345c603ed9"
      },
      "source": [
        "df2.head()"
      ],
      "execution_count": 73,
      "outputs": [
        {
          "output_type": "execute_result",
          "data": {
            "text/html": [
              "<div>\n",
              "<style scoped>\n",
              "    .dataframe tbody tr th:only-of-type {\n",
              "        vertical-align: middle;\n",
              "    }\n",
              "\n",
              "    .dataframe tbody tr th {\n",
              "        vertical-align: top;\n",
              "    }\n",
              "\n",
              "    .dataframe thead th {\n",
              "        text-align: right;\n",
              "    }\n",
              "</style>\n",
              "<table border=\"1\" class=\"dataframe\">\n",
              "  <thead>\n",
              "    <tr style=\"text-align: right;\">\n",
              "      <th></th>\n",
              "      <th>A</th>\n",
              "      <th>B</th>\n",
              "      <th>C</th>\n",
              "      <th>D</th>\n",
              "      <th>E</th>\n",
              "      <th>F</th>\n",
              "    </tr>\n",
              "  </thead>\n",
              "  <tbody>\n",
              "    <tr>\n",
              "      <th>2019-01-01</th>\n",
              "      <td>3.699469</td>\n",
              "      <td>1.733523</td>\n",
              "      <td>0.744100</td>\n",
              "      <td>-0.752423</td>\n",
              "      <td>-0.238319</td>\n",
              "      <td>3.699469</td>\n",
              "    </tr>\n",
              "    <tr>\n",
              "      <th>2019-01-02</th>\n",
              "      <td>0.144333</td>\n",
              "      <td>-0.908433</td>\n",
              "      <td>1.279571</td>\n",
              "      <td>1.940999</td>\n",
              "      <td>-2.745272</td>\n",
              "      <td>0.144333</td>\n",
              "    </tr>\n",
              "    <tr>\n",
              "      <th>2019-01-03</th>\n",
              "      <td>0.457692</td>\n",
              "      <td>-0.981189</td>\n",
              "      <td>0.394001</td>\n",
              "      <td>2.001653</td>\n",
              "      <td>-0.590068</td>\n",
              "      <td>0.457692</td>\n",
              "    </tr>\n",
              "    <tr>\n",
              "      <th>2019-01-04</th>\n",
              "      <td>-0.311574</td>\n",
              "      <td>0.708045</td>\n",
              "      <td>0.750898</td>\n",
              "      <td>0.564982</td>\n",
              "      <td>-1.054550</td>\n",
              "      <td>-0.057241</td>\n",
              "    </tr>\n",
              "    <tr>\n",
              "      <th>2019-01-05</th>\n",
              "      <td>-0.023525</td>\n",
              "      <td>1.394485</td>\n",
              "      <td>0.627552</td>\n",
              "      <td>-0.457919</td>\n",
              "      <td>-0.976462</td>\n",
              "      <td>-0.057241</td>\n",
              "    </tr>\n",
              "  </tbody>\n",
              "</table>\n",
              "</div>"
            ],
            "text/plain": [
              "                   A         B         C         D         E         F\n",
              "2019-01-01  3.699469  1.733523  0.744100 -0.752423 -0.238319  3.699469\n",
              "2019-01-02  0.144333 -0.908433  1.279571  1.940999 -2.745272  0.144333\n",
              "2019-01-03  0.457692 -0.981189  0.394001  2.001653 -0.590068  0.457692\n",
              "2019-01-04 -0.311574  0.708045  0.750898  0.564982 -1.054550 -0.057241\n",
              "2019-01-05 -0.023525  1.394485  0.627552 -0.457919 -0.976462 -0.057241"
            ]
          },
          "metadata": {
            "tags": []
          },
          "execution_count": 73
        }
      ]
    }
  ]
}