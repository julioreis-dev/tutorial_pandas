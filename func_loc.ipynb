{
  "nbformat": 4,
  "nbformat_minor": 0,
  "metadata": {
    "colab": {
      "name": "func_loc.ipynb",
      "provenance": [],
      "authorship_tag": "ABX9TyOHa8JKRUhJkFvR8HoBgn6V",
      "include_colab_link": true
    },
    "kernelspec": {
      "name": "python3",
      "display_name": "Python 3"
    }
  },
  "cells": [
    {
      "cell_type": "markdown",
      "metadata": {
        "id": "view-in-github",
        "colab_type": "text"
      },
      "source": [
        "<a href=\"https://colab.research.google.com/github/julioreis-dev/tutorial_pandas/blob/main/func_loc.ipynb\" target=\"_parent\"><img src=\"https://colab.research.google.com/assets/colab-badge.svg\" alt=\"Open In Colab\"/></a>"
      ]
    },
    {
      "cell_type": "code",
      "metadata": {
        "id": "7GHTmHoVZI1t"
      },
      "source": [
        "import pandas as pd\r\n",
        "import numpy as np\r\n"
      ],
      "execution_count": 1,
      "outputs": []
    },
    {
      "cell_type": "code",
      "metadata": {
        "colab": {
          "base_uri": "https://localhost:8080/",
          "height": 424
        },
        "id": "3YsqifAyZU60",
        "outputId": "b060c720-6dde-4a32-d3cf-7c6aab6217b8"
      },
      "source": [
        "datas = pd.date_range('20180101', periods=600, freq='D')\r\n",
        "df = pd.DataFrame(np.random.randn(600,5), index=datas, columns=list('ABCDE'))\r\n",
        "df"
      ],
      "execution_count": 7,
      "outputs": [
        {
          "output_type": "execute_result",
          "data": {
            "text/html": [
              "<div>\n",
              "<style scoped>\n",
              "    .dataframe tbody tr th:only-of-type {\n",
              "        vertical-align: middle;\n",
              "    }\n",
              "\n",
              "    .dataframe tbody tr th {\n",
              "        vertical-align: top;\n",
              "    }\n",
              "\n",
              "    .dataframe thead th {\n",
              "        text-align: right;\n",
              "    }\n",
              "</style>\n",
              "<table border=\"1\" class=\"dataframe\">\n",
              "  <thead>\n",
              "    <tr style=\"text-align: right;\">\n",
              "      <th></th>\n",
              "      <th>A</th>\n",
              "      <th>B</th>\n",
              "      <th>C</th>\n",
              "      <th>D</th>\n",
              "      <th>E</th>\n",
              "    </tr>\n",
              "  </thead>\n",
              "  <tbody>\n",
              "    <tr>\n",
              "      <th>2018-01-01</th>\n",
              "      <td>-1.818994</td>\n",
              "      <td>-0.696158</td>\n",
              "      <td>0.254603</td>\n",
              "      <td>0.558830</td>\n",
              "      <td>-1.252441</td>\n",
              "    </tr>\n",
              "    <tr>\n",
              "      <th>2018-01-02</th>\n",
              "      <td>-0.846119</td>\n",
              "      <td>0.659491</td>\n",
              "      <td>1.549177</td>\n",
              "      <td>-1.764346</td>\n",
              "      <td>-2.056687</td>\n",
              "    </tr>\n",
              "    <tr>\n",
              "      <th>2018-01-03</th>\n",
              "      <td>0.061135</td>\n",
              "      <td>-0.781849</td>\n",
              "      <td>-0.430414</td>\n",
              "      <td>-0.810437</td>\n",
              "      <td>-0.964928</td>\n",
              "    </tr>\n",
              "    <tr>\n",
              "      <th>2018-01-04</th>\n",
              "      <td>0.493660</td>\n",
              "      <td>-1.377848</td>\n",
              "      <td>-0.395296</td>\n",
              "      <td>-0.493576</td>\n",
              "      <td>-0.235481</td>\n",
              "    </tr>\n",
              "    <tr>\n",
              "      <th>2018-01-05</th>\n",
              "      <td>1.360535</td>\n",
              "      <td>0.290088</td>\n",
              "      <td>-0.127864</td>\n",
              "      <td>0.566142</td>\n",
              "      <td>0.316262</td>\n",
              "    </tr>\n",
              "    <tr>\n",
              "      <th>...</th>\n",
              "      <td>...</td>\n",
              "      <td>...</td>\n",
              "      <td>...</td>\n",
              "      <td>...</td>\n",
              "      <td>...</td>\n",
              "    </tr>\n",
              "    <tr>\n",
              "      <th>2019-08-19</th>\n",
              "      <td>0.079501</td>\n",
              "      <td>1.429234</td>\n",
              "      <td>-1.041582</td>\n",
              "      <td>-1.347752</td>\n",
              "      <td>1.621910</td>\n",
              "    </tr>\n",
              "    <tr>\n",
              "      <th>2019-08-20</th>\n",
              "      <td>1.674685</td>\n",
              "      <td>-0.124376</td>\n",
              "      <td>0.075612</td>\n",
              "      <td>-0.943587</td>\n",
              "      <td>0.317172</td>\n",
              "    </tr>\n",
              "    <tr>\n",
              "      <th>2019-08-21</th>\n",
              "      <td>-1.755437</td>\n",
              "      <td>0.056148</td>\n",
              "      <td>-1.058439</td>\n",
              "      <td>-0.660788</td>\n",
              "      <td>-1.501945</td>\n",
              "    </tr>\n",
              "    <tr>\n",
              "      <th>2019-08-22</th>\n",
              "      <td>-1.393733</td>\n",
              "      <td>-0.635863</td>\n",
              "      <td>-1.100184</td>\n",
              "      <td>1.249372</td>\n",
              "      <td>1.196274</td>\n",
              "    </tr>\n",
              "    <tr>\n",
              "      <th>2019-08-23</th>\n",
              "      <td>-0.191604</td>\n",
              "      <td>-0.638118</td>\n",
              "      <td>-0.190181</td>\n",
              "      <td>-0.168849</td>\n",
              "      <td>-1.002880</td>\n",
              "    </tr>\n",
              "  </tbody>\n",
              "</table>\n",
              "<p>600 rows × 5 columns</p>\n",
              "</div>"
            ],
            "text/plain": [
              "                   A         B         C         D         E\n",
              "2018-01-01 -1.818994 -0.696158  0.254603  0.558830 -1.252441\n",
              "2018-01-02 -0.846119  0.659491  1.549177 -1.764346 -2.056687\n",
              "2018-01-03  0.061135 -0.781849 -0.430414 -0.810437 -0.964928\n",
              "2018-01-04  0.493660 -1.377848 -0.395296 -0.493576 -0.235481\n",
              "2018-01-05  1.360535  0.290088 -0.127864  0.566142  0.316262\n",
              "...              ...       ...       ...       ...       ...\n",
              "2019-08-19  0.079501  1.429234 -1.041582 -1.347752  1.621910\n",
              "2019-08-20  1.674685 -0.124376  0.075612 -0.943587  0.317172\n",
              "2019-08-21 -1.755437  0.056148 -1.058439 -0.660788 -1.501945\n",
              "2019-08-22 -1.393733 -0.635863 -1.100184  1.249372  1.196274\n",
              "2019-08-23 -0.191604 -0.638118 -0.190181 -0.168849 -1.002880\n",
              "\n",
              "[600 rows x 5 columns]"
            ]
          },
          "metadata": {
            "tags": []
          },
          "execution_count": 7
        }
      ]
    },
    {
      "cell_type": "code",
      "metadata": {
        "colab": {
          "base_uri": "https://localhost:8080/",
          "height": 206
        },
        "id": "9-YuN2f_bFmN",
        "outputId": "f794b0a5-82d5-4ccb-ec0e-5b16b6960a76"
      },
      "source": [
        "df.head(5)"
      ],
      "execution_count": 8,
      "outputs": [
        {
          "output_type": "execute_result",
          "data": {
            "text/html": [
              "<div>\n",
              "<style scoped>\n",
              "    .dataframe tbody tr th:only-of-type {\n",
              "        vertical-align: middle;\n",
              "    }\n",
              "\n",
              "    .dataframe tbody tr th {\n",
              "        vertical-align: top;\n",
              "    }\n",
              "\n",
              "    .dataframe thead th {\n",
              "        text-align: right;\n",
              "    }\n",
              "</style>\n",
              "<table border=\"1\" class=\"dataframe\">\n",
              "  <thead>\n",
              "    <tr style=\"text-align: right;\">\n",
              "      <th></th>\n",
              "      <th>A</th>\n",
              "      <th>B</th>\n",
              "      <th>C</th>\n",
              "      <th>D</th>\n",
              "      <th>E</th>\n",
              "    </tr>\n",
              "  </thead>\n",
              "  <tbody>\n",
              "    <tr>\n",
              "      <th>2018-01-01</th>\n",
              "      <td>-1.818994</td>\n",
              "      <td>-0.696158</td>\n",
              "      <td>0.254603</td>\n",
              "      <td>0.558830</td>\n",
              "      <td>-1.252441</td>\n",
              "    </tr>\n",
              "    <tr>\n",
              "      <th>2018-01-02</th>\n",
              "      <td>-0.846119</td>\n",
              "      <td>0.659491</td>\n",
              "      <td>1.549177</td>\n",
              "      <td>-1.764346</td>\n",
              "      <td>-2.056687</td>\n",
              "    </tr>\n",
              "    <tr>\n",
              "      <th>2018-01-03</th>\n",
              "      <td>0.061135</td>\n",
              "      <td>-0.781849</td>\n",
              "      <td>-0.430414</td>\n",
              "      <td>-0.810437</td>\n",
              "      <td>-0.964928</td>\n",
              "    </tr>\n",
              "    <tr>\n",
              "      <th>2018-01-04</th>\n",
              "      <td>0.493660</td>\n",
              "      <td>-1.377848</td>\n",
              "      <td>-0.395296</td>\n",
              "      <td>-0.493576</td>\n",
              "      <td>-0.235481</td>\n",
              "    </tr>\n",
              "    <tr>\n",
              "      <th>2018-01-05</th>\n",
              "      <td>1.360535</td>\n",
              "      <td>0.290088</td>\n",
              "      <td>-0.127864</td>\n",
              "      <td>0.566142</td>\n",
              "      <td>0.316262</td>\n",
              "    </tr>\n",
              "  </tbody>\n",
              "</table>\n",
              "</div>"
            ],
            "text/plain": [
              "                   A         B         C         D         E\n",
              "2018-01-01 -1.818994 -0.696158  0.254603  0.558830 -1.252441\n",
              "2018-01-02 -0.846119  0.659491  1.549177 -1.764346 -2.056687\n",
              "2018-01-03  0.061135 -0.781849 -0.430414 -0.810437 -0.964928\n",
              "2018-01-04  0.493660 -1.377848 -0.395296 -0.493576 -0.235481\n",
              "2018-01-05  1.360535  0.290088 -0.127864  0.566142  0.316262"
            ]
          },
          "metadata": {
            "tags": []
          },
          "execution_count": 8
        }
      ]
    },
    {
      "cell_type": "code",
      "metadata": {
        "colab": {
          "base_uri": "https://localhost:8080/"
        },
        "id": "sWmpwiKcbFwM",
        "outputId": "e7faa0ae-3b6a-4e79-ee01-a95aa1a46a01"
      },
      "source": [
        "df['D']"
      ],
      "execution_count": 12,
      "outputs": [
        {
          "output_type": "execute_result",
          "data": {
            "text/plain": [
              "2018-01-01    0.558830\n",
              "2018-01-02   -1.764346\n",
              "2018-01-03   -0.810437\n",
              "2018-01-04   -0.493576\n",
              "2018-01-05    0.566142\n",
              "                ...   \n",
              "2019-08-19   -1.347752\n",
              "2019-08-20   -0.943587\n",
              "2019-08-21   -0.660788\n",
              "2019-08-22    1.249372\n",
              "2019-08-23   -0.168849\n",
              "Freq: D, Name: D, Length: 600, dtype: float64"
            ]
          },
          "metadata": {
            "tags": []
          },
          "execution_count": 12
        }
      ]
    },
    {
      "cell_type": "code",
      "metadata": {
        "colab": {
          "base_uri": "https://localhost:8080/",
          "height": 424
        },
        "id": "j3X6OiNobF5l",
        "outputId": "f9c836a0-0569-4d84-9978-f8ff33aa825f"
      },
      "source": [
        "df.loc[:,['B','C','D']]"
      ],
      "execution_count": 13,
      "outputs": [
        {
          "output_type": "execute_result",
          "data": {
            "text/html": [
              "<div>\n",
              "<style scoped>\n",
              "    .dataframe tbody tr th:only-of-type {\n",
              "        vertical-align: middle;\n",
              "    }\n",
              "\n",
              "    .dataframe tbody tr th {\n",
              "        vertical-align: top;\n",
              "    }\n",
              "\n",
              "    .dataframe thead th {\n",
              "        text-align: right;\n",
              "    }\n",
              "</style>\n",
              "<table border=\"1\" class=\"dataframe\">\n",
              "  <thead>\n",
              "    <tr style=\"text-align: right;\">\n",
              "      <th></th>\n",
              "      <th>B</th>\n",
              "      <th>C</th>\n",
              "      <th>D</th>\n",
              "    </tr>\n",
              "  </thead>\n",
              "  <tbody>\n",
              "    <tr>\n",
              "      <th>2018-01-01</th>\n",
              "      <td>-0.696158</td>\n",
              "      <td>0.254603</td>\n",
              "      <td>0.558830</td>\n",
              "    </tr>\n",
              "    <tr>\n",
              "      <th>2018-01-02</th>\n",
              "      <td>0.659491</td>\n",
              "      <td>1.549177</td>\n",
              "      <td>-1.764346</td>\n",
              "    </tr>\n",
              "    <tr>\n",
              "      <th>2018-01-03</th>\n",
              "      <td>-0.781849</td>\n",
              "      <td>-0.430414</td>\n",
              "      <td>-0.810437</td>\n",
              "    </tr>\n",
              "    <tr>\n",
              "      <th>2018-01-04</th>\n",
              "      <td>-1.377848</td>\n",
              "      <td>-0.395296</td>\n",
              "      <td>-0.493576</td>\n",
              "    </tr>\n",
              "    <tr>\n",
              "      <th>2018-01-05</th>\n",
              "      <td>0.290088</td>\n",
              "      <td>-0.127864</td>\n",
              "      <td>0.566142</td>\n",
              "    </tr>\n",
              "    <tr>\n",
              "      <th>...</th>\n",
              "      <td>...</td>\n",
              "      <td>...</td>\n",
              "      <td>...</td>\n",
              "    </tr>\n",
              "    <tr>\n",
              "      <th>2019-08-19</th>\n",
              "      <td>1.429234</td>\n",
              "      <td>-1.041582</td>\n",
              "      <td>-1.347752</td>\n",
              "    </tr>\n",
              "    <tr>\n",
              "      <th>2019-08-20</th>\n",
              "      <td>-0.124376</td>\n",
              "      <td>0.075612</td>\n",
              "      <td>-0.943587</td>\n",
              "    </tr>\n",
              "    <tr>\n",
              "      <th>2019-08-21</th>\n",
              "      <td>0.056148</td>\n",
              "      <td>-1.058439</td>\n",
              "      <td>-0.660788</td>\n",
              "    </tr>\n",
              "    <tr>\n",
              "      <th>2019-08-22</th>\n",
              "      <td>-0.635863</td>\n",
              "      <td>-1.100184</td>\n",
              "      <td>1.249372</td>\n",
              "    </tr>\n",
              "    <tr>\n",
              "      <th>2019-08-23</th>\n",
              "      <td>-0.638118</td>\n",
              "      <td>-0.190181</td>\n",
              "      <td>-0.168849</td>\n",
              "    </tr>\n",
              "  </tbody>\n",
              "</table>\n",
              "<p>600 rows × 3 columns</p>\n",
              "</div>"
            ],
            "text/plain": [
              "                   B         C         D\n",
              "2018-01-01 -0.696158  0.254603  0.558830\n",
              "2018-01-02  0.659491  1.549177 -1.764346\n",
              "2018-01-03 -0.781849 -0.430414 -0.810437\n",
              "2018-01-04 -1.377848 -0.395296 -0.493576\n",
              "2018-01-05  0.290088 -0.127864  0.566142\n",
              "...              ...       ...       ...\n",
              "2019-08-19  1.429234 -1.041582 -1.347752\n",
              "2019-08-20 -0.124376  0.075612 -0.943587\n",
              "2019-08-21  0.056148 -1.058439 -0.660788\n",
              "2019-08-22 -0.635863 -1.100184  1.249372\n",
              "2019-08-23 -0.638118 -0.190181 -0.168849\n",
              "\n",
              "[600 rows x 3 columns]"
            ]
          },
          "metadata": {
            "tags": []
          },
          "execution_count": 13
        }
      ]
    },
    {
      "cell_type": "code",
      "metadata": {
        "colab": {
          "base_uri": "https://localhost:8080/",
          "height": 424
        },
        "id": "dyM8izRKboDR",
        "outputId": "20447f5c-7973-4e3e-9820-a84ee4a04d29"
      },
      "source": [
        "df.loc['2018-03-01':'2018-09-17', ['A', 'E']]"
      ],
      "execution_count": 19,
      "outputs": [
        {
          "output_type": "execute_result",
          "data": {
            "text/html": [
              "<div>\n",
              "<style scoped>\n",
              "    .dataframe tbody tr th:only-of-type {\n",
              "        vertical-align: middle;\n",
              "    }\n",
              "\n",
              "    .dataframe tbody tr th {\n",
              "        vertical-align: top;\n",
              "    }\n",
              "\n",
              "    .dataframe thead th {\n",
              "        text-align: right;\n",
              "    }\n",
              "</style>\n",
              "<table border=\"1\" class=\"dataframe\">\n",
              "  <thead>\n",
              "    <tr style=\"text-align: right;\">\n",
              "      <th></th>\n",
              "      <th>A</th>\n",
              "      <th>E</th>\n",
              "    </tr>\n",
              "  </thead>\n",
              "  <tbody>\n",
              "    <tr>\n",
              "      <th>2018-03-01</th>\n",
              "      <td>0.386286</td>\n",
              "      <td>-0.354849</td>\n",
              "    </tr>\n",
              "    <tr>\n",
              "      <th>2018-03-02</th>\n",
              "      <td>-1.324308</td>\n",
              "      <td>0.631368</td>\n",
              "    </tr>\n",
              "    <tr>\n",
              "      <th>2018-03-03</th>\n",
              "      <td>0.762704</td>\n",
              "      <td>0.977815</td>\n",
              "    </tr>\n",
              "    <tr>\n",
              "      <th>2018-03-04</th>\n",
              "      <td>0.155928</td>\n",
              "      <td>0.965373</td>\n",
              "    </tr>\n",
              "    <tr>\n",
              "      <th>2018-03-05</th>\n",
              "      <td>-1.512424</td>\n",
              "      <td>-0.880991</td>\n",
              "    </tr>\n",
              "    <tr>\n",
              "      <th>...</th>\n",
              "      <td>...</td>\n",
              "      <td>...</td>\n",
              "    </tr>\n",
              "    <tr>\n",
              "      <th>2018-09-13</th>\n",
              "      <td>0.100128</td>\n",
              "      <td>0.571628</td>\n",
              "    </tr>\n",
              "    <tr>\n",
              "      <th>2018-09-14</th>\n",
              "      <td>-1.272454</td>\n",
              "      <td>-0.767531</td>\n",
              "    </tr>\n",
              "    <tr>\n",
              "      <th>2018-09-15</th>\n",
              "      <td>0.732901</td>\n",
              "      <td>0.127042</td>\n",
              "    </tr>\n",
              "    <tr>\n",
              "      <th>2018-09-16</th>\n",
              "      <td>1.108261</td>\n",
              "      <td>-1.120331</td>\n",
              "    </tr>\n",
              "    <tr>\n",
              "      <th>2018-09-17</th>\n",
              "      <td>-0.543832</td>\n",
              "      <td>1.285411</td>\n",
              "    </tr>\n",
              "  </tbody>\n",
              "</table>\n",
              "<p>201 rows × 2 columns</p>\n",
              "</div>"
            ],
            "text/plain": [
              "                   A         E\n",
              "2018-03-01  0.386286 -0.354849\n",
              "2018-03-02 -1.324308  0.631368\n",
              "2018-03-03  0.762704  0.977815\n",
              "2018-03-04  0.155928  0.965373\n",
              "2018-03-05 -1.512424 -0.880991\n",
              "...              ...       ...\n",
              "2018-09-13  0.100128  0.571628\n",
              "2018-09-14 -1.272454 -0.767531\n",
              "2018-09-15  0.732901  0.127042\n",
              "2018-09-16  1.108261 -1.120331\n",
              "2018-09-17 -0.543832  1.285411\n",
              "\n",
              "[201 rows x 2 columns]"
            ]
          },
          "metadata": {
            "tags": []
          },
          "execution_count": 19
        }
      ]
    },
    {
      "cell_type": "code",
      "metadata": {
        "colab": {
          "base_uri": "https://localhost:8080/",
          "height": 424
        },
        "id": "oyLNQ0TiboiO",
        "outputId": "9a2aad8b-9d11-4a32-8c32-9fa095e95797"
      },
      "source": [
        "f = df.loc['20180301':'20180917', ['A', 'E']]\r\n",
        "f"
      ],
      "execution_count": 24,
      "outputs": [
        {
          "output_type": "execute_result",
          "data": {
            "text/html": [
              "<div>\n",
              "<style scoped>\n",
              "    .dataframe tbody tr th:only-of-type {\n",
              "        vertical-align: middle;\n",
              "    }\n",
              "\n",
              "    .dataframe tbody tr th {\n",
              "        vertical-align: top;\n",
              "    }\n",
              "\n",
              "    .dataframe thead th {\n",
              "        text-align: right;\n",
              "    }\n",
              "</style>\n",
              "<table border=\"1\" class=\"dataframe\">\n",
              "  <thead>\n",
              "    <tr style=\"text-align: right;\">\n",
              "      <th></th>\n",
              "      <th>A</th>\n",
              "      <th>E</th>\n",
              "    </tr>\n",
              "  </thead>\n",
              "  <tbody>\n",
              "    <tr>\n",
              "      <th>2018-03-01</th>\n",
              "      <td>0.386286</td>\n",
              "      <td>-0.354849</td>\n",
              "    </tr>\n",
              "    <tr>\n",
              "      <th>2018-03-02</th>\n",
              "      <td>-1.324308</td>\n",
              "      <td>0.631368</td>\n",
              "    </tr>\n",
              "    <tr>\n",
              "      <th>2018-03-03</th>\n",
              "      <td>0.762704</td>\n",
              "      <td>0.977815</td>\n",
              "    </tr>\n",
              "    <tr>\n",
              "      <th>2018-03-04</th>\n",
              "      <td>0.155928</td>\n",
              "      <td>0.965373</td>\n",
              "    </tr>\n",
              "    <tr>\n",
              "      <th>2018-03-05</th>\n",
              "      <td>-1.512424</td>\n",
              "      <td>-0.880991</td>\n",
              "    </tr>\n",
              "    <tr>\n",
              "      <th>...</th>\n",
              "      <td>...</td>\n",
              "      <td>...</td>\n",
              "    </tr>\n",
              "    <tr>\n",
              "      <th>2018-09-13</th>\n",
              "      <td>0.100128</td>\n",
              "      <td>0.571628</td>\n",
              "    </tr>\n",
              "    <tr>\n",
              "      <th>2018-09-14</th>\n",
              "      <td>-1.272454</td>\n",
              "      <td>-0.767531</td>\n",
              "    </tr>\n",
              "    <tr>\n",
              "      <th>2018-09-15</th>\n",
              "      <td>0.732901</td>\n",
              "      <td>0.127042</td>\n",
              "    </tr>\n",
              "    <tr>\n",
              "      <th>2018-09-16</th>\n",
              "      <td>1.108261</td>\n",
              "      <td>-1.120331</td>\n",
              "    </tr>\n",
              "    <tr>\n",
              "      <th>2018-09-17</th>\n",
              "      <td>-0.543832</td>\n",
              "      <td>1.285411</td>\n",
              "    </tr>\n",
              "  </tbody>\n",
              "</table>\n",
              "<p>201 rows × 2 columns</p>\n",
              "</div>"
            ],
            "text/plain": [
              "                   A         E\n",
              "2018-03-01  0.386286 -0.354849\n",
              "2018-03-02 -1.324308  0.631368\n",
              "2018-03-03  0.762704  0.977815\n",
              "2018-03-04  0.155928  0.965373\n",
              "2018-03-05 -1.512424 -0.880991\n",
              "...              ...       ...\n",
              "2018-09-13  0.100128  0.571628\n",
              "2018-09-14 -1.272454 -0.767531\n",
              "2018-09-15  0.732901  0.127042\n",
              "2018-09-16  1.108261 -1.120331\n",
              "2018-09-17 -0.543832  1.285411\n",
              "\n",
              "[201 rows x 2 columns]"
            ]
          },
          "metadata": {
            "tags": []
          },
          "execution_count": 24
        }
      ]
    },
    {
      "cell_type": "code",
      "metadata": {
        "colab": {
          "base_uri": "https://localhost:8080/"
        },
        "id": "KPEiEXDwbF_j",
        "outputId": "a0360141-31a2-4c8f-ebc5-31fc951f1532"
      },
      "source": [
        "len(f)"
      ],
      "execution_count": 25,
      "outputs": [
        {
          "output_type": "execute_result",
          "data": {
            "text/plain": [
              "201"
            ]
          },
          "metadata": {
            "tags": []
          },
          "execution_count": 25
        }
      ]
    }
  ]
}