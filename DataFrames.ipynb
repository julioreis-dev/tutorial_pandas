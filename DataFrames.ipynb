{
  "nbformat": 4,
  "nbformat_minor": 0,
  "metadata": {
    "colab": {
      "name": "DataFrames.ipynb",
      "provenance": [],
      "authorship_tag": "ABX9TyNztS+hgTvsfFe0Xs22ecD9",
      "include_colab_link": true
    },
    "kernelspec": {
      "name": "python3",
      "display_name": "Python 3"
    }
  },
  "cells": [
    {
      "cell_type": "markdown",
      "metadata": {
        "id": "view-in-github",
        "colab_type": "text"
      },
      "source": [
        "<a href=\"https://colab.research.google.com/github/julioreis-dev/tutorial_pandas/blob/main/DataFrames.ipynb\" target=\"_parent\"><img src=\"https://colab.research.google.com/assets/colab-badge.svg\" alt=\"Open In Colab\"/></a>"
      ]
    },
    {
      "cell_type": "code",
      "metadata": {
        "id": "voMqspNgcfUF"
      },
      "source": [
        "import pandas as pd\n",
        "import numpy as np"
      ],
      "execution_count": 1,
      "outputs": []
    },
    {
      "cell_type": "code",
      "metadata": {
        "colab": {
          "base_uri": "https://localhost:8080/",
          "height": 424
        },
        "id": "XT6Aeb8RF840",
        "outputId": "a67f3f16-9f76-48c3-ba83-7ca3d0f7475a"
      },
      "source": [
        "df = pd.DataFrame(np.random.randn(600,5))\n",
        "df"
      ],
      "execution_count": 4,
      "outputs": [
        {
          "output_type": "execute_result",
          "data": {
            "text/html": [
              "<div>\n",
              "<style scoped>\n",
              "    .dataframe tbody tr th:only-of-type {\n",
              "        vertical-align: middle;\n",
              "    }\n",
              "\n",
              "    .dataframe tbody tr th {\n",
              "        vertical-align: top;\n",
              "    }\n",
              "\n",
              "    .dataframe thead th {\n",
              "        text-align: right;\n",
              "    }\n",
              "</style>\n",
              "<table border=\"1\" class=\"dataframe\">\n",
              "  <thead>\n",
              "    <tr style=\"text-align: right;\">\n",
              "      <th></th>\n",
              "      <th>0</th>\n",
              "      <th>1</th>\n",
              "      <th>2</th>\n",
              "      <th>3</th>\n",
              "      <th>4</th>\n",
              "    </tr>\n",
              "  </thead>\n",
              "  <tbody>\n",
              "    <tr>\n",
              "      <th>0</th>\n",
              "      <td>-0.236753</td>\n",
              "      <td>0.216831</td>\n",
              "      <td>-1.174527</td>\n",
              "      <td>1.409693</td>\n",
              "      <td>0.454978</td>\n",
              "    </tr>\n",
              "    <tr>\n",
              "      <th>1</th>\n",
              "      <td>-2.105254</td>\n",
              "      <td>-1.474432</td>\n",
              "      <td>1.208360</td>\n",
              "      <td>0.546882</td>\n",
              "      <td>-0.370358</td>\n",
              "    </tr>\n",
              "    <tr>\n",
              "      <th>2</th>\n",
              "      <td>-0.310731</td>\n",
              "      <td>0.676585</td>\n",
              "      <td>0.804386</td>\n",
              "      <td>0.891806</td>\n",
              "      <td>0.422401</td>\n",
              "    </tr>\n",
              "    <tr>\n",
              "      <th>3</th>\n",
              "      <td>-0.049994</td>\n",
              "      <td>0.071581</td>\n",
              "      <td>0.090610</td>\n",
              "      <td>0.922398</td>\n",
              "      <td>-1.478221</td>\n",
              "    </tr>\n",
              "    <tr>\n",
              "      <th>4</th>\n",
              "      <td>-1.959784</td>\n",
              "      <td>-0.205926</td>\n",
              "      <td>-1.422042</td>\n",
              "      <td>0.382537</td>\n",
              "      <td>-0.685103</td>\n",
              "    </tr>\n",
              "    <tr>\n",
              "      <th>...</th>\n",
              "      <td>...</td>\n",
              "      <td>...</td>\n",
              "      <td>...</td>\n",
              "      <td>...</td>\n",
              "      <td>...</td>\n",
              "    </tr>\n",
              "    <tr>\n",
              "      <th>595</th>\n",
              "      <td>-0.245876</td>\n",
              "      <td>1.788129</td>\n",
              "      <td>-0.360166</td>\n",
              "      <td>-0.266716</td>\n",
              "      <td>2.201833</td>\n",
              "    </tr>\n",
              "    <tr>\n",
              "      <th>596</th>\n",
              "      <td>-1.562896</td>\n",
              "      <td>-0.700656</td>\n",
              "      <td>-1.961309</td>\n",
              "      <td>0.070370</td>\n",
              "      <td>0.898375</td>\n",
              "    </tr>\n",
              "    <tr>\n",
              "      <th>597</th>\n",
              "      <td>0.463951</td>\n",
              "      <td>-0.871550</td>\n",
              "      <td>0.915693</td>\n",
              "      <td>-1.676474</td>\n",
              "      <td>0.888287</td>\n",
              "    </tr>\n",
              "    <tr>\n",
              "      <th>598</th>\n",
              "      <td>-0.728408</td>\n",
              "      <td>0.460023</td>\n",
              "      <td>1.870369</td>\n",
              "      <td>0.723400</td>\n",
              "      <td>0.349111</td>\n",
              "    </tr>\n",
              "    <tr>\n",
              "      <th>599</th>\n",
              "      <td>-0.530490</td>\n",
              "      <td>0.663271</td>\n",
              "      <td>-1.366533</td>\n",
              "      <td>-1.335723</td>\n",
              "      <td>-0.947113</td>\n",
              "    </tr>\n",
              "  </tbody>\n",
              "</table>\n",
              "<p>600 rows × 5 columns</p>\n",
              "</div>"
            ],
            "text/plain": [
              "            0         1         2         3         4\n",
              "0   -0.236753  0.216831 -1.174527  1.409693  0.454978\n",
              "1   -2.105254 -1.474432  1.208360  0.546882 -0.370358\n",
              "2   -0.310731  0.676585  0.804386  0.891806  0.422401\n",
              "3   -0.049994  0.071581  0.090610  0.922398 -1.478221\n",
              "4   -1.959784 -0.205926 -1.422042  0.382537 -0.685103\n",
              "..        ...       ...       ...       ...       ...\n",
              "595 -0.245876  1.788129 -0.360166 -0.266716  2.201833\n",
              "596 -1.562896 -0.700656 -1.961309  0.070370  0.898375\n",
              "597  0.463951 -0.871550  0.915693 -1.676474  0.888287\n",
              "598 -0.728408  0.460023  1.870369  0.723400  0.349111\n",
              "599 -0.530490  0.663271 -1.366533 -1.335723 -0.947113\n",
              "\n",
              "[600 rows x 5 columns]"
            ]
          },
          "metadata": {
            "tags": []
          },
          "execution_count": 4
        }
      ]
    },
    {
      "cell_type": "code",
      "metadata": {
        "colab": {
          "base_uri": "https://localhost:8080/"
        },
        "id": "0eyDN8Syc9oU",
        "outputId": "a5bda3b7-b345-4f49-8fa3-df203cf69ce2"
      },
      "source": [
        "datas1 = pd.Series([7, 4.2, 6, 9, 10])\n",
        "datas1"
      ],
      "execution_count": 5,
      "outputs": [
        {
          "output_type": "execute_result",
          "data": {
            "text/plain": [
              "0     7.0\n",
              "1     4.2\n",
              "2     6.0\n",
              "3     9.0\n",
              "4    10.0\n",
              "dtype: float64"
            ]
          },
          "metadata": {
            "tags": []
          },
          "execution_count": 5
        }
      ]
    },
    {
      "cell_type": "code",
      "metadata": {
        "id": "1-qZmiXbh_f2"
      },
      "source": [
        "names = ['Julio', 'Carla', 'Manu', 'João', 'Bento', 'Arthur']"
      ],
      "execution_count": 6,
      "outputs": []
    },
    {
      "cell_type": "code",
      "metadata": {
        "colab": {
          "base_uri": "https://localhost:8080/"
        },
        "id": "UDaO_gvshnnY",
        "outputId": "53510ec6-4891-4d71-c771-8e4dc7f943f0"
      },
      "source": [
        "data = pd.date_range('20180101', periods=6, freq='D')\n",
        "data"
      ],
      "execution_count": 7,
      "outputs": [
        {
          "output_type": "execute_result",
          "data": {
            "text/plain": [
              "DatetimeIndex(['2018-01-01', '2018-01-02', '2018-01-03', '2018-01-04',\n",
              "               '2018-01-05', '2018-01-06'],\n",
              "              dtype='datetime64[ns]', freq='D')"
            ]
          },
          "metadata": {
            "tags": []
          },
          "execution_count": 7
        }
      ]
    },
    {
      "cell_type": "code",
      "metadata": {
        "colab": {
          "base_uri": "https://localhost:8080/",
          "height": 238
        },
        "id": "sscymi4fhrXp",
        "outputId": "3ba2a59a-508b-4fb4-8636-6da1e688d2af"
      },
      "source": [
        "df1 = pd.DataFrame(np.random.randn(6,4), index=names, columns=list('ABCD'))\n",
        "df1"
      ],
      "execution_count": 8,
      "outputs": [
        {
          "output_type": "execute_result",
          "data": {
            "text/html": [
              "<div>\n",
              "<style scoped>\n",
              "    .dataframe tbody tr th:only-of-type {\n",
              "        vertical-align: middle;\n",
              "    }\n",
              "\n",
              "    .dataframe tbody tr th {\n",
              "        vertical-align: top;\n",
              "    }\n",
              "\n",
              "    .dataframe thead th {\n",
              "        text-align: right;\n",
              "    }\n",
              "</style>\n",
              "<table border=\"1\" class=\"dataframe\">\n",
              "  <thead>\n",
              "    <tr style=\"text-align: right;\">\n",
              "      <th></th>\n",
              "      <th>A</th>\n",
              "      <th>B</th>\n",
              "      <th>C</th>\n",
              "      <th>D</th>\n",
              "    </tr>\n",
              "  </thead>\n",
              "  <tbody>\n",
              "    <tr>\n",
              "      <th>Julio</th>\n",
              "      <td>-0.560484</td>\n",
              "      <td>1.169675</td>\n",
              "      <td>-0.131941</td>\n",
              "      <td>0.737123</td>\n",
              "    </tr>\n",
              "    <tr>\n",
              "      <th>Carla</th>\n",
              "      <td>0.171223</td>\n",
              "      <td>-0.588786</td>\n",
              "      <td>0.122677</td>\n",
              "      <td>-0.235714</td>\n",
              "    </tr>\n",
              "    <tr>\n",
              "      <th>Manu</th>\n",
              "      <td>0.277456</td>\n",
              "      <td>-0.203743</td>\n",
              "      <td>0.638363</td>\n",
              "      <td>-0.333301</td>\n",
              "    </tr>\n",
              "    <tr>\n",
              "      <th>João</th>\n",
              "      <td>0.539578</td>\n",
              "      <td>-0.524604</td>\n",
              "      <td>0.353376</td>\n",
              "      <td>-0.087677</td>\n",
              "    </tr>\n",
              "    <tr>\n",
              "      <th>Bento</th>\n",
              "      <td>-0.558075</td>\n",
              "      <td>-0.560816</td>\n",
              "      <td>0.079305</td>\n",
              "      <td>-0.409072</td>\n",
              "    </tr>\n",
              "    <tr>\n",
              "      <th>Arthur</th>\n",
              "      <td>-0.619253</td>\n",
              "      <td>1.665727</td>\n",
              "      <td>0.336934</td>\n",
              "      <td>0.593738</td>\n",
              "    </tr>\n",
              "  </tbody>\n",
              "</table>\n",
              "</div>"
            ],
            "text/plain": [
              "               A         B         C         D\n",
              "Julio  -0.560484  1.169675 -0.131941  0.737123\n",
              "Carla   0.171223 -0.588786  0.122677 -0.235714\n",
              "Manu    0.277456 -0.203743  0.638363 -0.333301\n",
              "João    0.539578 -0.524604  0.353376 -0.087677\n",
              "Bento  -0.558075 -0.560816  0.079305 -0.409072\n",
              "Arthur -0.619253  1.665727  0.336934  0.593738"
            ]
          },
          "metadata": {
            "tags": []
          },
          "execution_count": 8
        }
      ]
    }
  ]
}