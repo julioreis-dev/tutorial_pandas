{
  "nbformat": 4,
  "nbformat_minor": 0,
  "metadata": {
    "colab": {
      "name": "ipea.ipynb",
      "provenance": [],
      "mount_file_id": "1O_ywuFOmsbEZme5svILxGosEpvJZzepl",
      "authorship_tag": "ABX9TyPZ+G/7HumXkBVm7lEkb9PG",
      "include_colab_link": true
    },
    "kernelspec": {
      "name": "python3",
      "display_name": "Python 3"
    },
    "language_info": {
      "name": "python"
    }
  },
  "cells": [
    {
      "cell_type": "markdown",
      "metadata": {
        "id": "view-in-github",
        "colab_type": "text"
      },
      "source": [
        "<a href=\"https://colab.research.google.com/github/julioreis-dev/tutorial_pandas/blob/main/ipea.ipynb\" target=\"_parent\"><img src=\"https://colab.research.google.com/assets/colab-badge.svg\" alt=\"Open In Colab\"/></a>"
      ]
    },
    {
      "cell_type": "code",
      "metadata": {
        "id": "_cNHNb9qkjeq"
      },
      "source": [
        "import pandas as pd\n",
        "import numpy as np\n",
        "import seaborn as sns\n",
        "import matplotlib.pyplot as plt\n",
        "from sklearn.model_selection import train_test_split\n",
        "from sklearn.linear_model import LinearRegression\n",
        "from sklearn.metrics import mean_absolute_error\n",
        "from glob import glob"
      ],
      "execution_count": 2,
      "outputs": []
    },
    {
      "cell_type": "code",
      "metadata": {
        "id": "0YHA6EYoozvr"
      },
      "source": [
        "files = sorted(glob('/content/drive/MyDrive/staging/*.csv'))\n",
        "files"
      ],
      "execution_count": null,
      "outputs": []
    },
    {
      "cell_type": "code",
      "metadata": {
        "id": "X0fogAqEk75S"
      },
      "source": [
        "df_admissao_url = '/content/drive/MyDrive/staging/ipeadata_admissao.csv'\n",
        "df_demissao_url = '/content/drive/MyDrive/staging/ipeadata_demissao.csv'"
      ],
      "execution_count": 3,
      "outputs": []
    },
    {
      "cell_type": "code",
      "metadata": {
        "id": "pp9KVnw7k78K"
      },
      "source": [
        "df_admissao = pd.read_csv(df_admissao_url, sep=',')\n",
        "df_demissao = pd.read_csv(df_demissao_url, sep=',')"
      ],
      "execution_count": 4,
      "outputs": []
    },
    {
      "cell_type": "code",
      "metadata": {
        "colab": {
          "base_uri": "https://localhost:8080/",
          "height": 206
        },
        "id": "JgeviCM1k7_O",
        "outputId": "c088a753-0ab0-4c36-8045-0c6af5c90da6"
      },
      "source": [
        "df_admissao.head()"
      ],
      "execution_count": 5,
      "outputs": [
        {
          "output_type": "execute_result",
          "data": {
            "text/html": [
              "<div>\n",
              "<style scoped>\n",
              "    .dataframe tbody tr th:only-of-type {\n",
              "        vertical-align: middle;\n",
              "    }\n",
              "\n",
              "    .dataframe tbody tr th {\n",
              "        vertical-align: top;\n",
              "    }\n",
              "\n",
              "    .dataframe thead th {\n",
              "        text-align: right;\n",
              "    }\n",
              "</style>\n",
              "<table border=\"1\" class=\"dataframe\">\n",
              "  <thead>\n",
              "    <tr style=\"text-align: right;\">\n",
              "      <th></th>\n",
              "      <th>Data</th>\n",
              "      <th>Empregados - admissões - Pessoa - Ministério do Trabalho e Emprego- Cadastro Geral de Empregados e Desempregados (MTE/CAGED) - CAGED12_ADMIS</th>\n",
              "      <th>Unnamed: 2</th>\n",
              "    </tr>\n",
              "  </thead>\n",
              "  <tbody>\n",
              "    <tr>\n",
              "      <th>0</th>\n",
              "      <td>1999.05</td>\n",
              "      <td>732704</td>\n",
              "      <td>NaN</td>\n",
              "    </tr>\n",
              "    <tr>\n",
              "      <th>1</th>\n",
              "      <td>1999.06</td>\n",
              "      <td>731238</td>\n",
              "      <td>NaN</td>\n",
              "    </tr>\n",
              "    <tr>\n",
              "      <th>2</th>\n",
              "      <td>1999.07</td>\n",
              "      <td>685905</td>\n",
              "      <td>NaN</td>\n",
              "    </tr>\n",
              "    <tr>\n",
              "      <th>3</th>\n",
              "      <td>1999.08</td>\n",
              "      <td>690144</td>\n",
              "      <td>NaN</td>\n",
              "    </tr>\n",
              "    <tr>\n",
              "      <th>4</th>\n",
              "      <td>1999.09</td>\n",
              "      <td>698632</td>\n",
              "      <td>NaN</td>\n",
              "    </tr>\n",
              "  </tbody>\n",
              "</table>\n",
              "</div>"
            ],
            "text/plain": [
              "      Data  ...  Unnamed: 2\n",
              "0  1999.05  ...         NaN\n",
              "1  1999.06  ...         NaN\n",
              "2  1999.07  ...         NaN\n",
              "3  1999.08  ...         NaN\n",
              "4  1999.09  ...         NaN\n",
              "\n",
              "[5 rows x 3 columns]"
            ]
          },
          "metadata": {
            "tags": []
          },
          "execution_count": 5
        }
      ]
    },
    {
      "cell_type": "code",
      "metadata": {
        "colab": {
          "base_uri": "https://localhost:8080/"
        },
        "id": "sx8t-g-Ak8B4",
        "outputId": "884870b5-2d96-4681-d9a9-9552bba448eb"
      },
      "source": [
        "df_admissao.shape"
      ],
      "execution_count": 6,
      "outputs": [
        {
          "output_type": "execute_result",
          "data": {
            "text/plain": [
              "(248, 3)"
            ]
          },
          "metadata": {
            "tags": []
          },
          "execution_count": 6
        }
      ]
    },
    {
      "cell_type": "code",
      "metadata": {
        "id": "hN_GDk5Xk8Eg"
      },
      "source": [
        "df_admissao.columns = ['data', 'admissao', 'descarte']"
      ],
      "execution_count": 7,
      "outputs": []
    },
    {
      "cell_type": "code",
      "metadata": {
        "colab": {
          "base_uri": "https://localhost:8080/",
          "height": 143
        },
        "id": "to9F3YQGZk7y",
        "outputId": "f7eb9ea1-0eb9-4ef1-8525-c7122e4eaa91"
      },
      "source": [
        "df_admissao.loc[df_admissao['admissao']>1889181, ['data', 'admissao']]"
      ],
      "execution_count": 8,
      "outputs": [
        {
          "output_type": "execute_result",
          "data": {
            "text/html": [
              "<div>\n",
              "<style scoped>\n",
              "    .dataframe tbody tr th:only-of-type {\n",
              "        vertical-align: middle;\n",
              "    }\n",
              "\n",
              "    .dataframe tbody tr th {\n",
              "        vertical-align: top;\n",
              "    }\n",
              "\n",
              "    .dataframe thead th {\n",
              "        text-align: right;\n",
              "    }\n",
              "</style>\n",
              "<table border=\"1\" class=\"dataframe\">\n",
              "  <thead>\n",
              "    <tr style=\"text-align: right;\">\n",
              "      <th></th>\n",
              "      <th>data</th>\n",
              "      <th>admissao</th>\n",
              "    </tr>\n",
              "  </thead>\n",
              "  <tbody>\n",
              "    <tr>\n",
              "      <th>144</th>\n",
              "      <td>2011.05</td>\n",
              "      <td>1912665</td>\n",
              "    </tr>\n",
              "    <tr>\n",
              "      <th>167</th>\n",
              "      <td>2013.04</td>\n",
              "      <td>1938169</td>\n",
              "    </tr>\n",
              "    <tr>\n",
              "      <th>177</th>\n",
              "      <td>2014.02</td>\n",
              "      <td>1989181</td>\n",
              "    </tr>\n",
              "  </tbody>\n",
              "</table>\n",
              "</div>"
            ],
            "text/plain": [
              "        data  admissao\n",
              "144  2011.05   1912665\n",
              "167  2013.04   1938169\n",
              "177  2014.02   1989181"
            ]
          },
          "metadata": {
            "tags": []
          },
          "execution_count": 8
        }
      ]
    },
    {
      "cell_type": "code",
      "metadata": {
        "id": "GPDbCbjOz3z5"
      },
      "source": [
        "df_admissao.drop(columns=['descarte'], inplace=True)"
      ],
      "execution_count": 9,
      "outputs": []
    },
    {
      "cell_type": "code",
      "metadata": {
        "colab": {
          "base_uri": "https://localhost:8080/",
          "height": 206
        },
        "id": "tZ7wrRuxzTNu",
        "outputId": "28d70381-d427-405a-c781-52f040fa6ea8"
      },
      "source": [
        "df_admissao.head()"
      ],
      "execution_count": 10,
      "outputs": [
        {
          "output_type": "execute_result",
          "data": {
            "text/html": [
              "<div>\n",
              "<style scoped>\n",
              "    .dataframe tbody tr th:only-of-type {\n",
              "        vertical-align: middle;\n",
              "    }\n",
              "\n",
              "    .dataframe tbody tr th {\n",
              "        vertical-align: top;\n",
              "    }\n",
              "\n",
              "    .dataframe thead th {\n",
              "        text-align: right;\n",
              "    }\n",
              "</style>\n",
              "<table border=\"1\" class=\"dataframe\">\n",
              "  <thead>\n",
              "    <tr style=\"text-align: right;\">\n",
              "      <th></th>\n",
              "      <th>data</th>\n",
              "      <th>admissao</th>\n",
              "    </tr>\n",
              "  </thead>\n",
              "  <tbody>\n",
              "    <tr>\n",
              "      <th>0</th>\n",
              "      <td>1999.05</td>\n",
              "      <td>732704</td>\n",
              "    </tr>\n",
              "    <tr>\n",
              "      <th>1</th>\n",
              "      <td>1999.06</td>\n",
              "      <td>731238</td>\n",
              "    </tr>\n",
              "    <tr>\n",
              "      <th>2</th>\n",
              "      <td>1999.07</td>\n",
              "      <td>685905</td>\n",
              "    </tr>\n",
              "    <tr>\n",
              "      <th>3</th>\n",
              "      <td>1999.08</td>\n",
              "      <td>690144</td>\n",
              "    </tr>\n",
              "    <tr>\n",
              "      <th>4</th>\n",
              "      <td>1999.09</td>\n",
              "      <td>698632</td>\n",
              "    </tr>\n",
              "  </tbody>\n",
              "</table>\n",
              "</div>"
            ],
            "text/plain": [
              "      data  admissao\n",
              "0  1999.05    732704\n",
              "1  1999.06    731238\n",
              "2  1999.07    685905\n",
              "3  1999.08    690144\n",
              "4  1999.09    698632"
            ]
          },
          "metadata": {
            "tags": []
          },
          "execution_count": 10
        }
      ]
    },
    {
      "cell_type": "code",
      "metadata": {
        "colab": {
          "base_uri": "https://localhost:8080/"
        },
        "id": "hxzCAvt90FYp",
        "outputId": "aae37927-97b5-4209-e826-b789fc9e54c0"
      },
      "source": [
        "df_admissao.isnull().sum()"
      ],
      "execution_count": 11,
      "outputs": [
        {
          "output_type": "execute_result",
          "data": {
            "text/plain": [
              "data        0\n",
              "admissao    0\n",
              "dtype: int64"
            ]
          },
          "metadata": {
            "tags": []
          },
          "execution_count": 11
        }
      ]
    },
    {
      "cell_type": "code",
      "metadata": {
        "colab": {
          "base_uri": "https://localhost:8080/",
          "height": 206
        },
        "id": "bn0M88bMy5VE",
        "outputId": "df7f9e68-d228-4067-f7d8-f9627648835c"
      },
      "source": [
        "df_demissao.head()"
      ],
      "execution_count": 12,
      "outputs": [
        {
          "output_type": "execute_result",
          "data": {
            "text/html": [
              "<div>\n",
              "<style scoped>\n",
              "    .dataframe tbody tr th:only-of-type {\n",
              "        vertical-align: middle;\n",
              "    }\n",
              "\n",
              "    .dataframe tbody tr th {\n",
              "        vertical-align: top;\n",
              "    }\n",
              "\n",
              "    .dataframe thead th {\n",
              "        text-align: right;\n",
              "    }\n",
              "</style>\n",
              "<table border=\"1\" class=\"dataframe\">\n",
              "  <thead>\n",
              "    <tr style=\"text-align: right;\">\n",
              "      <th></th>\n",
              "      <th>Data</th>\n",
              "      <th>Empregados - demissões - Pessoa - Ministério do Trabalho e Emprego- Cadastro Geral de Empregados e Desempregados (MTE/CAGED) - CAGED12_DESLIG</th>\n",
              "      <th>Unnamed: 2</th>\n",
              "    </tr>\n",
              "  </thead>\n",
              "  <tbody>\n",
              "    <tr>\n",
              "      <th>0</th>\n",
              "      <td>1999.05</td>\n",
              "      <td>635522</td>\n",
              "      <td>NaN</td>\n",
              "    </tr>\n",
              "    <tr>\n",
              "      <th>1</th>\n",
              "      <td>1999.06</td>\n",
              "      <td>673129</td>\n",
              "      <td>NaN</td>\n",
              "    </tr>\n",
              "    <tr>\n",
              "      <th>2</th>\n",
              "      <td>1999.07</td>\n",
              "      <td>677848</td>\n",
              "      <td>NaN</td>\n",
              "    </tr>\n",
              "    <tr>\n",
              "      <th>3</th>\n",
              "      <td>1999.08</td>\n",
              "      <td>676838</td>\n",
              "      <td>NaN</td>\n",
              "    </tr>\n",
              "    <tr>\n",
              "      <th>4</th>\n",
              "      <td>1999.09</td>\n",
              "      <td>691425</td>\n",
              "      <td>NaN</td>\n",
              "    </tr>\n",
              "  </tbody>\n",
              "</table>\n",
              "</div>"
            ],
            "text/plain": [
              "      Data  ...  Unnamed: 2\n",
              "0  1999.05  ...         NaN\n",
              "1  1999.06  ...         NaN\n",
              "2  1999.07  ...         NaN\n",
              "3  1999.08  ...         NaN\n",
              "4  1999.09  ...         NaN\n",
              "\n",
              "[5 rows x 3 columns]"
            ]
          },
          "metadata": {
            "tags": []
          },
          "execution_count": 12
        }
      ]
    },
    {
      "cell_type": "code",
      "metadata": {
        "colab": {
          "base_uri": "https://localhost:8080/"
        },
        "id": "1Td1xjMwy5hU",
        "outputId": "eaf6fcd8-371b-4290-bb49-7432aa447adb"
      },
      "source": [
        "df_demissao.shape"
      ],
      "execution_count": 13,
      "outputs": [
        {
          "output_type": "execute_result",
          "data": {
            "text/plain": [
              "(247, 3)"
            ]
          },
          "metadata": {
            "tags": []
          },
          "execution_count": 13
        }
      ]
    },
    {
      "cell_type": "code",
      "metadata": {
        "id": "Ux3aQOfVy5kj"
      },
      "source": [
        "df_demissao.columns = ['data', 'demissao', 'descarte']"
      ],
      "execution_count": 14,
      "outputs": []
    },
    {
      "cell_type": "code",
      "metadata": {
        "id": "LAcCJCgiz8E-"
      },
      "source": [
        "df_demissao.drop(columns=['descarte'], inplace=True)"
      ],
      "execution_count": 15,
      "outputs": []
    },
    {
      "cell_type": "code",
      "metadata": {
        "colab": {
          "base_uri": "https://localhost:8080/",
          "height": 206
        },
        "id": "3JNb1gsMy5n6",
        "outputId": "4bdc1ec4-54d5-4e3f-8020-f0497221423c"
      },
      "source": [
        "df_demissao.head()"
      ],
      "execution_count": 16,
      "outputs": [
        {
          "output_type": "execute_result",
          "data": {
            "text/html": [
              "<div>\n",
              "<style scoped>\n",
              "    .dataframe tbody tr th:only-of-type {\n",
              "        vertical-align: middle;\n",
              "    }\n",
              "\n",
              "    .dataframe tbody tr th {\n",
              "        vertical-align: top;\n",
              "    }\n",
              "\n",
              "    .dataframe thead th {\n",
              "        text-align: right;\n",
              "    }\n",
              "</style>\n",
              "<table border=\"1\" class=\"dataframe\">\n",
              "  <thead>\n",
              "    <tr style=\"text-align: right;\">\n",
              "      <th></th>\n",
              "      <th>data</th>\n",
              "      <th>demissao</th>\n",
              "    </tr>\n",
              "  </thead>\n",
              "  <tbody>\n",
              "    <tr>\n",
              "      <th>0</th>\n",
              "      <td>1999.05</td>\n",
              "      <td>635522</td>\n",
              "    </tr>\n",
              "    <tr>\n",
              "      <th>1</th>\n",
              "      <td>1999.06</td>\n",
              "      <td>673129</td>\n",
              "    </tr>\n",
              "    <tr>\n",
              "      <th>2</th>\n",
              "      <td>1999.07</td>\n",
              "      <td>677848</td>\n",
              "    </tr>\n",
              "    <tr>\n",
              "      <th>3</th>\n",
              "      <td>1999.08</td>\n",
              "      <td>676838</td>\n",
              "    </tr>\n",
              "    <tr>\n",
              "      <th>4</th>\n",
              "      <td>1999.09</td>\n",
              "      <td>691425</td>\n",
              "    </tr>\n",
              "  </tbody>\n",
              "</table>\n",
              "</div>"
            ],
            "text/plain": [
              "      data  demissao\n",
              "0  1999.05    635522\n",
              "1  1999.06    673129\n",
              "2  1999.07    677848\n",
              "3  1999.08    676838\n",
              "4  1999.09    691425"
            ]
          },
          "metadata": {
            "tags": []
          },
          "execution_count": 16
        }
      ]
    },
    {
      "cell_type": "code",
      "metadata": {
        "colab": {
          "base_uri": "https://localhost:8080/"
        },
        "id": "vdlqu0TTk8KM",
        "outputId": "e0da785c-1ffd-45b4-b900-0ee565f7a272"
      },
      "source": [
        "df_demissao.isnull().sum()"
      ],
      "execution_count": 17,
      "outputs": [
        {
          "output_type": "execute_result",
          "data": {
            "text/plain": [
              "data        0\n",
              "demissao    0\n",
              "dtype: int64"
            ]
          },
          "metadata": {
            "tags": []
          },
          "execution_count": 17
        }
      ]
    },
    {
      "cell_type": "code",
      "metadata": {
        "id": "y-8qvRErk8Pb"
      },
      "source": [
        "empregos = pd.merge(df_admissao, df_demissao, how='inner', on='data')"
      ],
      "execution_count": 19,
      "outputs": []
    },
    {
      "cell_type": "code",
      "metadata": {
        "colab": {
          "base_uri": "https://localhost:8080/"
        },
        "id": "0OkcuClnj5-L",
        "outputId": "dd21d5e9-66b5-4938-c299-b70f20523092"
      },
      "source": [
        "empregos.shape"
      ],
      "execution_count": 60,
      "outputs": [
        {
          "output_type": "execute_result",
          "data": {
            "text/plain": [
              "(247, 3)"
            ]
          },
          "metadata": {
            "tags": []
          },
          "execution_count": 60
        }
      ]
    },
    {
      "cell_type": "code",
      "metadata": {
        "colab": {
          "base_uri": "https://localhost:8080/",
          "height": 206
        },
        "id": "f40r8Jv5k8SD",
        "outputId": "5e9a79fa-5186-468e-e509-c8d9a4a426c9"
      },
      "source": [
        "empregos.head()"
      ],
      "execution_count": 20,
      "outputs": [
        {
          "output_type": "execute_result",
          "data": {
            "text/html": [
              "<div>\n",
              "<style scoped>\n",
              "    .dataframe tbody tr th:only-of-type {\n",
              "        vertical-align: middle;\n",
              "    }\n",
              "\n",
              "    .dataframe tbody tr th {\n",
              "        vertical-align: top;\n",
              "    }\n",
              "\n",
              "    .dataframe thead th {\n",
              "        text-align: right;\n",
              "    }\n",
              "</style>\n",
              "<table border=\"1\" class=\"dataframe\">\n",
              "  <thead>\n",
              "    <tr style=\"text-align: right;\">\n",
              "      <th></th>\n",
              "      <th>data</th>\n",
              "      <th>admissao</th>\n",
              "      <th>demissao</th>\n",
              "    </tr>\n",
              "  </thead>\n",
              "  <tbody>\n",
              "    <tr>\n",
              "      <th>0</th>\n",
              "      <td>1999.05</td>\n",
              "      <td>732704</td>\n",
              "      <td>635522</td>\n",
              "    </tr>\n",
              "    <tr>\n",
              "      <th>1</th>\n",
              "      <td>1999.06</td>\n",
              "      <td>731238</td>\n",
              "      <td>673129</td>\n",
              "    </tr>\n",
              "    <tr>\n",
              "      <th>2</th>\n",
              "      <td>1999.07</td>\n",
              "      <td>685905</td>\n",
              "      <td>677848</td>\n",
              "    </tr>\n",
              "    <tr>\n",
              "      <th>3</th>\n",
              "      <td>1999.08</td>\n",
              "      <td>690144</td>\n",
              "      <td>676838</td>\n",
              "    </tr>\n",
              "    <tr>\n",
              "      <th>4</th>\n",
              "      <td>1999.09</td>\n",
              "      <td>698632</td>\n",
              "      <td>691425</td>\n",
              "    </tr>\n",
              "  </tbody>\n",
              "</table>\n",
              "</div>"
            ],
            "text/plain": [
              "      data  admissao  demissao\n",
              "0  1999.05    732704    635522\n",
              "1  1999.06    731238    673129\n",
              "2  1999.07    685905    677848\n",
              "3  1999.08    690144    676838\n",
              "4  1999.09    698632    691425"
            ]
          },
          "metadata": {
            "tags": []
          },
          "execution_count": 20
        }
      ]
    },
    {
      "cell_type": "code",
      "metadata": {
        "colab": {
          "base_uri": "https://localhost:8080/",
          "height": 300
        },
        "id": "YZZWW77Q2JLA",
        "outputId": "6fc9b174-cec5-4069-8c6b-a4fa11ee5a31"
      },
      "source": [
        "empregos.describe()"
      ],
      "execution_count": 21,
      "outputs": [
        {
          "output_type": "execute_result",
          "data": {
            "text/html": [
              "<div>\n",
              "<style scoped>\n",
              "    .dataframe tbody tr th:only-of-type {\n",
              "        vertical-align: middle;\n",
              "    }\n",
              "\n",
              "    .dataframe tbody tr th {\n",
              "        vertical-align: top;\n",
              "    }\n",
              "\n",
              "    .dataframe thead th {\n",
              "        text-align: right;\n",
              "    }\n",
              "</style>\n",
              "<table border=\"1\" class=\"dataframe\">\n",
              "  <thead>\n",
              "    <tr style=\"text-align: right;\">\n",
              "      <th></th>\n",
              "      <th>data</th>\n",
              "      <th>admissao</th>\n",
              "      <th>demissao</th>\n",
              "    </tr>\n",
              "  </thead>\n",
              "  <tbody>\n",
              "    <tr>\n",
              "      <th>count</th>\n",
              "      <td>247.000000</td>\n",
              "      <td>2.470000e+02</td>\n",
              "      <td>2.470000e+02</td>\n",
              "    </tr>\n",
              "    <tr>\n",
              "      <th>mean</th>\n",
              "      <td>2009.264211</td>\n",
              "      <td>1.236087e+06</td>\n",
              "      <td>1.179682e+06</td>\n",
              "    </tr>\n",
              "    <tr>\n",
              "      <th>std</th>\n",
              "      <td>5.962443</td>\n",
              "      <td>3.509324e+05</td>\n",
              "      <td>3.359879e+05</td>\n",
              "    </tr>\n",
              "    <tr>\n",
              "      <th>min</th>\n",
              "      <td>1999.050000</td>\n",
              "      <td>5.475260e+05</td>\n",
              "      <td>6.355220e+05</td>\n",
              "    </tr>\n",
              "    <tr>\n",
              "      <th>25%</th>\n",
              "      <td>2004.075000</td>\n",
              "      <td>9.236030e+05</td>\n",
              "      <td>8.500115e+05</td>\n",
              "    </tr>\n",
              "    <tr>\n",
              "      <th>50%</th>\n",
              "      <td>2009.090000</td>\n",
              "      <td>1.216550e+06</td>\n",
              "      <td>1.202959e+06</td>\n",
              "    </tr>\n",
              "    <tr>\n",
              "      <th>75%</th>\n",
              "      <td>2014.105000</td>\n",
              "      <td>1.491816e+06</td>\n",
              "      <td>1.460298e+06</td>\n",
              "    </tr>\n",
              "    <tr>\n",
              "      <th>max</th>\n",
              "      <td>2019.120000</td>\n",
              "      <td>1.989181e+06</td>\n",
              "      <td>1.790755e+06</td>\n",
              "    </tr>\n",
              "  </tbody>\n",
              "</table>\n",
              "</div>"
            ],
            "text/plain": [
              "              data      admissao      demissao\n",
              "count   247.000000  2.470000e+02  2.470000e+02\n",
              "mean   2009.264211  1.236087e+06  1.179682e+06\n",
              "std       5.962443  3.509324e+05  3.359879e+05\n",
              "min    1999.050000  5.475260e+05  6.355220e+05\n",
              "25%    2004.075000  9.236030e+05  8.500115e+05\n",
              "50%    2009.090000  1.216550e+06  1.202959e+06\n",
              "75%    2014.105000  1.491816e+06  1.460298e+06\n",
              "max    2019.120000  1.989181e+06  1.790755e+06"
            ]
          },
          "metadata": {
            "tags": []
          },
          "execution_count": 21
        }
      ]
    },
    {
      "cell_type": "code",
      "metadata": {
        "colab": {
          "base_uri": "https://localhost:8080/"
        },
        "id": "C0trzkhW2JOp",
        "outputId": "c1ecf123-ed18-4f0e-f1f3-b80f9208c4de"
      },
      "source": [
        "empregos.info()"
      ],
      "execution_count": 22,
      "outputs": [
        {
          "output_type": "stream",
          "text": [
            "<class 'pandas.core.frame.DataFrame'>\n",
            "Int64Index: 247 entries, 0 to 246\n",
            "Data columns (total 3 columns):\n",
            " #   Column    Non-Null Count  Dtype  \n",
            "---  ------    --------------  -----  \n",
            " 0   data      247 non-null    float64\n",
            " 1   admissao  247 non-null    int64  \n",
            " 2   demissao  247 non-null    int64  \n",
            "dtypes: float64(1), int64(2)\n",
            "memory usage: 7.7 KB\n"
          ],
          "name": "stdout"
        }
      ]
    },
    {
      "cell_type": "markdown",
      "metadata": {
        "id": "A_oZt3gWkDMS"
      },
      "source": [
        "# **Forma alternativa com o uso do concat**"
      ]
    },
    {
      "cell_type": "code",
      "metadata": {
        "colab": {
          "base_uri": "https://localhost:8080/",
          "height": 424
        },
        "id": "78kdQj3nipMo",
        "outputId": "314110b2-4e24-439f-cb8f-7ae4d793bb71"
      },
      "source": [
        "emprego1 = pd.concat([df_admissao, df_demissao], join='inner', axis=1)\n",
        "emprego1"
      ],
      "execution_count": 61,
      "outputs": [
        {
          "output_type": "execute_result",
          "data": {
            "text/html": [
              "<div>\n",
              "<style scoped>\n",
              "    .dataframe tbody tr th:only-of-type {\n",
              "        vertical-align: middle;\n",
              "    }\n",
              "\n",
              "    .dataframe tbody tr th {\n",
              "        vertical-align: top;\n",
              "    }\n",
              "\n",
              "    .dataframe thead th {\n",
              "        text-align: right;\n",
              "    }\n",
              "</style>\n",
              "<table border=\"1\" class=\"dataframe\">\n",
              "  <thead>\n",
              "    <tr style=\"text-align: right;\">\n",
              "      <th></th>\n",
              "      <th>data</th>\n",
              "      <th>admissao</th>\n",
              "      <th>demissao</th>\n",
              "    </tr>\n",
              "  </thead>\n",
              "  <tbody>\n",
              "    <tr>\n",
              "      <th>0</th>\n",
              "      <td>1999.05</td>\n",
              "      <td>732704</td>\n",
              "      <td>635522</td>\n",
              "    </tr>\n",
              "    <tr>\n",
              "      <th>1</th>\n",
              "      <td>1999.06</td>\n",
              "      <td>731238</td>\n",
              "      <td>673129</td>\n",
              "    </tr>\n",
              "    <tr>\n",
              "      <th>2</th>\n",
              "      <td>1999.07</td>\n",
              "      <td>685905</td>\n",
              "      <td>677848</td>\n",
              "    </tr>\n",
              "    <tr>\n",
              "      <th>3</th>\n",
              "      <td>1999.08</td>\n",
              "      <td>690144</td>\n",
              "      <td>676838</td>\n",
              "    </tr>\n",
              "    <tr>\n",
              "      <th>4</th>\n",
              "      <td>1999.09</td>\n",
              "      <td>698632</td>\n",
              "      <td>691425</td>\n",
              "    </tr>\n",
              "    <tr>\n",
              "      <th>...</th>\n",
              "      <td>...</td>\n",
              "      <td>...</td>\n",
              "      <td>...</td>\n",
              "    </tr>\n",
              "    <tr>\n",
              "      <th>242</th>\n",
              "      <td>2019.07</td>\n",
              "      <td>1331189</td>\n",
              "      <td>1261020</td>\n",
              "    </tr>\n",
              "    <tr>\n",
              "      <th>243</th>\n",
              "      <td>2019.08</td>\n",
              "      <td>1382407</td>\n",
              "      <td>1184503</td>\n",
              "    </tr>\n",
              "    <tr>\n",
              "      <th>244</th>\n",
              "      <td>2019.09</td>\n",
              "      <td>1341716</td>\n",
              "      <td>1294202</td>\n",
              "    </tr>\n",
              "    <tr>\n",
              "      <th>245</th>\n",
              "      <td>2019.10</td>\n",
              "      <td>1365054</td>\n",
              "      <td>1192605</td>\n",
              "    </tr>\n",
              "    <tr>\n",
              "      <th>246</th>\n",
              "      <td>2019.11</td>\n",
              "      <td>1291837</td>\n",
              "      <td>1298159</td>\n",
              "    </tr>\n",
              "  </tbody>\n",
              "</table>\n",
              "<p>247 rows × 3 columns</p>\n",
              "</div>"
            ],
            "text/plain": [
              "        data  admissao  demissao\n",
              "0    1999.05    732704    635522\n",
              "1    1999.06    731238    673129\n",
              "2    1999.07    685905    677848\n",
              "3    1999.08    690144    676838\n",
              "4    1999.09    698632    691425\n",
              "..       ...       ...       ...\n",
              "242  2019.07   1331189   1261020\n",
              "243  2019.08   1382407   1184503\n",
              "244  2019.09   1341716   1294202\n",
              "245  2019.10   1365054   1192605\n",
              "246  2019.11   1291837   1298159\n",
              "\n",
              "[247 rows x 3 columns]"
            ]
          },
          "metadata": {
            "tags": []
          },
          "execution_count": 61
        }
      ]
    },
    {
      "cell_type": "code",
      "metadata": {
        "colab": {
          "base_uri": "https://localhost:8080/",
          "height": 459
        },
        "id": "kUIM8Eu62JRx",
        "outputId": "4dd1d4a0-bb83-4379-f52a-2eb94690a713"
      },
      "source": [
        "sns.jointplot(y='demissao',x='admissao',data=empregos, kind='reg')"
      ],
      "execution_count": 23,
      "outputs": [
        {
          "output_type": "execute_result",
          "data": {
            "text/plain": [
              "<seaborn.axisgrid.JointGrid at 0x7f56dede33d0>"
            ]
          },
          "metadata": {
            "tags": []
          },
          "execution_count": 23
        },
        {
          "output_type": "display_data",
          "data": {
            "image/png": "[encoded data removed]",
            "text/plain": [
              "<Figure size 432x432 with 3 Axes>"
            ]
          },
          "metadata": {
            "tags": [],
            "needs_background": "light"
          }
        }
      ]
    },
    {
      "cell_type": "code",
      "metadata": {
        "colab": {
          "base_uri": "https://localhost:8080/",
          "height": 294
        },
        "id": "bQBtMTFo2JXg",
        "outputId": "64dda871-caa3-4d37-c80c-02e2e5387ee6"
      },
      "source": [
        "empregos.boxplot('admissao')"
      ],
      "execution_count": 24,
      "outputs": [
        {
          "output_type": "execute_result",
          "data": {
            "text/plain": [
              "<matplotlib.axes._subplots.AxesSubplot at 0x7f56dd3b3590>"
            ]
          },
          "metadata": {
            "tags": []
          },
          "execution_count": 24
        },
        {
          "output_type": "display_data",
          "data": {
            "image/png": "[encoded data removed]",
            "text/plain": [
              "<Figure size 432x288 with 1 Axes>"
            ]
          },
          "metadata": {
            "tags": [],
            "needs_background": "light"
          }
        }
      ]
    },
    {
      "cell_type": "code",
      "metadata": {
        "colab": {
          "base_uri": "https://localhost:8080/",
          "height": 295
        },
        "id": "8VstxHJe4YYU",
        "outputId": "b9076787-3640-47dd-92a6-0aa53625a8c3"
      },
      "source": [
        "plt.scatter(empregos.admissao, empregos.demissao, c = \"blue\")\n",
        "plt.title(\"Mostra os outliers\")\n",
        "plt.xlabel(\"admissoes\")\n",
        "plt.ylabel(\"demissoes\")\n",
        "plt.show()"
      ],
      "execution_count": 25,
      "outputs": [
        {
          "output_type": "display_data",
          "data": {
            "image/png": "[encoded data removed]",
            "text/plain": [
              "<Figure size 432x288 with 1 Axes>"
            ]
          },
          "metadata": {
            "tags": [],
            "needs_background": "light"
          }
        }
      ]
    },
    {
      "cell_type": "code",
      "metadata": {
        "colab": {
          "base_uri": "https://localhost:8080/"
        },
        "id": "Lafx_A0E5pDY",
        "outputId": "f27377be-d7e0-4162-bd3e-518d7a1bd1ca"
      },
      "source": [
        "correlacao = empregos.corr()\n",
        "correlacao.sort_values(\"demissao\", ascending = False, inplace=True)\n",
        "print(correlacao.demissao)"
      ],
      "execution_count": 26,
      "outputs": [
        {
          "output_type": "stream",
          "text": [
            "demissao    1.000000\n",
            "admissao    0.881227\n",
            "data        0.730112\n",
            "Name: demissao, dtype: float64\n"
          ],
          "name": "stdout"
        }
      ]
    },
    {
      "cell_type": "code",
      "metadata": {
        "colab": {
          "base_uri": "https://localhost:8080/",
          "height": 143
        },
        "id": "eO1jAG-25pKq",
        "outputId": "3d594ddc-2a68-4760-ce23-4af42db22f04"
      },
      "source": [
        "correlacao"
      ],
      "execution_count": 27,
      "outputs": [
        {
          "output_type": "execute_result",
          "data": {
            "text/html": [
              "<div>\n",
              "<style scoped>\n",
              "    .dataframe tbody tr th:only-of-type {\n",
              "        vertical-align: middle;\n",
              "    }\n",
              "\n",
              "    .dataframe tbody tr th {\n",
              "        vertical-align: top;\n",
              "    }\n",
              "\n",
              "    .dataframe thead th {\n",
              "        text-align: right;\n",
              "    }\n",
              "</style>\n",
              "<table border=\"1\" class=\"dataframe\">\n",
              "  <thead>\n",
              "    <tr style=\"text-align: right;\">\n",
              "      <th></th>\n",
              "      <th>data</th>\n",
              "      <th>admissao</th>\n",
              "      <th>demissao</th>\n",
              "    </tr>\n",
              "  </thead>\n",
              "  <tbody>\n",
              "    <tr>\n",
              "      <th>demissao</th>\n",
              "      <td>0.730112</td>\n",
              "      <td>0.881227</td>\n",
              "      <td>1.000000</td>\n",
              "    </tr>\n",
              "    <tr>\n",
              "      <th>admissao</th>\n",
              "      <td>0.617609</td>\n",
              "      <td>1.000000</td>\n",
              "      <td>0.881227</td>\n",
              "    </tr>\n",
              "    <tr>\n",
              "      <th>data</th>\n",
              "      <td>1.000000</td>\n",
              "      <td>0.617609</td>\n",
              "      <td>0.730112</td>\n",
              "    </tr>\n",
              "  </tbody>\n",
              "</table>\n",
              "</div>"
            ],
            "text/plain": [
              "              data  admissao  demissao\n",
              "demissao  0.730112  0.881227  1.000000\n",
              "admissao  0.617609  1.000000  0.881227\n",
              "data      1.000000  0.617609  0.730112"
            ]
          },
          "metadata": {
            "tags": []
          },
          "execution_count": 27
        }
      ]
    },
    {
      "cell_type": "code",
      "metadata": {
        "colab": {
          "base_uri": "https://localhost:8080/",
          "height": 325
        },
        "id": "q36GLC1t5pOE",
        "outputId": "c2801ae7-3613-478f-f56e-ba68176fa5f2"
      },
      "source": [
        "plt.figure(figsize=(5,5))\n",
        "correlacao = empregos.corr()\n",
        "corr_cols = correlacao.nlargest(10, 'demissao')['demissao']\n",
        "sns.heatmap(empregos[corr_cols.index].corr(), annot=True, square=True)"
      ],
      "execution_count": 28,
      "outputs": [
        {
          "output_type": "execute_result",
          "data": {
            "text/plain": [
              "<matplotlib.axes._subplots.AxesSubplot at 0x7f56dd3da850>"
            ]
          },
          "metadata": {
            "tags": []
          },
          "execution_count": 28
        },
        {
          "output_type": "display_data",
          "data": {
            "image/png": "[encoded data removed]",
            "text/plain": [
              "<Figure size 360x360 with 2 Axes>"
            ]
          },
          "metadata": {
            "tags": [],
            "needs_background": "light"
          }
        }
      ]
    },
    {
      "cell_type": "code",
      "metadata": {
        "colab": {
          "base_uri": "https://localhost:8080/",
          "height": 550
        },
        "id": "BEihKH_j5pQ8",
        "outputId": "66cda709-4307-4035-ac83-70891510b6c3"
      },
      "source": [
        "sns.pairplot(empregos, kind='reg', plot_kws={'line_kws':{'color': 'cyan'}})\n",
        "plt.show()"
      ],
      "execution_count": 29,
      "outputs": [
        {
          "output_type": "display_data",
          "data": {
            "image/png": "[encoded data removed]",
            "text/plain": [
              "<Figure size 540x540 with 12 Axes>"
            ]
          },
          "metadata": {
            "tags": [],
            "needs_background": "light"
          }
        }
      ]
    },
    {
      "cell_type": "code",
      "metadata": {
        "colab": {
          "base_uri": "https://localhost:8080/",
          "height": 206
        },
        "id": "MHyzq-aH5pTz",
        "outputId": "3b3f198e-e77d-4870-a025-25b868a3cbcb"
      },
      "source": [
        "empregos.head()"
      ],
      "execution_count": 30,
      "outputs": [
        {
          "output_type": "execute_result",
          "data": {
            "text/html": [
              "<div>\n",
              "<style scoped>\n",
              "    .dataframe tbody tr th:only-of-type {\n",
              "        vertical-align: middle;\n",
              "    }\n",
              "\n",
              "    .dataframe tbody tr th {\n",
              "        vertical-align: top;\n",
              "    }\n",
              "\n",
              "    .dataframe thead th {\n",
              "        text-align: right;\n",
              "    }\n",
              "</style>\n",
              "<table border=\"1\" class=\"dataframe\">\n",
              "  <thead>\n",
              "    <tr style=\"text-align: right;\">\n",
              "      <th></th>\n",
              "      <th>data</th>\n",
              "      <th>admissao</th>\n",
              "      <th>demissao</th>\n",
              "    </tr>\n",
              "  </thead>\n",
              "  <tbody>\n",
              "    <tr>\n",
              "      <th>0</th>\n",
              "      <td>1999.05</td>\n",
              "      <td>732704</td>\n",
              "      <td>635522</td>\n",
              "    </tr>\n",
              "    <tr>\n",
              "      <th>1</th>\n",
              "      <td>1999.06</td>\n",
              "      <td>731238</td>\n",
              "      <td>673129</td>\n",
              "    </tr>\n",
              "    <tr>\n",
              "      <th>2</th>\n",
              "      <td>1999.07</td>\n",
              "      <td>685905</td>\n",
              "      <td>677848</td>\n",
              "    </tr>\n",
              "    <tr>\n",
              "      <th>3</th>\n",
              "      <td>1999.08</td>\n",
              "      <td>690144</td>\n",
              "      <td>676838</td>\n",
              "    </tr>\n",
              "    <tr>\n",
              "      <th>4</th>\n",
              "      <td>1999.09</td>\n",
              "      <td>698632</td>\n",
              "      <td>691425</td>\n",
              "    </tr>\n",
              "  </tbody>\n",
              "</table>\n",
              "</div>"
            ],
            "text/plain": [
              "      data  admissao  demissao\n",
              "0  1999.05    732704    635522\n",
              "1  1999.06    731238    673129\n",
              "2  1999.07    685905    677848\n",
              "3  1999.08    690144    676838\n",
              "4  1999.09    698632    691425"
            ]
          },
          "metadata": {
            "tags": []
          },
          "execution_count": 30
        }
      ]
    },
    {
      "cell_type": "code",
      "metadata": {
        "id": "bm5vHTvK5pZh"
      },
      "source": [
        "df_empregos_mult = empregos.copy()"
      ],
      "execution_count": 31,
      "outputs": []
    },
    {
      "cell_type": "code",
      "metadata": {
        "id": "7b7slcuYLo84"
      },
      "source": [
        "df_empregos_mult.drop(columns=['demissao'], inplace=True)"
      ],
      "execution_count": 32,
      "outputs": []
    },
    {
      "cell_type": "code",
      "metadata": {
        "colab": {
          "base_uri": "https://localhost:8080/",
          "height": 206
        },
        "id": "zs90RgQ05pcM",
        "outputId": "1e3ce2af-af54-4e3f-b65d-ad39d6a128f8"
      },
      "source": [
        "df_empregos_mult.head()"
      ],
      "execution_count": 33,
      "outputs": [
        {
          "output_type": "execute_result",
          "data": {
            "text/html": [
              "<div>\n",
              "<style scoped>\n",
              "    .dataframe tbody tr th:only-of-type {\n",
              "        vertical-align: middle;\n",
              "    }\n",
              "\n",
              "    .dataframe tbody tr th {\n",
              "        vertical-align: top;\n",
              "    }\n",
              "\n",
              "    .dataframe thead th {\n",
              "        text-align: right;\n",
              "    }\n",
              "</style>\n",
              "<table border=\"1\" class=\"dataframe\">\n",
              "  <thead>\n",
              "    <tr style=\"text-align: right;\">\n",
              "      <th></th>\n",
              "      <th>data</th>\n",
              "      <th>admissao</th>\n",
              "    </tr>\n",
              "  </thead>\n",
              "  <tbody>\n",
              "    <tr>\n",
              "      <th>0</th>\n",
              "      <td>1999.05</td>\n",
              "      <td>732704</td>\n",
              "    </tr>\n",
              "    <tr>\n",
              "      <th>1</th>\n",
              "      <td>1999.06</td>\n",
              "      <td>731238</td>\n",
              "    </tr>\n",
              "    <tr>\n",
              "      <th>2</th>\n",
              "      <td>1999.07</td>\n",
              "      <td>685905</td>\n",
              "    </tr>\n",
              "    <tr>\n",
              "      <th>3</th>\n",
              "      <td>1999.08</td>\n",
              "      <td>690144</td>\n",
              "    </tr>\n",
              "    <tr>\n",
              "      <th>4</th>\n",
              "      <td>1999.09</td>\n",
              "      <td>698632</td>\n",
              "    </tr>\n",
              "  </tbody>\n",
              "</table>\n",
              "</div>"
            ],
            "text/plain": [
              "      data  admissao\n",
              "0  1999.05    732704\n",
              "1  1999.06    731238\n",
              "2  1999.07    685905\n",
              "3  1999.08    690144\n",
              "4  1999.09    698632"
            ]
          },
          "metadata": {
            "tags": []
          },
          "execution_count": 33
        }
      ]
    },
    {
      "cell_type": "code",
      "metadata": {
        "id": "V07cCZWOLq5Y"
      },
      "source": [
        "df_empregos_single = empregos.copy()"
      ],
      "execution_count": 34,
      "outputs": []
    },
    {
      "cell_type": "code",
      "metadata": {
        "colab": {
          "base_uri": "https://localhost:8080/",
          "height": 206
        },
        "id": "FYiQnGsELq8U",
        "outputId": "a55054c5-b389-4fd3-f501-71cc3441be19"
      },
      "source": [
        "df_empregos_single.head()"
      ],
      "execution_count": 35,
      "outputs": [
        {
          "output_type": "execute_result",
          "data": {
            "text/html": [
              "<div>\n",
              "<style scoped>\n",
              "    .dataframe tbody tr th:only-of-type {\n",
              "        vertical-align: middle;\n",
              "    }\n",
              "\n",
              "    .dataframe tbody tr th {\n",
              "        vertical-align: top;\n",
              "    }\n",
              "\n",
              "    .dataframe thead th {\n",
              "        text-align: right;\n",
              "    }\n",
              "</style>\n",
              "<table border=\"1\" class=\"dataframe\">\n",
              "  <thead>\n",
              "    <tr style=\"text-align: right;\">\n",
              "      <th></th>\n",
              "      <th>data</th>\n",
              "      <th>admissao</th>\n",
              "      <th>demissao</th>\n",
              "    </tr>\n",
              "  </thead>\n",
              "  <tbody>\n",
              "    <tr>\n",
              "      <th>0</th>\n",
              "      <td>1999.05</td>\n",
              "      <td>732704</td>\n",
              "      <td>635522</td>\n",
              "    </tr>\n",
              "    <tr>\n",
              "      <th>1</th>\n",
              "      <td>1999.06</td>\n",
              "      <td>731238</td>\n",
              "      <td>673129</td>\n",
              "    </tr>\n",
              "    <tr>\n",
              "      <th>2</th>\n",
              "      <td>1999.07</td>\n",
              "      <td>685905</td>\n",
              "      <td>677848</td>\n",
              "    </tr>\n",
              "    <tr>\n",
              "      <th>3</th>\n",
              "      <td>1999.08</td>\n",
              "      <td>690144</td>\n",
              "      <td>676838</td>\n",
              "    </tr>\n",
              "    <tr>\n",
              "      <th>4</th>\n",
              "      <td>1999.09</td>\n",
              "      <td>698632</td>\n",
              "      <td>691425</td>\n",
              "    </tr>\n",
              "  </tbody>\n",
              "</table>\n",
              "</div>"
            ],
            "text/plain": [
              "      data  admissao  demissao\n",
              "0  1999.05    732704    635522\n",
              "1  1999.06    731238    673129\n",
              "2  1999.07    685905    677848\n",
              "3  1999.08    690144    676838\n",
              "4  1999.09    698632    691425"
            ]
          },
          "metadata": {
            "tags": []
          },
          "execution_count": 35
        }
      ]
    },
    {
      "cell_type": "code",
      "metadata": {
        "id": "V3gDkEszLq_j"
      },
      "source": [
        "df_empregos_single.drop(columns=['data','demissao'], inplace=True)"
      ],
      "execution_count": 36,
      "outputs": []
    },
    {
      "cell_type": "code",
      "metadata": {
        "colab": {
          "base_uri": "https://localhost:8080/",
          "height": 206
        },
        "id": "all7wme-LrCM",
        "outputId": "85fb8abd-f390-4af5-989d-b608d0f0f1f6"
      },
      "source": [
        "df_empregos_single.head()"
      ],
      "execution_count": 37,
      "outputs": [
        {
          "output_type": "execute_result",
          "data": {
            "text/html": [
              "<div>\n",
              "<style scoped>\n",
              "    .dataframe tbody tr th:only-of-type {\n",
              "        vertical-align: middle;\n",
              "    }\n",
              "\n",
              "    .dataframe tbody tr th {\n",
              "        vertical-align: top;\n",
              "    }\n",
              "\n",
              "    .dataframe thead th {\n",
              "        text-align: right;\n",
              "    }\n",
              "</style>\n",
              "<table border=\"1\" class=\"dataframe\">\n",
              "  <thead>\n",
              "    <tr style=\"text-align: right;\">\n",
              "      <th></th>\n",
              "      <th>admissao</th>\n",
              "    </tr>\n",
              "  </thead>\n",
              "  <tbody>\n",
              "    <tr>\n",
              "      <th>0</th>\n",
              "      <td>732704</td>\n",
              "    </tr>\n",
              "    <tr>\n",
              "      <th>1</th>\n",
              "      <td>731238</td>\n",
              "    </tr>\n",
              "    <tr>\n",
              "      <th>2</th>\n",
              "      <td>685905</td>\n",
              "    </tr>\n",
              "    <tr>\n",
              "      <th>3</th>\n",
              "      <td>690144</td>\n",
              "    </tr>\n",
              "    <tr>\n",
              "      <th>4</th>\n",
              "      <td>698632</td>\n",
              "    </tr>\n",
              "  </tbody>\n",
              "</table>\n",
              "</div>"
            ],
            "text/plain": [
              "   admissao\n",
              "0    732704\n",
              "1    731238\n",
              "2    685905\n",
              "3    690144\n",
              "4    698632"
            ]
          },
          "metadata": {
            "tags": []
          },
          "execution_count": 37
        }
      ]
    },
    {
      "cell_type": "code",
      "metadata": {
        "id": "cemaWG3sGe6c"
      },
      "source": [
        "df_demissao = empregos.demissao"
      ],
      "execution_count": 38,
      "outputs": []
    },
    {
      "cell_type": "markdown",
      "metadata": {
        "id": "sMMaefdALl0B"
      },
      "source": [
        "## **Forma alternativa**"
      ]
    },
    {
      "cell_type": "code",
      "metadata": {
        "colab": {
          "base_uri": "https://localhost:8080/",
          "height": 206
        },
        "id": "oIF68wAjLrI2",
        "outputId": "006e5723-a146-4855-cb6b-26d820a0d85e"
      },
      "source": [
        "empregos.head()"
      ],
      "execution_count": 39,
      "outputs": [
        {
          "output_type": "execute_result",
          "data": {
            "text/html": [
              "<div>\n",
              "<style scoped>\n",
              "    .dataframe tbody tr th:only-of-type {\n",
              "        vertical-align: middle;\n",
              "    }\n",
              "\n",
              "    .dataframe tbody tr th {\n",
              "        vertical-align: top;\n",
              "    }\n",
              "\n",
              "    .dataframe thead th {\n",
              "        text-align: right;\n",
              "    }\n",
              "</style>\n",
              "<table border=\"1\" class=\"dataframe\">\n",
              "  <thead>\n",
              "    <tr style=\"text-align: right;\">\n",
              "      <th></th>\n",
              "      <th>data</th>\n",
              "      <th>admissao</th>\n",
              "      <th>demissao</th>\n",
              "    </tr>\n",
              "  </thead>\n",
              "  <tbody>\n",
              "    <tr>\n",
              "      <th>0</th>\n",
              "      <td>1999.05</td>\n",
              "      <td>732704</td>\n",
              "      <td>635522</td>\n",
              "    </tr>\n",
              "    <tr>\n",
              "      <th>1</th>\n",
              "      <td>1999.06</td>\n",
              "      <td>731238</td>\n",
              "      <td>673129</td>\n",
              "    </tr>\n",
              "    <tr>\n",
              "      <th>2</th>\n",
              "      <td>1999.07</td>\n",
              "      <td>685905</td>\n",
              "      <td>677848</td>\n",
              "    </tr>\n",
              "    <tr>\n",
              "      <th>3</th>\n",
              "      <td>1999.08</td>\n",
              "      <td>690144</td>\n",
              "      <td>676838</td>\n",
              "    </tr>\n",
              "    <tr>\n",
              "      <th>4</th>\n",
              "      <td>1999.09</td>\n",
              "      <td>698632</td>\n",
              "      <td>691425</td>\n",
              "    </tr>\n",
              "  </tbody>\n",
              "</table>\n",
              "</div>"
            ],
            "text/plain": [
              "      data  admissao  demissao\n",
              "0  1999.05    732704    635522\n",
              "1  1999.06    731238    673129\n",
              "2  1999.07    685905    677848\n",
              "3  1999.08    690144    676838\n",
              "4  1999.09    698632    691425"
            ]
          },
          "metadata": {
            "tags": []
          },
          "execution_count": 39
        }
      ]
    },
    {
      "cell_type": "code",
      "metadata": {
        "id": "fHUtcNbALvOQ"
      },
      "source": [
        "features = ['data', 'admissao']\n",
        "df_features = empregos[features]"
      ],
      "execution_count": 40,
      "outputs": []
    },
    {
      "cell_type": "code",
      "metadata": {
        "id": "ouje3AEMLvaH"
      },
      "source": [
        "df_target = empregos['demissao']"
      ],
      "execution_count": 41,
      "outputs": []
    },
    {
      "cell_type": "code",
      "metadata": {
        "colab": {
          "base_uri": "https://localhost:8080/",
          "height": 206
        },
        "id": "iv7yxx_KMGSh",
        "outputId": "723fddc4-3b1a-4fa9-deef-f295cc078926"
      },
      "source": [
        "df_features.head()"
      ],
      "execution_count": 42,
      "outputs": [
        {
          "output_type": "execute_result",
          "data": {
            "text/html": [
              "<div>\n",
              "<style scoped>\n",
              "    .dataframe tbody tr th:only-of-type {\n",
              "        vertical-align: middle;\n",
              "    }\n",
              "\n",
              "    .dataframe tbody tr th {\n",
              "        vertical-align: top;\n",
              "    }\n",
              "\n",
              "    .dataframe thead th {\n",
              "        text-align: right;\n",
              "    }\n",
              "</style>\n",
              "<table border=\"1\" class=\"dataframe\">\n",
              "  <thead>\n",
              "    <tr style=\"text-align: right;\">\n",
              "      <th></th>\n",
              "      <th>data</th>\n",
              "      <th>admissao</th>\n",
              "    </tr>\n",
              "  </thead>\n",
              "  <tbody>\n",
              "    <tr>\n",
              "      <th>0</th>\n",
              "      <td>1999.05</td>\n",
              "      <td>732704</td>\n",
              "    </tr>\n",
              "    <tr>\n",
              "      <th>1</th>\n",
              "      <td>1999.06</td>\n",
              "      <td>731238</td>\n",
              "    </tr>\n",
              "    <tr>\n",
              "      <th>2</th>\n",
              "      <td>1999.07</td>\n",
              "      <td>685905</td>\n",
              "    </tr>\n",
              "    <tr>\n",
              "      <th>3</th>\n",
              "      <td>1999.08</td>\n",
              "      <td>690144</td>\n",
              "    </tr>\n",
              "    <tr>\n",
              "      <th>4</th>\n",
              "      <td>1999.09</td>\n",
              "      <td>698632</td>\n",
              "    </tr>\n",
              "  </tbody>\n",
              "</table>\n",
              "</div>"
            ],
            "text/plain": [
              "      data  admissao\n",
              "0  1999.05    732704\n",
              "1  1999.06    731238\n",
              "2  1999.07    685905\n",
              "3  1999.08    690144\n",
              "4  1999.09    698632"
            ]
          },
          "metadata": {
            "tags": []
          },
          "execution_count": 42
        }
      ]
    },
    {
      "cell_type": "code",
      "metadata": {
        "colab": {
          "base_uri": "https://localhost:8080/"
        },
        "id": "dg3ECL1oMjAk",
        "outputId": "bf280058-96b9-4a37-a0ed-35ea69d4f1df"
      },
      "source": [
        "df_target.head()"
      ],
      "execution_count": 43,
      "outputs": [
        {
          "output_type": "execute_result",
          "data": {
            "text/plain": [
              "0    635522\n",
              "1    673129\n",
              "2    677848\n",
              "3    676838\n",
              "4    691425\n",
              "Name: demissao, dtype: int64"
            ]
          },
          "metadata": {
            "tags": []
          },
          "execution_count": 43
        }
      ]
    },
    {
      "cell_type": "code",
      "metadata": {
        "colab": {
          "base_uri": "https://localhost:8080/"
        },
        "id": "ZBrPno10MKdN",
        "outputId": "4cb78aad-63ed-495d-82c9-cd5013ab5442"
      },
      "source": [
        "type(df_target)"
      ],
      "execution_count": 44,
      "outputs": [
        {
          "output_type": "execute_result",
          "data": {
            "text/plain": [
              "pandas.core.series.Series"
            ]
          },
          "metadata": {
            "tags": []
          },
          "execution_count": 44
        }
      ]
    },
    {
      "cell_type": "code",
      "metadata": {
        "colab": {
          "base_uri": "https://localhost:8080/"
        },
        "id": "5KTusx7dMaxu",
        "outputId": "e01b040e-5a44-4118-9237-cdbb1c4a149c"
      },
      "source": [
        "type(df_features)"
      ],
      "execution_count": 45,
      "outputs": [
        {
          "output_type": "execute_result",
          "data": {
            "text/plain": [
              "pandas.core.frame.DataFrame"
            ]
          },
          "metadata": {
            "tags": []
          },
          "execution_count": 45
        }
      ]
    },
    {
      "cell_type": "markdown",
      "metadata": {
        "id": "PVS95X-YF25p"
      },
      "source": [
        "# **Difinindo o dataframe entre treino(70%) e teste(30%).**"
      ]
    },
    {
      "cell_type": "code",
      "metadata": {
        "id": "lTpUmFgoLrEz"
      },
      "source": [
        "X_train, X_test, y_train, y_test = train_test_split(df_empregos_mult, df_demissao, test_size=0.3)"
      ],
      "execution_count": 46,
      "outputs": []
    },
    {
      "cell_type": "code",
      "metadata": {
        "colab": {
          "base_uri": "https://localhost:8080/"
        },
        "id": "01bb2IOElf3e",
        "outputId": "a93bf28c-1e36-4d81-faeb-ef90aab54ade"
      },
      "source": [
        "X_train.shape, X_test.shape, y_train.shape, y_test.shape"
      ],
      "execution_count": 47,
      "outputs": [
        {
          "output_type": "execute_result",
          "data": {
            "text/plain": [
              "((172, 2), (75, 2), (172,), (75,))"
            ]
          },
          "metadata": {
            "tags": []
          },
          "execution_count": 47
        }
      ]
    },
    {
      "cell_type": "code",
      "metadata": {
        "id": "kZ6OASbJlf64"
      },
      "source": [
        "# Gera o modelo de regressão linear no dataset de treino\n",
        "model = LinearRegression().fit(X_train, y_train)"
      ],
      "execution_count": 48,
      "outputs": []
    },
    {
      "cell_type": "code",
      "metadata": {
        "id": "Y9VWOL-jlf-B"
      },
      "source": [
        "# Faz as previsoes no dataset de teste\n",
        "previsoes = model.predict(X_test)"
      ],
      "execution_count": 49,
      "outputs": []
    },
    {
      "cell_type": "code",
      "metadata": {
        "colab": {
          "base_uri": "https://localhost:8080/"
        },
        "id": "TiA40lAAlgBH",
        "outputId": "e9fc639d-9827-4fcf-fea4-007bf547df3a"
      },
      "source": [
        "# Validação e Performance do Modelo. Qual foi o score (R2)?\n",
        "model.score(X_test, y_test)"
      ],
      "execution_count": 50,
      "outputs": [
        {
          "output_type": "execute_result",
          "data": {
            "text/plain": [
              "0.808496897041068"
            ]
          },
          "metadata": {
            "tags": []
          },
          "execution_count": 50
        }
      ]
    },
    {
      "cell_type": "code",
      "metadata": {
        "colab": {
          "base_uri": "https://localhost:8080/"
        },
        "id": "iggCcmDolgDt",
        "outputId": "c67a1d80-9023-465b-fdf4-eea040730a90"
      },
      "source": [
        "# Qual foi o Intercept?\n",
        "model.intercept_"
      ],
      "execution_count": 51,
      "outputs": [
        {
          "output_type": "execute_result",
          "data": {
            "text/plain": [
              "-32406737.238538347"
            ]
          },
          "metadata": {
            "tags": []
          },
          "execution_count": 51
        }
      ]
    },
    {
      "cell_type": "code",
      "metadata": {
        "colab": {
          "base_uri": "https://localhost:8080/"
        },
        "id": "-ZRIDKnAlgGn",
        "outputId": "307a29c3-c8da-4fff-f078-df5f253b66fd"
      },
      "source": [
        "# Qual foi o Slope?\n",
        "model.coef_"
      ],
      "execution_count": 52,
      "outputs": [
        {
          "output_type": "execute_result",
          "data": {
            "text/plain": [
              "array([1.62932508e+04, 6.82315218e-01])"
            ]
          },
          "metadata": {
            "tags": []
          },
          "execution_count": 52
        }
      ]
    },
    {
      "cell_type": "code",
      "metadata": {
        "colab": {
          "base_uri": "https://localhost:8080/"
        },
        "id": "c2TeRwPlpc3F",
        "outputId": "360540c8-5b55-416a-9dcf-cb41b1407044"
      },
      "source": [
        "len(y_test)"
      ],
      "execution_count": 53,
      "outputs": [
        {
          "output_type": "execute_result",
          "data": {
            "text/plain": [
              "75"
            ]
          },
          "metadata": {
            "tags": []
          },
          "execution_count": 53
        }
      ]
    },
    {
      "cell_type": "code",
      "metadata": {
        "colab": {
          "base_uri": "https://localhost:8080/"
        },
        "id": "cg2h5Nf7lgJu",
        "outputId": "ee7c23ca-a604-46e8-91de-6e4d7d6a7237"
      },
      "source": [
        "len(previsoes)"
      ],
      "execution_count": 54,
      "outputs": [
        {
          "output_type": "execute_result",
          "data": {
            "text/plain": [
              "75"
            ]
          },
          "metadata": {
            "tags": []
          },
          "execution_count": 54
        }
      ]
    },
    {
      "cell_type": "code",
      "metadata": {
        "colab": {
          "base_uri": "https://localhost:8080/"
        },
        "id": "ORfz9QZGlgMF",
        "outputId": "8e77940f-5656-4bb9-8cee-9909a730aa9e"
      },
      "source": [
        "mae=mean_absolute_error(y_test, previsoes)\n",
        "mae"
      ],
      "execution_count": 55,
      "outputs": [
        {
          "output_type": "execute_result",
          "data": {
            "text/plain": [
              "108738.57321878424"
            ]
          },
          "metadata": {
            "tags": []
          },
          "execution_count": 55
        }
      ]
    },
    {
      "cell_type": "code",
      "metadata": {
        "colab": {
          "base_uri": "https://localhost:8080/"
        },
        "id": "dJbbxStVqSlG",
        "outputId": "76762347-70d3-4abf-f078-17aa6bc01c1c"
      },
      "source": [
        "x = np.array([1201201]).reshape(-1,1)\n",
        "x"
      ],
      "execution_count": 56,
      "outputs": [
        {
          "output_type": "execute_result",
          "data": {
            "text/plain": [
              "array([[1201201]])"
            ]
          },
          "metadata": {
            "tags": []
          },
          "execution_count": 56
        }
      ]
    },
    {
      "cell_type": "code",
      "metadata": {
        "id": "QVt_JyIDlgha"
      },
      "source": [
        "print(model.predict(x)"
      ],
      "execution_count": null,
      "outputs": []
    }
  ]
}