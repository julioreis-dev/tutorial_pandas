{
  "nbformat": 4,
  "nbformat_minor": 0,
  "metadata": {
    "colab": {
      "name": "missingValues.ipynb",
      "provenance": [],
      "authorship_tag": "ABX9TyOG6T7T/o5iutJDTGSUdm+G",
      "include_colab_link": true
    },
    "kernelspec": {
      "name": "python3",
      "display_name": "Python 3"
    },
    "language_info": {
      "name": "python"
    }
  },
  "cells": [
    {
      "cell_type": "markdown",
      "metadata": {
        "id": "view-in-github",
        "colab_type": "text"
      },
      "source": [
        "<a href=\"https://colab.research.google.com/github/julioreis-dev/tutorial_pandas/blob/main/missingValues.ipynb\" target=\"_parent\"><img src=\"https://colab.research.google.com/assets/colab-badge.svg\" alt=\"Open In Colab\"/></a>"
      ]
    },
    {
      "cell_type": "code",
      "metadata": {
        "id": "fpv6pIsJrnil"
      },
      "source": [
        "import pandas as pd\n",
        "import numpy as np"
      ],
      "execution_count": 20,
      "outputs": []
    },
    {
      "cell_type": "code",
      "metadata": {
        "id": "egddMkqwryb0"
      },
      "source": [
        "datas = pd.date_range(start='20190101', periods=600, freq='D')"
      ],
      "execution_count": 24,
      "outputs": []
    },
    {
      "cell_type": "code",
      "metadata": {
        "id": "9846Z4VdsK6K"
      },
      "source": [
        "df = pd.DataFrame(np.random.randn(600,5), index=datas, columns=['A', 'B', 'C', 'D', 'E'])"
      ],
      "execution_count": 25,
      "outputs": []
    },
    {
      "cell_type": "code",
      "metadata": {
        "colab": {
          "base_uri": "https://localhost:8080/",
          "height": 206
        },
        "id": "W0a1h4K6tAAw",
        "outputId": "b488689e-3a6d-4b12-fb54-0145b6553ad2"
      },
      "source": [
        "df.head()"
      ],
      "execution_count": 26,
      "outputs": [
        {
          "output_type": "execute_result",
          "data": {
            "text/html": [
              "<div>\n",
              "<style scoped>\n",
              "    .dataframe tbody tr th:only-of-type {\n",
              "        vertical-align: middle;\n",
              "    }\n",
              "\n",
              "    .dataframe tbody tr th {\n",
              "        vertical-align: top;\n",
              "    }\n",
              "\n",
              "    .dataframe thead th {\n",
              "        text-align: right;\n",
              "    }\n",
              "</style>\n",
              "<table border=\"1\" class=\"dataframe\">\n",
              "  <thead>\n",
              "    <tr style=\"text-align: right;\">\n",
              "      <th></th>\n",
              "      <th>A</th>\n",
              "      <th>B</th>\n",
              "      <th>C</th>\n",
              "      <th>D</th>\n",
              "      <th>E</th>\n",
              "    </tr>\n",
              "  </thead>\n",
              "  <tbody>\n",
              "    <tr>\n",
              "      <th>2019-01-01</th>\n",
              "      <td>0.158575</td>\n",
              "      <td>0.529339</td>\n",
              "      <td>0.637319</td>\n",
              "      <td>-0.527648</td>\n",
              "      <td>0.235767</td>\n",
              "    </tr>\n",
              "    <tr>\n",
              "      <th>2019-01-02</th>\n",
              "      <td>-1.586806</td>\n",
              "      <td>-0.490465</td>\n",
              "      <td>-0.753702</td>\n",
              "      <td>-0.108425</td>\n",
              "      <td>-0.729520</td>\n",
              "    </tr>\n",
              "    <tr>\n",
              "      <th>2019-01-03</th>\n",
              "      <td>-0.414588</td>\n",
              "      <td>0.333045</td>\n",
              "      <td>-0.549956</td>\n",
              "      <td>-1.990995</td>\n",
              "      <td>-0.599556</td>\n",
              "    </tr>\n",
              "    <tr>\n",
              "      <th>2019-01-04</th>\n",
              "      <td>-1.104215</td>\n",
              "      <td>1.801677</td>\n",
              "      <td>-0.460307</td>\n",
              "      <td>-1.357836</td>\n",
              "      <td>0.240359</td>\n",
              "    </tr>\n",
              "    <tr>\n",
              "      <th>2019-01-05</th>\n",
              "      <td>-0.393575</td>\n",
              "      <td>1.043599</td>\n",
              "      <td>1.234500</td>\n",
              "      <td>0.193388</td>\n",
              "      <td>1.405232</td>\n",
              "    </tr>\n",
              "  </tbody>\n",
              "</table>\n",
              "</div>"
            ],
            "text/plain": [
              "                   A         B         C         D         E\n",
              "2019-01-01  0.158575  0.529339  0.637319 -0.527648  0.235767\n",
              "2019-01-02 -1.586806 -0.490465 -0.753702 -0.108425 -0.729520\n",
              "2019-01-03 -0.414588  0.333045 -0.549956 -1.990995 -0.599556\n",
              "2019-01-04 -1.104215  1.801677 -0.460307 -1.357836  0.240359\n",
              "2019-01-05 -0.393575  1.043599  1.234500  0.193388  1.405232"
            ]
          },
          "metadata": {
            "tags": []
          },
          "execution_count": 26
        }
      ]
    },
    {
      "cell_type": "code",
      "metadata": {
        "colab": {
          "base_uri": "https://localhost:8080/"
        },
        "id": "zRGiI3ebu5pB",
        "outputId": "f8e49070-772a-4e22-e535-eb4d100e48bd"
      },
      "source": [
        "df.shape"
      ],
      "execution_count": 27,
      "outputs": [
        {
          "output_type": "execute_result",
          "data": {
            "text/plain": [
              "(600, 5)"
            ]
          },
          "metadata": {
            "tags": []
          },
          "execution_count": 27
        }
      ]
    },
    {
      "cell_type": "code",
      "metadata": {
        "id": "yElhiSdx9b-B"
      },
      "source": [
        "df.drop('G', axis=1, inplace=True)"
      ],
      "execution_count": null,
      "outputs": []
    },
    {
      "cell_type": "code",
      "metadata": {
        "id": "g2Fomtp-0cHv"
      },
      "source": [
        "df['F'] = df['A'][df['A']>0]"
      ],
      "execution_count": 34,
      "outputs": []
    },
    {
      "cell_type": "code",
      "metadata": {
        "id": "QE99yAxLtC3y"
      },
      "source": [
        "df['F'] = df.A[df['A']>0]"
      ],
      "execution_count": 29,
      "outputs": []
    },
    {
      "cell_type": "code",
      "metadata": {
        "colab": {
          "base_uri": "https://localhost:8080/",
          "height": 206
        },
        "id": "MUOC9ow09Zl2",
        "outputId": "ec6cbcab-d9c7-4c9a-8bea-97751ebf091e"
      },
      "source": [
        "df.head()"
      ],
      "execution_count": 35,
      "outputs": [
        {
          "output_type": "execute_result",
          "data": {
            "text/html": [
              "<div>\n",
              "<style scoped>\n",
              "    .dataframe tbody tr th:only-of-type {\n",
              "        vertical-align: middle;\n",
              "    }\n",
              "\n",
              "    .dataframe tbody tr th {\n",
              "        vertical-align: top;\n",
              "    }\n",
              "\n",
              "    .dataframe thead th {\n",
              "        text-align: right;\n",
              "    }\n",
              "</style>\n",
              "<table border=\"1\" class=\"dataframe\">\n",
              "  <thead>\n",
              "    <tr style=\"text-align: right;\">\n",
              "      <th></th>\n",
              "      <th>A</th>\n",
              "      <th>B</th>\n",
              "      <th>C</th>\n",
              "      <th>D</th>\n",
              "      <th>E</th>\n",
              "      <th>F</th>\n",
              "    </tr>\n",
              "  </thead>\n",
              "  <tbody>\n",
              "    <tr>\n",
              "      <th>2019-01-01</th>\n",
              "      <td>0.158575</td>\n",
              "      <td>0.529339</td>\n",
              "      <td>0.637319</td>\n",
              "      <td>-0.527648</td>\n",
              "      <td>0.235767</td>\n",
              "      <td>0.158575</td>\n",
              "    </tr>\n",
              "    <tr>\n",
              "      <th>2019-01-02</th>\n",
              "      <td>-1.586806</td>\n",
              "      <td>-0.490465</td>\n",
              "      <td>-0.753702</td>\n",
              "      <td>-0.108425</td>\n",
              "      <td>-0.729520</td>\n",
              "      <td>NaN</td>\n",
              "    </tr>\n",
              "    <tr>\n",
              "      <th>2019-01-03</th>\n",
              "      <td>-0.414588</td>\n",
              "      <td>0.333045</td>\n",
              "      <td>-0.549956</td>\n",
              "      <td>-1.990995</td>\n",
              "      <td>-0.599556</td>\n",
              "      <td>NaN</td>\n",
              "    </tr>\n",
              "    <tr>\n",
              "      <th>2019-01-04</th>\n",
              "      <td>-1.104215</td>\n",
              "      <td>1.801677</td>\n",
              "      <td>-0.460307</td>\n",
              "      <td>-1.357836</td>\n",
              "      <td>0.240359</td>\n",
              "      <td>NaN</td>\n",
              "    </tr>\n",
              "    <tr>\n",
              "      <th>2019-01-05</th>\n",
              "      <td>-0.393575</td>\n",
              "      <td>1.043599</td>\n",
              "      <td>1.234500</td>\n",
              "      <td>0.193388</td>\n",
              "      <td>1.405232</td>\n",
              "      <td>NaN</td>\n",
              "    </tr>\n",
              "  </tbody>\n",
              "</table>\n",
              "</div>"
            ],
            "text/plain": [
              "                   A         B         C         D         E         F\n",
              "2019-01-01  0.158575  0.529339  0.637319 -0.527648  0.235767  0.158575\n",
              "2019-01-02 -1.586806 -0.490465 -0.753702 -0.108425 -0.729520       NaN\n",
              "2019-01-03 -0.414588  0.333045 -0.549956 -1.990995 -0.599556       NaN\n",
              "2019-01-04 -1.104215  1.801677 -0.460307 -1.357836  0.240359       NaN\n",
              "2019-01-05 -0.393575  1.043599  1.234500  0.193388  1.405232       NaN"
            ]
          },
          "metadata": {
            "tags": []
          },
          "execution_count": 35
        }
      ]
    },
    {
      "cell_type": "code",
      "metadata": {
        "colab": {
          "base_uri": "https://localhost:8080/"
        },
        "id": "vm9ERu-SvGIj",
        "outputId": "11c9848e-5684-45d0-f0e9-fa77b8ac7e8d"
      },
      "source": [
        "df.isna().values.any()"
      ],
      "execution_count": 37,
      "outputs": [
        {
          "output_type": "execute_result",
          "data": {
            "text/plain": [
              "True"
            ]
          },
          "metadata": {
            "tags": []
          },
          "execution_count": 37
        }
      ]
    },
    {
      "cell_type": "code",
      "metadata": {
        "colab": {
          "base_uri": "https://localhost:8080/"
        },
        "id": "zbXWczi9tC7D",
        "outputId": "ae3749cb-448b-41dd-b2bd-d31981a35dab"
      },
      "source": [
        "df.F.isna().values.sum()"
      ],
      "execution_count": 38,
      "outputs": [
        {
          "output_type": "execute_result",
          "data": {
            "text/plain": [
              "295"
            ]
          },
          "metadata": {
            "tags": []
          },
          "execution_count": 38
        }
      ]
    },
    {
      "cell_type": "code",
      "metadata": {
        "id": "uRzVMtUstC-B"
      },
      "source": [
        "df1 = df.copy()"
      ],
      "execution_count": 39,
      "outputs": []
    },
    {
      "cell_type": "code",
      "metadata": {
        "colab": {
          "base_uri": "https://localhost:8080/",
          "height": 300
        },
        "id": "oZq8Ii4uvjo_",
        "outputId": "e81374e4-ce40-45dc-f8e8-e58d4d4ac533"
      },
      "source": [
        "df1.describe()"
      ],
      "execution_count": 40,
      "outputs": [
        {
          "output_type": "execute_result",
          "data": {
            "text/html": [
              "<div>\n",
              "<style scoped>\n",
              "    .dataframe tbody tr th:only-of-type {\n",
              "        vertical-align: middle;\n",
              "    }\n",
              "\n",
              "    .dataframe tbody tr th {\n",
              "        vertical-align: top;\n",
              "    }\n",
              "\n",
              "    .dataframe thead th {\n",
              "        text-align: right;\n",
              "    }\n",
              "</style>\n",
              "<table border=\"1\" class=\"dataframe\">\n",
              "  <thead>\n",
              "    <tr style=\"text-align: right;\">\n",
              "      <th></th>\n",
              "      <th>A</th>\n",
              "      <th>B</th>\n",
              "      <th>C</th>\n",
              "      <th>D</th>\n",
              "      <th>E</th>\n",
              "      <th>F</th>\n",
              "    </tr>\n",
              "  </thead>\n",
              "  <tbody>\n",
              "    <tr>\n",
              "      <th>count</th>\n",
              "      <td>600.000000</td>\n",
              "      <td>600.000000</td>\n",
              "      <td>600.000000</td>\n",
              "      <td>600.000000</td>\n",
              "      <td>600.000000</td>\n",
              "      <td>305.000000</td>\n",
              "    </tr>\n",
              "    <tr>\n",
              "      <th>mean</th>\n",
              "      <td>0.009109</td>\n",
              "      <td>-0.025885</td>\n",
              "      <td>-0.063248</td>\n",
              "      <td>-0.043832</td>\n",
              "      <td>0.089356</td>\n",
              "      <td>0.801438</td>\n",
              "    </tr>\n",
              "    <tr>\n",
              "      <th>std</th>\n",
              "      <td>1.027130</td>\n",
              "      <td>0.986008</td>\n",
              "      <td>0.957994</td>\n",
              "      <td>1.045184</td>\n",
              "      <td>1.031447</td>\n",
              "      <td>0.648688</td>\n",
              "    </tr>\n",
              "    <tr>\n",
              "      <th>min</th>\n",
              "      <td>-3.090493</td>\n",
              "      <td>-3.080851</td>\n",
              "      <td>-3.265230</td>\n",
              "      <td>-2.975336</td>\n",
              "      <td>-3.004294</td>\n",
              "      <td>0.002238</td>\n",
              "    </tr>\n",
              "    <tr>\n",
              "      <th>25%</th>\n",
              "      <td>-0.657630</td>\n",
              "      <td>-0.621030</td>\n",
              "      <td>-0.735823</td>\n",
              "      <td>-0.704503</td>\n",
              "      <td>-0.599777</td>\n",
              "      <td>0.314275</td>\n",
              "    </tr>\n",
              "    <tr>\n",
              "      <th>50%</th>\n",
              "      <td>0.019233</td>\n",
              "      <td>-0.003983</td>\n",
              "      <td>-0.083351</td>\n",
              "      <td>0.002866</td>\n",
              "      <td>0.107928</td>\n",
              "      <td>0.599687</td>\n",
              "    </tr>\n",
              "    <tr>\n",
              "      <th>75%</th>\n",
              "      <td>0.609328</td>\n",
              "      <td>0.607065</td>\n",
              "      <td>0.547884</td>\n",
              "      <td>0.638729</td>\n",
              "      <td>0.837698</td>\n",
              "      <td>1.173253</td>\n",
              "    </tr>\n",
              "    <tr>\n",
              "      <th>max</th>\n",
              "      <td>3.146576</td>\n",
              "      <td>3.550295</td>\n",
              "      <td>3.848935</td>\n",
              "      <td>3.471660</td>\n",
              "      <td>2.959418</td>\n",
              "      <td>3.146576</td>\n",
              "    </tr>\n",
              "  </tbody>\n",
              "</table>\n",
              "</div>"
            ],
            "text/plain": [
              "                A           B           C           D           E           F\n",
              "count  600.000000  600.000000  600.000000  600.000000  600.000000  305.000000\n",
              "mean     0.009109   -0.025885   -0.063248   -0.043832    0.089356    0.801438\n",
              "std      1.027130    0.986008    0.957994    1.045184    1.031447    0.648688\n",
              "min     -3.090493   -3.080851   -3.265230   -2.975336   -3.004294    0.002238\n",
              "25%     -0.657630   -0.621030   -0.735823   -0.704503   -0.599777    0.314275\n",
              "50%      0.019233   -0.003983   -0.083351    0.002866    0.107928    0.599687\n",
              "75%      0.609328    0.607065    0.547884    0.638729    0.837698    1.173253\n",
              "max      3.146576    3.550295    3.848935    3.471660    2.959418    3.146576"
            ]
          },
          "metadata": {
            "tags": []
          },
          "execution_count": 40
        }
      ]
    },
    {
      "cell_type": "code",
      "metadata": {
        "colab": {
          "base_uri": "https://localhost:8080/"
        },
        "id": "1LG3UEQuwiME",
        "outputId": "bc9df3dc-0279-4270-95a3-635168903d5d"
      },
      "source": [
        "media = np.mean(df.A)\n",
        "media"
      ],
      "execution_count": 42,
      "outputs": [
        {
          "output_type": "execute_result",
          "data": {
            "text/plain": [
              "0.009109100344352514"
            ]
          },
          "metadata": {
            "tags": []
          },
          "execution_count": 42
        }
      ]
    },
    {
      "cell_type": "code",
      "metadata": {
        "id": "ES-3OCtetDBE"
      },
      "source": [
        "df1.F.fillna(media, inplace=True)"
      ],
      "execution_count": 43,
      "outputs": []
    },
    {
      "cell_type": "code",
      "metadata": {
        "colab": {
          "base_uri": "https://localhost:8080/",
          "height": 206
        },
        "id": "s70OF0jEtDIV",
        "outputId": "771f867c-1627-4ce6-8437-7fd642021f42"
      },
      "source": [
        "df1.head()"
      ],
      "execution_count": 44,
      "outputs": [
        {
          "output_type": "execute_result",
          "data": {
            "text/html": [
              "<div>\n",
              "<style scoped>\n",
              "    .dataframe tbody tr th:only-of-type {\n",
              "        vertical-align: middle;\n",
              "    }\n",
              "\n",
              "    .dataframe tbody tr th {\n",
              "        vertical-align: top;\n",
              "    }\n",
              "\n",
              "    .dataframe thead th {\n",
              "        text-align: right;\n",
              "    }\n",
              "</style>\n",
              "<table border=\"1\" class=\"dataframe\">\n",
              "  <thead>\n",
              "    <tr style=\"text-align: right;\">\n",
              "      <th></th>\n",
              "      <th>A</th>\n",
              "      <th>B</th>\n",
              "      <th>C</th>\n",
              "      <th>D</th>\n",
              "      <th>E</th>\n",
              "      <th>F</th>\n",
              "    </tr>\n",
              "  </thead>\n",
              "  <tbody>\n",
              "    <tr>\n",
              "      <th>2019-01-01</th>\n",
              "      <td>0.158575</td>\n",
              "      <td>0.529339</td>\n",
              "      <td>0.637319</td>\n",
              "      <td>-0.527648</td>\n",
              "      <td>0.235767</td>\n",
              "      <td>0.158575</td>\n",
              "    </tr>\n",
              "    <tr>\n",
              "      <th>2019-01-02</th>\n",
              "      <td>-1.586806</td>\n",
              "      <td>-0.490465</td>\n",
              "      <td>-0.753702</td>\n",
              "      <td>-0.108425</td>\n",
              "      <td>-0.729520</td>\n",
              "      <td>0.009109</td>\n",
              "    </tr>\n",
              "    <tr>\n",
              "      <th>2019-01-03</th>\n",
              "      <td>-0.414588</td>\n",
              "      <td>0.333045</td>\n",
              "      <td>-0.549956</td>\n",
              "      <td>-1.990995</td>\n",
              "      <td>-0.599556</td>\n",
              "      <td>0.009109</td>\n",
              "    </tr>\n",
              "    <tr>\n",
              "      <th>2019-01-04</th>\n",
              "      <td>-1.104215</td>\n",
              "      <td>1.801677</td>\n",
              "      <td>-0.460307</td>\n",
              "      <td>-1.357836</td>\n",
              "      <td>0.240359</td>\n",
              "      <td>0.009109</td>\n",
              "    </tr>\n",
              "    <tr>\n",
              "      <th>2019-01-05</th>\n",
              "      <td>-0.393575</td>\n",
              "      <td>1.043599</td>\n",
              "      <td>1.234500</td>\n",
              "      <td>0.193388</td>\n",
              "      <td>1.405232</td>\n",
              "      <td>0.009109</td>\n",
              "    </tr>\n",
              "  </tbody>\n",
              "</table>\n",
              "</div>"
            ],
            "text/plain": [
              "                   A         B         C         D         E         F\n",
              "2019-01-01  0.158575  0.529339  0.637319 -0.527648  0.235767  0.158575\n",
              "2019-01-02 -1.586806 -0.490465 -0.753702 -0.108425 -0.729520  0.009109\n",
              "2019-01-03 -0.414588  0.333045 -0.549956 -1.990995 -0.599556  0.009109\n",
              "2019-01-04 -1.104215  1.801677 -0.460307 -1.357836  0.240359  0.009109\n",
              "2019-01-05 -0.393575  1.043599  1.234500  0.193388  1.405232  0.009109"
            ]
          },
          "metadata": {
            "tags": []
          },
          "execution_count": 44
        }
      ]
    },
    {
      "cell_type": "code",
      "metadata": {
        "id": "FZQUNQoGxfsh"
      },
      "source": [
        "df2=df.copy()"
      ],
      "execution_count": 45,
      "outputs": []
    },
    {
      "cell_type": "code",
      "metadata": {
        "colab": {
          "base_uri": "https://localhost:8080/"
        },
        "id": "E2-cknV2x9b0",
        "outputId": "3f2bfd7b-9442-4679-e96f-7c85488a0255"
      },
      "source": [
        "media2 = df.A.mean()\n",
        "media2"
      ],
      "execution_count": 46,
      "outputs": [
        {
          "output_type": "execute_result",
          "data": {
            "text/plain": [
              "0.009109100344352514"
            ]
          },
          "metadata": {
            "tags": []
          },
          "execution_count": 46
        }
      ]
    },
    {
      "cell_type": "code",
      "metadata": {
        "id": "lvAj2J5cx9gw"
      },
      "source": [
        "df2.F.fillna(media2, inplace=True)"
      ],
      "execution_count": 47,
      "outputs": []
    },
    {
      "cell_type": "code",
      "metadata": {
        "colab": {
          "base_uri": "https://localhost:8080/",
          "height": 206
        },
        "id": "8Sw-67qix9j6",
        "outputId": "295c613b-4226-4230-ff11-46a3f6c670c0"
      },
      "source": [
        "df2.head()"
      ],
      "execution_count": 48,
      "outputs": [
        {
          "output_type": "execute_result",
          "data": {
            "text/html": [
              "<div>\n",
              "<style scoped>\n",
              "    .dataframe tbody tr th:only-of-type {\n",
              "        vertical-align: middle;\n",
              "    }\n",
              "\n",
              "    .dataframe tbody tr th {\n",
              "        vertical-align: top;\n",
              "    }\n",
              "\n",
              "    .dataframe thead th {\n",
              "        text-align: right;\n",
              "    }\n",
              "</style>\n",
              "<table border=\"1\" class=\"dataframe\">\n",
              "  <thead>\n",
              "    <tr style=\"text-align: right;\">\n",
              "      <th></th>\n",
              "      <th>A</th>\n",
              "      <th>B</th>\n",
              "      <th>C</th>\n",
              "      <th>D</th>\n",
              "      <th>E</th>\n",
              "      <th>F</th>\n",
              "    </tr>\n",
              "  </thead>\n",
              "  <tbody>\n",
              "    <tr>\n",
              "      <th>2019-01-01</th>\n",
              "      <td>0.158575</td>\n",
              "      <td>0.529339</td>\n",
              "      <td>0.637319</td>\n",
              "      <td>-0.527648</td>\n",
              "      <td>0.235767</td>\n",
              "      <td>0.158575</td>\n",
              "    </tr>\n",
              "    <tr>\n",
              "      <th>2019-01-02</th>\n",
              "      <td>-1.586806</td>\n",
              "      <td>-0.490465</td>\n",
              "      <td>-0.753702</td>\n",
              "      <td>-0.108425</td>\n",
              "      <td>-0.729520</td>\n",
              "      <td>0.009109</td>\n",
              "    </tr>\n",
              "    <tr>\n",
              "      <th>2019-01-03</th>\n",
              "      <td>-0.414588</td>\n",
              "      <td>0.333045</td>\n",
              "      <td>-0.549956</td>\n",
              "      <td>-1.990995</td>\n",
              "      <td>-0.599556</td>\n",
              "      <td>0.009109</td>\n",
              "    </tr>\n",
              "    <tr>\n",
              "      <th>2019-01-04</th>\n",
              "      <td>-1.104215</td>\n",
              "      <td>1.801677</td>\n",
              "      <td>-0.460307</td>\n",
              "      <td>-1.357836</td>\n",
              "      <td>0.240359</td>\n",
              "      <td>0.009109</td>\n",
              "    </tr>\n",
              "    <tr>\n",
              "      <th>2019-01-05</th>\n",
              "      <td>-0.393575</td>\n",
              "      <td>1.043599</td>\n",
              "      <td>1.234500</td>\n",
              "      <td>0.193388</td>\n",
              "      <td>1.405232</td>\n",
              "      <td>0.009109</td>\n",
              "    </tr>\n",
              "  </tbody>\n",
              "</table>\n",
              "</div>"
            ],
            "text/plain": [
              "                   A         B         C         D         E         F\n",
              "2019-01-01  0.158575  0.529339  0.637319 -0.527648  0.235767  0.158575\n",
              "2019-01-02 -1.586806 -0.490465 -0.753702 -0.108425 -0.729520  0.009109\n",
              "2019-01-03 -0.414588  0.333045 -0.549956 -1.990995 -0.599556  0.009109\n",
              "2019-01-04 -1.104215  1.801677 -0.460307 -1.357836  0.240359  0.009109\n",
              "2019-01-05 -0.393575  1.043599  1.234500  0.193388  1.405232  0.009109"
            ]
          },
          "metadata": {
            "tags": []
          },
          "execution_count": 48
        }
      ]
    }
  ]
}