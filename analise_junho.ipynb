{
  "nbformat": 4,
  "nbformat_minor": 0,
  "metadata": {
    "colab": {
      "name": "analise_junho.ipynb",
      "provenance": [],
      "mount_file_id": "1FJcDc-gz1RDVcPk2pNpUUzwu2Lj1fdA9",
      "authorship_tag": "ABX9TyO38wxbJaXH+Ts9DgQ4D8DC",
      "include_colab_link": true
    },
    "kernelspec": {
      "name": "python3",
      "display_name": "Python 3"
    },
    "language_info": {
      "name": "python"
    }
  },
  "cells": [
    {
      "cell_type": "markdown",
      "metadata": {
        "id": "view-in-github",
        "colab_type": "text"
      },
      "source": [
        "<a href=\"https://colab.research.google.com/github/julioreis-dev/tutorial_pandas/blob/main/analise_junho.ipynb\" target=\"_parent\"><img src=\"https://colab.research.google.com/assets/colab-badge.svg\" alt=\"Open In Colab\"/></a>"
      ]
    },
    {
      "cell_type": "code",
      "metadata": {
        "id": "KHyESWu8VPpY"
      },
      "source": [
        "import pandas as pd\n",
        "import plotly.express as px"
      ],
      "execution_count": 1,
      "outputs": []
    },
    {
      "cell_type": "code",
      "metadata": {
        "id": "eJ8wGCfBViAP"
      },
      "source": [
        "df = pd.read_excel('Relatório_CMAR.xlsx', sheet_name='Sheet1')"
      ],
      "execution_count": 2,
      "outputs": []
    },
    {
      "cell_type": "code",
      "metadata": {
        "colab": {
          "base_uri": "https://localhost:8080/"
        },
        "id": "W4mM-4YfV88I",
        "outputId": "9cf2f064-07e4-42a0-c3b7-89609277fb4d"
      },
      "source": [
        "df.shape"
      ],
      "execution_count": 3,
      "outputs": [
        {
          "output_type": "execute_result",
          "data": {
            "text/plain": [
              "(148, 13)"
            ]
          },
          "metadata": {
            "tags": []
          },
          "execution_count": 3
        }
      ]
    },
    {
      "cell_type": "code",
      "metadata": {
        "colab": {
          "base_uri": "https://localhost:8080/",
          "height": 206
        },
        "id": "RrJ8aUBoVx05",
        "outputId": "179da9ce-4f1a-4182-ac6d-5ae46b970e92"
      },
      "source": [
        "df.head()"
      ],
      "execution_count": 4,
      "outputs": [
        {
          "output_type": "execute_result",
          "data": {
            "text/html": [
              "<div>\n",
              "<style scoped>\n",
              "    .dataframe tbody tr th:only-of-type {\n",
              "        vertical-align: middle;\n",
              "    }\n",
              "\n",
              "    .dataframe tbody tr th {\n",
              "        vertical-align: top;\n",
              "    }\n",
              "\n",
              "    .dataframe thead th {\n",
              "        text-align: right;\n",
              "    }\n",
              "</style>\n",
              "<table border=\"1\" class=\"dataframe\">\n",
              "  <thead>\n",
              "    <tr style=\"text-align: right;\">\n",
              "      <th></th>\n",
              "      <th>Equipamento</th>\n",
              "      <th>Embarcação</th>\n",
              "      <th>Classe</th>\n",
              "      <th>Porte</th>\n",
              "      <th>Regional</th>\n",
              "      <th>Regional CMAR</th>\n",
              "      <th>Dias Medir</th>\n",
              "      <th>Indisp</th>\n",
              "      <th>Medir</th>\n",
              "      <th>Centro de Custo</th>\n",
              "      <th>Valor Petrobras $</th>\n",
              "      <th>Valor PBLOG $</th>\n",
              "      <th>Total $</th>\n",
              "    </tr>\n",
              "  </thead>\n",
              "  <tbody>\n",
              "    <tr>\n",
              "      <th>0</th>\n",
              "      <td>30107739</td>\n",
              "      <td>AH GIORGIO P.</td>\n",
              "      <td>AHTS 12000</td>\n",
              "      <td>EPP</td>\n",
              "      <td>OPTO</td>\n",
              "      <td>TO</td>\n",
              "      <td>31.000</td>\n",
              "      <td>0.000</td>\n",
              "      <td>31.000</td>\n",
              "      <td>E980TM1Y86</td>\n",
              "      <td>920158.32</td>\n",
              "      <td>0.00</td>\n",
              "      <td>920158.32</td>\n",
              "    </tr>\n",
              "    <tr>\n",
              "      <th>1</th>\n",
              "      <td>30119211</td>\n",
              "      <td>AH VALLETTA</td>\n",
              "      <td>AHTS 12000</td>\n",
              "      <td>EPP</td>\n",
              "      <td>OPTO</td>\n",
              "      <td>TS</td>\n",
              "      <td>2.465</td>\n",
              "      <td>0.000</td>\n",
              "      <td>2.465</td>\n",
              "      <td>E980TM1Y85</td>\n",
              "      <td>57441.78</td>\n",
              "      <td>0.00</td>\n",
              "      <td>57441.78</td>\n",
              "    </tr>\n",
              "    <tr>\n",
              "      <th>2</th>\n",
              "      <td>30100300</td>\n",
              "      <td>AMY CHOUEST</td>\n",
              "      <td>PSV OSRV 750</td>\n",
              "      <td>EPP</td>\n",
              "      <td>OCE</td>\n",
              "      <td>AGBS (exclusiva)</td>\n",
              "      <td>6.094</td>\n",
              "      <td>0.000</td>\n",
              "      <td>6.094</td>\n",
              "      <td>E940SCCE2F</td>\n",
              "      <td>415359.74</td>\n",
              "      <td>0.00</td>\n",
              "      <td>415359.74</td>\n",
              "    </tr>\n",
              "    <tr>\n",
              "      <th>3</th>\n",
              "      <td>30079802</td>\n",
              "      <td>ASGAARD SOPHIA</td>\n",
              "      <td>PSV OSRV 750</td>\n",
              "      <td>EPP</td>\n",
              "      <td>OCE</td>\n",
              "      <td>AGBC</td>\n",
              "      <td>26.416</td>\n",
              "      <td>0.000</td>\n",
              "      <td>26.416</td>\n",
              "      <td>E930SCCE20</td>\n",
              "      <td>329461.20</td>\n",
              "      <td>115297.96</td>\n",
              "      <td>444759.16</td>\n",
              "    </tr>\n",
              "    <tr>\n",
              "      <th>4</th>\n",
              "      <td>30007526</td>\n",
              "      <td>ASTRO BADEJO</td>\n",
              "      <td>PSV 1500</td>\n",
              "      <td>EMP</td>\n",
              "      <td>OLNNE</td>\n",
              "      <td>Área Remota</td>\n",
              "      <td>31.000</td>\n",
              "      <td>0.479</td>\n",
              "      <td>30.521</td>\n",
              "      <td>E8A0TM1Y83</td>\n",
              "      <td>375622.96</td>\n",
              "      <td>0.00</td>\n",
              "      <td>375622.96</td>\n",
              "    </tr>\n",
              "  </tbody>\n",
              "</table>\n",
              "</div>"
            ],
            "text/plain": [
              "   Equipamento      Embarcação  ... Valor PBLOG $    Total $\n",
              "0     30107739   AH GIORGIO P.  ...          0.00  920158.32\n",
              "1     30119211     AH VALLETTA  ...          0.00   57441.78\n",
              "2     30100300     AMY CHOUEST  ...          0.00  415359.74\n",
              "3     30079802  ASGAARD SOPHIA  ...     115297.96  444759.16\n",
              "4     30007526    ASTRO BADEJO  ...          0.00  375622.96\n",
              "\n",
              "[5 rows x 13 columns]"
            ]
          },
          "metadata": {
            "tags": []
          },
          "execution_count": 4
        }
      ]
    },
    {
      "cell_type": "code",
      "metadata": {
        "colab": {
          "base_uri": "https://localhost:8080/"
        },
        "id": "kRNlWQ1cV1-Z",
        "outputId": "145a8d81-74a6-4c22-9a31-7fb0de22d87a"
      },
      "source": [
        "df.isna().values.any()"
      ],
      "execution_count": 5,
      "outputs": [
        {
          "output_type": "execute_result",
          "data": {
            "text/plain": [
              "False"
            ]
          },
          "metadata": {
            "tags": []
          },
          "execution_count": 5
        }
      ]
    },
    {
      "cell_type": "markdown",
      "metadata": {
        "id": "So3pZwp99k5w"
      },
      "source": [
        "# **Bruno os dados abaixo você consegue obter as informações de custo por porte de embarcação.**"
      ]
    },
    {
      "cell_type": "code",
      "metadata": {
        "colab": {
          "base_uri": "https://localhost:8080/",
          "height": 212
        },
        "id": "WaelqTRMWKZh",
        "outputId": "1d7b741b-a2f2-4856-dd92-67618852f500"
      },
      "source": [
        "df_porte = df.groupby('Porte').sum()\n",
        "# print(df_porte[['Valor Petrobras $']].sum())\n",
        "# print(df_porte[['Valor PBLOG $']].sum())\n",
        "print(df_porte[['Total $']].sum())\n",
        "df_porte[['Total $']]"
      ],
      "execution_count": 6,
      "outputs": [
        {
          "output_type": "stream",
          "text": [
            "Total $    75584226.74\n",
            "dtype: float64\n"
          ],
          "name": "stdout"
        },
        {
          "output_type": "execute_result",
          "data": {
            "text/html": [
              "<div>\n",
              "<style scoped>\n",
              "    .dataframe tbody tr th:only-of-type {\n",
              "        vertical-align: middle;\n",
              "    }\n",
              "\n",
              "    .dataframe tbody tr th {\n",
              "        vertical-align: top;\n",
              "    }\n",
              "\n",
              "    .dataframe thead th {\n",
              "        text-align: right;\n",
              "    }\n",
              "</style>\n",
              "<table border=\"1\" class=\"dataframe\">\n",
              "  <thead>\n",
              "    <tr style=\"text-align: right;\">\n",
              "      <th></th>\n",
              "      <th>Total $</th>\n",
              "    </tr>\n",
              "    <tr>\n",
              "      <th>Porte</th>\n",
              "      <th></th>\n",
              "    </tr>\n",
              "  </thead>\n",
              "  <tbody>\n",
              "    <tr>\n",
              "      <th>EGP</th>\n",
              "      <td>45886371.96</td>\n",
              "    </tr>\n",
              "    <tr>\n",
              "      <th>EMP</th>\n",
              "      <td>5267324.44</td>\n",
              "    </tr>\n",
              "    <tr>\n",
              "      <th>EPP</th>\n",
              "      <td>24430530.34</td>\n",
              "    </tr>\n",
              "  </tbody>\n",
              "</table>\n",
              "</div>"
            ],
            "text/plain": [
              "           Total $\n",
              "Porte             \n",
              "EGP    45886371.96\n",
              "EMP     5267324.44\n",
              "EPP    24430530.34"
            ]
          },
          "metadata": {
            "tags": []
          },
          "execution_count": 6
        }
      ]
    },
    {
      "cell_type": "markdown",
      "metadata": {
        "id": "q0dGxLXT9jyc"
      },
      "source": [
        ""
      ]
    },
    {
      "cell_type": "code",
      "metadata": {
        "colab": {
          "base_uri": "https://localhost:8080/",
          "height": 81
        },
        "id": "bc3wAoqkXdSt",
        "outputId": "dc18c791-2d30-4fb6-b3f0-be486aa37d5e"
      },
      "source": [
        "df[df['Regional'] == 'OCE/TMC']"
      ],
      "execution_count": 7,
      "outputs": [
        {
          "output_type": "execute_result",
          "data": {
            "text/html": [
              "<div>\n",
              "<style scoped>\n",
              "    .dataframe tbody tr th:only-of-type {\n",
              "        vertical-align: middle;\n",
              "    }\n",
              "\n",
              "    .dataframe tbody tr th {\n",
              "        vertical-align: top;\n",
              "    }\n",
              "\n",
              "    .dataframe thead th {\n",
              "        text-align: right;\n",
              "    }\n",
              "</style>\n",
              "<table border=\"1\" class=\"dataframe\">\n",
              "  <thead>\n",
              "    <tr style=\"text-align: right;\">\n",
              "      <th></th>\n",
              "      <th>Equipamento</th>\n",
              "      <th>Embarcação</th>\n",
              "      <th>Classe</th>\n",
              "      <th>Porte</th>\n",
              "      <th>Regional</th>\n",
              "      <th>Regional CMAR</th>\n",
              "      <th>Dias Medir</th>\n",
              "      <th>Indisp</th>\n",
              "      <th>Medir</th>\n",
              "      <th>Centro de Custo</th>\n",
              "      <th>Valor Petrobras $</th>\n",
              "      <th>Valor PBLOG $</th>\n",
              "      <th>Total $</th>\n",
              "    </tr>\n",
              "  </thead>\n",
              "  <tbody>\n",
              "    <tr>\n",
              "      <th>133</th>\n",
              "      <td>30122455</td>\n",
              "      <td>VIKING THAUMAS</td>\n",
              "      <td>PSV 3000 OL</td>\n",
              "      <td>EGP</td>\n",
              "      <td>OCE/TMC</td>\n",
              "      <td>B. Campos ES</td>\n",
              "      <td>31.0</td>\n",
              "      <td>3.022</td>\n",
              "      <td>27.978</td>\n",
              "      <td>E890TM1Y83</td>\n",
              "      <td>445963.18</td>\n",
              "      <td>0.0</td>\n",
              "      <td>445963.18</td>\n",
              "    </tr>\n",
              "  </tbody>\n",
              "</table>\n",
              "</div>"
            ],
            "text/plain": [
              "     Equipamento      Embarcação  ... Valor PBLOG $    Total $\n",
              "133     30122455  VIKING THAUMAS  ...           0.0  445963.18\n",
              "\n",
              "[1 rows x 13 columns]"
            ]
          },
          "metadata": {
            "tags": []
          },
          "execution_count": 7
        }
      ]
    },
    {
      "cell_type": "code",
      "metadata": {
        "id": "1QLyOgU3Z-87"
      },
      "source": [
        "df.loc[df.Regional == 'OCE/TMC', 'Regional'] = 'TMC'"
      ],
      "execution_count": 8,
      "outputs": []
    },
    {
      "cell_type": "code",
      "metadata": {
        "colab": {
          "base_uri": "https://localhost:8080/"
        },
        "id": "-mdDg30SaxRu",
        "outputId": "dd446803-9b13-4276-912e-5d54e14a84e5"
      },
      "source": [
        "df.loc[133]"
      ],
      "execution_count": 12,
      "outputs": [
        {
          "output_type": "execute_result",
          "data": {
            "text/plain": [
              "Equipamento                30122455\n",
              "Embarcação           VIKING THAUMAS\n",
              "Classe                  PSV 3000 OL\n",
              "Porte                           EGP\n",
              "Regional                        TMC\n",
              "Regional CMAR          B. Campos ES\n",
              "Dias Medir                       31\n",
              "Indisp                        3.022\n",
              "Medir                        27.978\n",
              "Centro de Custo          E890TM1Y83\n",
              "Valor Petrobras $            445963\n",
              "Valor PBLOG $                     0\n",
              "Total $                      445963\n",
              "Name: 133, dtype: object"
            ]
          },
          "metadata": {
            "tags": []
          },
          "execution_count": 12
        }
      ]
    },
    {
      "cell_type": "code",
      "metadata": {
        "id": "CbPVxBJO-CeI"
      },
      "source": [
        ""
      ],
      "execution_count": null,
      "outputs": []
    },
    {
      "cell_type": "markdown",
      "metadata": {
        "id": "arj3L2r2-E4k"
      },
      "source": [
        "# **Bruno os dados abaixo você consegue obter as informações de custo por Regional de embarcação**"
      ]
    },
    {
      "cell_type": "code",
      "metadata": {
        "colab": {
          "base_uri": "https://localhost:8080/",
          "height": 274
        },
        "id": "uBTPwm4PccgT",
        "outputId": "53901580-94a5-43e9-9ef3-06799cdd1321"
      },
      "source": [
        "df_regional = df.groupby('Regional').sum()\n",
        "print(df_regional[['Total $']].sum())\n",
        "df_regional[['Total $']]"
      ],
      "execution_count": 13,
      "outputs": [
        {
          "output_type": "stream",
          "text": [
            "Total $    75584226.74\n",
            "dtype: float64\n"
          ],
          "name": "stdout"
        },
        {
          "output_type": "execute_result",
          "data": {
            "text/html": [
              "<div>\n",
              "<style scoped>\n",
              "    .dataframe tbody tr th:only-of-type {\n",
              "        vertical-align: middle;\n",
              "    }\n",
              "\n",
              "    .dataframe tbody tr th {\n",
              "        vertical-align: top;\n",
              "    }\n",
              "\n",
              "    .dataframe thead th {\n",
              "        text-align: right;\n",
              "    }\n",
              "</style>\n",
              "<table border=\"1\" class=\"dataframe\">\n",
              "  <thead>\n",
              "    <tr style=\"text-align: right;\">\n",
              "      <th></th>\n",
              "      <th>Total $</th>\n",
              "    </tr>\n",
              "    <tr>\n",
              "      <th>Regional</th>\n",
              "      <th></th>\n",
              "    </tr>\n",
              "  </thead>\n",
              "  <tbody>\n",
              "    <tr>\n",
              "      <th>OCE</th>\n",
              "      <td>16438150.57</td>\n",
              "    </tr>\n",
              "    <tr>\n",
              "      <th>OLNNE</th>\n",
              "      <td>3642146.41</td>\n",
              "    </tr>\n",
              "    <tr>\n",
              "      <th>OPTO</th>\n",
              "      <td>7404972.57</td>\n",
              "    </tr>\n",
              "    <tr>\n",
              "      <th>TMC</th>\n",
              "      <td>47572394.96</td>\n",
              "    </tr>\n",
              "    <tr>\n",
              "      <th>TMC-BC</th>\n",
              "      <td>526562.23</td>\n",
              "    </tr>\n",
              "  </tbody>\n",
              "</table>\n",
              "</div>"
            ],
            "text/plain": [
              "              Total $\n",
              "Regional             \n",
              "OCE       16438150.57\n",
              "OLNNE      3642146.41\n",
              "OPTO       7404972.57\n",
              "TMC       47572394.96\n",
              "TMC-BC      526562.23"
            ]
          },
          "metadata": {
            "tags": []
          },
          "execution_count": 13
        }
      ]
    },
    {
      "cell_type": "markdown",
      "metadata": {
        "id": "Q5ta20I5-Yw3"
      },
      "source": [
        "# **Bruno os dados abaixo você consegue obter as informações de custo por area geográfica.**"
      ]
    },
    {
      "cell_type": "code",
      "metadata": {
        "colab": {
          "base_uri": "https://localhost:8080/",
          "height": 651
        },
        "id": "T7PG4qTgccn3",
        "outputId": "21447bf6-9dc6-4fdb-ee40-2636aab69e96"
      },
      "source": [
        "df_regcmar = df.groupby('Regional CMAR').sum()\n",
        "print(df_regcmar[['Total $']].sum())\n",
        "df_regcmar[['Total $']].sort_values('Total $', ascending=False)"
      ],
      "execution_count": 41,
      "outputs": [
        {
          "output_type": "stream",
          "text": [
            "Total $    75584226.74\n",
            "dtype: float64\n"
          ],
          "name": "stdout"
        },
        {
          "output_type": "execute_result",
          "data": {
            "text/html": [
              "<div>\n",
              "<style scoped>\n",
              "    .dataframe tbody tr th:only-of-type {\n",
              "        vertical-align: middle;\n",
              "    }\n",
              "\n",
              "    .dataframe tbody tr th {\n",
              "        vertical-align: top;\n",
              "    }\n",
              "\n",
              "    .dataframe thead th {\n",
              "        text-align: right;\n",
              "    }\n",
              "</style>\n",
              "<table border=\"1\" class=\"dataframe\">\n",
              "  <thead>\n",
              "    <tr style=\"text-align: right;\">\n",
              "      <th></th>\n",
              "      <th>Total $</th>\n",
              "    </tr>\n",
              "    <tr>\n",
              "      <th>Regional CMAR</th>\n",
              "      <th></th>\n",
              "    </tr>\n",
              "  </thead>\n",
              "  <tbody>\n",
              "    <tr>\n",
              "      <th>B. Campos ES</th>\n",
              "      <td>22201585.22</td>\n",
              "    </tr>\n",
              "    <tr>\n",
              "      <th>B. Santos</th>\n",
              "      <td>15743323.67</td>\n",
              "    </tr>\n",
              "    <tr>\n",
              "      <th>P. Búzios</th>\n",
              "      <td>8574945.76</td>\n",
              "    </tr>\n",
              "    <tr>\n",
              "      <th>AGBS</th>\n",
              "      <td>5645080.42</td>\n",
              "    </tr>\n",
              "    <tr>\n",
              "      <th>AGBC</th>\n",
              "      <td>4645691.00</td>\n",
              "    </tr>\n",
              "    <tr>\n",
              "      <th>TO</th>\n",
              "      <td>3283978.54</td>\n",
              "    </tr>\n",
              "    <tr>\n",
              "      <th>TS</th>\n",
              "      <td>3158729.45</td>\n",
              "    </tr>\n",
              "    <tr>\n",
              "      <th>AGES</th>\n",
              "      <td>2731115.70</td>\n",
              "    </tr>\n",
              "    <tr>\n",
              "      <th>LIBRA</th>\n",
              "      <td>1579102.54</td>\n",
              "    </tr>\n",
              "    <tr>\n",
              "      <th>AGRNCE</th>\n",
              "      <td>1310588.91</td>\n",
              "    </tr>\n",
              "    <tr>\n",
              "      <th>AGSEAL</th>\n",
              "      <td>1284829.91</td>\n",
              "    </tr>\n",
              "    <tr>\n",
              "      <th>Área Remota</th>\n",
              "      <td>1265011.68</td>\n",
              "    </tr>\n",
              "    <tr>\n",
              "      <th>UN-RNCE</th>\n",
              "      <td>1134482.73</td>\n",
              "    </tr>\n",
              "    <tr>\n",
              "      <th>UN-SEAL</th>\n",
              "      <td>1095314.60</td>\n",
              "    </tr>\n",
              "    <tr>\n",
              "      <th>LH</th>\n",
              "      <td>962264.58</td>\n",
              "    </tr>\n",
              "    <tr>\n",
              "      <th>AGBS (exclusiva)</th>\n",
              "      <td>820844.63</td>\n",
              "    </tr>\n",
              "    <tr>\n",
              "      <th>UN-BA</th>\n",
              "      <td>147337.40</td>\n",
              "    </tr>\n",
              "  </tbody>\n",
              "</table>\n",
              "</div>"
            ],
            "text/plain": [
              "                      Total $\n",
              "Regional CMAR                \n",
              "B. Campos ES      22201585.22\n",
              "B. Santos         15743323.67\n",
              "P. Búzios          8574945.76\n",
              "AGBS               5645080.42\n",
              "AGBC               4645691.00\n",
              "TO                 3283978.54\n",
              "TS                 3158729.45\n",
              "AGES               2731115.70\n",
              "LIBRA              1579102.54\n",
              "AGRNCE             1310588.91\n",
              "AGSEAL             1284829.91\n",
              "Área Remota        1265011.68\n",
              "UN-RNCE            1134482.73\n",
              "UN-SEAL            1095314.60\n",
              "LH                  962264.58\n",
              "AGBS (exclusiva)    820844.63\n",
              "UN-BA               147337.40"
            ]
          },
          "metadata": {
            "tags": []
          },
          "execution_count": 41
        }
      ]
    },
    {
      "cell_type": "code",
      "metadata": {
        "id": "yb8tLCtzccyG"
      },
      "source": [
        "psv3 = ['PSV 3000 GR', 'PSV 3000 HB', 'PSV 3000 OL']\n",
        "for psv in psv3:\n",
        "  df.loc[df.Classe == psv, 'Classe'] = 'PSV 3000'"
      ],
      "execution_count": 15,
      "outputs": []
    },
    {
      "cell_type": "code",
      "metadata": {
        "id": "-wy4xzQecc06"
      },
      "source": [
        "psv4 = ['PSV 4500 FLU', 'PSV 4500 HB', 'PSV 4500 MUF', 'PSV 4500 OL']\n",
        "for psv in psv4:\n",
        "  df.loc[df.Classe == psv, 'Classe'] = 'PSV 4500'"
      ],
      "execution_count": 16,
      "outputs": []
    },
    {
      "cell_type": "code",
      "metadata": {
        "id": "FOSLECTEh9Xl"
      },
      "source": [
        "df.loc[df.Classe == 'PSV OSRV 750', 'Classe'] = 'PSV 750'"
      ],
      "execution_count": 17,
      "outputs": []
    },
    {
      "cell_type": "markdown",
      "metadata": {
        "id": "xhligHq_AnRV"
      },
      "source": [
        "# **Bruno os dados abaixo você consegue obter as informações de custo por classe para que seja montada aquele gráfico de custo por cada mês.**"
      ]
    },
    {
      "cell_type": "code",
      "metadata": {
        "colab": {
          "base_uri": "https://localhost:8080/",
          "height": 557
        },
        "id": "oVvAbu4uD41M",
        "outputId": "c3c9b31f-5123-4593-b6a5-94469871e35b"
      },
      "source": [
        "df_classe= df[['Classe', 'Equipamento', 'Dias Medir', 'Indisp', 'Medir', 'Valor Petrobras $', 'Valor PBLOG $', 'Total $']]\n",
        "print(df_classe[['Total $']].sum())\n",
        "df_classe[['Classe', 'Total $']].groupby('Classe').sum().sort_values('Total $', ascending=False)"
      ],
      "execution_count": 24,
      "outputs": [
        {
          "output_type": "stream",
          "text": [
            "Total $    75584226.74\n",
            "dtype: float64\n"
          ],
          "name": "stdout"
        },
        {
          "output_type": "execute_result",
          "data": {
            "text/html": [
              "<div>\n",
              "<style scoped>\n",
              "    .dataframe tbody tr th:only-of-type {\n",
              "        vertical-align: middle;\n",
              "    }\n",
              "\n",
              "    .dataframe tbody tr th {\n",
              "        vertical-align: top;\n",
              "    }\n",
              "\n",
              "    .dataframe thead th {\n",
              "        text-align: right;\n",
              "    }\n",
              "</style>\n",
              "<table border=\"1\" class=\"dataframe\">\n",
              "  <thead>\n",
              "    <tr style=\"text-align: right;\">\n",
              "      <th></th>\n",
              "      <th>Total $</th>\n",
              "    </tr>\n",
              "    <tr>\n",
              "      <th>Classe</th>\n",
              "      <th></th>\n",
              "    </tr>\n",
              "  </thead>\n",
              "  <tbody>\n",
              "    <tr>\n",
              "      <th>PSV 4500</th>\n",
              "      <td>40013458.34</td>\n",
              "    </tr>\n",
              "    <tr>\n",
              "      <th>PSV 750</th>\n",
              "      <td>13836663.30</td>\n",
              "    </tr>\n",
              "    <tr>\n",
              "      <th>PSV 3000</th>\n",
              "      <td>5872913.62</td>\n",
              "    </tr>\n",
              "    <tr>\n",
              "      <th>AHTS 12000</th>\n",
              "      <td>5005556.74</td>\n",
              "    </tr>\n",
              "    <tr>\n",
              "      <th>UT 4000</th>\n",
              "      <td>2936476.81</td>\n",
              "    </tr>\n",
              "    <tr>\n",
              "      <th>OSRV 66</th>\n",
              "      <td>2308343.48</td>\n",
              "    </tr>\n",
              "    <tr>\n",
              "      <th>LH 2500</th>\n",
              "      <td>2183990.30</td>\n",
              "    </tr>\n",
              "    <tr>\n",
              "      <th>PSV 1500</th>\n",
              "      <td>1812774.21</td>\n",
              "    </tr>\n",
              "    <tr>\n",
              "      <th>P5</th>\n",
              "      <td>1038173.33</td>\n",
              "    </tr>\n",
              "    <tr>\n",
              "      <th>UT 2500</th>\n",
              "      <td>376872.29</td>\n",
              "    </tr>\n",
              "    <tr>\n",
              "      <th>UT 750</th>\n",
              "      <td>135122.07</td>\n",
              "    </tr>\n",
              "    <tr>\n",
              "      <th>Lagosteira</th>\n",
              "      <td>45587.86</td>\n",
              "    </tr>\n",
              "    <tr>\n",
              "      <th>Lancha</th>\n",
              "      <td>12215.33</td>\n",
              "    </tr>\n",
              "    <tr>\n",
              "      <th>Utilitário</th>\n",
              "      <td>6079.06</td>\n",
              "    </tr>\n",
              "  </tbody>\n",
              "</table>\n",
              "</div>"
            ],
            "text/plain": [
              "                Total $\n",
              "Classe                 \n",
              "PSV 4500    40013458.34\n",
              "PSV 750     13836663.30\n",
              "PSV 3000     5872913.62\n",
              "AHTS 12000   5005556.74\n",
              "UT 4000      2936476.81\n",
              "OSRV 66      2308343.48\n",
              "LH 2500      2183990.30\n",
              "PSV 1500     1812774.21\n",
              "P5           1038173.33\n",
              "UT 2500       376872.29\n",
              "UT 750        135122.07\n",
              "Lagosteira     45587.86\n",
              "Lancha         12215.33\n",
              "Utilitário      6079.06"
            ]
          },
          "metadata": {
            "tags": []
          },
          "execution_count": 24
        }
      ]
    },
    {
      "cell_type": "code",
      "metadata": {
        "colab": {
          "base_uri": "https://localhost:8080/",
          "height": 424
        },
        "id": "s1TD5yj4h9id",
        "outputId": "96d1baf1-df62-44a8-8f11-b66789903815"
      },
      "source": [
        "df.sort_values('Indisp', ascending=False)"
      ],
      "execution_count": null,
      "outputs": [
        {
          "output_type": "execute_result",
          "data": {
            "text/html": [
              "<div>\n",
              "<style scoped>\n",
              "    .dataframe tbody tr th:only-of-type {\n",
              "        vertical-align: middle;\n",
              "    }\n",
              "\n",
              "    .dataframe tbody tr th {\n",
              "        vertical-align: top;\n",
              "    }\n",
              "\n",
              "    .dataframe thead th {\n",
              "        text-align: right;\n",
              "    }\n",
              "</style>\n",
              "<table border=\"1\" class=\"dataframe\">\n",
              "  <thead>\n",
              "    <tr style=\"text-align: right;\">\n",
              "      <th></th>\n",
              "      <th>Equipamento</th>\n",
              "      <th>Embarcação</th>\n",
              "      <th>Classe</th>\n",
              "      <th>Porte</th>\n",
              "      <th>Regional</th>\n",
              "      <th>Regional CMAR</th>\n",
              "      <th>Dias Medir</th>\n",
              "      <th>Indisp</th>\n",
              "      <th>Medir</th>\n",
              "      <th>Centro de Custo</th>\n",
              "      <th>Valor Petrobras $</th>\n",
              "      <th>Valor PBLOG $</th>\n",
              "      <th>Total $</th>\n",
              "    </tr>\n",
              "  </thead>\n",
              "  <tbody>\n",
              "    <tr>\n",
              "      <th>40</th>\n",
              "      <td>30108949</td>\n",
              "      <td>CAMPOS CARRIER</td>\n",
              "      <td>PSV 4500</td>\n",
              "      <td>EGP</td>\n",
              "      <td>TMC</td>\n",
              "      <td>B. Santos</td>\n",
              "      <td>27.562</td>\n",
              "      <td>20.908</td>\n",
              "      <td>6.654</td>\n",
              "      <td>E890TM1Y83</td>\n",
              "      <td>78384.89</td>\n",
              "      <td>0.00</td>\n",
              "      <td>78384.89</td>\n",
              "    </tr>\n",
              "    <tr>\n",
              "      <th>27</th>\n",
              "      <td>30056368</td>\n",
              "      <td>BRAM BUCCANEER</td>\n",
              "      <td>PSV 3000</td>\n",
              "      <td>EGP</td>\n",
              "      <td>TMC</td>\n",
              "      <td>B. Santos</td>\n",
              "      <td>31.000</td>\n",
              "      <td>16.953</td>\n",
              "      <td>14.047</td>\n",
              "      <td>E890TM1Y83</td>\n",
              "      <td>187739.41</td>\n",
              "      <td>187125.62</td>\n",
              "      <td>374865.03</td>\n",
              "    </tr>\n",
              "    <tr>\n",
              "      <th>119</th>\n",
              "      <td>30082334</td>\n",
              "      <td>STARNAV VOLANS</td>\n",
              "      <td>PSV 4500</td>\n",
              "      <td>EGP</td>\n",
              "      <td>TMC</td>\n",
              "      <td>B. Campos ES</td>\n",
              "      <td>31.000</td>\n",
              "      <td>14.028</td>\n",
              "      <td>16.972</td>\n",
              "      <td>E890TM1Y83</td>\n",
              "      <td>441179.63</td>\n",
              "      <td>127535.28</td>\n",
              "      <td>568714.91</td>\n",
              "    </tr>\n",
              "    <tr>\n",
              "      <th>60</th>\n",
              "      <td>30107674</td>\n",
              "      <td>COXON TIDE</td>\n",
              "      <td>AHTS 12000</td>\n",
              "      <td>EPP</td>\n",
              "      <td>OPTO</td>\n",
              "      <td>TS</td>\n",
              "      <td>31.000</td>\n",
              "      <td>13.007</td>\n",
              "      <td>17.993</td>\n",
              "      <td>E980TM1Y85</td>\n",
              "      <td>367051.68</td>\n",
              "      <td>0.00</td>\n",
              "      <td>367051.68</td>\n",
              "    </tr>\n",
              "    <tr>\n",
              "      <th>28</th>\n",
              "      <td>30081782</td>\n",
              "      <td>BRAM BUCK</td>\n",
              "      <td>PSV 4500</td>\n",
              "      <td>EGP</td>\n",
              "      <td>TMC</td>\n",
              "      <td>B. Santos</td>\n",
              "      <td>24.104</td>\n",
              "      <td>11.548</td>\n",
              "      <td>12.556</td>\n",
              "      <td>E890TM1Y83</td>\n",
              "      <td>184437.12</td>\n",
              "      <td>183850.49</td>\n",
              "      <td>368287.61</td>\n",
              "    </tr>\n",
              "    <tr>\n",
              "      <th>...</th>\n",
              "      <td>...</td>\n",
              "      <td>...</td>\n",
              "      <td>...</td>\n",
              "      <td>...</td>\n",
              "      <td>...</td>\n",
              "      <td>...</td>\n",
              "      <td>...</td>\n",
              "      <td>...</td>\n",
              "      <td>...</td>\n",
              "      <td>...</td>\n",
              "      <td>...</td>\n",
              "      <td>...</td>\n",
              "      <td>...</td>\n",
              "    </tr>\n",
              "    <tr>\n",
              "      <th>56</th>\n",
              "      <td>30079954</td>\n",
              "      <td>CMM CONTINUITY</td>\n",
              "      <td>OSRV 66</td>\n",
              "      <td>EPP</td>\n",
              "      <td>OCE</td>\n",
              "      <td>AGRNCE</td>\n",
              "      <td>31.000</td>\n",
              "      <td>0.000</td>\n",
              "      <td>31.000</td>\n",
              "      <td>E940SCCE2E</td>\n",
              "      <td>493692.20</td>\n",
              "      <td>0.00</td>\n",
              "      <td>493692.20</td>\n",
              "    </tr>\n",
              "    <tr>\n",
              "      <th>53</th>\n",
              "      <td>30099177</td>\n",
              "      <td>CBO VITÓRIA</td>\n",
              "      <td>PSV 750</td>\n",
              "      <td>EPP</td>\n",
              "      <td>OCE</td>\n",
              "      <td>AGSEAL</td>\n",
              "      <td>31.000</td>\n",
              "      <td>0.000</td>\n",
              "      <td>31.000</td>\n",
              "      <td>E940SCCE2D</td>\n",
              "      <td>476633.65</td>\n",
              "      <td>0.00</td>\n",
              "      <td>476633.65</td>\n",
              "    </tr>\n",
              "    <tr>\n",
              "      <th>52</th>\n",
              "      <td>30041145</td>\n",
              "      <td>CBO PACIFICO</td>\n",
              "      <td>PSV 3000</td>\n",
              "      <td>EGP</td>\n",
              "      <td>TMC</td>\n",
              "      <td>B. Santos</td>\n",
              "      <td>31.000</td>\n",
              "      <td>0.000</td>\n",
              "      <td>31.000</td>\n",
              "      <td>E890TM1Y83</td>\n",
              "      <td>595607.79</td>\n",
              "      <td>0.00</td>\n",
              "      <td>595607.79</td>\n",
              "    </tr>\n",
              "    <tr>\n",
              "      <th>50</th>\n",
              "      <td>30096853</td>\n",
              "      <td>CBO NITERÓI</td>\n",
              "      <td>PSV 750</td>\n",
              "      <td>EPP</td>\n",
              "      <td>OCE</td>\n",
              "      <td>AGRNCE</td>\n",
              "      <td>20.370</td>\n",
              "      <td>0.000</td>\n",
              "      <td>20.370</td>\n",
              "      <td>E940SCCE2E</td>\n",
              "      <td>353686.02</td>\n",
              "      <td>0.00</td>\n",
              "      <td>353686.02</td>\n",
              "    </tr>\n",
              "    <tr>\n",
              "      <th>147</th>\n",
              "      <td>30096449</td>\n",
              "      <td>MARLIM STOLMAN</td>\n",
              "      <td>PSV 750</td>\n",
              "      <td>EPP</td>\n",
              "      <td>OCE</td>\n",
              "      <td>AGBS</td>\n",
              "      <td>1.128</td>\n",
              "      <td>0.000</td>\n",
              "      <td>1.128</td>\n",
              "      <td>E930SCCE2B</td>\n",
              "      <td>16180.50</td>\n",
              "      <td>0.00</td>\n",
              "      <td>16180.50</td>\n",
              "    </tr>\n",
              "  </tbody>\n",
              "</table>\n",
              "<p>148 rows × 13 columns</p>\n",
              "</div>"
            ],
            "text/plain": [
              "     Equipamento      Embarcação  ... Valor PBLOG $    Total $\n",
              "40      30108949  CAMPOS CARRIER  ...          0.00   78384.89\n",
              "27      30056368  BRAM BUCCANEER  ...     187125.62  374865.03\n",
              "119     30082334  STARNAV VOLANS  ...     127535.28  568714.91\n",
              "60      30107674      COXON TIDE  ...          0.00  367051.68\n",
              "28      30081782       BRAM BUCK  ...     183850.49  368287.61\n",
              "..           ...             ...  ...           ...        ...\n",
              "56      30079954  CMM CONTINUITY  ...          0.00  493692.20\n",
              "53      30099177     CBO VITÓRIA  ...          0.00  476633.65\n",
              "52      30041145    CBO PACIFICO  ...          0.00  595607.79\n",
              "50      30096853     CBO NITERÓI  ...          0.00  353686.02\n",
              "147     30096449  MARLIM STOLMAN  ...          0.00   16180.50\n",
              "\n",
              "[148 rows x 13 columns]"
            ]
          },
          "metadata": {
            "tags": []
          },
          "execution_count": 44
        }
      ]
    },
    {
      "cell_type": "markdown",
      "metadata": {
        "id": "oToMpKSiBlBM"
      },
      "source": [
        "**Bruno os dados abaixo você consegue saber quais foram as classes que tiveram mais indices de inoperância. (NOVO)**"
      ]
    },
    {
      "cell_type": "code",
      "metadata": {
        "colab": {
          "base_uri": "https://localhost:8080/",
          "height": 520
        },
        "id": "Ca6Tkfr1M1oh",
        "outputId": "98169872-c7bb-4e95-9726-f84f6dd860a1"
      },
      "source": [
        "df[['Classe', 'Indisp']].groupby('Classe').sum().sort_values('Indisp', ascending=False)"
      ],
      "execution_count": 27,
      "outputs": [
        {
          "output_type": "execute_result",
          "data": {
            "text/html": [
              "<div>\n",
              "<style scoped>\n",
              "    .dataframe tbody tr th:only-of-type {\n",
              "        vertical-align: middle;\n",
              "    }\n",
              "\n",
              "    .dataframe tbody tr th {\n",
              "        vertical-align: top;\n",
              "    }\n",
              "\n",
              "    .dataframe thead th {\n",
              "        text-align: right;\n",
              "    }\n",
              "</style>\n",
              "<table border=\"1\" class=\"dataframe\">\n",
              "  <thead>\n",
              "    <tr style=\"text-align: right;\">\n",
              "      <th></th>\n",
              "      <th>Indisp</th>\n",
              "    </tr>\n",
              "    <tr>\n",
              "      <th>Classe</th>\n",
              "      <th></th>\n",
              "    </tr>\n",
              "  </thead>\n",
              "  <tbody>\n",
              "    <tr>\n",
              "      <th>PSV 4500</th>\n",
              "      <td>96.672</td>\n",
              "    </tr>\n",
              "    <tr>\n",
              "      <th>AHTS 12000</th>\n",
              "      <td>21.646</td>\n",
              "    </tr>\n",
              "    <tr>\n",
              "      <th>PSV 3000</th>\n",
              "      <td>20.686</td>\n",
              "    </tr>\n",
              "    <tr>\n",
              "      <th>P5</th>\n",
              "      <td>13.969</td>\n",
              "    </tr>\n",
              "    <tr>\n",
              "      <th>OSRV 66</th>\n",
              "      <td>9.636</td>\n",
              "    </tr>\n",
              "    <tr>\n",
              "      <th>UT 2500</th>\n",
              "      <td>9.160</td>\n",
              "    </tr>\n",
              "    <tr>\n",
              "      <th>UT 4000</th>\n",
              "      <td>6.842</td>\n",
              "    </tr>\n",
              "    <tr>\n",
              "      <th>LH 2500</th>\n",
              "      <td>6.217</td>\n",
              "    </tr>\n",
              "    <tr>\n",
              "      <th>PSV 750</th>\n",
              "      <td>5.713</td>\n",
              "    </tr>\n",
              "    <tr>\n",
              "      <th>PSV 1500</th>\n",
              "      <td>2.236</td>\n",
              "    </tr>\n",
              "    <tr>\n",
              "      <th>Lagosteira</th>\n",
              "      <td>0.000</td>\n",
              "    </tr>\n",
              "    <tr>\n",
              "      <th>Lancha</th>\n",
              "      <td>0.000</td>\n",
              "    </tr>\n",
              "    <tr>\n",
              "      <th>UT 750</th>\n",
              "      <td>0.000</td>\n",
              "    </tr>\n",
              "    <tr>\n",
              "      <th>Utilitário</th>\n",
              "      <td>0.000</td>\n",
              "    </tr>\n",
              "  </tbody>\n",
              "</table>\n",
              "</div>"
            ],
            "text/plain": [
              "            Indisp\n",
              "Classe            \n",
              "PSV 4500    96.672\n",
              "AHTS 12000  21.646\n",
              "PSV 3000    20.686\n",
              "P5          13.969\n",
              "OSRV 66      9.636\n",
              "UT 2500      9.160\n",
              "UT 4000      6.842\n",
              "LH 2500      6.217\n",
              "PSV 750      5.713\n",
              "PSV 1500     2.236\n",
              "Lagosteira   0.000\n",
              "Lancha       0.000\n",
              "UT 750       0.000\n",
              "Utilitário   0.000"
            ]
          },
          "metadata": {
            "tags": []
          },
          "execution_count": 27
        }
      ]
    },
    {
      "cell_type": "markdown",
      "metadata": {
        "id": "iZnVZHffCSGd"
      },
      "source": [
        "**Bruno os dados abaixo você consegue saber quais foram os portes por embarcação que tiveram mais indices de inoperância. (NOVO)**"
      ]
    },
    {
      "cell_type": "code",
      "metadata": {
        "colab": {
          "base_uri": "https://localhost:8080/",
          "height": 175
        },
        "id": "qFLnVuT6Nbfv",
        "outputId": "1c767fe7-78e3-47bb-a09f-4f374b6f7d0d"
      },
      "source": [
        "df[['Porte', 'Indisp']].groupby('Porte').sum().sort_values('Indisp', ascending=False)"
      ],
      "execution_count": 28,
      "outputs": [
        {
          "output_type": "execute_result",
          "data": {
            "text/html": [
              "<div>\n",
              "<style scoped>\n",
              "    .dataframe tbody tr th:only-of-type {\n",
              "        vertical-align: middle;\n",
              "    }\n",
              "\n",
              "    .dataframe tbody tr th {\n",
              "        vertical-align: top;\n",
              "    }\n",
              "\n",
              "    .dataframe thead th {\n",
              "        text-align: right;\n",
              "    }\n",
              "</style>\n",
              "<table border=\"1\" class=\"dataframe\">\n",
              "  <thead>\n",
              "    <tr style=\"text-align: right;\">\n",
              "      <th></th>\n",
              "      <th>Indisp</th>\n",
              "    </tr>\n",
              "    <tr>\n",
              "      <th>Porte</th>\n",
              "      <th></th>\n",
              "    </tr>\n",
              "  </thead>\n",
              "  <tbody>\n",
              "    <tr>\n",
              "      <th>EGP</th>\n",
              "      <td>117.358</td>\n",
              "    </tr>\n",
              "    <tr>\n",
              "      <th>EPP</th>\n",
              "      <td>57.181</td>\n",
              "    </tr>\n",
              "    <tr>\n",
              "      <th>EMP</th>\n",
              "      <td>18.238</td>\n",
              "    </tr>\n",
              "  </tbody>\n",
              "</table>\n",
              "</div>"
            ],
            "text/plain": [
              "        Indisp\n",
              "Porte         \n",
              "EGP    117.358\n",
              "EPP     57.181\n",
              "EMP     18.238"
            ]
          },
          "metadata": {
            "tags": []
          },
          "execution_count": 28
        }
      ]
    },
    {
      "cell_type": "markdown",
      "metadata": {
        "id": "WLJoJfKgC1Lf"
      },
      "source": [
        "**Bruno os dados abaixo você consegue saber quais foram as regionais que acumularam os maiores indices de inoperância. (NOVO)**"
      ]
    },
    {
      "cell_type": "code",
      "metadata": {
        "colab": {
          "base_uri": "https://localhost:8080/",
          "height": 238
        },
        "id": "lf3q1uGtM1yt",
        "outputId": "6ca1dd3b-de48-4228-aaff-8850e30b8d1e"
      },
      "source": [
        "df[['Regional', 'Indisp']].groupby('Regional').sum().sort_values('Indisp', ascending=False)"
      ],
      "execution_count": 29,
      "outputs": [
        {
          "output_type": "execute_result",
          "data": {
            "text/html": [
              "<div>\n",
              "<style scoped>\n",
              "    .dataframe tbody tr th:only-of-type {\n",
              "        vertical-align: middle;\n",
              "    }\n",
              "\n",
              "    .dataframe tbody tr th {\n",
              "        vertical-align: top;\n",
              "    }\n",
              "\n",
              "    .dataframe thead th {\n",
              "        text-align: right;\n",
              "    }\n",
              "</style>\n",
              "<table border=\"1\" class=\"dataframe\">\n",
              "  <thead>\n",
              "    <tr style=\"text-align: right;\">\n",
              "      <th></th>\n",
              "      <th>Indisp</th>\n",
              "    </tr>\n",
              "    <tr>\n",
              "      <th>Regional</th>\n",
              "      <th></th>\n",
              "    </tr>\n",
              "  </thead>\n",
              "  <tbody>\n",
              "    <tr>\n",
              "      <th>TMC</th>\n",
              "      <td>125.448</td>\n",
              "    </tr>\n",
              "    <tr>\n",
              "      <th>OPTO</th>\n",
              "      <td>26.455</td>\n",
              "    </tr>\n",
              "    <tr>\n",
              "      <th>OLNNE</th>\n",
              "      <td>25.525</td>\n",
              "    </tr>\n",
              "    <tr>\n",
              "      <th>OCE</th>\n",
              "      <td>15.349</td>\n",
              "    </tr>\n",
              "    <tr>\n",
              "      <th>TMC-BC</th>\n",
              "      <td>0.000</td>\n",
              "    </tr>\n",
              "  </tbody>\n",
              "</table>\n",
              "</div>"
            ],
            "text/plain": [
              "           Indisp\n",
              "Regional         \n",
              "TMC       125.448\n",
              "OPTO       26.455\n",
              "OLNNE      25.525\n",
              "OCE        15.349\n",
              "TMC-BC      0.000"
            ]
          },
          "metadata": {
            "tags": []
          },
          "execution_count": 29
        }
      ]
    },
    {
      "cell_type": "markdown",
      "metadata": {
        "id": "9m7G_FEEDDso"
      },
      "source": [
        "**Bruno os dados abaixo você consegue saber quais foram as areas geográficas que acumularam os maiores indices de inoperância. (NOVO)**"
      ]
    },
    {
      "cell_type": "code",
      "metadata": {
        "id": "h_aG_jMWM14x"
      },
      "source": [
        "df_indisp = df.groupby('Regional CMAR').sum()"
      ],
      "execution_count": null,
      "outputs": []
    },
    {
      "cell_type": "code",
      "metadata": {
        "colab": {
          "base_uri": "https://localhost:8080/",
          "height": 614
        },
        "id": "QKpwHW_SM18c",
        "outputId": "06a9260f-4ea1-46d7-a598-65181edf76fd"
      },
      "source": [
        "df_indisp[['Indisp']].sort_values('Indisp', ascending=False)"
      ],
      "execution_count": null,
      "outputs": [
        {
          "output_type": "execute_result",
          "data": {
            "text/html": [
              "<div>\n",
              "<style scoped>\n",
              "    .dataframe tbody tr th:only-of-type {\n",
              "        vertical-align: middle;\n",
              "    }\n",
              "\n",
              "    .dataframe tbody tr th {\n",
              "        vertical-align: top;\n",
              "    }\n",
              "\n",
              "    .dataframe thead th {\n",
              "        text-align: right;\n",
              "    }\n",
              "</style>\n",
              "<table border=\"1\" class=\"dataframe\">\n",
              "  <thead>\n",
              "    <tr style=\"text-align: right;\">\n",
              "      <th></th>\n",
              "      <th>Indisp</th>\n",
              "    </tr>\n",
              "    <tr>\n",
              "      <th>Regional CMAR</th>\n",
              "      <th></th>\n",
              "    </tr>\n",
              "  </thead>\n",
              "  <tbody>\n",
              "    <tr>\n",
              "      <th>B. Santos</th>\n",
              "      <td>65.541</td>\n",
              "    </tr>\n",
              "    <tr>\n",
              "      <th>B. Campos ES</th>\n",
              "      <td>34.363</td>\n",
              "    </tr>\n",
              "    <tr>\n",
              "      <th>TS</th>\n",
              "      <td>20.386</td>\n",
              "    </tr>\n",
              "    <tr>\n",
              "      <th>P. Búzios</th>\n",
              "      <td>17.168</td>\n",
              "    </tr>\n",
              "    <tr>\n",
              "      <th>UN-RNCE</th>\n",
              "      <td>13.862</td>\n",
              "    </tr>\n",
              "    <tr>\n",
              "      <th>UN-SEAL</th>\n",
              "      <td>11.184</td>\n",
              "    </tr>\n",
              "    <tr>\n",
              "      <th>AGBS</th>\n",
              "      <td>11.019</td>\n",
              "    </tr>\n",
              "    <tr>\n",
              "      <th>LIBRA</th>\n",
              "      <td>8.376</td>\n",
              "    </tr>\n",
              "    <tr>\n",
              "      <th>LH</th>\n",
              "      <td>3.052</td>\n",
              "    </tr>\n",
              "    <tr>\n",
              "      <th>TO</th>\n",
              "      <td>3.017</td>\n",
              "    </tr>\n",
              "    <tr>\n",
              "      <th>AGRNCE</th>\n",
              "      <td>1.914</td>\n",
              "    </tr>\n",
              "    <tr>\n",
              "      <th>AGSEAL</th>\n",
              "      <td>1.681</td>\n",
              "    </tr>\n",
              "    <tr>\n",
              "      <th>AGBC</th>\n",
              "      <td>0.735</td>\n",
              "    </tr>\n",
              "    <tr>\n",
              "      <th>Área Remota</th>\n",
              "      <td>0.479</td>\n",
              "    </tr>\n",
              "    <tr>\n",
              "      <th>UN-BA</th>\n",
              "      <td>0.000</td>\n",
              "    </tr>\n",
              "    <tr>\n",
              "      <th>AGES</th>\n",
              "      <td>0.000</td>\n",
              "    </tr>\n",
              "    <tr>\n",
              "      <th>AGBS (exclusiva)</th>\n",
              "      <td>0.000</td>\n",
              "    </tr>\n",
              "  </tbody>\n",
              "</table>\n",
              "</div>"
            ],
            "text/plain": [
              "                  Indisp\n",
              "Regional CMAR           \n",
              "B. Santos         65.541\n",
              "B. Campos ES      34.363\n",
              "TS                20.386\n",
              "P. Búzios         17.168\n",
              "UN-RNCE           13.862\n",
              "UN-SEAL           11.184\n",
              "AGBS              11.019\n",
              "LIBRA              8.376\n",
              "LH                 3.052\n",
              "TO                 3.017\n",
              "AGRNCE             1.914\n",
              "AGSEAL             1.681\n",
              "AGBC               0.735\n",
              "Área Remota        0.479\n",
              "UN-BA              0.000\n",
              "AGES               0.000\n",
              "AGBS (exclusiva)   0.000"
            ]
          },
          "metadata": {
            "tags": []
          },
          "execution_count": 54
        }
      ]
    },
    {
      "cell_type": "markdown",
      "metadata": {
        "id": "8-g8sf4rDQ_q"
      },
      "source": [
        "# **Bruno, aqui você terá o quantitativo de embarcações de acordo com os demais critérios.**"
      ]
    },
    {
      "cell_type": "code",
      "metadata": {
        "colab": {
          "base_uri": "https://localhost:8080/"
        },
        "id": "0QYNPTMZiJ66",
        "outputId": "d1a3a233-5078-4058-c3ae-0b053bcf9b90"
      },
      "source": [
        "df.groupby('Regional').size()"
      ],
      "execution_count": 30,
      "outputs": [
        {
          "output_type": "execute_result",
          "data": {
            "text/plain": [
              "Regional\n",
              "OCE       33\n",
              "OLNNE     19\n",
              "OPTO      16\n",
              "TMC       77\n",
              "TMC-BC     3\n",
              "dtype: int64"
            ]
          },
          "metadata": {
            "tags": []
          },
          "execution_count": 30
        }
      ]
    },
    {
      "cell_type": "code",
      "metadata": {
        "colab": {
          "base_uri": "https://localhost:8080/"
        },
        "id": "02QO83qinbax",
        "outputId": "c80c231b-bffb-4c3d-aed4-6874228b09b4"
      },
      "source": [
        "df.groupby('Regional CMAR').size()"
      ],
      "execution_count": 31,
      "outputs": [
        {
          "output_type": "execute_result",
          "data": {
            "text/plain": [
              "Regional CMAR\n",
              "AGBC                 8\n",
              "AGBS                12\n",
              "AGBS (exclusiva)     2\n",
              "AGES                 5\n",
              "AGRNCE               3\n",
              "AGSEAL               3\n",
              "B. Campos ES        41\n",
              "B. Santos           26\n",
              "LH                   5\n",
              "LIBRA                3\n",
              "P. Búzios           10\n",
              "TO                   4\n",
              "TS                   7\n",
              "UN-BA                3\n",
              "UN-RNCE              8\n",
              "UN-SEAL              5\n",
              "Área Remota          3\n",
              "dtype: int64"
            ]
          },
          "metadata": {
            "tags": []
          },
          "execution_count": 31
        }
      ]
    },
    {
      "cell_type": "code",
      "metadata": {
        "colab": {
          "base_uri": "https://localhost:8080/"
        },
        "id": "Rwwamyj8nk24",
        "outputId": "218b3253-2645-4a1c-8003-f04cb9377427"
      },
      "source": [
        "df.groupby('Classe').size()"
      ],
      "execution_count": 32,
      "outputs": [
        {
          "output_type": "execute_result",
          "data": {
            "text/plain": [
              "Classe\n",
              "AHTS 12000     9\n",
              "LH 2500       13\n",
              "Lagosteira     2\n",
              "Lancha         1\n",
              "OSRV 66        5\n",
              "P5             6\n",
              "PSV 1500       3\n",
              "PSV 3000      12\n",
              "PSV 4500      53\n",
              "PSV 750       27\n",
              "UT 2500        2\n",
              "UT 4000       12\n",
              "UT 750         2\n",
              "Utilitário     1\n",
              "dtype: int64"
            ]
          },
          "metadata": {
            "tags": []
          },
          "execution_count": 32
        }
      ]
    },
    {
      "cell_type": "code",
      "metadata": {
        "id": "W99ilLKciNHY"
      },
      "source": [
        "df.groupby(['Regional', 'Indisp']).size()"
      ],
      "execution_count": null,
      "outputs": []
    },
    {
      "cell_type": "markdown",
      "metadata": {
        "id": "ForI8VnPDnBE"
      },
      "source": [
        "# **Bruno, aqui você terá a quais as embarcações que tiveram os maiores indices de inoperância de acordo com o porte. Nesse caso \"EGP\".**"
      ]
    },
    {
      "cell_type": "code",
      "metadata": {
        "colab": {
          "base_uri": "https://localhost:8080/",
          "height": 206
        },
        "id": "tWw0usrriNK8",
        "outputId": "e6873ea5-8b1d-47c3-ec7f-01d72befa0f8"
      },
      "source": [
        "df[(df['Indisp']!=0) & (df['Porte'] == 'EGP')].sort_values('Indisp', ascending=False).head()"
      ],
      "execution_count": 37,
      "outputs": [
        {
          "output_type": "execute_result",
          "data": {
            "text/html": [
              "<div>\n",
              "<style scoped>\n",
              "    .dataframe tbody tr th:only-of-type {\n",
              "        vertical-align: middle;\n",
              "    }\n",
              "\n",
              "    .dataframe tbody tr th {\n",
              "        vertical-align: top;\n",
              "    }\n",
              "\n",
              "    .dataframe thead th {\n",
              "        text-align: right;\n",
              "    }\n",
              "</style>\n",
              "<table border=\"1\" class=\"dataframe\">\n",
              "  <thead>\n",
              "    <tr style=\"text-align: right;\">\n",
              "      <th></th>\n",
              "      <th>Equipamento</th>\n",
              "      <th>Embarcação</th>\n",
              "      <th>Classe</th>\n",
              "      <th>Porte</th>\n",
              "      <th>Regional</th>\n",
              "      <th>Regional CMAR</th>\n",
              "      <th>Dias Medir</th>\n",
              "      <th>Indisp</th>\n",
              "      <th>Medir</th>\n",
              "      <th>Centro de Custo</th>\n",
              "      <th>Valor Petrobras $</th>\n",
              "      <th>Valor PBLOG $</th>\n",
              "      <th>Total $</th>\n",
              "    </tr>\n",
              "  </thead>\n",
              "  <tbody>\n",
              "    <tr>\n",
              "      <th>40</th>\n",
              "      <td>30108949</td>\n",
              "      <td>CAMPOS CARRIER</td>\n",
              "      <td>PSV 4500</td>\n",
              "      <td>EGP</td>\n",
              "      <td>TMC</td>\n",
              "      <td>B. Santos</td>\n",
              "      <td>27.562</td>\n",
              "      <td>20.908</td>\n",
              "      <td>6.654</td>\n",
              "      <td>E890TM1Y83</td>\n",
              "      <td>78384.89</td>\n",
              "      <td>0.00</td>\n",
              "      <td>78384.89</td>\n",
              "    </tr>\n",
              "    <tr>\n",
              "      <th>27</th>\n",
              "      <td>30056368</td>\n",
              "      <td>BRAM BUCCANEER</td>\n",
              "      <td>PSV 3000</td>\n",
              "      <td>EGP</td>\n",
              "      <td>TMC</td>\n",
              "      <td>B. Santos</td>\n",
              "      <td>31.000</td>\n",
              "      <td>16.953</td>\n",
              "      <td>14.047</td>\n",
              "      <td>E890TM1Y83</td>\n",
              "      <td>187739.41</td>\n",
              "      <td>187125.62</td>\n",
              "      <td>374865.03</td>\n",
              "    </tr>\n",
              "    <tr>\n",
              "      <th>119</th>\n",
              "      <td>30082334</td>\n",
              "      <td>STARNAV VOLANS</td>\n",
              "      <td>PSV 4500</td>\n",
              "      <td>EGP</td>\n",
              "      <td>TMC</td>\n",
              "      <td>B. Campos ES</td>\n",
              "      <td>31.000</td>\n",
              "      <td>14.028</td>\n",
              "      <td>16.972</td>\n",
              "      <td>E890TM1Y83</td>\n",
              "      <td>441179.63</td>\n",
              "      <td>127535.28</td>\n",
              "      <td>568714.91</td>\n",
              "    </tr>\n",
              "    <tr>\n",
              "      <th>28</th>\n",
              "      <td>30081782</td>\n",
              "      <td>BRAM BUCK</td>\n",
              "      <td>PSV 4500</td>\n",
              "      <td>EGP</td>\n",
              "      <td>TMC</td>\n",
              "      <td>B. Santos</td>\n",
              "      <td>24.104</td>\n",
              "      <td>11.548</td>\n",
              "      <td>12.556</td>\n",
              "      <td>E890TM1Y83</td>\n",
              "      <td>184437.12</td>\n",
              "      <td>183850.49</td>\n",
              "      <td>368287.61</td>\n",
              "    </tr>\n",
              "    <tr>\n",
              "      <th>125</th>\n",
              "      <td>30123564</td>\n",
              "      <td>TALHA MAR</td>\n",
              "      <td>PSV 4500</td>\n",
              "      <td>EGP</td>\n",
              "      <td>TMC</td>\n",
              "      <td>B. Santos</td>\n",
              "      <td>31.000</td>\n",
              "      <td>8.680</td>\n",
              "      <td>22.320</td>\n",
              "      <td>E890TM1Y83</td>\n",
              "      <td>440612.54</td>\n",
              "      <td>0.00</td>\n",
              "      <td>440612.54</td>\n",
              "    </tr>\n",
              "  </tbody>\n",
              "</table>\n",
              "</div>"
            ],
            "text/plain": [
              "     Equipamento      Embarcação  ... Valor PBLOG $    Total $\n",
              "40      30108949  CAMPOS CARRIER  ...          0.00   78384.89\n",
              "27      30056368  BRAM BUCCANEER  ...     187125.62  374865.03\n",
              "119     30082334  STARNAV VOLANS  ...     127535.28  568714.91\n",
              "28      30081782       BRAM BUCK  ...     183850.49  368287.61\n",
              "125     30123564       TALHA MAR  ...          0.00  440612.54\n",
              "\n",
              "[5 rows x 13 columns]"
            ]
          },
          "metadata": {
            "tags": []
          },
          "execution_count": 37
        }
      ]
    },
    {
      "cell_type": "markdown",
      "metadata": {
        "id": "2B7KcAdAD758"
      },
      "source": [
        "# **Bruno, aqui você terá a quais as embarcações que tiveram os maiores indices de inoperância de acordo com o porte. Nesse caso \"EMP\".**"
      ]
    },
    {
      "cell_type": "code",
      "metadata": {
        "colab": {
          "base_uri": "https://localhost:8080/",
          "height": 206
        },
        "id": "tXldaN7ilZzN",
        "outputId": "b7818351-acf5-4132-fcec-5e47b8cc888d"
      },
      "source": [
        "df[(df['Indisp']!=0) & (df['Porte'] == 'EMP')].sort_values('Indisp', ascending=False).head()"
      ],
      "execution_count": 38,
      "outputs": [
        {
          "output_type": "execute_result",
          "data": {
            "text/html": [
              "<div>\n",
              "<style scoped>\n",
              "    .dataframe tbody tr th:only-of-type {\n",
              "        vertical-align: middle;\n",
              "    }\n",
              "\n",
              "    .dataframe tbody tr th {\n",
              "        vertical-align: top;\n",
              "    }\n",
              "\n",
              "    .dataframe thead th {\n",
              "        text-align: right;\n",
              "    }\n",
              "</style>\n",
              "<table border=\"1\" class=\"dataframe\">\n",
              "  <thead>\n",
              "    <tr style=\"text-align: right;\">\n",
              "      <th></th>\n",
              "      <th>Equipamento</th>\n",
              "      <th>Embarcação</th>\n",
              "      <th>Classe</th>\n",
              "      <th>Porte</th>\n",
              "      <th>Regional</th>\n",
              "      <th>Regional CMAR</th>\n",
              "      <th>Dias Medir</th>\n",
              "      <th>Indisp</th>\n",
              "      <th>Medir</th>\n",
              "      <th>Centro de Custo</th>\n",
              "      <th>Valor Petrobras $</th>\n",
              "      <th>Valor PBLOG $</th>\n",
              "      <th>Total $</th>\n",
              "    </tr>\n",
              "  </thead>\n",
              "  <tbody>\n",
              "    <tr>\n",
              "      <th>137</th>\n",
              "      <td>30001699</td>\n",
              "      <td>PARNAÍBA</td>\n",
              "      <td>UT 2500</td>\n",
              "      <td>EMP</td>\n",
              "      <td>OLNNE</td>\n",
              "      <td>UN-RNCE</td>\n",
              "      <td>31.0</td>\n",
              "      <td>9.160</td>\n",
              "      <td>21.840</td>\n",
              "      <td>E8A3TM1EA4</td>\n",
              "      <td>121334.68</td>\n",
              "      <td>0.00</td>\n",
              "      <td>121334.68</td>\n",
              "    </tr>\n",
              "    <tr>\n",
              "      <th>11</th>\n",
              "      <td>30068928</td>\n",
              "      <td>BARU MUCURA</td>\n",
              "      <td>UT 4000</td>\n",
              "      <td>EMP</td>\n",
              "      <td>TMC</td>\n",
              "      <td>B. Santos</td>\n",
              "      <td>31.0</td>\n",
              "      <td>2.412</td>\n",
              "      <td>28.588</td>\n",
              "      <td>E890TM1Y82</td>\n",
              "      <td>63220.43</td>\n",
              "      <td>204693.26</td>\n",
              "      <td>267913.69</td>\n",
              "    </tr>\n",
              "    <tr>\n",
              "      <th>130</th>\n",
              "      <td>30110165</td>\n",
              "      <td>UP OPAL</td>\n",
              "      <td>PSV 1500</td>\n",
              "      <td>EMP</td>\n",
              "      <td>OPTO</td>\n",
              "      <td>TO</td>\n",
              "      <td>31.0</td>\n",
              "      <td>1.757</td>\n",
              "      <td>29.243</td>\n",
              "      <td>E980TM1Y86</td>\n",
              "      <td>876257.80</td>\n",
              "      <td>0.00</td>\n",
              "      <td>876257.80</td>\n",
              "    </tr>\n",
              "    <tr>\n",
              "      <th>19</th>\n",
              "      <td>30096529</td>\n",
              "      <td>BARU VEGA</td>\n",
              "      <td>UT 4000</td>\n",
              "      <td>EMP</td>\n",
              "      <td>OLNNE</td>\n",
              "      <td>UN-RNCE</td>\n",
              "      <td>31.0</td>\n",
              "      <td>1.514</td>\n",
              "      <td>29.486</td>\n",
              "      <td>E8A3TM1EA4</td>\n",
              "      <td>278827.01</td>\n",
              "      <td>0.00</td>\n",
              "      <td>278827.01</td>\n",
              "    </tr>\n",
              "    <tr>\n",
              "      <th>17</th>\n",
              "      <td>30094960</td>\n",
              "      <td>BARU TAURUS</td>\n",
              "      <td>UT 4000</td>\n",
              "      <td>EMP</td>\n",
              "      <td>TMC</td>\n",
              "      <td>B. Campos ES</td>\n",
              "      <td>31.0</td>\n",
              "      <td>1.268</td>\n",
              "      <td>29.732</td>\n",
              "      <td>E890TM1Y82</td>\n",
              "      <td>195876.79</td>\n",
              "      <td>85276.47</td>\n",
              "      <td>281153.26</td>\n",
              "    </tr>\n",
              "  </tbody>\n",
              "</table>\n",
              "</div>"
            ],
            "text/plain": [
              "     Equipamento   Embarcação  ... Valor PBLOG $    Total $\n",
              "137     30001699     PARNAÍBA  ...          0.00  121334.68\n",
              "11      30068928  BARU MUCURA  ...     204693.26  267913.69\n",
              "130     30110165      UP OPAL  ...          0.00  876257.80\n",
              "19      30096529    BARU VEGA  ...          0.00  278827.01\n",
              "17      30094960  BARU TAURUS  ...      85276.47  281153.26\n",
              "\n",
              "[5 rows x 13 columns]"
            ]
          },
          "metadata": {
            "tags": []
          },
          "execution_count": 38
        }
      ]
    },
    {
      "cell_type": "markdown",
      "metadata": {
        "id": "7lc7UuJKD_mA"
      },
      "source": [
        "# **Bruno, aqui você terá a quais as embarcações que tiveram os maiores indices de inoperância de acordo com o porte. Nesse caso \"EPP\".**"
      ]
    },
    {
      "cell_type": "code",
      "metadata": {
        "colab": {
          "base_uri": "https://localhost:8080/",
          "height": 206
        },
        "id": "z0z4D2jQlaB8",
        "outputId": "d65d3834-b7bc-493a-a5f3-a6db457018cd"
      },
      "source": [
        "df[(df['Indisp']!=0) & (df['Porte'] == 'EPP')].sort_values('Indisp', ascending=False).head()"
      ],
      "execution_count": 39,
      "outputs": [
        {
          "output_type": "execute_result",
          "data": {
            "text/html": [
              "<div>\n",
              "<style scoped>\n",
              "    .dataframe tbody tr th:only-of-type {\n",
              "        vertical-align: middle;\n",
              "    }\n",
              "\n",
              "    .dataframe tbody tr th {\n",
              "        vertical-align: top;\n",
              "    }\n",
              "\n",
              "    .dataframe thead th {\n",
              "        text-align: right;\n",
              "    }\n",
              "</style>\n",
              "<table border=\"1\" class=\"dataframe\">\n",
              "  <thead>\n",
              "    <tr style=\"text-align: right;\">\n",
              "      <th></th>\n",
              "      <th>Equipamento</th>\n",
              "      <th>Embarcação</th>\n",
              "      <th>Classe</th>\n",
              "      <th>Porte</th>\n",
              "      <th>Regional</th>\n",
              "      <th>Regional CMAR</th>\n",
              "      <th>Dias Medir</th>\n",
              "      <th>Indisp</th>\n",
              "      <th>Medir</th>\n",
              "      <th>Centro de Custo</th>\n",
              "      <th>Valor Petrobras $</th>\n",
              "      <th>Valor PBLOG $</th>\n",
              "      <th>Total $</th>\n",
              "    </tr>\n",
              "  </thead>\n",
              "  <tbody>\n",
              "    <tr>\n",
              "      <th>60</th>\n",
              "      <td>30107674</td>\n",
              "      <td>COXON TIDE</td>\n",
              "      <td>AHTS 12000</td>\n",
              "      <td>EPP</td>\n",
              "      <td>OPTO</td>\n",
              "      <td>TS</td>\n",
              "      <td>31.0</td>\n",
              "      <td>13.007</td>\n",
              "      <td>17.993</td>\n",
              "      <td>E980TM1Y85</td>\n",
              "      <td>367051.68</td>\n",
              "      <td>0.00</td>\n",
              "      <td>367051.68</td>\n",
              "    </tr>\n",
              "    <tr>\n",
              "      <th>55</th>\n",
              "      <td>30082373</td>\n",
              "      <td>CMM CELERITY</td>\n",
              "      <td>OSRV 66</td>\n",
              "      <td>EPP</td>\n",
              "      <td>OCE</td>\n",
              "      <td>AGBS</td>\n",
              "      <td>31.0</td>\n",
              "      <td>7.722</td>\n",
              "      <td>23.278</td>\n",
              "      <td>E930SCCE2B</td>\n",
              "      <td>368670.55</td>\n",
              "      <td>0.00</td>\n",
              "      <td>368670.55</td>\n",
              "    </tr>\n",
              "    <tr>\n",
              "      <th>66</th>\n",
              "      <td>30101995</td>\n",
              "      <td>GEONÍSIO BARROSO</td>\n",
              "      <td>AHTS 12000</td>\n",
              "      <td>EPP</td>\n",
              "      <td>OPTO</td>\n",
              "      <td>TS</td>\n",
              "      <td>31.0</td>\n",
              "      <td>5.785</td>\n",
              "      <td>25.215</td>\n",
              "      <td>E980TM1Y85</td>\n",
              "      <td>465583.39</td>\n",
              "      <td>0.00</td>\n",
              "      <td>465583.39</td>\n",
              "    </tr>\n",
              "    <tr>\n",
              "      <th>121</th>\n",
              "      <td>30017853</td>\n",
              "      <td>SURFER 1870</td>\n",
              "      <td>P5</td>\n",
              "      <td>EPP</td>\n",
              "      <td>OLNNE</td>\n",
              "      <td>UN-SEAL</td>\n",
              "      <td>31.0</td>\n",
              "      <td>5.569</td>\n",
              "      <td>25.431</td>\n",
              "      <td>E8A3TM1EA0</td>\n",
              "      <td>175285.20</td>\n",
              "      <td>0.00</td>\n",
              "      <td>175285.20</td>\n",
              "    </tr>\n",
              "    <tr>\n",
              "      <th>102</th>\n",
              "      <td>30079250</td>\n",
              "      <td>SIEM MARATAÍZES</td>\n",
              "      <td>PSV 750</td>\n",
              "      <td>EPP</td>\n",
              "      <td>OCE</td>\n",
              "      <td>AGBS</td>\n",
              "      <td>31.0</td>\n",
              "      <td>3.297</td>\n",
              "      <td>27.703</td>\n",
              "      <td>E930SCCE2B</td>\n",
              "      <td>241063.65</td>\n",
              "      <td>489191.82</td>\n",
              "      <td>730255.47</td>\n",
              "    </tr>\n",
              "  </tbody>\n",
              "</table>\n",
              "</div>"
            ],
            "text/plain": [
              "     Equipamento        Embarcação  ... Valor PBLOG $    Total $\n",
              "60      30107674        COXON TIDE  ...          0.00  367051.68\n",
              "55      30082373      CMM CELERITY  ...          0.00  368670.55\n",
              "66      30101995  GEONÍSIO BARROSO  ...          0.00  465583.39\n",
              "121     30017853       SURFER 1870  ...          0.00  175285.20\n",
              "102     30079250   SIEM MARATAÍZES  ...     489191.82  730255.47\n",
              "\n",
              "[5 rows x 13 columns]"
            ]
          },
          "metadata": {
            "tags": []
          },
          "execution_count": 39
        }
      ]
    },
    {
      "cell_type": "code",
      "metadata": {
        "colab": {
          "base_uri": "https://localhost:8080/"
        },
        "id": "KBz8241WFKMQ",
        "outputId": "a2ec0bd0-38cc-47b8-d750-efa5e6de765e"
      },
      "source": [
        "from google.colab import drive\n",
        "drive.mount('/drive', force_remount=True)\n",
        "df.to_csv('/drive/My Drive/Colab Notebooks/relatorio_cmar.csv')"
      ],
      "execution_count": null,
      "outputs": [
        {
          "output_type": "stream",
          "text": [
            "Mounted at /drive\n"
          ],
          "name": "stdout"
        }
      ]
    }
  ]
}