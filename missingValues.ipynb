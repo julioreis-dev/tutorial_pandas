{
  "nbformat": 4,
  "nbformat_minor": 0,
  "metadata": {
    "colab": {
      "name": "missingValues.ipynb",
      "provenance": [],
      "authorship_tag": "ABX9TyPR+vJJHSCsJaOdv3b6WGQw",
      "include_colab_link": true
    },
    "kernelspec": {
      "name": "python3",
      "display_name": "Python 3"
    },
    "language_info": {
      "name": "python"
    }
  },
  "cells": [
    {
      "cell_type": "markdown",
      "metadata": {
        "id": "view-in-github",
        "colab_type": "text"
      },
      "source": [
        "<a href=\"https://colab.research.google.com/github/julioreis-dev/tutorial_pandas/blob/main/missingValues.ipynb\" target=\"_parent\"><img src=\"https://colab.research.google.com/assets/colab-badge.svg\" alt=\"Open In Colab\"/></a>"
      ]
    },
    {
      "cell_type": "code",
      "metadata": {
        "id": "fpv6pIsJrnil"
      },
      "source": [
        "import pandas as pd\n",
        "import numpy as np"
      ],
      "execution_count": 1,
      "outputs": []
    },
    {
      "cell_type": "code",
      "metadata": {
        "id": "egddMkqwryb0"
      },
      "source": [
        "datas = pd.date_range(start='20190101', periods=600, freq='D')"
      ],
      "execution_count": 2,
      "outputs": []
    },
    {
      "cell_type": "code",
      "metadata": {
        "id": "9846Z4VdsK6K"
      },
      "source": [
        "df = pd.DataFrame(np.random.randn(600,5), index=datas, columns=['A', 'B', 'C', 'D', 'E'])"
      ],
      "execution_count": 6,
      "outputs": []
    },
    {
      "cell_type": "code",
      "metadata": {
        "colab": {
          "base_uri": "https://localhost:8080/",
          "height": 206
        },
        "id": "W0a1h4K6tAAw",
        "outputId": "838a650b-dd0a-4fb0-98d1-d485083fdf7b"
      },
      "source": [
        "df.head()"
      ],
      "execution_count": 7,
      "outputs": [
        {
          "output_type": "execute_result",
          "data": {
            "text/html": [
              "<div>\n",
              "<style scoped>\n",
              "    .dataframe tbody tr th:only-of-type {\n",
              "        vertical-align: middle;\n",
              "    }\n",
              "\n",
              "    .dataframe tbody tr th {\n",
              "        vertical-align: top;\n",
              "    }\n",
              "\n",
              "    .dataframe thead th {\n",
              "        text-align: right;\n",
              "    }\n",
              "</style>\n",
              "<table border=\"1\" class=\"dataframe\">\n",
              "  <thead>\n",
              "    <tr style=\"text-align: right;\">\n",
              "      <th></th>\n",
              "      <th>A</th>\n",
              "      <th>B</th>\n",
              "      <th>C</th>\n",
              "      <th>D</th>\n",
              "      <th>E</th>\n",
              "    </tr>\n",
              "  </thead>\n",
              "  <tbody>\n",
              "    <tr>\n",
              "      <th>2019-01-01</th>\n",
              "      <td>0.443165</td>\n",
              "      <td>0.584544</td>\n",
              "      <td>0.588418</td>\n",
              "      <td>0.653699</td>\n",
              "      <td>-1.892572</td>\n",
              "    </tr>\n",
              "    <tr>\n",
              "      <th>2019-01-02</th>\n",
              "      <td>1.207344</td>\n",
              "      <td>0.966969</td>\n",
              "      <td>-1.486634</td>\n",
              "      <td>0.000946</td>\n",
              "      <td>0.637570</td>\n",
              "    </tr>\n",
              "    <tr>\n",
              "      <th>2019-01-03</th>\n",
              "      <td>0.378678</td>\n",
              "      <td>1.524972</td>\n",
              "      <td>-0.095403</td>\n",
              "      <td>1.061709</td>\n",
              "      <td>1.053982</td>\n",
              "    </tr>\n",
              "    <tr>\n",
              "      <th>2019-01-04</th>\n",
              "      <td>-0.453298</td>\n",
              "      <td>0.370638</td>\n",
              "      <td>0.007065</td>\n",
              "      <td>-0.860936</td>\n",
              "      <td>-0.945624</td>\n",
              "    </tr>\n",
              "    <tr>\n",
              "      <th>2019-01-05</th>\n",
              "      <td>1.181019</td>\n",
              "      <td>0.121031</td>\n",
              "      <td>1.233345</td>\n",
              "      <td>1.053594</td>\n",
              "      <td>2.649793</td>\n",
              "    </tr>\n",
              "  </tbody>\n",
              "</table>\n",
              "</div>"
            ],
            "text/plain": [
              "                   A         B         C         D         E\n",
              "2019-01-01  0.443165  0.584544  0.588418  0.653699 -1.892572\n",
              "2019-01-02  1.207344  0.966969 -1.486634  0.000946  0.637570\n",
              "2019-01-03  0.378678  1.524972 -0.095403  1.061709  1.053982\n",
              "2019-01-04 -0.453298  0.370638  0.007065 -0.860936 -0.945624\n",
              "2019-01-05  1.181019  0.121031  1.233345  1.053594  2.649793"
            ]
          },
          "metadata": {
            "tags": []
          },
          "execution_count": 7
        }
      ]
    },
    {
      "cell_type": "code",
      "metadata": {
        "id": "QE99yAxLtC3y"
      },
      "source": [
        ""
      ],
      "execution_count": null,
      "outputs": []
    },
    {
      "cell_type": "code",
      "metadata": {
        "id": "zbXWczi9tC7D"
      },
      "source": [
        ""
      ],
      "execution_count": null,
      "outputs": []
    },
    {
      "cell_type": "code",
      "metadata": {
        "id": "uRzVMtUstC-B"
      },
      "source": [
        ""
      ],
      "execution_count": null,
      "outputs": []
    },
    {
      "cell_type": "code",
      "metadata": {
        "id": "ES-3OCtetDBE"
      },
      "source": [
        ""
      ],
      "execution_count": null,
      "outputs": []
    },
    {
      "cell_type": "code",
      "metadata": {
        "id": "s70OF0jEtDIV"
      },
      "source": [
        ""
      ],
      "execution_count": null,
      "outputs": []
    }
  ]
}